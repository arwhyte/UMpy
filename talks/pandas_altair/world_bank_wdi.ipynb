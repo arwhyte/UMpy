{
 "cells": [
  {
   "cell_type": "markdown",
   "source": "## World Bank Development Indicators\n\n### GDP per capita (current US$)\n\nSource: [https://datacatalog.worldbank.org/dataset/world-development-indicators](https://datacatalog.worldbank.org/dataset/world-development-indicators)",
   "metadata": {
    "tags": [],
    "cell_id": "00001-92aa7528-43f3-4c05-9cdb-4d1b76d4c6af",
    "deepnote_cell_type": "markdown"
   }
  },
  {
   "cell_type": "markdown",
   "source": "### 1.0 Module imports",
   "metadata": {
    "tags": [],
    "cell_id": "00001-3a1ce165-2eff-4e01-bda0-0a78b4df7141",
    "deepnote_cell_type": "markdown"
   }
  },
  {
   "cell_type": "code",
   "metadata": {
    "tags": [],
    "cell_id": "00000-a05c221b-5fb2-4fd5-bf32-b45d0299a5e3",
    "deepnote_to_be_reexecuted": false,
    "source_hash": "6577cee3",
    "execution_start": 1629554287575,
    "execution_millis": 248,
    "deepnote_cell_type": "code"
   },
   "source": "import altair as alt\nimport pandas as pd",
   "execution_count": 1,
   "outputs": []
  },
  {
   "cell_type": "markdown",
   "source": "### 2.0 Read CSV file\n\nSee: [pandas.read_csv](https://pandas.pydata.org/pandas-docs/stable/reference/api/pandas.read_csv.html#)",
   "metadata": {
    "tags": [],
    "cell_id": "00003-b54fbf1a-6bf0-4f70-9453-9c695e3c25c5",
    "deepnote_cell_type": "markdown"
   }
  },
  {
   "cell_type": "code",
   "metadata": {
    "tags": [],
    "cell_id": "00007-607f6fef-96e9-4241-8793-ab13d77274c0",
    "deepnote_to_be_reexecuted": false,
    "source_hash": "548b3fde",
    "execution_start": 1629554287831,
    "execution_millis": 2630,
    "deepnote_cell_type": "code"
   },
   "source": "wdi_data = pd.read_csv('./input/WDIData.csv')",
   "execution_count": 2,
   "outputs": []
  },
  {
   "cell_type": "markdown",
   "source": "### 3.0 Dataframe first n-rows (default=5)\n\nSee: [pandas.DataFrame.head](https://pandas.pydata.org/docs/reference/api/pandas.DataFrame.head.html)",
   "metadata": {
    "tags": [],
    "cell_id": "00005-b23100b4-6c51-4b5b-9618-dea996af61c4",
    "deepnote_cell_type": "markdown"
   }
  },
  {
   "cell_type": "code",
   "metadata": {
    "tags": [],
    "cell_id": "00008-f12b0042-8a69-4c59-8bcf-be7f3525090a",
    "deepnote_to_be_reexecuted": false,
    "source_hash": "82f71e1d",
    "execution_start": 1629554290583,
    "execution_millis": 112,
    "deepnote_cell_type": "code"
   },
   "source": "wdi_data.head()",
   "execution_count": 3,
   "outputs": [
    {
     "output_type": "execute_result",
     "execution_count": 3,
     "data": {
      "application/vnd.deepnote.dataframe.v2+json": {
       "row_count": 5,
       "column_count": 66,
       "columns": [
        {
         "name": "Country Name",
         "dtype": "object",
         "stats": {
          "unique_count": 1,
          "nan_count": 0,
          "categories": [
           {
            "name": "Africa Eastern and Southern",
            "count": 5
           }
          ]
         }
        },
        {
         "name": "Country Code",
         "dtype": "object",
         "stats": {
          "unique_count": 1,
          "nan_count": 0,
          "categories": [
           {
            "name": "AFE",
            "count": 5
           }
          ]
         }
        },
        {
         "name": "Indicator Name",
         "dtype": "object",
         "stats": {
          "unique_count": 5,
          "nan_count": 0,
          "categories": [
           {
            "name": "Access to clean fuels and technologies for cooking (% of population)",
            "count": 1
           },
           {
            "name": "Access to electricity (% of population)",
            "count": 1
           },
           {
            "name": "3 others",
            "count": 3
           }
          ]
         }
        },
        {
         "name": "Indicator Code",
         "dtype": "object",
         "stats": {
          "unique_count": 5,
          "nan_count": 0,
          "categories": [
           {
            "name": "EG.CFT.ACCS.ZS",
            "count": 1
           },
           {
            "name": "EG.ELC.ACCS.ZS",
            "count": 1
           },
           {
            "name": "3 others",
            "count": 3
           }
          ]
         }
        },
        {
         "name": "1960",
         "dtype": "float64",
         "stats": {
          "unique_count": 0,
          "nan_count": 5,
          "min": null,
          "max": null,
          "histogram": [
           {
            "bin_start": 0,
            "bin_end": 0.1,
            "count": 0
           },
           {
            "bin_start": 0.1,
            "bin_end": 0.2,
            "count": 0
           },
           {
            "bin_start": 0.2,
            "bin_end": 0.30000000000000004,
            "count": 0
           },
           {
            "bin_start": 0.30000000000000004,
            "bin_end": 0.4,
            "count": 0
           },
           {
            "bin_start": 0.4,
            "bin_end": 0.5,
            "count": 0
           },
           {
            "bin_start": 0.5,
            "bin_end": 0.6000000000000001,
            "count": 0
           },
           {
            "bin_start": 0.6000000000000001,
            "bin_end": 0.7000000000000001,
            "count": 0
           },
           {
            "bin_start": 0.7000000000000001,
            "bin_end": 0.8,
            "count": 0
           },
           {
            "bin_start": 0.8,
            "bin_end": 0.9,
            "count": 0
           },
           {
            "bin_start": 0.9,
            "bin_end": 1,
            "count": 0
           }
          ]
         }
        },
        {
         "name": "1961",
         "dtype": "float64",
         "stats": {
          "unique_count": 0,
          "nan_count": 5,
          "min": null,
          "max": null,
          "histogram": [
           {
            "bin_start": 0,
            "bin_end": 0.1,
            "count": 0
           },
           {
            "bin_start": 0.1,
            "bin_end": 0.2,
            "count": 0
           },
           {
            "bin_start": 0.2,
            "bin_end": 0.30000000000000004,
            "count": 0
           },
           {
            "bin_start": 0.30000000000000004,
            "bin_end": 0.4,
            "count": 0
           },
           {
            "bin_start": 0.4,
            "bin_end": 0.5,
            "count": 0
           },
           {
            "bin_start": 0.5,
            "bin_end": 0.6000000000000001,
            "count": 0
           },
           {
            "bin_start": 0.6000000000000001,
            "bin_end": 0.7000000000000001,
            "count": 0
           },
           {
            "bin_start": 0.7000000000000001,
            "bin_end": 0.8,
            "count": 0
           },
           {
            "bin_start": 0.8,
            "bin_end": 0.9,
            "count": 0
           },
           {
            "bin_start": 0.9,
            "bin_end": 1,
            "count": 0
           }
          ]
         }
        },
        {
         "name": "1962",
         "dtype": "float64",
         "stats": {
          "unique_count": 0,
          "nan_count": 5,
          "min": null,
          "max": null,
          "histogram": [
           {
            "bin_start": 0,
            "bin_end": 0.1,
            "count": 0
           },
           {
            "bin_start": 0.1,
            "bin_end": 0.2,
            "count": 0
           },
           {
            "bin_start": 0.2,
            "bin_end": 0.30000000000000004,
            "count": 0
           },
           {
            "bin_start": 0.30000000000000004,
            "bin_end": 0.4,
            "count": 0
           },
           {
            "bin_start": 0.4,
            "bin_end": 0.5,
            "count": 0
           },
           {
            "bin_start": 0.5,
            "bin_end": 0.6000000000000001,
            "count": 0
           },
           {
            "bin_start": 0.6000000000000001,
            "bin_end": 0.7000000000000001,
            "count": 0
           },
           {
            "bin_start": 0.7000000000000001,
            "bin_end": 0.8,
            "count": 0
           },
           {
            "bin_start": 0.8,
            "bin_end": 0.9,
            "count": 0
           },
           {
            "bin_start": 0.9,
            "bin_end": 1,
            "count": 0
           }
          ]
         }
        },
        {
         "name": "1963",
         "dtype": "float64",
         "stats": {
          "unique_count": 0,
          "nan_count": 5,
          "min": null,
          "max": null,
          "histogram": [
           {
            "bin_start": 0,
            "bin_end": 0.1,
            "count": 0
           },
           {
            "bin_start": 0.1,
            "bin_end": 0.2,
            "count": 0
           },
           {
            "bin_start": 0.2,
            "bin_end": 0.30000000000000004,
            "count": 0
           },
           {
            "bin_start": 0.30000000000000004,
            "bin_end": 0.4,
            "count": 0
           },
           {
            "bin_start": 0.4,
            "bin_end": 0.5,
            "count": 0
           },
           {
            "bin_start": 0.5,
            "bin_end": 0.6000000000000001,
            "count": 0
           },
           {
            "bin_start": 0.6000000000000001,
            "bin_end": 0.7000000000000001,
            "count": 0
           },
           {
            "bin_start": 0.7000000000000001,
            "bin_end": 0.8,
            "count": 0
           },
           {
            "bin_start": 0.8,
            "bin_end": 0.9,
            "count": 0
           },
           {
            "bin_start": 0.9,
            "bin_end": 1,
            "count": 0
           }
          ]
         }
        },
        {
         "name": "1964",
         "dtype": "float64",
         "stats": {
          "unique_count": 0,
          "nan_count": 5,
          "min": null,
          "max": null,
          "histogram": [
           {
            "bin_start": 0,
            "bin_end": 0.1,
            "count": 0
           },
           {
            "bin_start": 0.1,
            "bin_end": 0.2,
            "count": 0
           },
           {
            "bin_start": 0.2,
            "bin_end": 0.30000000000000004,
            "count": 0
           },
           {
            "bin_start": 0.30000000000000004,
            "bin_end": 0.4,
            "count": 0
           },
           {
            "bin_start": 0.4,
            "bin_end": 0.5,
            "count": 0
           },
           {
            "bin_start": 0.5,
            "bin_end": 0.6000000000000001,
            "count": 0
           },
           {
            "bin_start": 0.6000000000000001,
            "bin_end": 0.7000000000000001,
            "count": 0
           },
           {
            "bin_start": 0.7000000000000001,
            "bin_end": 0.8,
            "count": 0
           },
           {
            "bin_start": 0.8,
            "bin_end": 0.9,
            "count": 0
           },
           {
            "bin_start": 0.9,
            "bin_end": 1,
            "count": 0
           }
          ]
         }
        },
        {
         "name": "1965",
         "dtype": "float64",
         "stats": {
          "unique_count": 0,
          "nan_count": 5,
          "min": null,
          "max": null,
          "histogram": [
           {
            "bin_start": 0,
            "bin_end": 0.1,
            "count": 0
           },
           {
            "bin_start": 0.1,
            "bin_end": 0.2,
            "count": 0
           },
           {
            "bin_start": 0.2,
            "bin_end": 0.30000000000000004,
            "count": 0
           },
           {
            "bin_start": 0.30000000000000004,
            "bin_end": 0.4,
            "count": 0
           },
           {
            "bin_start": 0.4,
            "bin_end": 0.5,
            "count": 0
           },
           {
            "bin_start": 0.5,
            "bin_end": 0.6000000000000001,
            "count": 0
           },
           {
            "bin_start": 0.6000000000000001,
            "bin_end": 0.7000000000000001,
            "count": 0
           },
           {
            "bin_start": 0.7000000000000001,
            "bin_end": 0.8,
            "count": 0
           },
           {
            "bin_start": 0.8,
            "bin_end": 0.9,
            "count": 0
           },
           {
            "bin_start": 0.9,
            "bin_end": 1,
            "count": 0
           }
          ]
         }
        },
        {
         "name": "1966",
         "dtype": "float64",
         "stats": {
          "unique_count": 0,
          "nan_count": 5,
          "min": null,
          "max": null,
          "histogram": [
           {
            "bin_start": 0,
            "bin_end": 0.1,
            "count": 0
           },
           {
            "bin_start": 0.1,
            "bin_end": 0.2,
            "count": 0
           },
           {
            "bin_start": 0.2,
            "bin_end": 0.30000000000000004,
            "count": 0
           },
           {
            "bin_start": 0.30000000000000004,
            "bin_end": 0.4,
            "count": 0
           },
           {
            "bin_start": 0.4,
            "bin_end": 0.5,
            "count": 0
           },
           {
            "bin_start": 0.5,
            "bin_end": 0.6000000000000001,
            "count": 0
           },
           {
            "bin_start": 0.6000000000000001,
            "bin_end": 0.7000000000000001,
            "count": 0
           },
           {
            "bin_start": 0.7000000000000001,
            "bin_end": 0.8,
            "count": 0
           },
           {
            "bin_start": 0.8,
            "bin_end": 0.9,
            "count": 0
           },
           {
            "bin_start": 0.9,
            "bin_end": 1,
            "count": 0
           }
          ]
         }
        },
        {
         "name": "1967",
         "dtype": "float64",
         "stats": {
          "unique_count": 0,
          "nan_count": 5,
          "min": null,
          "max": null,
          "histogram": [
           {
            "bin_start": 0,
            "bin_end": 0.1,
            "count": 0
           },
           {
            "bin_start": 0.1,
            "bin_end": 0.2,
            "count": 0
           },
           {
            "bin_start": 0.2,
            "bin_end": 0.30000000000000004,
            "count": 0
           },
           {
            "bin_start": 0.30000000000000004,
            "bin_end": 0.4,
            "count": 0
           },
           {
            "bin_start": 0.4,
            "bin_end": 0.5,
            "count": 0
           },
           {
            "bin_start": 0.5,
            "bin_end": 0.6000000000000001,
            "count": 0
           },
           {
            "bin_start": 0.6000000000000001,
            "bin_end": 0.7000000000000001,
            "count": 0
           },
           {
            "bin_start": 0.7000000000000001,
            "bin_end": 0.8,
            "count": 0
           },
           {
            "bin_start": 0.8,
            "bin_end": 0.9,
            "count": 0
           },
           {
            "bin_start": 0.9,
            "bin_end": 1,
            "count": 0
           }
          ]
         }
        },
        {
         "name": "1968",
         "dtype": "float64",
         "stats": {
          "unique_count": 0,
          "nan_count": 5,
          "min": null,
          "max": null,
          "histogram": [
           {
            "bin_start": 0,
            "bin_end": 0.1,
            "count": 0
           },
           {
            "bin_start": 0.1,
            "bin_end": 0.2,
            "count": 0
           },
           {
            "bin_start": 0.2,
            "bin_end": 0.30000000000000004,
            "count": 0
           },
           {
            "bin_start": 0.30000000000000004,
            "bin_end": 0.4,
            "count": 0
           },
           {
            "bin_start": 0.4,
            "bin_end": 0.5,
            "count": 0
           },
           {
            "bin_start": 0.5,
            "bin_end": 0.6000000000000001,
            "count": 0
           },
           {
            "bin_start": 0.6000000000000001,
            "bin_end": 0.7000000000000001,
            "count": 0
           },
           {
            "bin_start": 0.7000000000000001,
            "bin_end": 0.8,
            "count": 0
           },
           {
            "bin_start": 0.8,
            "bin_end": 0.9,
            "count": 0
           },
           {
            "bin_start": 0.9,
            "bin_end": 1,
            "count": 0
           }
          ]
         }
        },
        {
         "name": "1969",
         "dtype": "float64",
         "stats": {
          "unique_count": 0,
          "nan_count": 5,
          "min": null,
          "max": null,
          "histogram": [
           {
            "bin_start": 0,
            "bin_end": 0.1,
            "count": 0
           },
           {
            "bin_start": 0.1,
            "bin_end": 0.2,
            "count": 0
           },
           {
            "bin_start": 0.2,
            "bin_end": 0.30000000000000004,
            "count": 0
           },
           {
            "bin_start": 0.30000000000000004,
            "bin_end": 0.4,
            "count": 0
           },
           {
            "bin_start": 0.4,
            "bin_end": 0.5,
            "count": 0
           },
           {
            "bin_start": 0.5,
            "bin_end": 0.6000000000000001,
            "count": 0
           },
           {
            "bin_start": 0.6000000000000001,
            "bin_end": 0.7000000000000001,
            "count": 0
           },
           {
            "bin_start": 0.7000000000000001,
            "bin_end": 0.8,
            "count": 0
           },
           {
            "bin_start": 0.8,
            "bin_end": 0.9,
            "count": 0
           },
           {
            "bin_start": 0.9,
            "bin_end": 1,
            "count": 0
           }
          ]
         }
        },
        {
         "name": "1970",
         "dtype": "float64",
         "stats": {
          "unique_count": 0,
          "nan_count": 5,
          "min": null,
          "max": null,
          "histogram": [
           {
            "bin_start": 0,
            "bin_end": 0.1,
            "count": 0
           },
           {
            "bin_start": 0.1,
            "bin_end": 0.2,
            "count": 0
           },
           {
            "bin_start": 0.2,
            "bin_end": 0.30000000000000004,
            "count": 0
           },
           {
            "bin_start": 0.30000000000000004,
            "bin_end": 0.4,
            "count": 0
           },
           {
            "bin_start": 0.4,
            "bin_end": 0.5,
            "count": 0
           },
           {
            "bin_start": 0.5,
            "bin_end": 0.6000000000000001,
            "count": 0
           },
           {
            "bin_start": 0.6000000000000001,
            "bin_end": 0.7000000000000001,
            "count": 0
           },
           {
            "bin_start": 0.7000000000000001,
            "bin_end": 0.8,
            "count": 0
           },
           {
            "bin_start": 0.8,
            "bin_end": 0.9,
            "count": 0
           },
           {
            "bin_start": 0.9,
            "bin_end": 1,
            "count": 0
           }
          ]
         }
        },
        {
         "name": "1971",
         "dtype": "float64",
         "stats": {
          "unique_count": 0,
          "nan_count": 5,
          "min": null,
          "max": null,
          "histogram": [
           {
            "bin_start": 0,
            "bin_end": 0.1,
            "count": 0
           },
           {
            "bin_start": 0.1,
            "bin_end": 0.2,
            "count": 0
           },
           {
            "bin_start": 0.2,
            "bin_end": 0.30000000000000004,
            "count": 0
           },
           {
            "bin_start": 0.30000000000000004,
            "bin_end": 0.4,
            "count": 0
           },
           {
            "bin_start": 0.4,
            "bin_end": 0.5,
            "count": 0
           },
           {
            "bin_start": 0.5,
            "bin_end": 0.6000000000000001,
            "count": 0
           },
           {
            "bin_start": 0.6000000000000001,
            "bin_end": 0.7000000000000001,
            "count": 0
           },
           {
            "bin_start": 0.7000000000000001,
            "bin_end": 0.8,
            "count": 0
           },
           {
            "bin_start": 0.8,
            "bin_end": 0.9,
            "count": 0
           },
           {
            "bin_start": 0.9,
            "bin_end": 1,
            "count": 0
           }
          ]
         }
        },
        {
         "name": "1972",
         "dtype": "float64",
         "stats": {
          "unique_count": 0,
          "nan_count": 5,
          "min": null,
          "max": null,
          "histogram": [
           {
            "bin_start": 0,
            "bin_end": 0.1,
            "count": 0
           },
           {
            "bin_start": 0.1,
            "bin_end": 0.2,
            "count": 0
           },
           {
            "bin_start": 0.2,
            "bin_end": 0.30000000000000004,
            "count": 0
           },
           {
            "bin_start": 0.30000000000000004,
            "bin_end": 0.4,
            "count": 0
           },
           {
            "bin_start": 0.4,
            "bin_end": 0.5,
            "count": 0
           },
           {
            "bin_start": 0.5,
            "bin_end": 0.6000000000000001,
            "count": 0
           },
           {
            "bin_start": 0.6000000000000001,
            "bin_end": 0.7000000000000001,
            "count": 0
           },
           {
            "bin_start": 0.7000000000000001,
            "bin_end": 0.8,
            "count": 0
           },
           {
            "bin_start": 0.8,
            "bin_end": 0.9,
            "count": 0
           },
           {
            "bin_start": 0.9,
            "bin_end": 1,
            "count": 0
           }
          ]
         }
        },
        {
         "name": "1973",
         "dtype": "float64",
         "stats": {
          "unique_count": 0,
          "nan_count": 5,
          "min": null,
          "max": null,
          "histogram": [
           {
            "bin_start": 0,
            "bin_end": 0.1,
            "count": 0
           },
           {
            "bin_start": 0.1,
            "bin_end": 0.2,
            "count": 0
           },
           {
            "bin_start": 0.2,
            "bin_end": 0.30000000000000004,
            "count": 0
           },
           {
            "bin_start": 0.30000000000000004,
            "bin_end": 0.4,
            "count": 0
           },
           {
            "bin_start": 0.4,
            "bin_end": 0.5,
            "count": 0
           },
           {
            "bin_start": 0.5,
            "bin_end": 0.6000000000000001,
            "count": 0
           },
           {
            "bin_start": 0.6000000000000001,
            "bin_end": 0.7000000000000001,
            "count": 0
           },
           {
            "bin_start": 0.7000000000000001,
            "bin_end": 0.8,
            "count": 0
           },
           {
            "bin_start": 0.8,
            "bin_end": 0.9,
            "count": 0
           },
           {
            "bin_start": 0.9,
            "bin_end": 1,
            "count": 0
           }
          ]
         }
        },
        {
         "name": "1974",
         "dtype": "float64",
         "stats": {
          "unique_count": 0,
          "nan_count": 5,
          "min": null,
          "max": null,
          "histogram": [
           {
            "bin_start": 0,
            "bin_end": 0.1,
            "count": 0
           },
           {
            "bin_start": 0.1,
            "bin_end": 0.2,
            "count": 0
           },
           {
            "bin_start": 0.2,
            "bin_end": 0.30000000000000004,
            "count": 0
           },
           {
            "bin_start": 0.30000000000000004,
            "bin_end": 0.4,
            "count": 0
           },
           {
            "bin_start": 0.4,
            "bin_end": 0.5,
            "count": 0
           },
           {
            "bin_start": 0.5,
            "bin_end": 0.6000000000000001,
            "count": 0
           },
           {
            "bin_start": 0.6000000000000001,
            "bin_end": 0.7000000000000001,
            "count": 0
           },
           {
            "bin_start": 0.7000000000000001,
            "bin_end": 0.8,
            "count": 0
           },
           {
            "bin_start": 0.8,
            "bin_end": 0.9,
            "count": 0
           },
           {
            "bin_start": 0.9,
            "bin_end": 1,
            "count": 0
           }
          ]
         }
        },
        {
         "name": "1975",
         "dtype": "float64",
         "stats": {
          "unique_count": 0,
          "nan_count": 5,
          "min": null,
          "max": null,
          "histogram": [
           {
            "bin_start": 0,
            "bin_end": 0.1,
            "count": 0
           },
           {
            "bin_start": 0.1,
            "bin_end": 0.2,
            "count": 0
           },
           {
            "bin_start": 0.2,
            "bin_end": 0.30000000000000004,
            "count": 0
           },
           {
            "bin_start": 0.30000000000000004,
            "bin_end": 0.4,
            "count": 0
           },
           {
            "bin_start": 0.4,
            "bin_end": 0.5,
            "count": 0
           },
           {
            "bin_start": 0.5,
            "bin_end": 0.6000000000000001,
            "count": 0
           },
           {
            "bin_start": 0.6000000000000001,
            "bin_end": 0.7000000000000001,
            "count": 0
           },
           {
            "bin_start": 0.7000000000000001,
            "bin_end": 0.8,
            "count": 0
           },
           {
            "bin_start": 0.8,
            "bin_end": 0.9,
            "count": 0
           },
           {
            "bin_start": 0.9,
            "bin_end": 1,
            "count": 0
           }
          ]
         }
        },
        {
         "name": "1976",
         "dtype": "float64",
         "stats": {
          "unique_count": 0,
          "nan_count": 5,
          "min": null,
          "max": null,
          "histogram": [
           {
            "bin_start": 0,
            "bin_end": 0.1,
            "count": 0
           },
           {
            "bin_start": 0.1,
            "bin_end": 0.2,
            "count": 0
           },
           {
            "bin_start": 0.2,
            "bin_end": 0.30000000000000004,
            "count": 0
           },
           {
            "bin_start": 0.30000000000000004,
            "bin_end": 0.4,
            "count": 0
           },
           {
            "bin_start": 0.4,
            "bin_end": 0.5,
            "count": 0
           },
           {
            "bin_start": 0.5,
            "bin_end": 0.6000000000000001,
            "count": 0
           },
           {
            "bin_start": 0.6000000000000001,
            "bin_end": 0.7000000000000001,
            "count": 0
           },
           {
            "bin_start": 0.7000000000000001,
            "bin_end": 0.8,
            "count": 0
           },
           {
            "bin_start": 0.8,
            "bin_end": 0.9,
            "count": 0
           },
           {
            "bin_start": 0.9,
            "bin_end": 1,
            "count": 0
           }
          ]
         }
        },
        {
         "name": "1977",
         "dtype": "float64",
         "stats": {
          "unique_count": 0,
          "nan_count": 5,
          "min": null,
          "max": null,
          "histogram": [
           {
            "bin_start": 0,
            "bin_end": 0.1,
            "count": 0
           },
           {
            "bin_start": 0.1,
            "bin_end": 0.2,
            "count": 0
           },
           {
            "bin_start": 0.2,
            "bin_end": 0.30000000000000004,
            "count": 0
           },
           {
            "bin_start": 0.30000000000000004,
            "bin_end": 0.4,
            "count": 0
           },
           {
            "bin_start": 0.4,
            "bin_end": 0.5,
            "count": 0
           },
           {
            "bin_start": 0.5,
            "bin_end": 0.6000000000000001,
            "count": 0
           },
           {
            "bin_start": 0.6000000000000001,
            "bin_end": 0.7000000000000001,
            "count": 0
           },
           {
            "bin_start": 0.7000000000000001,
            "bin_end": 0.8,
            "count": 0
           },
           {
            "bin_start": 0.8,
            "bin_end": 0.9,
            "count": 0
           },
           {
            "bin_start": 0.9,
            "bin_end": 1,
            "count": 0
           }
          ]
         }
        },
        {
         "name": "1978",
         "dtype": "float64",
         "stats": {
          "unique_count": 0,
          "nan_count": 5,
          "min": null,
          "max": null,
          "histogram": [
           {
            "bin_start": 0,
            "bin_end": 0.1,
            "count": 0
           },
           {
            "bin_start": 0.1,
            "bin_end": 0.2,
            "count": 0
           },
           {
            "bin_start": 0.2,
            "bin_end": 0.30000000000000004,
            "count": 0
           },
           {
            "bin_start": 0.30000000000000004,
            "bin_end": 0.4,
            "count": 0
           },
           {
            "bin_start": 0.4,
            "bin_end": 0.5,
            "count": 0
           },
           {
            "bin_start": 0.5,
            "bin_end": 0.6000000000000001,
            "count": 0
           },
           {
            "bin_start": 0.6000000000000001,
            "bin_end": 0.7000000000000001,
            "count": 0
           },
           {
            "bin_start": 0.7000000000000001,
            "bin_end": 0.8,
            "count": 0
           },
           {
            "bin_start": 0.8,
            "bin_end": 0.9,
            "count": 0
           },
           {
            "bin_start": 0.9,
            "bin_end": 1,
            "count": 0
           }
          ]
         }
        },
        {
         "name": "1979",
         "dtype": "float64",
         "stats": {
          "unique_count": 0,
          "nan_count": 5,
          "min": null,
          "max": null,
          "histogram": [
           {
            "bin_start": 0,
            "bin_end": 0.1,
            "count": 0
           },
           {
            "bin_start": 0.1,
            "bin_end": 0.2,
            "count": 0
           },
           {
            "bin_start": 0.2,
            "bin_end": 0.30000000000000004,
            "count": 0
           },
           {
            "bin_start": 0.30000000000000004,
            "bin_end": 0.4,
            "count": 0
           },
           {
            "bin_start": 0.4,
            "bin_end": 0.5,
            "count": 0
           },
           {
            "bin_start": 0.5,
            "bin_end": 0.6000000000000001,
            "count": 0
           },
           {
            "bin_start": 0.6000000000000001,
            "bin_end": 0.7000000000000001,
            "count": 0
           },
           {
            "bin_start": 0.7000000000000001,
            "bin_end": 0.8,
            "count": 0
           },
           {
            "bin_start": 0.8,
            "bin_end": 0.9,
            "count": 0
           },
           {
            "bin_start": 0.9,
            "bin_end": 1,
            "count": 0
           }
          ]
         }
        },
        {
         "name": "1980",
         "dtype": "float64",
         "stats": {
          "unique_count": 0,
          "nan_count": 5,
          "min": null,
          "max": null,
          "histogram": [
           {
            "bin_start": 0,
            "bin_end": 0.1,
            "count": 0
           },
           {
            "bin_start": 0.1,
            "bin_end": 0.2,
            "count": 0
           },
           {
            "bin_start": 0.2,
            "bin_end": 0.30000000000000004,
            "count": 0
           },
           {
            "bin_start": 0.30000000000000004,
            "bin_end": 0.4,
            "count": 0
           },
           {
            "bin_start": 0.4,
            "bin_end": 0.5,
            "count": 0
           },
           {
            "bin_start": 0.5,
            "bin_end": 0.6000000000000001,
            "count": 0
           },
           {
            "bin_start": 0.6000000000000001,
            "bin_end": 0.7000000000000001,
            "count": 0
           },
           {
            "bin_start": 0.7000000000000001,
            "bin_end": 0.8,
            "count": 0
           },
           {
            "bin_start": 0.8,
            "bin_end": 0.9,
            "count": 0
           },
           {
            "bin_start": 0.9,
            "bin_end": 1,
            "count": 0
           }
          ]
         }
        },
        {
         "name": "1981",
         "dtype": "float64",
         "stats": {
          "unique_count": 0,
          "nan_count": 5,
          "min": null,
          "max": null,
          "histogram": [
           {
            "bin_start": 0,
            "bin_end": 0.1,
            "count": 0
           },
           {
            "bin_start": 0.1,
            "bin_end": 0.2,
            "count": 0
           },
           {
            "bin_start": 0.2,
            "bin_end": 0.30000000000000004,
            "count": 0
           },
           {
            "bin_start": 0.30000000000000004,
            "bin_end": 0.4,
            "count": 0
           },
           {
            "bin_start": 0.4,
            "bin_end": 0.5,
            "count": 0
           },
           {
            "bin_start": 0.5,
            "bin_end": 0.6000000000000001,
            "count": 0
           },
           {
            "bin_start": 0.6000000000000001,
            "bin_end": 0.7000000000000001,
            "count": 0
           },
           {
            "bin_start": 0.7000000000000001,
            "bin_end": 0.8,
            "count": 0
           },
           {
            "bin_start": 0.8,
            "bin_end": 0.9,
            "count": 0
           },
           {
            "bin_start": 0.9,
            "bin_end": 1,
            "count": 0
           }
          ]
         }
        },
        {
         "name": "1982",
         "dtype": "float64",
         "stats": {
          "unique_count": 0,
          "nan_count": 5,
          "min": null,
          "max": null,
          "histogram": [
           {
            "bin_start": 0,
            "bin_end": 0.1,
            "count": 0
           },
           {
            "bin_start": 0.1,
            "bin_end": 0.2,
            "count": 0
           },
           {
            "bin_start": 0.2,
            "bin_end": 0.30000000000000004,
            "count": 0
           },
           {
            "bin_start": 0.30000000000000004,
            "bin_end": 0.4,
            "count": 0
           },
           {
            "bin_start": 0.4,
            "bin_end": 0.5,
            "count": 0
           },
           {
            "bin_start": 0.5,
            "bin_end": 0.6000000000000001,
            "count": 0
           },
           {
            "bin_start": 0.6000000000000001,
            "bin_end": 0.7000000000000001,
            "count": 0
           },
           {
            "bin_start": 0.7000000000000001,
            "bin_end": 0.8,
            "count": 0
           },
           {
            "bin_start": 0.8,
            "bin_end": 0.9,
            "count": 0
           },
           {
            "bin_start": 0.9,
            "bin_end": 1,
            "count": 0
           }
          ]
         }
        },
        {
         "name": "1983",
         "dtype": "float64",
         "stats": {
          "unique_count": 0,
          "nan_count": 5,
          "min": null,
          "max": null,
          "histogram": [
           {
            "bin_start": 0,
            "bin_end": 0.1,
            "count": 0
           },
           {
            "bin_start": 0.1,
            "bin_end": 0.2,
            "count": 0
           },
           {
            "bin_start": 0.2,
            "bin_end": 0.30000000000000004,
            "count": 0
           },
           {
            "bin_start": 0.30000000000000004,
            "bin_end": 0.4,
            "count": 0
           },
           {
            "bin_start": 0.4,
            "bin_end": 0.5,
            "count": 0
           },
           {
            "bin_start": 0.5,
            "bin_end": 0.6000000000000001,
            "count": 0
           },
           {
            "bin_start": 0.6000000000000001,
            "bin_end": 0.7000000000000001,
            "count": 0
           },
           {
            "bin_start": 0.7000000000000001,
            "bin_end": 0.8,
            "count": 0
           },
           {
            "bin_start": 0.8,
            "bin_end": 0.9,
            "count": 0
           },
           {
            "bin_start": 0.9,
            "bin_end": 1,
            "count": 0
           }
          ]
         }
        },
        {
         "name": "1984",
         "dtype": "float64",
         "stats": {
          "unique_count": 0,
          "nan_count": 5,
          "min": null,
          "max": null,
          "histogram": [
           {
            "bin_start": 0,
            "bin_end": 0.1,
            "count": 0
           },
           {
            "bin_start": 0.1,
            "bin_end": 0.2,
            "count": 0
           },
           {
            "bin_start": 0.2,
            "bin_end": 0.30000000000000004,
            "count": 0
           },
           {
            "bin_start": 0.30000000000000004,
            "bin_end": 0.4,
            "count": 0
           },
           {
            "bin_start": 0.4,
            "bin_end": 0.5,
            "count": 0
           },
           {
            "bin_start": 0.5,
            "bin_end": 0.6000000000000001,
            "count": 0
           },
           {
            "bin_start": 0.6000000000000001,
            "bin_end": 0.7000000000000001,
            "count": 0
           },
           {
            "bin_start": 0.7000000000000001,
            "bin_end": 0.8,
            "count": 0
           },
           {
            "bin_start": 0.8,
            "bin_end": 0.9,
            "count": 0
           },
           {
            "bin_start": 0.9,
            "bin_end": 1,
            "count": 0
           }
          ]
         }
        },
        {
         "name": "1985",
         "dtype": "float64",
         "stats": {
          "unique_count": 0,
          "nan_count": 5,
          "min": null,
          "max": null,
          "histogram": [
           {
            "bin_start": 0,
            "bin_end": 0.1,
            "count": 0
           },
           {
            "bin_start": 0.1,
            "bin_end": 0.2,
            "count": 0
           },
           {
            "bin_start": 0.2,
            "bin_end": 0.30000000000000004,
            "count": 0
           },
           {
            "bin_start": 0.30000000000000004,
            "bin_end": 0.4,
            "count": 0
           },
           {
            "bin_start": 0.4,
            "bin_end": 0.5,
            "count": 0
           },
           {
            "bin_start": 0.5,
            "bin_end": 0.6000000000000001,
            "count": 0
           },
           {
            "bin_start": 0.6000000000000001,
            "bin_end": 0.7000000000000001,
            "count": 0
           },
           {
            "bin_start": 0.7000000000000001,
            "bin_end": 0.8,
            "count": 0
           },
           {
            "bin_start": 0.8,
            "bin_end": 0.9,
            "count": 0
           },
           {
            "bin_start": 0.9,
            "bin_end": 1,
            "count": 0
           }
          ]
         }
        },
        {
         "name": "1986",
         "dtype": "float64",
         "stats": {
          "unique_count": 0,
          "nan_count": 5,
          "min": null,
          "max": null,
          "histogram": [
           {
            "bin_start": 0,
            "bin_end": 0.1,
            "count": 0
           },
           {
            "bin_start": 0.1,
            "bin_end": 0.2,
            "count": 0
           },
           {
            "bin_start": 0.2,
            "bin_end": 0.30000000000000004,
            "count": 0
           },
           {
            "bin_start": 0.30000000000000004,
            "bin_end": 0.4,
            "count": 0
           },
           {
            "bin_start": 0.4,
            "bin_end": 0.5,
            "count": 0
           },
           {
            "bin_start": 0.5,
            "bin_end": 0.6000000000000001,
            "count": 0
           },
           {
            "bin_start": 0.6000000000000001,
            "bin_end": 0.7000000000000001,
            "count": 0
           },
           {
            "bin_start": 0.7000000000000001,
            "bin_end": 0.8,
            "count": 0
           },
           {
            "bin_start": 0.8,
            "bin_end": 0.9,
            "count": 0
           },
           {
            "bin_start": 0.9,
            "bin_end": 1,
            "count": 0
           }
          ]
         }
        },
        {
         "name": "1987",
         "dtype": "float64",
         "stats": {
          "unique_count": 0,
          "nan_count": 5,
          "min": null,
          "max": null,
          "histogram": [
           {
            "bin_start": 0,
            "bin_end": 0.1,
            "count": 0
           },
           {
            "bin_start": 0.1,
            "bin_end": 0.2,
            "count": 0
           },
           {
            "bin_start": 0.2,
            "bin_end": 0.30000000000000004,
            "count": 0
           },
           {
            "bin_start": 0.30000000000000004,
            "bin_end": 0.4,
            "count": 0
           },
           {
            "bin_start": 0.4,
            "bin_end": 0.5,
            "count": 0
           },
           {
            "bin_start": 0.5,
            "bin_end": 0.6000000000000001,
            "count": 0
           },
           {
            "bin_start": 0.6000000000000001,
            "bin_end": 0.7000000000000001,
            "count": 0
           },
           {
            "bin_start": 0.7000000000000001,
            "bin_end": 0.8,
            "count": 0
           },
           {
            "bin_start": 0.8,
            "bin_end": 0.9,
            "count": 0
           },
           {
            "bin_start": 0.9,
            "bin_end": 1,
            "count": 0
           }
          ]
         }
        },
        {
         "name": "1988",
         "dtype": "float64",
         "stats": {
          "unique_count": 0,
          "nan_count": 5,
          "min": null,
          "max": null,
          "histogram": [
           {
            "bin_start": 0,
            "bin_end": 0.1,
            "count": 0
           },
           {
            "bin_start": 0.1,
            "bin_end": 0.2,
            "count": 0
           },
           {
            "bin_start": 0.2,
            "bin_end": 0.30000000000000004,
            "count": 0
           },
           {
            "bin_start": 0.30000000000000004,
            "bin_end": 0.4,
            "count": 0
           },
           {
            "bin_start": 0.4,
            "bin_end": 0.5,
            "count": 0
           },
           {
            "bin_start": 0.5,
            "bin_end": 0.6000000000000001,
            "count": 0
           },
           {
            "bin_start": 0.6000000000000001,
            "bin_end": 0.7000000000000001,
            "count": 0
           },
           {
            "bin_start": 0.7000000000000001,
            "bin_end": 0.8,
            "count": 0
           },
           {
            "bin_start": 0.8,
            "bin_end": 0.9,
            "count": 0
           },
           {
            "bin_start": 0.9,
            "bin_end": 1,
            "count": 0
           }
          ]
         }
        },
        {
         "name": "1989",
         "dtype": "float64",
         "stats": {
          "unique_count": 0,
          "nan_count": 5,
          "min": null,
          "max": null,
          "histogram": [
           {
            "bin_start": 0,
            "bin_end": 0.1,
            "count": 0
           },
           {
            "bin_start": 0.1,
            "bin_end": 0.2,
            "count": 0
           },
           {
            "bin_start": 0.2,
            "bin_end": 0.30000000000000004,
            "count": 0
           },
           {
            "bin_start": 0.30000000000000004,
            "bin_end": 0.4,
            "count": 0
           },
           {
            "bin_start": 0.4,
            "bin_end": 0.5,
            "count": 0
           },
           {
            "bin_start": 0.5,
            "bin_end": 0.6000000000000001,
            "count": 0
           },
           {
            "bin_start": 0.6000000000000001,
            "bin_end": 0.7000000000000001,
            "count": 0
           },
           {
            "bin_start": 0.7000000000000001,
            "bin_end": 0.8,
            "count": 0
           },
           {
            "bin_start": 0.8,
            "bin_end": 0.9,
            "count": 0
           },
           {
            "bin_start": 0.9,
            "bin_end": 1,
            "count": 0
           }
          ]
         }
        },
        {
         "name": "1990",
         "dtype": "float64",
         "stats": {
          "unique_count": 0,
          "nan_count": 5,
          "min": null,
          "max": null,
          "histogram": [
           {
            "bin_start": 0,
            "bin_end": 0.1,
            "count": 0
           },
           {
            "bin_start": 0.1,
            "bin_end": 0.2,
            "count": 0
           },
           {
            "bin_start": 0.2,
            "bin_end": 0.30000000000000004,
            "count": 0
           },
           {
            "bin_start": 0.30000000000000004,
            "bin_end": 0.4,
            "count": 0
           },
           {
            "bin_start": 0.4,
            "bin_end": 0.5,
            "count": 0
           },
           {
            "bin_start": 0.5,
            "bin_end": 0.6000000000000001,
            "count": 0
           },
           {
            "bin_start": 0.6000000000000001,
            "bin_end": 0.7000000000000001,
            "count": 0
           },
           {
            "bin_start": 0.7000000000000001,
            "bin_end": 0.8,
            "count": 0
           },
           {
            "bin_start": 0.8,
            "bin_end": 0.9,
            "count": 0
           },
           {
            "bin_start": 0.9,
            "bin_end": 1,
            "count": 0
           }
          ]
         }
        },
        {
         "name": "1991",
         "dtype": "float64",
         "stats": {
          "unique_count": 0,
          "nan_count": 5,
          "min": null,
          "max": null,
          "histogram": [
           {
            "bin_start": 0,
            "bin_end": 0.1,
            "count": 0
           },
           {
            "bin_start": 0.1,
            "bin_end": 0.2,
            "count": 0
           },
           {
            "bin_start": 0.2,
            "bin_end": 0.30000000000000004,
            "count": 0
           },
           {
            "bin_start": 0.30000000000000004,
            "bin_end": 0.4,
            "count": 0
           },
           {
            "bin_start": 0.4,
            "bin_end": 0.5,
            "count": 0
           },
           {
            "bin_start": 0.5,
            "bin_end": 0.6000000000000001,
            "count": 0
           },
           {
            "bin_start": 0.6000000000000001,
            "bin_end": 0.7000000000000001,
            "count": 0
           },
           {
            "bin_start": 0.7000000000000001,
            "bin_end": 0.8,
            "count": 0
           },
           {
            "bin_start": 0.8,
            "bin_end": 0.9,
            "count": 0
           },
           {
            "bin_start": 0.9,
            "bin_end": 1,
            "count": 0
           }
          ]
         }
        },
        {
         "name": "1992",
         "dtype": "float64",
         "stats": {
          "unique_count": 0,
          "nan_count": 5,
          "min": null,
          "max": null,
          "histogram": [
           {
            "bin_start": 0,
            "bin_end": 0.1,
            "count": 0
           },
           {
            "bin_start": 0.1,
            "bin_end": 0.2,
            "count": 0
           },
           {
            "bin_start": 0.2,
            "bin_end": 0.30000000000000004,
            "count": 0
           },
           {
            "bin_start": 0.30000000000000004,
            "bin_end": 0.4,
            "count": 0
           },
           {
            "bin_start": 0.4,
            "bin_end": 0.5,
            "count": 0
           },
           {
            "bin_start": 0.5,
            "bin_end": 0.6000000000000001,
            "count": 0
           },
           {
            "bin_start": 0.6000000000000001,
            "bin_end": 0.7000000000000001,
            "count": 0
           },
           {
            "bin_start": 0.7000000000000001,
            "bin_end": 0.8,
            "count": 0
           },
           {
            "bin_start": 0.8,
            "bin_end": 0.9,
            "count": 0
           },
           {
            "bin_start": 0.9,
            "bin_end": 1,
            "count": 0
           }
          ]
         }
        },
        {
         "name": "1993",
         "dtype": "float64",
         "stats": {
          "unique_count": 0,
          "nan_count": 5,
          "min": null,
          "max": null,
          "histogram": [
           {
            "bin_start": 0,
            "bin_end": 0.1,
            "count": 0
           },
           {
            "bin_start": 0.1,
            "bin_end": 0.2,
            "count": 0
           },
           {
            "bin_start": 0.2,
            "bin_end": 0.30000000000000004,
            "count": 0
           },
           {
            "bin_start": 0.30000000000000004,
            "bin_end": 0.4,
            "count": 0
           },
           {
            "bin_start": 0.4,
            "bin_end": 0.5,
            "count": 0
           },
           {
            "bin_start": 0.5,
            "bin_end": 0.6000000000000001,
            "count": 0
           },
           {
            "bin_start": 0.6000000000000001,
            "bin_end": 0.7000000000000001,
            "count": 0
           },
           {
            "bin_start": 0.7000000000000001,
            "bin_end": 0.8,
            "count": 0
           },
           {
            "bin_start": 0.8,
            "bin_end": 0.9,
            "count": 0
           },
           {
            "bin_start": 0.9,
            "bin_end": 1,
            "count": 0
           }
          ]
         }
        },
        {
         "name": "1994",
         "dtype": "float64",
         "stats": {
          "unique_count": 0,
          "nan_count": 5,
          "min": null,
          "max": null,
          "histogram": [
           {
            "bin_start": 0,
            "bin_end": 0.1,
            "count": 0
           },
           {
            "bin_start": 0.1,
            "bin_end": 0.2,
            "count": 0
           },
           {
            "bin_start": 0.2,
            "bin_end": 0.30000000000000004,
            "count": 0
           },
           {
            "bin_start": 0.30000000000000004,
            "bin_end": 0.4,
            "count": 0
           },
           {
            "bin_start": 0.4,
            "bin_end": 0.5,
            "count": 0
           },
           {
            "bin_start": 0.5,
            "bin_end": 0.6000000000000001,
            "count": 0
           },
           {
            "bin_start": 0.6000000000000001,
            "bin_end": 0.7000000000000001,
            "count": 0
           },
           {
            "bin_start": 0.7000000000000001,
            "bin_end": 0.8,
            "count": 0
           },
           {
            "bin_start": 0.8,
            "bin_end": 0.9,
            "count": 0
           },
           {
            "bin_start": 0.9,
            "bin_end": 1,
            "count": 0
           }
          ]
         }
        },
        {
         "name": "1995",
         "dtype": "float64",
         "stats": {
          "unique_count": 0,
          "nan_count": 5,
          "min": null,
          "max": null,
          "histogram": [
           {
            "bin_start": 0,
            "bin_end": 0.1,
            "count": 0
           },
           {
            "bin_start": 0.1,
            "bin_end": 0.2,
            "count": 0
           },
           {
            "bin_start": 0.2,
            "bin_end": 0.30000000000000004,
            "count": 0
           },
           {
            "bin_start": 0.30000000000000004,
            "bin_end": 0.4,
            "count": 0
           },
           {
            "bin_start": 0.4,
            "bin_end": 0.5,
            "count": 0
           },
           {
            "bin_start": 0.5,
            "bin_end": 0.6000000000000001,
            "count": 0
           },
           {
            "bin_start": 0.6000000000000001,
            "bin_end": 0.7000000000000001,
            "count": 0
           },
           {
            "bin_start": 0.7000000000000001,
            "bin_end": 0.8,
            "count": 0
           },
           {
            "bin_start": 0.8,
            "bin_end": 0.9,
            "count": 0
           },
           {
            "bin_start": 0.9,
            "bin_end": 1,
            "count": 0
           }
          ]
         }
        },
        {
         "name": "1996",
         "dtype": "float64",
         "stats": {
          "unique_count": 0,
          "nan_count": 5,
          "min": null,
          "max": null,
          "histogram": [
           {
            "bin_start": 0,
            "bin_end": 0.1,
            "count": 0
           },
           {
            "bin_start": 0.1,
            "bin_end": 0.2,
            "count": 0
           },
           {
            "bin_start": 0.2,
            "bin_end": 0.30000000000000004,
            "count": 0
           },
           {
            "bin_start": 0.30000000000000004,
            "bin_end": 0.4,
            "count": 0
           },
           {
            "bin_start": 0.4,
            "bin_end": 0.5,
            "count": 0
           },
           {
            "bin_start": 0.5,
            "bin_end": 0.6000000000000001,
            "count": 0
           },
           {
            "bin_start": 0.6000000000000001,
            "bin_end": 0.7000000000000001,
            "count": 0
           },
           {
            "bin_start": 0.7000000000000001,
            "bin_end": 0.8,
            "count": 0
           },
           {
            "bin_start": 0.8,
            "bin_end": 0.9,
            "count": 0
           },
           {
            "bin_start": 0.9,
            "bin_end": 1,
            "count": 0
           }
          ]
         }
        },
        {
         "name": "1997",
         "dtype": "float64",
         "stats": {
          "unique_count": 0,
          "nan_count": 5,
          "min": null,
          "max": null,
          "histogram": [
           {
            "bin_start": 0,
            "bin_end": 0.1,
            "count": 0
           },
           {
            "bin_start": 0.1,
            "bin_end": 0.2,
            "count": 0
           },
           {
            "bin_start": 0.2,
            "bin_end": 0.30000000000000004,
            "count": 0
           },
           {
            "bin_start": 0.30000000000000004,
            "bin_end": 0.4,
            "count": 0
           },
           {
            "bin_start": 0.4,
            "bin_end": 0.5,
            "count": 0
           },
           {
            "bin_start": 0.5,
            "bin_end": 0.6000000000000001,
            "count": 0
           },
           {
            "bin_start": 0.6000000000000001,
            "bin_end": 0.7000000000000001,
            "count": 0
           },
           {
            "bin_start": 0.7000000000000001,
            "bin_end": 0.8,
            "count": 0
           },
           {
            "bin_start": 0.8,
            "bin_end": 0.9,
            "count": 0
           },
           {
            "bin_start": 0.9,
            "bin_end": 1,
            "count": 0
           }
          ]
         }
        },
        {
         "name": "1998",
         "dtype": "float64",
         "stats": {
          "unique_count": 0,
          "nan_count": 5,
          "min": null,
          "max": null,
          "histogram": [
           {
            "bin_start": 0,
            "bin_end": 0.1,
            "count": 0
           },
           {
            "bin_start": 0.1,
            "bin_end": 0.2,
            "count": 0
           },
           {
            "bin_start": 0.2,
            "bin_end": 0.30000000000000004,
            "count": 0
           },
           {
            "bin_start": 0.30000000000000004,
            "bin_end": 0.4,
            "count": 0
           },
           {
            "bin_start": 0.4,
            "bin_end": 0.5,
            "count": 0
           },
           {
            "bin_start": 0.5,
            "bin_end": 0.6000000000000001,
            "count": 0
           },
           {
            "bin_start": 0.6000000000000001,
            "bin_end": 0.7000000000000001,
            "count": 0
           },
           {
            "bin_start": 0.7000000000000001,
            "bin_end": 0.8,
            "count": 0
           },
           {
            "bin_start": 0.8,
            "bin_end": 0.9,
            "count": 0
           },
           {
            "bin_start": 0.9,
            "bin_end": 1,
            "count": 0
           }
          ]
         }
        },
        {
         "name": "1999",
         "dtype": "float64",
         "stats": {
          "unique_count": 0,
          "nan_count": 5,
          "min": null,
          "max": null,
          "histogram": [
           {
            "bin_start": 0,
            "bin_end": 0.1,
            "count": 0
           },
           {
            "bin_start": 0.1,
            "bin_end": 0.2,
            "count": 0
           },
           {
            "bin_start": 0.2,
            "bin_end": 0.30000000000000004,
            "count": 0
           },
           {
            "bin_start": 0.30000000000000004,
            "bin_end": 0.4,
            "count": 0
           },
           {
            "bin_start": 0.4,
            "bin_end": 0.5,
            "count": 0
           },
           {
            "bin_start": 0.5,
            "bin_end": 0.6000000000000001,
            "count": 0
           },
           {
            "bin_start": 0.6000000000000001,
            "bin_end": 0.7000000000000001,
            "count": 0
           },
           {
            "bin_start": 0.7000000000000001,
            "bin_end": 0.8,
            "count": 0
           },
           {
            "bin_start": 0.8,
            "bin_end": 0.9,
            "count": 0
           },
           {
            "bin_start": 0.9,
            "bin_end": 1,
            "count": 0
           }
          ]
         }
        },
        {
         "name": "2000",
         "dtype": "float64",
         "stats": {
          "unique_count": 4,
          "nan_count": 1,
          "min": "8.49160997191625",
          "max": "56.0834516422826",
          "histogram": [
           {
            "bin_start": 8.49160997191625,
            "bin_end": 13.250794138952884,
            "count": 2
           },
           {
            "bin_start": 13.250794138952884,
            "bin_end": 18.00997830598952,
            "count": 0
           },
           {
            "bin_start": 18.00997830598952,
            "bin_end": 22.769162473026153,
            "count": 1
           },
           {
            "bin_start": 22.769162473026153,
            "bin_end": 27.528346640062786,
            "count": 0
           },
           {
            "bin_start": 27.528346640062786,
            "bin_end": 32.28753080709942,
            "count": 0
           },
           {
            "bin_start": 32.28753080709942,
            "bin_end": 37.04671497413606,
            "count": 0
           },
           {
            "bin_start": 37.04671497413606,
            "bin_end": 41.80589914117269,
            "count": 0
           },
           {
            "bin_start": 41.80589914117269,
            "bin_end": 46.565083308209324,
            "count": 0
           },
           {
            "bin_start": 46.565083308209324,
            "bin_end": 51.32426747524596,
            "count": 0
           },
           {
            "bin_start": 51.32426747524596,
            "bin_end": 56.0834516422826,
            "count": 1
           }
          ]
         }
        },
        {
         "name": "2001",
         "dtype": "float64",
         "stats": {
          "unique_count": 4,
          "nan_count": 1,
          "min": "12.5493332143826",
          "max": "54.7701226470266",
          "histogram": [
           {
            "bin_start": 12.5493332143826,
            "bin_end": 16.771412157647,
            "count": 2
           },
           {
            "bin_start": 16.771412157647,
            "bin_end": 20.9934911009114,
            "count": 0
           },
           {
            "bin_start": 20.9934911009114,
            "bin_end": 25.2155700441758,
            "count": 1
           },
           {
            "bin_start": 25.2155700441758,
            "bin_end": 29.4376489874402,
            "count": 0
           },
           {
            "bin_start": 29.4376489874402,
            "bin_end": 33.6597279307046,
            "count": 0
           },
           {
            "bin_start": 33.6597279307046,
            "bin_end": 37.881806873969,
            "count": 0
           },
           {
            "bin_start": 37.881806873969,
            "bin_end": 42.1038858172334,
            "count": 0
           },
           {
            "bin_start": 42.1038858172334,
            "bin_end": 46.3259647604978,
            "count": 0
           },
           {
            "bin_start": 46.3259647604978,
            "bin_end": 50.5480437037622,
            "count": 0
           },
           {
            "bin_start": 50.5480437037622,
            "bin_end": 54.7701226470266,
            "count": 1
           }
          ]
         }
        },
        {
         "name": "2002",
         "dtype": "float64",
         "stats": {
          "unique_count": 4,
          "nan_count": 1,
          "min": "12.8877052744847",
          "max": "56.1023300404056",
          "histogram": [
           {
            "bin_start": 12.8877052744847,
            "bin_end": 17.20916775107679,
            "count": 2
           },
           {
            "bin_start": 17.20916775107679,
            "bin_end": 21.53063022766888,
            "count": 0
           },
           {
            "bin_start": 21.53063022766888,
            "bin_end": 25.85209270426097,
            "count": 1
           },
           {
            "bin_start": 25.85209270426097,
            "bin_end": 30.173555180853057,
            "count": 0
           },
           {
            "bin_start": 30.173555180853057,
            "bin_end": 34.495017657445146,
            "count": 0
           },
           {
            "bin_start": 34.495017657445146,
            "bin_end": 38.81648013403724,
            "count": 0
           },
           {
            "bin_start": 38.81648013403724,
            "bin_end": 43.13794261062933,
            "count": 0
           },
           {
            "bin_start": 43.13794261062933,
            "bin_end": 47.45940508722142,
            "count": 0
           },
           {
            "bin_start": 47.45940508722142,
            "bin_end": 51.78086756381351,
            "count": 0
           },
           {
            "bin_start": 51.78086756381351,
            "bin_end": 56.1023300404056,
            "count": 1
           }
          ]
         }
        },
        {
         "name": "2003",
         "dtype": "float64",
         "stats": {
          "unique_count": 4,
          "nan_count": 1,
          "min": "13.2263347774934",
          "max": "57.0943101230703",
          "histogram": [
           {
            "bin_start": 13.2263347774934,
            "bin_end": 17.613132312051093,
            "count": 2
           },
           {
            "bin_start": 17.613132312051093,
            "bin_end": 21.99992984660878,
            "count": 0
           },
           {
            "bin_start": 21.99992984660878,
            "bin_end": 26.386727381166473,
            "count": 1
           },
           {
            "bin_start": 26.386727381166473,
            "bin_end": 30.77352491572416,
            "count": 0
           },
           {
            "bin_start": 30.77352491572416,
            "bin_end": 35.16032245028185,
            "count": 0
           },
           {
            "bin_start": 35.16032245028185,
            "bin_end": 39.54711998483954,
            "count": 0
           },
           {
            "bin_start": 39.54711998483954,
            "bin_end": 43.933917519397234,
            "count": 0
           },
           {
            "bin_start": 43.933917519397234,
            "bin_end": 48.32071505395492,
            "count": 0
           },
           {
            "bin_start": 48.32071505395492,
            "bin_end": 52.70751258851261,
            "count": 0
           },
           {
            "bin_start": 52.70751258851261,
            "bin_end": 57.0943101230703,
            "count": 1
           }
          ]
         }
        },
        {
         "name": "2004",
         "dtype": "float64",
         "stats": {
          "unique_count": 4,
          "nan_count": 1,
          "min": "13.5755915831281",
          "max": "57.836866299283",
          "histogram": [
           {
            "bin_start": 13.5755915831281,
            "bin_end": 18.00171905474359,
            "count": 2
           },
           {
            "bin_start": 18.00171905474359,
            "bin_end": 22.42784652635908,
            "count": 0
           },
           {
            "bin_start": 22.42784652635908,
            "bin_end": 26.85397399797457,
            "count": 1
           },
           {
            "bin_start": 26.85397399797457,
            "bin_end": 31.280101469590058,
            "count": 0
           },
           {
            "bin_start": 31.280101469590058,
            "bin_end": 35.70622894120555,
            "count": 0
           },
           {
            "bin_start": 35.70622894120555,
            "bin_end": 40.13235641282104,
            "count": 0
           },
           {
            "bin_start": 40.13235641282104,
            "bin_end": 44.55848388443653,
            "count": 0
           },
           {
            "bin_start": 44.55848388443653,
            "bin_end": 48.98461135605202,
            "count": 0
           },
           {
            "bin_start": 48.98461135605202,
            "bin_end": 53.41073882766751,
            "count": 0
           },
           {
            "bin_start": 53.41073882766751,
            "bin_end": 57.836866299283,
            "count": 1
           }
          ]
         }
        },
        {
         "name": "2005",
         "dtype": "float64",
         "stats": {
          "unique_count": 4,
          "nan_count": 1,
          "min": "10.9588403149893",
          "max": "58.9533652971299",
          "histogram": [
           {
            "bin_start": 10.9588403149893,
            "bin_end": 15.758292813203362,
            "count": 2
           },
           {
            "bin_start": 15.758292813203362,
            "bin_end": 20.55774531141742,
            "count": 0
           },
           {
            "bin_start": 20.55774531141742,
            "bin_end": 25.35719780963148,
            "count": 1
           },
           {
            "bin_start": 25.35719780963148,
            "bin_end": 30.15665030784554,
            "count": 0
           },
           {
            "bin_start": 30.15665030784554,
            "bin_end": 34.9561028060596,
            "count": 0
           },
           {
            "bin_start": 34.9561028060596,
            "bin_end": 39.75555530427366,
            "count": 0
           },
           {
            "bin_start": 39.75555530427366,
            "bin_end": 44.55500780248772,
            "count": 0
           },
           {
            "bin_start": 44.55500780248772,
            "bin_end": 49.35446030070178,
            "count": 0
           },
           {
            "bin_start": 49.35446030070178,
            "bin_end": 54.15391279891584,
            "count": 0
           },
           {
            "bin_start": 54.15391279891584,
            "bin_end": 58.9533652971299,
            "count": 1
           }
          ]
         }
        },
        {
         "name": "2006",
         "dtype": "float64",
         "stats": {
          "unique_count": 4,
          "nan_count": 1,
          "min": "14.2660310520972",
          "max": "59.5469745890136",
          "histogram": [
           {
            "bin_start": 14.2660310520972,
            "bin_end": 18.79412540578884,
            "count": 2
           },
           {
            "bin_start": 18.79412540578884,
            "bin_end": 23.322219759480483,
            "count": 0
           },
           {
            "bin_start": 23.322219759480483,
            "bin_end": 27.85031411317212,
            "count": 1
           },
           {
            "bin_start": 27.85031411317212,
            "bin_end": 32.37840846686376,
            "count": 0
           },
           {
            "bin_start": 32.37840846686376,
            "bin_end": 36.9065028205554,
            "count": 0
           },
           {
            "bin_start": 36.9065028205554,
            "bin_end": 41.434597174247045,
            "count": 0
           },
           {
            "bin_start": 41.434597174247045,
            "bin_end": 45.96269152793868,
            "count": 0
           },
           {
            "bin_start": 45.96269152793868,
            "bin_end": 50.49078588163032,
            "count": 0
           },
           {
            "bin_start": 50.49078588163032,
            "bin_end": 55.018880235321966,
            "count": 0
           },
           {
            "bin_start": 55.018880235321966,
            "bin_end": 59.5469745890136,
            "count": 1
           }
          ]
         }
        },
        {
         "name": "2007",
         "dtype": "float64",
         "stats": {
          "unique_count": 4,
          "nan_count": 1,
          "min": "14.417101517166",
          "max": "59.5989593932235",
          "histogram": [
           {
            "bin_start": 14.417101517166,
            "bin_end": 18.935287304771748,
            "count": 2
           },
           {
            "bin_start": 18.935287304771748,
            "bin_end": 23.4534730923775,
            "count": 0
           },
           {
            "bin_start": 23.4534730923775,
            "bin_end": 27.971658879983252,
            "count": 0
           },
           {
            "bin_start": 27.971658879983252,
            "bin_end": 32.489844667589,
            "count": 1
           },
           {
            "bin_start": 32.489844667589,
            "bin_end": 37.008030455194756,
            "count": 0
           },
           {
            "bin_start": 37.008030455194756,
            "bin_end": 41.5262162428005,
            "count": 0
           },
           {
            "bin_start": 41.5262162428005,
            "bin_end": 46.044402030406246,
            "count": 0
           },
           {
            "bin_start": 46.044402030406246,
            "bin_end": 50.562587818012005,
            "count": 0
           },
           {
            "bin_start": 50.562587818012005,
            "bin_end": 55.08077360561775,
            "count": 0
           },
           {
            "bin_start": 55.08077360561775,
            "bin_end": 59.5989593932235,
            "count": 1
           }
          ]
         }
        },
        {
         "name": "2008",
         "dtype": "float64",
         "stats": {
          "unique_count": 4,
          "nan_count": 1,
          "min": "14.9552860566119",
          "max": "60.9834004395019",
          "histogram": [
           {
            "bin_start": 14.9552860566119,
            "bin_end": 19.5580974949009,
            "count": 2
           },
           {
            "bin_start": 19.5580974949009,
            "bin_end": 24.1609089331899,
            "count": 0
           },
           {
            "bin_start": 24.1609089331899,
            "bin_end": 28.7637203714789,
            "count": 0
           },
           {
            "bin_start": 28.7637203714789,
            "bin_end": 33.3665318097679,
            "count": 1
           },
           {
            "bin_start": 33.3665318097679,
            "bin_end": 37.9693432480569,
            "count": 0
           },
           {
            "bin_start": 37.9693432480569,
            "bin_end": 42.5721546863459,
            "count": 0
           },
           {
            "bin_start": 42.5721546863459,
            "bin_end": 47.17496612463489,
            "count": 0
           },
           {
            "bin_start": 47.17496612463489,
            "bin_end": 51.7777775629239,
            "count": 0
           },
           {
            "bin_start": 51.7777775629239,
            "bin_end": 56.3805890012129,
            "count": 0
           },
           {
            "bin_start": 56.3805890012129,
            "bin_end": 60.9834004395019,
            "count": 1
           }
          ]
         }
        },
        {
         "name": "2009",
         "dtype": "float64",
         "stats": {
          "unique_count": 4,
          "nan_count": 1,
          "min": "15.2810233296453",
          "max": "61.2272550575374",
          "histogram": [
           {
            "bin_start": 15.2810233296453,
            "bin_end": 19.87564650243451,
            "count": 2
           },
           {
            "bin_start": 19.87564650243451,
            "bin_end": 24.47026967522372,
            "count": 0
           },
           {
            "bin_start": 24.47026967522372,
            "bin_end": 29.06489284801293,
            "count": 1
           },
           {
            "bin_start": 29.06489284801293,
            "bin_end": 33.659516020802144,
            "count": 0
           },
           {
            "bin_start": 33.659516020802144,
            "bin_end": 38.25413919359135,
            "count": 0
           },
           {
            "bin_start": 38.25413919359135,
            "bin_end": 42.84876236638056,
            "count": 0
           },
           {
            "bin_start": 42.84876236638056,
            "bin_end": 47.44338553916977,
            "count": 0
           },
           {
            "bin_start": 47.44338553916977,
            "bin_end": 52.03800871195898,
            "count": 0
           },
           {
            "bin_start": 52.03800871195898,
            "bin_end": 56.63263188474819,
            "count": 0
           },
           {
            "bin_start": 56.63263188474819,
            "bin_end": 61.2272550575374,
            "count": 1
           }
          ]
         }
        },
        {
         "name": "2010",
         "dtype": "float64",
         "stats": {
          "unique_count": 4,
          "nan_count": 1,
          "min": "15.6312911024101",
          "max": "62.5208242745159",
          "histogram": [
           {
            "bin_start": 15.6312911024101,
            "bin_end": 20.32024441962068,
            "count": 2
           },
           {
            "bin_start": 20.32024441962068,
            "bin_end": 25.00919773683126,
            "count": 0
           },
           {
            "bin_start": 25.00919773683126,
            "bin_end": 29.69815105404184,
            "count": 1
           },
           {
            "bin_start": 29.69815105404184,
            "bin_end": 34.38710437125242,
            "count": 0
           },
           {
            "bin_start": 34.38710437125242,
            "bin_end": 39.076057688462996,
            "count": 0
           },
           {
            "bin_start": 39.076057688462996,
            "bin_end": 43.765011005673585,
            "count": 0
           },
           {
            "bin_start": 43.765011005673585,
            "bin_end": 48.45396432288416,
            "count": 0
           },
           {
            "bin_start": 48.45396432288416,
            "bin_end": 53.14291764009474,
            "count": 0
           },
           {
            "bin_start": 53.14291764009474,
            "bin_end": 57.83187095730533,
            "count": 0
           },
           {
            "bin_start": 57.83187095730533,
            "bin_end": 62.5208242745159,
            "count": 1
           }
          ]
         }
        },
        {
         "name": "2011",
         "dtype": "float64",
         "stats": {
          "unique_count": 4,
          "nan_count": 1,
          "min": "15.2959503612632",
          "max": "65.4706154133",
          "histogram": [
           {
            "bin_start": 15.2959503612632,
            "bin_end": 20.31341686646688,
            "count": 2
           },
           {
            "bin_start": 20.31341686646688,
            "bin_end": 25.33088337167056,
            "count": 0
           },
           {
            "bin_start": 25.33088337167056,
            "bin_end": 30.348349876874238,
            "count": 1
           },
           {
            "bin_start": 30.348349876874238,
            "bin_end": 35.36581638207792,
            "count": 0
           },
           {
            "bin_start": 35.36581638207792,
            "bin_end": 40.383282887281595,
            "count": 0
           },
           {
            "bin_start": 40.383282887281595,
            "bin_end": 45.40074939248528,
            "count": 0
           },
           {
            "bin_start": 45.40074939248528,
            "bin_end": 50.41821589768896,
            "count": 0
           },
           {
            "bin_start": 50.41821589768896,
            "bin_end": 55.43568240289264,
            "count": 0
           },
           {
            "bin_start": 55.43568240289264,
            "bin_end": 60.45314890809632,
            "count": 0
           },
           {
            "bin_start": 60.45314890809632,
            "bin_end": 65.4706154133,
            "count": 1
           }
          ]
         }
        },
        {
         "name": "2012",
         "dtype": "float64",
         "stats": {
          "unique_count": 4,
          "nan_count": 1,
          "min": "16.320474865037",
          "max": "66.303599202538",
          "histogram": [
           {
            "bin_start": 16.320474865037,
            "bin_end": 21.3187872987871,
            "count": 2
           },
           {
            "bin_start": 21.3187872987871,
            "bin_end": 26.317099732537198,
            "count": 0
           },
           {
            "bin_start": 26.317099732537198,
            "bin_end": 31.315412166287295,
            "count": 0
           },
           {
            "bin_start": 31.315412166287295,
            "bin_end": 36.313724600037396,
            "count": 1
           },
           {
            "bin_start": 36.313724600037396,
            "bin_end": 41.3120370337875,
            "count": 0
           },
           {
            "bin_start": 41.3120370337875,
            "bin_end": 46.31034946753759,
            "count": 0
           },
           {
            "bin_start": 46.31034946753759,
            "bin_end": 51.30866190128769,
            "count": 0
           },
           {
            "bin_start": 51.30866190128769,
            "bin_end": 56.30697433503779,
            "count": 0
           },
           {
            "bin_start": 56.30697433503779,
            "bin_end": 61.305286768787894,
            "count": 0
           },
           {
            "bin_start": 61.305286768787894,
            "bin_end": 66.303599202538,
            "count": 1
           }
          ]
         }
        },
        {
         "name": "2013",
         "dtype": "float64",
         "stats": {
          "unique_count": 4,
          "nan_count": 1,
          "min": "16.6432428558172",
          "max": "66.4960101543106",
          "histogram": [
           {
            "bin_start": 16.6432428558172,
            "bin_end": 21.628519585666538,
            "count": 2
           },
           {
            "bin_start": 21.628519585666538,
            "bin_end": 26.613796315515877,
            "count": 0
           },
           {
            "bin_start": 26.613796315515877,
            "bin_end": 31.59907304536522,
            "count": 0
           },
           {
            "bin_start": 31.59907304536522,
            "bin_end": 36.58434977521456,
            "count": 1
           },
           {
            "bin_start": 36.58434977521456,
            "bin_end": 41.569626505063894,
            "count": 0
           },
           {
            "bin_start": 41.569626505063894,
            "bin_end": 46.55490323491324,
            "count": 0
           },
           {
            "bin_start": 46.55490323491324,
            "bin_end": 51.54017996476258,
            "count": 0
           },
           {
            "bin_start": 51.54017996476258,
            "bin_end": 56.52545669461192,
            "count": 0
           },
           {
            "bin_start": 56.52545669461192,
            "bin_end": 61.51073342446126,
            "count": 0
           },
           {
            "bin_start": 61.51073342446126,
            "bin_end": 66.4960101543106,
            "count": 1
           }
          ]
         }
        },
        {
         "name": "2014",
         "dtype": "float64",
         "stats": {
          "unique_count": 4,
          "nan_count": 1,
          "min": "16.9946949543723",
          "max": "65.8289881700667",
          "histogram": [
           {
            "bin_start": 16.9946949543723,
            "bin_end": 21.878124275941737,
            "count": 2
           },
           {
            "bin_start": 21.878124275941737,
            "bin_end": 26.761553597511178,
            "count": 0
           },
           {
            "bin_start": 26.761553597511178,
            "bin_end": 31.64498291908062,
            "count": 1
           },
           {
            "bin_start": 31.64498291908062,
            "bin_end": 36.528412240650056,
            "count": 0
           },
           {
            "bin_start": 36.528412240650056,
            "bin_end": 41.41184156221949,
            "count": 0
           },
           {
            "bin_start": 41.41184156221949,
            "bin_end": 46.29527088378893,
            "count": 0
           },
           {
            "bin_start": 46.29527088378893,
            "bin_end": 51.178700205358375,
            "count": 0
           },
           {
            "bin_start": 51.178700205358375,
            "bin_end": 56.06212952692781,
            "count": 0
           },
           {
            "bin_start": 56.06212952692781,
            "bin_end": 60.94555884849725,
            "count": 0
           },
           {
            "bin_start": 60.94555884849725,
            "bin_end": 65.8289881700667,
            "count": 1
           }
          ]
         }
        },
        {
         "name": "2015",
         "dtype": "float64",
         "stats": {
          "unique_count": 4,
          "nan_count": 1,
          "min": "16.5534701416911",
          "max": "66.9266915686378",
          "histogram": [
           {
            "bin_start": 16.5534701416911,
            "bin_end": 21.59079228438577,
            "count": 2
           },
           {
            "bin_start": 21.59079228438577,
            "bin_end": 26.62811442708044,
            "count": 0
           },
           {
            "bin_start": 26.62811442708044,
            "bin_end": 31.665436569775114,
            "count": 0
           },
           {
            "bin_start": 31.665436569775114,
            "bin_end": 36.70275871246979,
            "count": 1
           },
           {
            "bin_start": 36.70275871246979,
            "bin_end": 41.74008085516445,
            "count": 0
           },
           {
            "bin_start": 41.74008085516445,
            "bin_end": 46.77740299785913,
            "count": 0
           },
           {
            "bin_start": 46.77740299785913,
            "bin_end": 51.8147251405538,
            "count": 0
           },
           {
            "bin_start": 51.8147251405538,
            "bin_end": 56.85204728324847,
            "count": 0
           },
           {
            "bin_start": 56.85204728324847,
            "bin_end": 61.88936942594314,
            "count": 0
           },
           {
            "bin_start": 61.88936942594314,
            "bin_end": 66.9266915686378,
            "count": 1
           }
          ]
         }
        },
        {
         "name": "2016",
         "dtype": "float64",
         "stats": {
          "unique_count": 4,
          "nan_count": 1,
          "min": "17.6049500630141",
          "max": "68.7221844313438",
          "histogram": [
           {
            "bin_start": 17.6049500630141,
            "bin_end": 22.716673499847072,
            "count": 1
           },
           {
            "bin_start": 22.716673499847072,
            "bin_end": 27.828396936680043,
            "count": 1
           },
           {
            "bin_start": 27.828396936680043,
            "bin_end": 32.94012037351301,
            "count": 0
           },
           {
            "bin_start": 32.94012037351301,
            "bin_end": 38.051843810345986,
            "count": 0
           },
           {
            "bin_start": 38.051843810345986,
            "bin_end": 43.16356724717895,
            "count": 1
           },
           {
            "bin_start": 43.16356724717895,
            "bin_end": 48.27529068401192,
            "count": 0
           },
           {
            "bin_start": 48.27529068401192,
            "bin_end": 53.387014120844896,
            "count": 0
           },
           {
            "bin_start": 53.387014120844896,
            "bin_end": 58.49873755767786,
            "count": 0
           },
           {
            "bin_start": 58.49873755767786,
            "bin_end": 63.61046099451083,
            "count": 0
           },
           {
            "bin_start": 63.61046099451083,
            "bin_end": 68.7221844313438,
            "count": 1
           }
          ]
         }
        },
        {
         "name": "2017",
         "dtype": "float64",
         "stats": {
          "unique_count": 3,
          "nan_count": 2,
          "min": "24.6247249863346",
          "max": "71.0854179924979",
          "histogram": [
           {
            "bin_start": 24.6247249863346,
            "bin_end": 29.270794286950927,
            "count": 1
           },
           {
            "bin_start": 29.270794286950927,
            "bin_end": 33.916863587567256,
            "count": 0
           },
           {
            "bin_start": 33.916863587567256,
            "bin_end": 38.56293288818359,
            "count": 0
           },
           {
            "bin_start": 38.56293288818359,
            "bin_end": 43.209002188799914,
            "count": 1
           },
           {
            "bin_start": 43.209002188799914,
            "bin_end": 47.85507148941625,
            "count": 0
           },
           {
            "bin_start": 47.85507148941625,
            "bin_end": 52.50114079003258,
            "count": 0
           },
           {
            "bin_start": 52.50114079003258,
            "bin_end": 57.147210090648905,
            "count": 0
           },
           {
            "bin_start": 57.147210090648905,
            "bin_end": 61.79327939126524,
            "count": 0
           },
           {
            "bin_start": 61.79327939126524,
            "bin_end": 66.43934869188158,
            "count": 0
           },
           {
            "bin_start": 66.43934869188158,
            "bin_end": 71.0854179924979,
            "count": 1
           }
          ]
         }
        },
        {
         "name": "2018",
         "dtype": "float64",
         "stats": {
          "unique_count": 3,
          "nan_count": 2,
          "min": "26.8138996635713",
          "max": "71.9949328691005",
          "histogram": [
           {
            "bin_start": 26.8138996635713,
            "bin_end": 31.332002984124216,
            "count": 1
           },
           {
            "bin_start": 31.332002984124216,
            "bin_end": 35.85010630467714,
            "count": 0
           },
           {
            "bin_start": 35.85010630467714,
            "bin_end": 40.36820962523006,
            "count": 0
           },
           {
            "bin_start": 40.36820962523006,
            "bin_end": 44.886312945782976,
            "count": 1
           },
           {
            "bin_start": 44.886312945782976,
            "bin_end": 49.40441626633589,
            "count": 0
           },
           {
            "bin_start": 49.40441626633589,
            "bin_end": 53.92251958688881,
            "count": 0
           },
           {
            "bin_start": 53.92251958688881,
            "bin_end": 58.440622907441735,
            "count": 0
           },
           {
            "bin_start": 58.440622907441735,
            "bin_end": 62.95872622799465,
            "count": 0
           },
           {
            "bin_start": 62.95872622799465,
            "bin_end": 67.47682954854757,
            "count": 0
           },
           {
            "bin_start": 67.47682954854757,
            "bin_end": 71.9949328691005,
            "count": 1
           }
          ]
         }
        },
        {
         "name": "2019",
         "dtype": "float64",
         "stats": {
          "unique_count": 3,
          "nan_count": 2,
          "min": "28.8411502327974",
          "max": "73.5898862435969",
          "histogram": [
           {
            "bin_start": 28.8411502327974,
            "bin_end": 33.31602383387735,
            "count": 1
           },
           {
            "bin_start": 33.31602383387735,
            "bin_end": 37.7908974349573,
            "count": 0
           },
           {
            "bin_start": 37.7908974349573,
            "bin_end": 42.26577103603725,
            "count": 0
           },
           {
            "bin_start": 42.26577103603725,
            "bin_end": 46.7406446371172,
            "count": 1
           },
           {
            "bin_start": 46.7406446371172,
            "bin_end": 51.21551823819715,
            "count": 0
           },
           {
            "bin_start": 51.21551823819715,
            "bin_end": 55.6903918392771,
            "count": 0
           },
           {
            "bin_start": 55.6903918392771,
            "bin_end": 60.16526544035705,
            "count": 0
           },
           {
            "bin_start": 60.16526544035705,
            "bin_end": 64.640139041437,
            "count": 0
           },
           {
            "bin_start": 64.640139041437,
            "bin_end": 69.11501264251694,
            "count": 0
           },
           {
            "bin_start": 69.11501264251694,
            "bin_end": 73.5898862435969,
            "count": 1
           }
          ]
         }
        },
        {
         "name": "2020",
         "dtype": "float64",
         "stats": {
          "unique_count": 0,
          "nan_count": 5,
          "min": null,
          "max": null,
          "histogram": [
           {
            "bin_start": 0,
            "bin_end": 0.1,
            "count": 0
           },
           {
            "bin_start": 0.1,
            "bin_end": 0.2,
            "count": 0
           },
           {
            "bin_start": 0.2,
            "bin_end": 0.30000000000000004,
            "count": 0
           },
           {
            "bin_start": 0.30000000000000004,
            "bin_end": 0.4,
            "count": 0
           },
           {
            "bin_start": 0.4,
            "bin_end": 0.5,
            "count": 0
           },
           {
            "bin_start": 0.5,
            "bin_end": 0.6000000000000001,
            "count": 0
           },
           {
            "bin_start": 0.6000000000000001,
            "bin_end": 0.7000000000000001,
            "count": 0
           },
           {
            "bin_start": 0.7000000000000001,
            "bin_end": 0.8,
            "count": 0
           },
           {
            "bin_start": 0.8,
            "bin_end": 0.9,
            "count": 0
           },
           {
            "bin_start": 0.9,
            "bin_end": 1,
            "count": 0
           }
          ]
         }
        },
        {
         "name": "Unnamed: 65",
         "dtype": "float64",
         "stats": {
          "unique_count": 0,
          "nan_count": 5,
          "min": null,
          "max": null,
          "histogram": [
           {
            "bin_start": 0,
            "bin_end": 0.1,
            "count": 0
           },
           {
            "bin_start": 0.1,
            "bin_end": 0.2,
            "count": 0
           },
           {
            "bin_start": 0.2,
            "bin_end": 0.30000000000000004,
            "count": 0
           },
           {
            "bin_start": 0.30000000000000004,
            "bin_end": 0.4,
            "count": 0
           },
           {
            "bin_start": 0.4,
            "bin_end": 0.5,
            "count": 0
           },
           {
            "bin_start": 0.5,
            "bin_end": 0.6000000000000001,
            "count": 0
           },
           {
            "bin_start": 0.6000000000000001,
            "bin_end": 0.7000000000000001,
            "count": 0
           },
           {
            "bin_start": 0.7000000000000001,
            "bin_end": 0.8,
            "count": 0
           },
           {
            "bin_start": 0.8,
            "bin_end": 0.9,
            "count": 0
           },
           {
            "bin_start": 0.9,
            "bin_end": 1,
            "count": 0
           }
          ]
         }
        },
        {
         "name": "_deepnote_index_column",
         "dtype": "int64"
        }
       ],
       "rows_top": [
        {
         "1960": "nan",
         "1961": "nan",
         "1962": "nan",
         "1963": "nan",
         "1964": "nan",
         "1965": "nan",
         "1966": "nan",
         "1967": "nan",
         "1968": "nan",
         "1969": "nan",
         "1970": "nan",
         "1971": "nan",
         "1972": "nan",
         "1973": "nan",
         "1974": "nan",
         "1975": "nan",
         "1976": "nan",
         "1977": "nan",
         "1978": "nan",
         "1979": "nan",
         "1980": "nan",
         "1981": "nan",
         "1982": "nan",
         "1983": "nan",
         "1984": "nan",
         "1985": "nan",
         "1986": "nan",
         "1987": "nan",
         "1988": "nan",
         "1989": "nan",
         "1990": "nan",
         "1991": "nan",
         "1992": "nan",
         "1993": "nan",
         "1994": "nan",
         "1995": "nan",
         "1996": "nan",
         "1997": "nan",
         "1998": "nan",
         "1999": "nan",
         "2000": 12.205985334256,
         "2001": 12.5493332143826,
         "2002": 12.8877052744847,
         "2003": 13.2263347774934,
         "2004": 13.5755915831281,
         "2005": 13.9243539706952,
         "2006": 14.2660310520972,
         "2007": 14.5962971181626,
         "2008": 14.9552860566119,
         "2009": 15.2810233296453,
         "2010": 15.6312911024101,
         "2011": 15.9812561302977,
         "2012": 16.320474865037,
         "2013": 16.6432428558172,
         "2014": 16.9946949543723,
         "2015": 17.3131682773135,
         "2016": 17.6049500630141,
         "2017": "nan",
         "2018": "nan",
         "2019": "nan",
         "2020": "nan",
         "Country Name": "Africa Eastern and Southern",
         "Country Code": "AFE",
         "Indicator Name": "Access to clean fuels and technologies for cooking (% of population)",
         "Indicator Code": "EG.CFT.ACCS.ZS",
         "Unnamed: 65": "nan",
         "_deepnote_index_column": 0
        },
        {
         "1960": "nan",
         "1961": "nan",
         "1962": "nan",
         "1963": "nan",
         "1964": "nan",
         "1965": "nan",
         "1966": "nan",
         "1967": "nan",
         "1968": "nan",
         "1969": "nan",
         "1970": "nan",
         "1971": "nan",
         "1972": "nan",
         "1973": "nan",
         "1974": "nan",
         "1975": "nan",
         "1976": "nan",
         "1977": "nan",
         "1978": "nan",
         "1979": "nan",
         "1980": "nan",
         "1981": "nan",
         "1982": "nan",
         "1983": "nan",
         "1984": "nan",
         "1985": "nan",
         "1986": "nan",
         "1987": "nan",
         "1988": "nan",
         "1989": "nan",
         "1990": "nan",
         "1991": "nan",
         "1992": "nan",
         "1993": "nan",
         "1994": "nan",
         "1995": "nan",
         "1996": "nan",
         "1997": "nan",
         "1998": "nan",
         "1999": "nan",
         "2000": 20.0860066130196,
         "2001": 23.1031784776438,
         "2002": 24.2234301519858,
         "2003": 25.0231841252266,
         "2004": 26.1763357723345,
         "2005": 23.621498439778,
         "2006": 27.2994330458403,
         "2007": 28.737952342644,
         "2008": 28.813735402838,
         "2009": 27.4830612476805,
         "2010": 28.23337288747,
         "2011": 28.3818359876251,
         "2012": 32.2240274434276,
         "2013": 32.0464780952398,
         "2014": 31.3235788003652,
         "2015": 33.3121631315881,
         "2016": 38.3804331871331,
         "2017": 39.754201347135,
         "2018": 42.1682410699846,
         "2019": 43.6406611120552,
         "2020": "nan",
         "Country Name": "Africa Eastern and Southern",
         "Country Code": "AFE",
         "Indicator Name": "Access to electricity (% of population)",
         "Indicator Code": "EG.ELC.ACCS.ZS",
         "Unnamed: 65": "nan",
         "_deepnote_index_column": 1
        },
        {
         "1960": "nan",
         "1961": "nan",
         "1962": "nan",
         "1963": "nan",
         "1964": "nan",
         "1965": "nan",
         "1966": "nan",
         "1967": "nan",
         "1968": "nan",
         "1969": "nan",
         "1970": "nan",
         "1971": "nan",
         "1972": "nan",
         "1973": "nan",
         "1974": "nan",
         "1975": "nan",
         "1976": "nan",
         "1977": "nan",
         "1978": "nan",
         "1979": "nan",
         "1980": "nan",
         "1981": "nan",
         "1982": "nan",
         "1983": "nan",
         "1984": "nan",
         "1985": "nan",
         "1986": "nan",
         "1987": "nan",
         "1988": "nan",
         "1989": "nan",
         "1990": "nan",
         "1991": "nan",
         "1992": "nan",
         "1993": "nan",
         "1994": "nan",
         "1995": "nan",
         "1996": "nan",
         "1997": "nan",
         "1998": "nan",
         "1999": "nan",
         "2000": 8.49160997191625,
         "2001": 13.2018746955682,
         "2002": 15.2093473536694,
         "2003": 13.8135351072229,
         "2004": 15.4236146358427,
         "2005": 10.9588403149893,
         "2006": 16.7624691704676,
         "2007": 14.417101517166,
         "2008": 16.9779753635741,
         "2009": 18.1733410522112,
         "2010": 16.2410638636384,
         "2011": 15.2959503612632,
         "2012": 20.5253527781327,
         "2013": 19.4613833438545,
         "2014": 17.790698468584,
         "2015": 16.5534701416911,
         "2016": 23.9078966279348,
         "2017": 24.6247249863346,
         "2018": 26.8138996635713,
         "2019": 28.8411502327974,
         "2020": "nan",
         "Country Name": "Africa Eastern and Southern",
         "Country Code": "AFE",
         "Indicator Name": "Access to electricity, rural (% of rural population)",
         "Indicator Code": "EG.ELC.ACCS.RU.ZS",
         "Unnamed: 65": "nan",
         "_deepnote_index_column": 2
        },
        {
         "1960": "nan",
         "1961": "nan",
         "1962": "nan",
         "1963": "nan",
         "1964": "nan",
         "1965": "nan",
         "1966": "nan",
         "1967": "nan",
         "1968": "nan",
         "1969": "nan",
         "1970": "nan",
         "1971": "nan",
         "1972": "nan",
         "1973": "nan",
         "1974": "nan",
         "1975": "nan",
         "1976": "nan",
         "1977": "nan",
         "1978": "nan",
         "1979": "nan",
         "1980": "nan",
         "1981": "nan",
         "1982": "nan",
         "1983": "nan",
         "1984": "nan",
         "1985": "nan",
         "1986": "nan",
         "1987": "nan",
         "1988": "nan",
         "1989": "nan",
         "1990": "nan",
         "1991": "nan",
         "1992": "nan",
         "1993": "nan",
         "1994": "nan",
         "1995": "nan",
         "1996": "nan",
         "1997": "nan",
         "1998": "nan",
         "1999": "nan",
         "2000": 56.0834516422826,
         "2001": 54.7701226470266,
         "2002": 56.1023300404056,
         "2003": 57.0943101230703,
         "2004": 57.836866299283,
         "2005": 58.9533652971299,
         "2006": 59.5469745890136,
         "2007": 59.5989593932235,
         "2008": 60.9834004395019,
         "2009": 61.2272550575374,
         "2010": 62.5208242745159,
         "2011": 65.4706154133,
         "2012": 66.303599202538,
         "2013": 66.4960101543106,
         "2014": 65.8289881700667,
         "2015": 66.9266915686378,
         "2016": 68.7221844313438,
         "2017": 71.0854179924979,
         "2018": 71.9949328691005,
         "2019": 73.5898862435969,
         "2020": "nan",
         "Country Name": "Africa Eastern and Southern",
         "Country Code": "AFE",
         "Indicator Name": "Access to electricity, urban (% of urban population)",
         "Indicator Code": "EG.ELC.ACCS.UR.ZS",
         "Unnamed: 65": "nan",
         "_deepnote_index_column": 3
        },
        {
         "1960": "nan",
         "1961": "nan",
         "1962": "nan",
         "1963": "nan",
         "1964": "nan",
         "1965": "nan",
         "1966": "nan",
         "1967": "nan",
         "1968": "nan",
         "1969": "nan",
         "1970": "nan",
         "1971": "nan",
         "1972": "nan",
         "1973": "nan",
         "1974": "nan",
         "1975": "nan",
         "1976": "nan",
         "1977": "nan",
         "1978": "nan",
         "1979": "nan",
         "1980": "nan",
         "1981": "nan",
         "1982": "nan",
         "1983": "nan",
         "1984": "nan",
         "1985": "nan",
         "1986": "nan",
         "1987": "nan",
         "1988": "nan",
         "1989": "nan",
         "1990": "nan",
         "1991": "nan",
         "1992": "nan",
         "1993": "nan",
         "1994": "nan",
         "1995": "nan",
         "1996": "nan",
         "1997": "nan",
         "1998": "nan",
         "1999": "nan",
         "2000": "nan",
         "2001": "nan",
         "2002": "nan",
         "2003": "nan",
         "2004": "nan",
         "2005": "nan",
         "2006": "nan",
         "2007": "nan",
         "2008": "nan",
         "2009": "nan",
         "2010": "nan",
         "2011": "nan",
         "2012": "nan",
         "2013": "nan",
         "2014": "nan",
         "2015": "nan",
         "2016": "nan",
         "2017": "nan",
         "2018": "nan",
         "2019": "nan",
         "2020": "nan",
         "Country Name": "Africa Eastern and Southern",
         "Country Code": "AFE",
         "Indicator Name": "Account ownership at a financial institution or with a mobile-money-service provider (% of populati…",
         "Indicator Code": "FX.OWN.TOTL.ZS",
         "Unnamed: 65": "nan",
         "_deepnote_index_column": 4
        }
       ],
       "rows_bottom": null
      },
      "text/plain": "                  Country Name Country Code  \\\n0  Africa Eastern and Southern          AFE   \n1  Africa Eastern and Southern          AFE   \n2  Africa Eastern and Southern          AFE   \n3  Africa Eastern and Southern          AFE   \n4  Africa Eastern and Southern          AFE   \n\n                                      Indicator Name     Indicator Code  1960  \\\n0  Access to clean fuels and technologies for coo...     EG.CFT.ACCS.ZS   NaN   \n1            Access to electricity (% of population)     EG.ELC.ACCS.ZS   NaN   \n2  Access to electricity, rural (% of rural popul...  EG.ELC.ACCS.RU.ZS   NaN   \n3  Access to electricity, urban (% of urban popul...  EG.ELC.ACCS.UR.ZS   NaN   \n4  Account ownership at a financial institution o...     FX.OWN.TOTL.ZS   NaN   \n\n   1961  1962  1963  1964  1965  ...       2012       2013       2014  \\\n0   NaN   NaN   NaN   NaN   NaN  ...  16.320475  16.643243  16.994695   \n1   NaN   NaN   NaN   NaN   NaN  ...  32.224027  32.046478  31.323579   \n2   NaN   NaN   NaN   NaN   NaN  ...  20.525353  19.461383  17.790698   \n3   NaN   NaN   NaN   NaN   NaN  ...  66.303599  66.496010  65.828988   \n4   NaN   NaN   NaN   NaN   NaN  ...        NaN        NaN        NaN   \n\n        2015       2016       2017       2018       2019  2020  Unnamed: 65  \n0  17.313168  17.604950        NaN        NaN        NaN   NaN          NaN  \n1  33.312163  38.380433  39.754201  42.168241  43.640661   NaN          NaN  \n2  16.553470  23.907897  24.624725  26.813900  28.841150   NaN          NaN  \n3  66.926692  68.722184  71.085418  71.994933  73.589886   NaN          NaN  \n4        NaN        NaN        NaN        NaN        NaN   NaN          NaN  \n\n[5 rows x 66 columns]",
      "text/html": "<div>\n<style scoped>\n    .dataframe tbody tr th:only-of-type {\n        vertical-align: middle;\n    }\n\n    .dataframe tbody tr th {\n        vertical-align: top;\n    }\n\n    .dataframe thead th {\n        text-align: right;\n    }\n</style>\n<table border=\"1\" class=\"dataframe\">\n  <thead>\n    <tr style=\"text-align: right;\">\n      <th></th>\n      <th>Country Name</th>\n      <th>Country Code</th>\n      <th>Indicator Name</th>\n      <th>Indicator Code</th>\n      <th>1960</th>\n      <th>1961</th>\n      <th>1962</th>\n      <th>1963</th>\n      <th>1964</th>\n      <th>1965</th>\n      <th>...</th>\n      <th>2012</th>\n      <th>2013</th>\n      <th>2014</th>\n      <th>2015</th>\n      <th>2016</th>\n      <th>2017</th>\n      <th>2018</th>\n      <th>2019</th>\n      <th>2020</th>\n      <th>Unnamed: 65</th>\n    </tr>\n  </thead>\n  <tbody>\n    <tr>\n      <th>0</th>\n      <td>Africa Eastern and Southern</td>\n      <td>AFE</td>\n      <td>Access to clean fuels and technologies for coo...</td>\n      <td>EG.CFT.ACCS.ZS</td>\n      <td>NaN</td>\n      <td>NaN</td>\n      <td>NaN</td>\n      <td>NaN</td>\n      <td>NaN</td>\n      <td>NaN</td>\n      <td>...</td>\n      <td>16.320475</td>\n      <td>16.643243</td>\n      <td>16.994695</td>\n      <td>17.313168</td>\n      <td>17.604950</td>\n      <td>NaN</td>\n      <td>NaN</td>\n      <td>NaN</td>\n      <td>NaN</td>\n      <td>NaN</td>\n    </tr>\n    <tr>\n      <th>1</th>\n      <td>Africa Eastern and Southern</td>\n      <td>AFE</td>\n      <td>Access to electricity (% of population)</td>\n      <td>EG.ELC.ACCS.ZS</td>\n      <td>NaN</td>\n      <td>NaN</td>\n      <td>NaN</td>\n      <td>NaN</td>\n      <td>NaN</td>\n      <td>NaN</td>\n      <td>...</td>\n      <td>32.224027</td>\n      <td>32.046478</td>\n      <td>31.323579</td>\n      <td>33.312163</td>\n      <td>38.380433</td>\n      <td>39.754201</td>\n      <td>42.168241</td>\n      <td>43.640661</td>\n      <td>NaN</td>\n      <td>NaN</td>\n    </tr>\n    <tr>\n      <th>2</th>\n      <td>Africa Eastern and Southern</td>\n      <td>AFE</td>\n      <td>Access to electricity, rural (% of rural popul...</td>\n      <td>EG.ELC.ACCS.RU.ZS</td>\n      <td>NaN</td>\n      <td>NaN</td>\n      <td>NaN</td>\n      <td>NaN</td>\n      <td>NaN</td>\n      <td>NaN</td>\n      <td>...</td>\n      <td>20.525353</td>\n      <td>19.461383</td>\n      <td>17.790698</td>\n      <td>16.553470</td>\n      <td>23.907897</td>\n      <td>24.624725</td>\n      <td>26.813900</td>\n      <td>28.841150</td>\n      <td>NaN</td>\n      <td>NaN</td>\n    </tr>\n    <tr>\n      <th>3</th>\n      <td>Africa Eastern and Southern</td>\n      <td>AFE</td>\n      <td>Access to electricity, urban (% of urban popul...</td>\n      <td>EG.ELC.ACCS.UR.ZS</td>\n      <td>NaN</td>\n      <td>NaN</td>\n      <td>NaN</td>\n      <td>NaN</td>\n      <td>NaN</td>\n      <td>NaN</td>\n      <td>...</td>\n      <td>66.303599</td>\n      <td>66.496010</td>\n      <td>65.828988</td>\n      <td>66.926692</td>\n      <td>68.722184</td>\n      <td>71.085418</td>\n      <td>71.994933</td>\n      <td>73.589886</td>\n      <td>NaN</td>\n      <td>NaN</td>\n    </tr>\n    <tr>\n      <th>4</th>\n      <td>Africa Eastern and Southern</td>\n      <td>AFE</td>\n      <td>Account ownership at a financial institution o...</td>\n      <td>FX.OWN.TOTL.ZS</td>\n      <td>NaN</td>\n      <td>NaN</td>\n      <td>NaN</td>\n      <td>NaN</td>\n      <td>NaN</td>\n      <td>NaN</td>\n      <td>...</td>\n      <td>NaN</td>\n      <td>NaN</td>\n      <td>NaN</td>\n      <td>NaN</td>\n      <td>NaN</td>\n      <td>NaN</td>\n      <td>NaN</td>\n      <td>NaN</td>\n      <td>NaN</td>\n      <td>NaN</td>\n    </tr>\n  </tbody>\n</table>\n<p>5 rows × 66 columns</p>\n</div>"
     },
     "metadata": {}
    }
   ]
  },
  {
   "cell_type": "markdown",
   "source": "### 3.1 DataFrame dimensionality (row and column counts)\n\nSee: [pandas.DataFrame.shape](https://pandas.pydata.org/docs/reference/api/pandas.DataFrame.shape.html)",
   "metadata": {
    "tags": [],
    "cell_id": "00007-0ee2ceb4-84a1-4091-89de-7508b06f959f",
    "deepnote_cell_type": "markdown"
   }
  },
  {
   "cell_type": "code",
   "metadata": {
    "tags": [],
    "cell_id": "00003-073debf1-805f-4c2b-b4cf-38d3706107e2",
    "deepnote_to_be_reexecuted": false,
    "source_hash": "f4717c38",
    "execution_start": 1629554290693,
    "execution_millis": 145977,
    "deepnote_cell_type": "code"
   },
   "source": "wdi_data.shape",
   "execution_count": 4,
   "outputs": [
    {
     "output_type": "execute_result",
     "execution_count": 4,
     "data": {
      "text/plain": "(383838, 66)"
     },
     "metadata": {}
    }
   ]
  },
  {
   "cell_type": "markdown",
   "source": "### 3.2 DataFrame  index and column data types, non-null values and memory usage\n\nSee: [pandas.Dataframe.info](https://pandas.pydata.org/docs/reference/api/pandas.DataFrame.info.html)",
   "metadata": {
    "tags": [],
    "cell_id": "00009-21d05587-27b9-4b98-8353-f5c9f1d89d3d",
    "deepnote_cell_type": "markdown"
   }
  },
  {
   "cell_type": "code",
   "metadata": {
    "tags": [],
    "cell_id": "00003-ba72197b-34d8-47f7-b092-8394143f8d65",
    "deepnote_to_be_reexecuted": false,
    "source_hash": "8b0792c",
    "execution_start": 1629554290702,
    "execution_millis": 136,
    "deepnote_cell_type": "code"
   },
   "source": "wdi_data.info()",
   "execution_count": 5,
   "outputs": [
    {
     "name": "stdout",
     "text": "<class 'pandas.core.frame.DataFrame'>\nRangeIndex: 383838 entries, 0 to 383837\nData columns (total 66 columns):\n #   Column          Non-Null Count   Dtype  \n---  ------          --------------   -----  \n 0   Country Name    383838 non-null  object \n 1   Country Code    383838 non-null  object \n 2   Indicator Name  383838 non-null  object \n 3   Indicator Code  383838 non-null  object \n 4   1960            37536 non-null   float64\n 5   1961            42463 non-null   float64\n 6   1962            44707 non-null   float64\n 7   1963            44547 non-null   float64\n 8   1964            45099 non-null   float64\n 9   1965            47298 non-null   float64\n 10  1966            47382 non-null   float64\n 11  1967            49106 non-null   float64\n 12  1968            48667 non-null   float64\n 13  1969            50503 non-null   float64\n 14  1970            69181 non-null   float64\n 15  1971            76156 non-null   float64\n 16  1972            79269 non-null   float64\n 17  1973            78763 non-null   float64\n 18  1974            80278 non-null   float64\n 19  1975            83975 non-null   float64\n 20  1976            86304 non-null   float64\n 21  1977            90290 non-null   float64\n 22  1978            89876 non-null   float64\n 23  1979            90731 non-null   float64\n 24  1980            95678 non-null   float64\n 25  1981            98050 non-null   float64\n 26  1982            99781 non-null   float64\n 27  1983            99286 non-null   float64\n 28  1984            100043 non-null  float64\n 29  1985            101417 non-null  float64\n 30  1986            102263 non-null  float64\n 31  1987            103903 non-null  float64\n 32  1988            102368 non-null  float64\n 33  1989            104238 non-null  float64\n 34  1990            126918 non-null  float64\n 35  1991            134287 non-null  float64\n 36  1992            139382 non-null  float64\n 37  1993            139959 non-null  float64\n 38  1994            142253 non-null  float64\n 39  1995            150011 non-null  float64\n 40  1996            149842 non-null  float64\n 41  1997            152161 non-null  float64\n 42  1998            153326 non-null  float64\n 43  1999            158907 non-null  float64\n 44  2000            184318 non-null  float64\n 45  2001            178666 non-null  float64\n 46  2002            184113 non-null  float64\n 47  2003            183816 non-null  float64\n 48  2004            189339 non-null  float64\n 49  2005            200165 non-null  float64\n 50  2006            200862 non-null  float64\n 51  2007            206106 non-null  float64\n 52  2008            203842 non-null  float64\n 53  2009            205015 non-null  float64\n 54  2010            218835 non-null  float64\n 55  2011            210993 non-null  float64\n 56  2012            215533 non-null  float64\n 57  2013            209665 non-null  float64\n 58  2014            216942 non-null  float64\n 59  2015            211443 non-null  float64\n 60  2016            211302 non-null  float64\n 61  2017            207552 non-null  float64\n 62  2018            197315 non-null  float64\n 63  2019            163536 non-null  float64\n 64  2020            61930 non-null   float64\n 65  Unnamed: 65     0 non-null       float64\ndtypes: float64(62), object(4)\nmemory usage: 193.3+ MB\n",
     "output_type": "stream"
    }
   ]
  },
  {
   "cell_type": "markdown",
   "source": "### 3.3 DataFrame descriptive statistics (describe)\n\nSee: [pandas.DataFrame.Describe](https://pandas.pydata.org/docs/reference/api/pandas.DataFrame.describe.html)",
   "metadata": {
    "tags": [],
    "cell_id": "00011-a75fbc38-5c71-4d4a-91b6-d1bc6b953664",
    "deepnote_cell_type": "markdown"
   }
  },
  {
   "cell_type": "code",
   "metadata": {
    "tags": [],
    "cell_id": "00003-66f3f562-8ca3-4a44-b7b5-9231152fd648",
    "deepnote_to_be_reexecuted": false,
    "source_hash": "e28e217d",
    "execution_start": 1629554290883,
    "execution_millis": 1533,
    "deepnote_cell_type": "code"
   },
   "source": "wdi_data.describe()",
   "execution_count": 6,
   "outputs": [
    {
     "output_type": "execute_result",
     "execution_count": 6,
     "data": {
      "application/vnd.deepnote.dataframe.v2+json": {
       "row_count": 8,
       "column_count": 62,
       "columns": [
        {
         "name": "1960",
         "dtype": "float64",
         "stats": {
          "unique_count": 8,
          "nan_count": 0,
          "min": "-334419146855197.0",
          "max": "830508047988973.0",
          "histogram": [
           {
            "bin_start": -334419146855197,
            "bin_end": -217926427370780,
            "count": 1
           },
           {
            "bin_start": -217926427370780,
            "bin_end": -101433707886363,
            "count": 0
           },
           {
            "bin_start": -101433707886363,
            "bin_end": 15059011598054,
            "count": 6
           },
           {
            "bin_start": 15059011598054,
            "bin_end": 131551731082471,
            "count": 0
           },
           {
            "bin_start": 131551731082471,
            "bin_end": 248044450566888,
            "count": 0
           },
           {
            "bin_start": 248044450566888,
            "bin_end": 364537170051305,
            "count": 0
           },
           {
            "bin_start": 364537170051305,
            "bin_end": 481029889535722,
            "count": 0
           },
           {
            "bin_start": 481029889535722,
            "bin_end": 597522609020139,
            "count": 0
           },
           {
            "bin_start": 597522609020139,
            "bin_end": 714015328504556,
            "count": 0
           },
           {
            "bin_start": 714015328504556,
            "bin_end": 830508047988973,
            "count": 1
           }
          ]
         }
        },
        {
         "name": "1961",
         "dtype": "float64",
         "stats": {
          "unique_count": 8,
          "nan_count": 0,
          "min": "-382300035464537.0",
          "max": "925559773896111.0",
          "histogram": [
           {
            "bin_start": -382300035464537,
            "bin_end": -251514054528472.2,
            "count": 1
           },
           {
            "bin_start": -251514054528472.2,
            "bin_end": -120728073592407.4,
            "count": 0
           },
           {
            "bin_start": -120728073592407.4,
            "bin_end": 10057907343657.375,
            "count": 5
           },
           {
            "bin_start": 10057907343657.375,
            "bin_end": 140843888279722.2,
            "count": 1
           },
           {
            "bin_start": 140843888279722.2,
            "bin_end": 271629869215787,
            "count": 0
           },
           {
            "bin_start": 271629869215787,
            "bin_end": 402415850151851.75,
            "count": 0
           },
           {
            "bin_start": 402415850151851.75,
            "bin_end": 533201831087916.6,
            "count": 0
           },
           {
            "bin_start": 533201831087916.6,
            "bin_end": 663987812023981.4,
            "count": 0
           },
           {
            "bin_start": 663987812023981.4,
            "bin_end": 794773792960046.2,
            "count": 0
           },
           {
            "bin_start": 794773792960046.2,
            "bin_end": 925559773896111,
            "count": 1
           }
          ]
         }
        },
        {
         "name": "1962",
         "dtype": "float64",
         "stats": {
          "unique_count": 8,
          "nan_count": 0,
          "min": "-432795545844671.0",
          "max": "1005053416527250.0",
          "histogram": [
           {
            "bin_start": -432795545844671,
            "bin_end": -289010649607478.9,
            "count": 1
           },
           {
            "bin_start": -289010649607478.9,
            "bin_end": -145225753370286.8,
            "count": 0
           },
           {
            "bin_start": -145225753370286.8,
            "bin_end": -1440857133094.75,
            "count": 0
           },
           {
            "bin_start": -1440857133094.75,
            "bin_end": 142344039104097.38,
            "count": 6
           },
           {
            "bin_start": 142344039104097.38,
            "bin_end": 286128935341289.5,
            "count": 0
           },
           {
            "bin_start": 286128935341289.5,
            "bin_end": 429913831578481.5,
            "count": 0
           },
           {
            "bin_start": 429913831578481.5,
            "bin_end": 573698727815673.6,
            "count": 0
           },
           {
            "bin_start": 573698727815673.6,
            "bin_end": 717483624052865.8,
            "count": 0
           },
           {
            "bin_start": 717483624052865.8,
            "bin_end": 861268520290057.8,
            "count": 0
           },
           {
            "bin_start": 861268520290057.8,
            "bin_end": 1005053416527250,
            "count": 1
           }
          ]
         }
        },
        {
         "name": "1963",
         "dtype": "float64",
         "stats": {
          "unique_count": 8,
          "nan_count": 0,
          "min": "-476987450020058.0",
          "max": "1078014111152460.0",
          "histogram": [
           {
            "bin_start": -476987450020058,
            "bin_end": -321487293902806.2,
            "count": 1
           },
           {
            "bin_start": -321487293902806.2,
            "bin_end": -165987137785554.38,
            "count": 0
           },
           {
            "bin_start": -165987137785554.38,
            "bin_end": -10486981668302.562,
            "count": 0
           },
           {
            "bin_start": -10486981668302.562,
            "bin_end": 145013174448949.25,
            "count": 6
           },
           {
            "bin_start": 145013174448949.25,
            "bin_end": 300513330566201,
            "count": 0
           },
           {
            "bin_start": 300513330566201,
            "bin_end": 456013486683452.9,
            "count": 0
           },
           {
            "bin_start": 456013486683452.9,
            "bin_end": 611513642800704.8,
            "count": 0
           },
           {
            "bin_start": 611513642800704.8,
            "bin_end": 767013798917956.5,
            "count": 0
           },
           {
            "bin_start": 767013798917956.5,
            "bin_end": 922513955035208.2,
            "count": 0
           },
           {
            "bin_start": 922513955035208.2,
            "bin_end": 1078014111152460,
            "count": 1
           }
          ]
         }
        },
        {
         "name": "1964",
         "dtype": "float64",
         "stats": {
          "unique_count": 8,
          "nan_count": 0,
          "min": "-533935756743051.0",
          "max": "1177340119756310.0",
          "histogram": [
           {
            "bin_start": -533935756743051,
            "bin_end": -362808169093114.9,
            "count": 1
           },
           {
            "bin_start": -362808169093114.9,
            "bin_end": -191680581443178.8,
            "count": 0
           },
           {
            "bin_start": -191680581443178.8,
            "bin_end": -20552993793242.75,
            "count": 0
           },
           {
            "bin_start": -20552993793242.75,
            "bin_end": 150574593856693.38,
            "count": 6
           },
           {
            "bin_start": 150574593856693.38,
            "bin_end": 321702181506629.5,
            "count": 0
           },
           {
            "bin_start": 321702181506629.5,
            "bin_end": 492829769156565.5,
            "count": 0
           },
           {
            "bin_start": 492829769156565.5,
            "bin_end": 663957356806501.8,
            "count": 0
           },
           {
            "bin_start": 663957356806501.8,
            "bin_end": 835084944456437.8,
            "count": 0
           },
           {
            "bin_start": 835084944456437.8,
            "bin_end": 1006212532106373.8,
            "count": 0
           },
           {
            "bin_start": 1006212532106373.8,
            "bin_end": 1177340119756310,
            "count": 1
           }
          ]
         }
        },
        {
         "name": "1965",
         "dtype": "float64",
         "stats": {
          "unique_count": 8,
          "nan_count": 0,
          "min": "-626471634624933.0",
          "max": "1380080705032150.0",
          "histogram": [
           {
            "bin_start": -626471634624933,
            "bin_end": -425816400659224.7,
            "count": 1
           },
           {
            "bin_start": -425816400659224.7,
            "bin_end": -225161166693516.38,
            "count": 0
           },
           {
            "bin_start": -225161166693516.38,
            "bin_end": -24505932727808,
            "count": 0
           },
           {
            "bin_start": -24505932727808,
            "bin_end": 176149301237900.25,
            "count": 6
           },
           {
            "bin_start": 176149301237900.25,
            "bin_end": 376804535203608.5,
            "count": 0
           },
           {
            "bin_start": 376804535203608.5,
            "bin_end": 577459769169317,
            "count": 0
           },
           {
            "bin_start": 577459769169317,
            "bin_end": 778115003135025.2,
            "count": 0
           },
           {
            "bin_start": 778115003135025.2,
            "bin_end": 978770237100733.5,
            "count": 0
           },
           {
            "bin_start": 978770237100733.5,
            "bin_end": 1179425471066441.8,
            "count": 0
           },
           {
            "bin_start": 1179425471066441.8,
            "bin_end": 1380080705032150,
            "count": 1
           }
          ]
         }
        },
        {
         "name": "1966",
         "dtype": "float64",
         "stats": {
          "unique_count": 8,
          "nan_count": 0,
          "min": "-712002411698803.0",
          "max": "1535078469919920.0",
          "histogram": [
           {
            "bin_start": -712002411698803,
            "bin_end": -487294323536930.7,
            "count": 1
           },
           {
            "bin_start": -487294323536930.7,
            "bin_end": -262586235375058.38,
            "count": 0
           },
           {
            "bin_start": -262586235375058.38,
            "bin_end": -37878147213186,
            "count": 0
           },
           {
            "bin_start": -37878147213186,
            "bin_end": 186829940948686.25,
            "count": 6
           },
           {
            "bin_start": 186829940948686.25,
            "bin_end": 411538029110558.5,
            "count": 0
           },
           {
            "bin_start": 411538029110558.5,
            "bin_end": 636246117272431,
            "count": 0
           },
           {
            "bin_start": 636246117272431,
            "bin_end": 860954205434303.2,
            "count": 0
           },
           {
            "bin_start": 860954205434303.2,
            "bin_end": 1085662293596175.5,
            "count": 0
           },
           {
            "bin_start": 1085662293596175.5,
            "bin_end": 1310370381758047.8,
            "count": 0
           },
           {
            "bin_start": 1310370381758047.8,
            "bin_end": 1535078469919920,
            "count": 1
           }
          ]
         }
        },
        {
         "name": "1967",
         "dtype": "float64",
         "stats": {
          "unique_count": 8,
          "nan_count": 0,
          "min": "-824513405838290.0",
          "max": "1713571405676020.0",
          "histogram": [
           {
            "bin_start": -824513405838290,
            "bin_end": -570704924686859,
            "count": 1
           },
           {
            "bin_start": -570704924686859,
            "bin_end": -316896443535428,
            "count": 0
           },
           {
            "bin_start": -316896443535428,
            "bin_end": -63087962383997,
            "count": 0
           },
           {
            "bin_start": -63087962383997,
            "bin_end": 190720518767434,
            "count": 6
           },
           {
            "bin_start": 190720518767434,
            "bin_end": 444528999918865,
            "count": 0
           },
           {
            "bin_start": 444528999918865,
            "bin_end": 698337481070296,
            "count": 0
           },
           {
            "bin_start": 698337481070296,
            "bin_end": 952145962221727,
            "count": 0
           },
           {
            "bin_start": 952145962221727,
            "bin_end": 1205954443373158,
            "count": 0
           },
           {
            "bin_start": 1205954443373158,
            "bin_end": 1459762924524589,
            "count": 0
           },
           {
            "bin_start": 1459762924524589,
            "bin_end": 1713571405676020,
            "count": 1
           }
          ]
         }
        },
        {
         "name": "1968",
         "dtype": "float64",
         "stats": {
          "unique_count": 8,
          "nan_count": 0,
          "min": "-937946691026294.0",
          "max": "1967195410522210.0",
          "histogram": [
           {
            "bin_start": -937946691026294,
            "bin_end": -647432480871443.6,
            "count": 1
           },
           {
            "bin_start": -647432480871443.6,
            "bin_end": -356918270716593.25,
            "count": 0
           },
           {
            "bin_start": -356918270716593.25,
            "bin_end": -66404060561742.875,
            "count": 0
           },
           {
            "bin_start": -66404060561742.875,
            "bin_end": 224110149593107.5,
            "count": 6
           },
           {
            "bin_start": 224110149593107.5,
            "bin_end": 514624359747958,
            "count": 0
           },
           {
            "bin_start": 514624359747958,
            "bin_end": 805138569902808.2,
            "count": 0
           },
           {
            "bin_start": 805138569902808.2,
            "bin_end": 1095652780057658.5,
            "count": 0
           },
           {
            "bin_start": 1095652780057658.5,
            "bin_end": 1386166990212509,
            "count": 0
           },
           {
            "bin_start": 1386166990212509,
            "bin_end": 1676681200367359.5,
            "count": 0
           },
           {
            "bin_start": 1676681200367359.5,
            "bin_end": 1967195410522210,
            "count": 1
           }
          ]
         }
        },
        {
         "name": "1969",
         "dtype": "float64",
         "stats": {
          "unique_count": 8,
          "nan_count": 0,
          "min": "-1122498627501460.0",
          "max": "2287805162194300.0",
          "histogram": [
           {
            "bin_start": -1122498627501460,
            "bin_end": -781468248531884,
            "count": 1
           },
           {
            "bin_start": -781468248531884,
            "bin_end": -440437869562308,
            "count": 0
           },
           {
            "bin_start": -440437869562308,
            "bin_end": -99407490592732,
            "count": 0
           },
           {
            "bin_start": -99407490592732,
            "bin_end": 241622888376844,
            "count": 6
           },
           {
            "bin_start": 241622888376844,
            "bin_end": 582653267346420,
            "count": 0
           },
           {
            "bin_start": 582653267346420,
            "bin_end": 923683646315996,
            "count": 0
           },
           {
            "bin_start": 923683646315996,
            "bin_end": 1264714025285572,
            "count": 0
           },
           {
            "bin_start": 1264714025285572,
            "bin_end": 1605744404255148,
            "count": 0
           },
           {
            "bin_start": 1605744404255148,
            "bin_end": 1946774783224724,
            "count": 0
           },
           {
            "bin_start": 1946774783224724,
            "bin_end": 2287805162194300,
            "count": 1
           }
          ]
         }
        },
        {
         "name": "1970",
         "dtype": "float64",
         "stats": {
          "unique_count": 8,
          "nan_count": 0,
          "min": "-1272390558143300.0",
          "max": "2542363932578990.0",
          "histogram": [
           {
            "bin_start": -1272390558143300,
            "bin_end": -890915109071071,
            "count": 1
           },
           {
            "bin_start": -890915109071071,
            "bin_end": -509439659998842,
            "count": 0
           },
           {
            "bin_start": -509439659998842,
            "bin_end": -127964210926613,
            "count": 0
           },
           {
            "bin_start": -127964210926613,
            "bin_end": 253511238145616,
            "count": 6
           },
           {
            "bin_start": 253511238145616,
            "bin_end": 634986687217845,
            "count": 0
           },
           {
            "bin_start": 634986687217845,
            "bin_end": 1016462136290074,
            "count": 0
           },
           {
            "bin_start": 1016462136290074,
            "bin_end": 1397937585362303,
            "count": 0
           },
           {
            "bin_start": 1397937585362303,
            "bin_end": 1779413034434532,
            "count": 0
           },
           {
            "bin_start": 1779413034434532,
            "bin_end": 2160888483506761,
            "count": 0
           },
           {
            "bin_start": 2160888483506761,
            "bin_end": 2542363932578990,
            "count": 1
           }
          ]
         }
        },
        {
         "name": "1971",
         "dtype": "float64",
         "stats": {
          "unique_count": 8,
          "nan_count": 0,
          "min": "-1410485926457980.0",
          "max": "2908750946074410.0",
          "histogram": [
           {
            "bin_start": -1410485926457980,
            "bin_end": -978562239204741,
            "count": 1
           },
           {
            "bin_start": -978562239204741,
            "bin_end": -546638551951502,
            "count": 0
           },
           {
            "bin_start": -546638551951502,
            "bin_end": -114714864698263,
            "count": 0
           },
           {
            "bin_start": -114714864698263,
            "bin_end": 317208822554976,
            "count": 6
           },
           {
            "bin_start": 317208822554976,
            "bin_end": 749132509808215,
            "count": 0
           },
           {
            "bin_start": 749132509808215,
            "bin_end": 1181056197061454,
            "count": 0
           },
           {
            "bin_start": 1181056197061454,
            "bin_end": 1612979884314693,
            "count": 0
           },
           {
            "bin_start": 1612979884314693,
            "bin_end": 2044903571567932,
            "count": 0
           },
           {
            "bin_start": 2044903571567932,
            "bin_end": 2476827258821171,
            "count": 0
           },
           {
            "bin_start": 2476827258821171,
            "bin_end": 2908750946074410,
            "count": 1
           }
          ]
         }
        },
        {
         "name": "1972",
         "dtype": "float64",
         "stats": {
          "unique_count": 8,
          "nan_count": 0,
          "min": "-1612599537418690.0",
          "max": "3328244287383490.0",
          "histogram": [
           {
            "bin_start": -1612599537418690,
            "bin_end": -1118515154938472,
            "count": 1
           },
           {
            "bin_start": -1118515154938472,
            "bin_end": -624430772458254,
            "count": 0
           },
           {
            "bin_start": -624430772458254,
            "bin_end": -130346389978036,
            "count": 0
           },
           {
            "bin_start": -130346389978036,
            "bin_end": 363737992502182,
            "count": 6
           },
           {
            "bin_start": 363737992502182,
            "bin_end": 857822374982400,
            "count": 0
           },
           {
            "bin_start": 857822374982400,
            "bin_end": 1351906757462618,
            "count": 0
           },
           {
            "bin_start": 1351906757462618,
            "bin_end": 1845991139942836,
            "count": 0
           },
           {
            "bin_start": 1845991139942836,
            "bin_end": 2340075522423054,
            "count": 0
           },
           {
            "bin_start": 2340075522423054,
            "bin_end": 2834159904903272,
            "count": 0
           },
           {
            "bin_start": 2834159904903272,
            "bin_end": 3328244287383490,
            "count": 1
           }
          ]
         }
        },
        {
         "name": "1973",
         "dtype": "float64",
         "stats": {
          "unique_count": 8,
          "nan_count": 0,
          "min": "-1442428127238490.0",
          "max": "3612953076542120.0",
          "histogram": [
           {
            "bin_start": -1442428127238490,
            "bin_end": -936890006860429,
            "count": 1
           },
           {
            "bin_start": -936890006860429,
            "bin_end": -431351886482368,
            "count": 0
           },
           {
            "bin_start": -431351886482368,
            "bin_end": 74186233895693,
            "count": 6
           },
           {
            "bin_start": 74186233895693,
            "bin_end": 579724354273754,
            "count": 0
           },
           {
            "bin_start": 579724354273754,
            "bin_end": 1085262474651815,
            "count": 0
           },
           {
            "bin_start": 1085262474651815,
            "bin_end": 1590800595029876,
            "count": 0
           },
           {
            "bin_start": 1590800595029876,
            "bin_end": 2096338715407937,
            "count": 0
           },
           {
            "bin_start": 2096338715407937,
            "bin_end": 2601876835785998,
            "count": 0
           },
           {
            "bin_start": 2601876835785998,
            "bin_end": 3107414956164059,
            "count": 0
           },
           {
            "bin_start": 3107414956164059,
            "bin_end": 3612953076542120,
            "count": 1
           }
          ]
         }
        },
        {
         "name": "1974",
         "dtype": "float64",
         "stats": {
          "unique_count": 8,
          "nan_count": 0,
          "min": "-399606976630100.0",
          "max": "3849340565089070.0",
          "histogram": [
           {
            "bin_start": -399606976630100,
            "bin_end": 25287777541817,
            "count": 6
           },
           {
            "bin_start": 25287777541817,
            "bin_end": 450182531713734,
            "count": 1
           },
           {
            "bin_start": 450182531713734,
            "bin_end": 875077285885651,
            "count": 0
           },
           {
            "bin_start": 875077285885651,
            "bin_end": 1299972040057568,
            "count": 0
           },
           {
            "bin_start": 1299972040057568,
            "bin_end": 1724866794229485,
            "count": 0
           },
           {
            "bin_start": 1724866794229485,
            "bin_end": 2149761548401402,
            "count": 0
           },
           {
            "bin_start": 2149761548401402,
            "bin_end": 2574656302573319,
            "count": 0
           },
           {
            "bin_start": 2574656302573319,
            "bin_end": 2999551056745236,
            "count": 0
           },
           {
            "bin_start": 2999551056745236,
            "bin_end": 3424445810917153,
            "count": 0
           },
           {
            "bin_start": 3424445810917153,
            "bin_end": 3849340565089070,
            "count": 1
           }
          ]
         }
        },
        {
         "name": "1975",
         "dtype": "float64",
         "stats": {
          "unique_count": 8,
          "nan_count": 0,
          "min": "-386070673835840.0",
          "max": "3760957231309050.0",
          "histogram": [
           {
            "bin_start": -386070673835840,
            "bin_end": 28632116678649,
            "count": 6
           },
           {
            "bin_start": 28632116678649,
            "bin_end": 443334907193138,
            "count": 1
           },
           {
            "bin_start": 443334907193138,
            "bin_end": 858037697707627,
            "count": 0
           },
           {
            "bin_start": 858037697707627,
            "bin_end": 1272740488222116,
            "count": 0
           },
           {
            "bin_start": 1272740488222116,
            "bin_end": 1687443278736605,
            "count": 0
           },
           {
            "bin_start": 1687443278736605,
            "bin_end": 2102146069251094,
            "count": 0
           },
           {
            "bin_start": 2102146069251094,
            "bin_end": 2516848859765583,
            "count": 0
           },
           {
            "bin_start": 2516848859765583,
            "bin_end": 2931551650280072,
            "count": 0
           },
           {
            "bin_start": 2931551650280072,
            "bin_end": 3346254440794561,
            "count": 0
           },
           {
            "bin_start": 3346254440794561,
            "bin_end": 3760957231309050,
            "count": 1
           }
          ]
         }
        },
        {
         "name": "1976",
         "dtype": "float64",
         "stats": {
          "unique_count": 8,
          "nan_count": 0,
          "min": "-410918451679164.0",
          "max": "4408896472726110.0",
          "histogram": [
           {
            "bin_start": -410918451679164,
            "bin_end": 71063040761363.38,
            "count": 7
           },
           {
            "bin_start": 71063040761363.38,
            "bin_end": 553044533201890.75,
            "count": 0
           },
           {
            "bin_start": 553044533201890.75,
            "bin_end": 1035026025642418,
            "count": 0
           },
           {
            "bin_start": 1035026025642418,
            "bin_end": 1517007518082945.5,
            "count": 0
           },
           {
            "bin_start": 1517007518082945.5,
            "bin_end": 1998989010523473,
            "count": 0
           },
           {
            "bin_start": 1998989010523473,
            "bin_end": 2480970502964000,
            "count": 0
           },
           {
            "bin_start": 2480970502964000,
            "bin_end": 2962951995404527.5,
            "count": 0
           },
           {
            "bin_start": 2962951995404527.5,
            "bin_end": 3444933487845055,
            "count": 0
           },
           {
            "bin_start": 3444933487845055,
            "bin_end": 3926914980285582.5,
            "count": 0
           },
           {
            "bin_start": 3926914980285582.5,
            "bin_end": 4408896472726110,
            "count": 1
           }
          ]
         }
        },
        {
         "name": "1977",
         "dtype": "float64",
         "stats": {
          "unique_count": 8,
          "nan_count": 0,
          "min": "-398945389846031.0",
          "max": "4231183133399440.0",
          "histogram": [
           {
            "bin_start": -398945389846031,
            "bin_end": 64067462478516.125,
            "count": 7
           },
           {
            "bin_start": 64067462478516.125,
            "bin_end": 527080314803063.25,
            "count": 0
           },
           {
            "bin_start": 527080314803063.25,
            "bin_end": 990093167127610.5,
            "count": 0
           },
           {
            "bin_start": 990093167127610.5,
            "bin_end": 1453106019452157.5,
            "count": 0
           },
           {
            "bin_start": 1453106019452157.5,
            "bin_end": 1916118871776704.5,
            "count": 0
           },
           {
            "bin_start": 1916118871776704.5,
            "bin_end": 2379131724101252,
            "count": 0
           },
           {
            "bin_start": 2379131724101252,
            "bin_end": 2842144576425799,
            "count": 0
           },
           {
            "bin_start": 2842144576425799,
            "bin_end": 3305157428750346,
            "count": 0
           },
           {
            "bin_start": 3305157428750346,
            "bin_end": 3768170281074893,
            "count": 0
           },
           {
            "bin_start": 3768170281074893,
            "bin_end": 4231183133399440,
            "count": 1
           }
          ]
         }
        },
        {
         "name": "1978",
         "dtype": "float64",
         "stats": {
          "unique_count": 8,
          "nan_count": 0,
          "min": "-343811552502675.0",
          "max": "3640883847606170.0",
          "histogram": [
           {
            "bin_start": -343811552502675,
            "bin_end": 54657987508209.5,
            "count": 7
           },
           {
            "bin_start": 54657987508209.5,
            "bin_end": 453127527519094,
            "count": 0
           },
           {
            "bin_start": 453127527519094,
            "bin_end": 851597067529978.5,
            "count": 0
           },
           {
            "bin_start": 851597067529978.5,
            "bin_end": 1250066607540863,
            "count": 0
           },
           {
            "bin_start": 1250066607540863,
            "bin_end": 1648536147551747.5,
            "count": 0
           },
           {
            "bin_start": 1648536147551747.5,
            "bin_end": 2047005687562632,
            "count": 0
           },
           {
            "bin_start": 2047005687562632,
            "bin_end": 2445475227573516.5,
            "count": 0
           },
           {
            "bin_start": 2445475227573516.5,
            "bin_end": 2843944767584401,
            "count": 0
           },
           {
            "bin_start": 2843944767584401,
            "bin_end": 3242414307595285.5,
            "count": 0
           },
           {
            "bin_start": 3242414307595285.5,
            "bin_end": 3640883847606170,
            "count": 1
           }
          ]
         }
        },
        {
         "name": "1979",
         "dtype": "float64",
         "stats": {
          "unique_count": 8,
          "nan_count": 0,
          "min": "-82602629960675.8",
          "max": "3464138607971240.0",
          "histogram": [
           {
            "bin_start": -82602629960675.8,
            "bin_end": 272071493832515.8,
            "count": 7
           },
           {
            "bin_start": 272071493832515.8,
            "bin_end": 626745617625707.5,
            "count": 0
           },
           {
            "bin_start": 626745617625707.5,
            "bin_end": 981419741418899.1,
            "count": 0
           },
           {
            "bin_start": 981419741418899.1,
            "bin_end": 1336093865212090.8,
            "count": 0
           },
           {
            "bin_start": 1336093865212090.8,
            "bin_end": 1690767989005282.2,
            "count": 0
           },
           {
            "bin_start": 1690767989005282.2,
            "bin_end": 2045442112798474,
            "count": 0
           },
           {
            "bin_start": 2045442112798474,
            "bin_end": 2400116236591665.5,
            "count": 0
           },
           {
            "bin_start": 2400116236591665.5,
            "bin_end": 2754790360384857,
            "count": 0
           },
           {
            "bin_start": 2754790360384857,
            "bin_end": 3109464484178048.5,
            "count": 0
           },
           {
            "bin_start": 3109464484178048.5,
            "bin_end": 3464138607971240,
            "count": 1
           }
          ]
         }
        },
        {
         "name": "1980",
         "dtype": "float64",
         "stats": {
          "unique_count": 8,
          "nan_count": 0,
          "min": "-7647995344414.67",
          "max": "2828278393275370.0",
          "histogram": [
           {
            "bin_start": -7647995344414.67,
            "bin_end": 275944643517563.78,
            "count": 7
           },
           {
            "bin_start": 275944643517563.78,
            "bin_end": 559537282379542.2,
            "count": 0
           },
           {
            "bin_start": 559537282379542.2,
            "bin_end": 843129921241520.6,
            "count": 0
           },
           {
            "bin_start": 843129921241520.6,
            "bin_end": 1126722560103499,
            "count": 0
           },
           {
            "bin_start": 1126722560103499,
            "bin_end": 1410315198965477.5,
            "count": 0
           },
           {
            "bin_start": 1410315198965477.5,
            "bin_end": 1693907837827455.8,
            "count": 0
           },
           {
            "bin_start": 1693907837827455.8,
            "bin_end": 1977500476689434.2,
            "count": 0
           },
           {
            "bin_start": 1977500476689434.2,
            "bin_end": 2261093115551413,
            "count": 0
           },
           {
            "bin_start": 2261093115551413,
            "bin_end": 2544685754413391.5,
            "count": 0
           },
           {
            "bin_start": 2544685754413391.5,
            "bin_end": 2828278393275370,
            "count": 1
           }
          ]
         }
        },
        {
         "name": "1981",
         "dtype": "float64",
         "stats": {
          "unique_count": 8,
          "nan_count": 0,
          "min": "-5730628083047.52",
          "max": "2654845185058550.0",
          "histogram": [
           {
            "bin_start": -5730628083047.52,
            "bin_end": 260326953231112.22,
            "count": 7
           },
           {
            "bin_start": 260326953231112.22,
            "bin_end": 526384534545272,
            "count": 0
           },
           {
            "bin_start": 526384534545272,
            "bin_end": 792442115859431.8,
            "count": 0
           },
           {
            "bin_start": 792442115859431.8,
            "bin_end": 1058499697173591.5,
            "count": 0
           },
           {
            "bin_start": 1058499697173591.5,
            "bin_end": 1324557278487751.2,
            "count": 0
           },
           {
            "bin_start": 1324557278487751.2,
            "bin_end": 1590614859801911,
            "count": 0
           },
           {
            "bin_start": 1590614859801911,
            "bin_end": 1856672441116070.8,
            "count": 0
           },
           {
            "bin_start": 1856672441116070.8,
            "bin_end": 2122730022430230.5,
            "count": 0
           },
           {
            "bin_start": 2122730022430230.5,
            "bin_end": 2388787603744390.5,
            "count": 0
           },
           {
            "bin_start": 2388787603744390.5,
            "bin_end": 2654845185058550,
            "count": 1
           }
          ]
         }
        },
        {
         "name": "1982",
         "dtype": "float64",
         "stats": {
          "unique_count": 8,
          "nan_count": 0,
          "min": "-104352234248704.0",
          "max": "2860968340712030.0",
          "histogram": [
           {
            "bin_start": -104352234248704,
            "bin_end": 192179823247369.38,
            "count": 7
           },
           {
            "bin_start": 192179823247369.38,
            "bin_end": 488711880743442.75,
            "count": 0
           },
           {
            "bin_start": 488711880743442.75,
            "bin_end": 785243938239516.1,
            "count": 0
           },
           {
            "bin_start": 785243938239516.1,
            "bin_end": 1081775995735589.5,
            "count": 0
           },
           {
            "bin_start": 1081775995735589.5,
            "bin_end": 1378308053231663,
            "count": 0
           },
           {
            "bin_start": 1378308053231663,
            "bin_end": 1674840110727736.2,
            "count": 0
           },
           {
            "bin_start": 1674840110727736.2,
            "bin_end": 1971372168223809.5,
            "count": 0
           },
           {
            "bin_start": 1971372168223809.5,
            "bin_end": 2267904225719883,
            "count": 0
           },
           {
            "bin_start": 2267904225719883,
            "bin_end": 2564436283215956.5,
            "count": 0
           },
           {
            "bin_start": 2564436283215956.5,
            "bin_end": 2860968340712030,
            "count": 1
           }
          ]
         }
        },
        {
         "name": "1983",
         "dtype": "float64",
         "stats": {
          "unique_count": 8,
          "nan_count": 0,
          "min": "-240721002730100.0",
          "max": "6310063834397450.0",
          "histogram": [
           {
            "bin_start": -240721002730100,
            "bin_end": 414357480982655,
            "count": 7
           },
           {
            "bin_start": 414357480982655,
            "bin_end": 1069435964695410,
            "count": 0
           },
           {
            "bin_start": 1069435964695410,
            "bin_end": 1724514448408165,
            "count": 0
           },
           {
            "bin_start": 1724514448408165,
            "bin_end": 2379592932120920,
            "count": 0
           },
           {
            "bin_start": 2379592932120920,
            "bin_end": 3034671415833675,
            "count": 0
           },
           {
            "bin_start": 3034671415833675,
            "bin_end": 3689749899546430,
            "count": 0
           },
           {
            "bin_start": 3689749899546430,
            "bin_end": 4344828383259185,
            "count": 0
           },
           {
            "bin_start": 4344828383259185,
            "bin_end": 4999906866971940,
            "count": 0
           },
           {
            "bin_start": 4999906866971940,
            "bin_end": 5654985350684695,
            "count": 0
           },
           {
            "bin_start": 5654985350684695,
            "bin_end": 6310063834397450,
            "count": 1
           }
          ]
         }
        },
        {
         "name": "1984",
         "dtype": "float64",
         "stats": {
          "unique_count": 8,
          "nan_count": 0,
          "min": "-199858285519679.0",
          "max": "8979216065146540.0",
          "histogram": [
           {
            "bin_start": -199858285519679,
            "bin_end": 718049149546943,
            "count": 7
           },
           {
            "bin_start": 718049149546943,
            "bin_end": 1635956584613565,
            "count": 0
           },
           {
            "bin_start": 1635956584613565,
            "bin_end": 2553864019680187,
            "count": 0
           },
           {
            "bin_start": 2553864019680187,
            "bin_end": 3471771454746809,
            "count": 0
           },
           {
            "bin_start": 3471771454746809,
            "bin_end": 4389678889813431,
            "count": 0
           },
           {
            "bin_start": 4389678889813431,
            "bin_end": 5307586324880053,
            "count": 0
           },
           {
            "bin_start": 5307586324880053,
            "bin_end": 6225493759946675,
            "count": 0
           },
           {
            "bin_start": 6225493759946675,
            "bin_end": 7143401195013297,
            "count": 0
           },
           {
            "bin_start": 7143401195013297,
            "bin_end": 8061308630079919,
            "count": 0
           },
           {
            "bin_start": 8061308630079919,
            "bin_end": 8979216065146540,
            "count": 1
           }
          ]
         }
        },
        {
         "name": "1985",
         "dtype": "float64",
         "stats": {
          "unique_count": 8,
          "nan_count": 0,
          "min": "-206712450225158.0",
          "max": "1.25370841530613e+16",
          "histogram": [
           {
            "bin_start": -206712450225158,
            "bin_end": 1067667210103487.8,
            "count": 7
           },
           {
            "bin_start": 1067667210103487.8,
            "bin_end": 2342046870432133.5,
            "count": 0
           },
           {
            "bin_start": 2342046870432133.5,
            "bin_end": 3616426530760779,
            "count": 0
           },
           {
            "bin_start": 3616426530760779,
            "bin_end": 4890806191089425,
            "count": 0
           },
           {
            "bin_start": 4890806191089425,
            "bin_end": 6165185851418071,
            "count": 0
           },
           {
            "bin_start": 6165185851418071,
            "bin_end": 7439565511746716,
            "count": 0
           },
           {
            "bin_start": 7439565511746716,
            "bin_end": 8713945172075362,
            "count": 0
           },
           {
            "bin_start": 8713945172075362,
            "bin_end": 9988324832404008,
            "count": 0
           },
           {
            "bin_start": 9988324832404008,
            "bin_end": 11262704492732654,
            "count": 0
           },
           {
            "bin_start": 11262704492732654,
            "bin_end": 12537084153061300,
            "count": 1
           }
          ]
         }
        },
        {
         "name": "1986",
         "dtype": "float64",
         "stats": {
          "unique_count": 8,
          "nan_count": 0,
          "min": "-304274699905746.0",
          "max": "1.21246197053363e+16",
          "histogram": [
           {
            "bin_start": -304274699905746,
            "bin_end": 938614740618458.5,
            "count": 7
           },
           {
            "bin_start": 938614740618458.5,
            "bin_end": 2181504181142663,
            "count": 0
           },
           {
            "bin_start": 2181504181142663,
            "bin_end": 3424393621666867.5,
            "count": 0
           },
           {
            "bin_start": 3424393621666867.5,
            "bin_end": 4667283062191072,
            "count": 0
           },
           {
            "bin_start": 4667283062191072,
            "bin_end": 5910172502715276,
            "count": 0
           },
           {
            "bin_start": 5910172502715276,
            "bin_end": 7153061943239481,
            "count": 0
           },
           {
            "bin_start": 7153061943239481,
            "bin_end": 8395951383763686,
            "count": 0
           },
           {
            "bin_start": 8395951383763686,
            "bin_end": 9638840824287890,
            "count": 0
           },
           {
            "bin_start": 9638840824287890,
            "bin_end": 10881730264812094,
            "count": 0
           },
           {
            "bin_start": 10881730264812094,
            "bin_end": 12124619705336300,
            "count": 1
           }
          ]
         }
        },
        {
         "name": "1987",
         "dtype": "float64",
         "stats": {
          "unique_count": 8,
          "nan_count": 0,
          "min": "-97801463650028.3",
          "max": "1.0146431251973e+16",
          "histogram": [
           {
            "bin_start": -97801463650028.3,
            "bin_end": 926621807912274.5,
            "count": 7
           },
           {
            "bin_start": 926621807912274.5,
            "bin_end": 1951045079474577.2,
            "count": 0
           },
           {
            "bin_start": 1951045079474577.2,
            "bin_end": 2975468351036879.5,
            "count": 0
           },
           {
            "bin_start": 2975468351036879.5,
            "bin_end": 3999891622599182.5,
            "count": 0
           },
           {
            "bin_start": 3999891622599182.5,
            "bin_end": 5024314894161486,
            "count": 0
           },
           {
            "bin_start": 5024314894161486,
            "bin_end": 6048738165723788,
            "count": 0
           },
           {
            "bin_start": 6048738165723788,
            "bin_end": 7073161437286091,
            "count": 0
           },
           {
            "bin_start": 7073161437286091,
            "bin_end": 8097584708848394,
            "count": 0
           },
           {
            "bin_start": 8097584708848394,
            "bin_end": 9122007980410696,
            "count": 0
           },
           {
            "bin_start": 9122007980410696,
            "bin_end": 10146431251973000,
            "count": 1
           }
          ]
         }
        },
        {
         "name": "1988",
         "dtype": "float64",
         "stats": {
          "unique_count": 8,
          "nan_count": 0,
          "min": "-571951079690213.0",
          "max": "4007116018668990.0",
          "histogram": [
           {
            "bin_start": -571951079690213,
            "bin_end": -114044369854292.69,
            "count": 1
           },
           {
            "bin_start": -114044369854292.69,
            "bin_end": 343862339981627.6,
            "count": 6
           },
           {
            "bin_start": 343862339981627.6,
            "bin_end": 801769049817548,
            "count": 0
           },
           {
            "bin_start": 801769049817548,
            "bin_end": 1259675759653468.2,
            "count": 0
           },
           {
            "bin_start": 1259675759653468.2,
            "bin_end": 1717582469489388.5,
            "count": 0
           },
           {
            "bin_start": 1717582469489388.5,
            "bin_end": 2175489179325309,
            "count": 0
           },
           {
            "bin_start": 2175489179325309,
            "bin_end": 2633395889161229,
            "count": 0
           },
           {
            "bin_start": 2633395889161229,
            "bin_end": 3091302598997149.5,
            "count": 0
           },
           {
            "bin_start": 3091302598997149.5,
            "bin_end": 3549209308833070,
            "count": 0
           },
           {
            "bin_start": 3549209308833070,
            "bin_end": 4007116018668990,
            "count": 1
           }
          ]
         }
        },
        {
         "name": "1989",
         "dtype": "float64",
         "stats": {
          "unique_count": 8,
          "nan_count": 0,
          "min": "-571832452218019.0",
          "max": "4650155435830820.0",
          "histogram": [
           {
            "bin_start": -571832452218019,
            "bin_end": -49633663413135.125,
            "count": 1
           },
           {
            "bin_start": -49633663413135.125,
            "bin_end": 472565125391748.75,
            "count": 6
           },
           {
            "bin_start": 472565125391748.75,
            "bin_end": 994763914196632.5,
            "count": 0
           },
           {
            "bin_start": 994763914196632.5,
            "bin_end": 1516962703001516.5,
            "count": 0
           },
           {
            "bin_start": 1516962703001516.5,
            "bin_end": 2039161491806400.5,
            "count": 0
           },
           {
            "bin_start": 2039161491806400.5,
            "bin_end": 2561360280611284,
            "count": 0
           },
           {
            "bin_start": 2561360280611284,
            "bin_end": 3083559069416168,
            "count": 0
           },
           {
            "bin_start": 3083559069416168,
            "bin_end": 3605757858221052,
            "count": 0
           },
           {
            "bin_start": 3605757858221052,
            "bin_end": 4127956647025936,
            "count": 0
           },
           {
            "bin_start": 4127956647025936,
            "bin_end": 4650155435830820,
            "count": 1
           }
          ]
         }
        },
        {
         "name": "1990",
         "dtype": "float64",
         "stats": {
          "unique_count": 8,
          "nan_count": 0,
          "min": "-638726266538466.0",
          "max": "7915614329058270.0",
          "histogram": [
           {
            "bin_start": -638726266538466,
            "bin_end": 216707793021207.62,
            "count": 7
           },
           {
            "bin_start": 216707793021207.62,
            "bin_end": 1072141852580881.2,
            "count": 0
           },
           {
            "bin_start": 1072141852580881.2,
            "bin_end": 1927575912140555,
            "count": 0
           },
           {
            "bin_start": 1927575912140555,
            "bin_end": 2783009971700228.5,
            "count": 0
           },
           {
            "bin_start": 2783009971700228.5,
            "bin_end": 3638444031259902,
            "count": 0
           },
           {
            "bin_start": 3638444031259902,
            "bin_end": 4493878090819576,
            "count": 0
           },
           {
            "bin_start": 4493878090819576,
            "bin_end": 5349312150379249,
            "count": 0
           },
           {
            "bin_start": 5349312150379249,
            "bin_end": 6204746209938923,
            "count": 0
           },
           {
            "bin_start": 6204746209938923,
            "bin_end": 7060180269498597,
            "count": 0
           },
           {
            "bin_start": 7060180269498597,
            "bin_end": 7915614329058270,
            "count": 1
           }
          ]
         }
        },
        {
         "name": "1991",
         "dtype": "float64",
         "stats": {
          "unique_count": 8,
          "nan_count": 0,
          "min": "-780636180666222.0",
          "max": "6004182941614100.0",
          "histogram": [
           {
            "bin_start": -780636180666222,
            "bin_end": -102154268438189.75,
            "count": 1
           },
           {
            "bin_start": -102154268438189.75,
            "bin_end": 576327643789842.5,
            "count": 6
           },
           {
            "bin_start": 576327643789842.5,
            "bin_end": 1254809556017874.8,
            "count": 0
           },
           {
            "bin_start": 1254809556017874.8,
            "bin_end": 1933291468245907,
            "count": 0
           },
           {
            "bin_start": 1933291468245907,
            "bin_end": 2611773380473939,
            "count": 0
           },
           {
            "bin_start": 2611773380473939,
            "bin_end": 3290255292701971.5,
            "count": 0
           },
           {
            "bin_start": 3290255292701971.5,
            "bin_end": 3968737204930004,
            "count": 0
           },
           {
            "bin_start": 3968737204930004,
            "bin_end": 4647219117158036,
            "count": 0
           },
           {
            "bin_start": 4647219117158036,
            "bin_end": 5325701029386068,
            "count": 0
           },
           {
            "bin_start": 5325701029386068,
            "bin_end": 6004182941614100,
            "count": 1
           }
          ]
         }
        },
        {
         "name": "1992",
         "dtype": "float64",
         "stats": {
          "unique_count": 8,
          "nan_count": 0,
          "min": "-817930856965182.0",
          "max": "6630824410525700.0",
          "histogram": [
           {
            "bin_start": -817930856965182,
            "bin_end": -73055330216093.75,
            "count": 1
           },
           {
            "bin_start": -73055330216093.75,
            "bin_end": 671820196532994.5,
            "count": 6
           },
           {
            "bin_start": 671820196532994.5,
            "bin_end": 1416695723282082.8,
            "count": 0
           },
           {
            "bin_start": 1416695723282082.8,
            "bin_end": 2161571250031171,
            "count": 0
           },
           {
            "bin_start": 2161571250031171,
            "bin_end": 2906446776780259,
            "count": 0
           },
           {
            "bin_start": 2906446776780259,
            "bin_end": 3651322303529347.5,
            "count": 0
           },
           {
            "bin_start": 3651322303529347.5,
            "bin_end": 4396197830278436,
            "count": 0
           },
           {
            "bin_start": 4396197830278436,
            "bin_end": 5141073357027524,
            "count": 0
           },
           {
            "bin_start": 5141073357027524,
            "bin_end": 5885948883776612,
            "count": 0
           },
           {
            "bin_start": 5885948883776612,
            "bin_end": 6630824410525700,
            "count": 1
           }
          ]
         }
        },
        {
         "name": "1993",
         "dtype": "float64",
         "stats": {
          "unique_count": 8,
          "nan_count": 0,
          "min": "-440975615792881.0",
          "max": "8523281141900400.0",
          "histogram": [
           {
            "bin_start": -440975615792881,
            "bin_end": 455450059976447.1,
            "count": 7
           },
           {
            "bin_start": 455450059976447.1,
            "bin_end": 1351875735745775.2,
            "count": 0
           },
           {
            "bin_start": 1351875735745775.2,
            "bin_end": 2248301411515103.5,
            "count": 0
           },
           {
            "bin_start": 2248301411515103.5,
            "bin_end": 3144727087284431.5,
            "count": 0
           },
           {
            "bin_start": 3144727087284431.5,
            "bin_end": 4041152763053759.5,
            "count": 0
           },
           {
            "bin_start": 4041152763053759.5,
            "bin_end": 4937578438823088,
            "count": 0
           },
           {
            "bin_start": 4937578438823088,
            "bin_end": 5834004114592416,
            "count": 0
           },
           {
            "bin_start": 5834004114592416,
            "bin_end": 6730429790361744,
            "count": 0
           },
           {
            "bin_start": 6730429790361744,
            "bin_end": 7626855466131072,
            "count": 0
           },
           {
            "bin_start": 7626855466131072,
            "bin_end": 8523281141900400,
            "count": 1
           }
          ]
         }
        },
        {
         "name": "1994",
         "dtype": "float64",
         "stats": {
          "unique_count": 8,
          "nan_count": 0,
          "min": "-420281757006107.0",
          "max": "1.10208917155698e+16",
          "histogram": [
           {
            "bin_start": -420281757006107,
            "bin_end": 723835590251483.8,
            "count": 7
           },
           {
            "bin_start": 723835590251483.8,
            "bin_end": 1867952937509074.5,
            "count": 0
           },
           {
            "bin_start": 1867952937509074.5,
            "bin_end": 3012070284766665,
            "count": 0
           },
           {
            "bin_start": 3012070284766665,
            "bin_end": 4156187632024256,
            "count": 0
           },
           {
            "bin_start": 4156187632024256,
            "bin_end": 5300304979281847,
            "count": 0
           },
           {
            "bin_start": 5300304979281847,
            "bin_end": 6444422326539437,
            "count": 0
           },
           {
            "bin_start": 6444422326539437,
            "bin_end": 7588539673797028,
            "count": 0
           },
           {
            "bin_start": 7588539673797028,
            "bin_end": 8732657021054619,
            "count": 0
           },
           {
            "bin_start": 8732657021054619,
            "bin_end": 9876774368312208,
            "count": 0
           },
           {
            "bin_start": 9876774368312208,
            "bin_end": 11020891715569800,
            "count": 1
           }
          ]
         }
        },
        {
         "name": "1995",
         "dtype": "float64",
         "stats": {
          "unique_count": 8,
          "nan_count": 0,
          "min": "-545786099427340.0",
          "max": "1.19520881604553e+16",
          "histogram": [
           {
            "bin_start": -545786099427340,
            "bin_end": 704001326560924,
            "count": 7
           },
           {
            "bin_start": 704001326560924,
            "bin_end": 1953788752549188,
            "count": 0
           },
           {
            "bin_start": 1953788752549188,
            "bin_end": 3203576178537452,
            "count": 0
           },
           {
            "bin_start": 3203576178537452,
            "bin_end": 4453363604525716,
            "count": 0
           },
           {
            "bin_start": 4453363604525716,
            "bin_end": 5703151030513980,
            "count": 0
           },
           {
            "bin_start": 5703151030513980,
            "bin_end": 6952938456502244,
            "count": 0
           },
           {
            "bin_start": 6952938456502244,
            "bin_end": 8202725882490508,
            "count": 0
           },
           {
            "bin_start": 8202725882490508,
            "bin_end": 9452513308478772,
            "count": 0
           },
           {
            "bin_start": 9452513308478772,
            "bin_end": 10702300734467036,
            "count": 0
           },
           {
            "bin_start": 10702300734467036,
            "bin_end": 11952088160455300,
            "count": 1
           }
          ]
         }
        },
        {
         "name": "1996",
         "dtype": "float64",
         "stats": {
          "unique_count": 8,
          "nan_count": 0,
          "min": "-567978398343340.0",
          "max": "7218932936936400.0",
          "histogram": [
           {
            "bin_start": -567978398343340,
            "bin_end": 210712735184634,
            "count": 7
           },
           {
            "bin_start": 210712735184634,
            "bin_end": 989403868712608,
            "count": 0
           },
           {
            "bin_start": 989403868712608,
            "bin_end": 1768095002240582,
            "count": 0
           },
           {
            "bin_start": 1768095002240582,
            "bin_end": 2546786135768556,
            "count": 0
           },
           {
            "bin_start": 2546786135768556,
            "bin_end": 3325477269296530,
            "count": 0
           },
           {
            "bin_start": 3325477269296530,
            "bin_end": 4104168402824504,
            "count": 0
           },
           {
            "bin_start": 4104168402824504,
            "bin_end": 4882859536352478,
            "count": 0
           },
           {
            "bin_start": 4882859536352478,
            "bin_end": 5661550669880452,
            "count": 0
           },
           {
            "bin_start": 5661550669880452,
            "bin_end": 6440241803408426,
            "count": 0
           },
           {
            "bin_start": 6440241803408426,
            "bin_end": 7218932936936400,
            "count": 1
           }
          ]
         }
        },
        {
         "name": "1997",
         "dtype": "float64",
         "stats": {
          "unique_count": 8,
          "nan_count": 0,
          "min": "-657131783055170.0",
          "max": "6229170955765400.0",
          "histogram": [
           {
            "bin_start": -657131783055170,
            "bin_end": 31498490826887,
            "count": 6
           },
           {
            "bin_start": 31498490826887,
            "bin_end": 720128764708944,
            "count": 1
           },
           {
            "bin_start": 720128764708944,
            "bin_end": 1408759038591001,
            "count": 0
           },
           {
            "bin_start": 1408759038591001,
            "bin_end": 2097389312473058,
            "count": 0
           },
           {
            "bin_start": 2097389312473058,
            "bin_end": 2786019586355115,
            "count": 0
           },
           {
            "bin_start": 2786019586355115,
            "bin_end": 3474649860237172,
            "count": 0
           },
           {
            "bin_start": 3474649860237172,
            "bin_end": 4163280134119229,
            "count": 0
           },
           {
            "bin_start": 4163280134119229,
            "bin_end": 4851910408001286,
            "count": 0
           },
           {
            "bin_start": 4851910408001286,
            "bin_end": 5540540681883343,
            "count": 0
           },
           {
            "bin_start": 5540540681883343,
            "bin_end": 6229170955765400,
            "count": 1
           }
          ]
         }
        },
        {
         "name": "1998",
         "dtype": "float64",
         "stats": {
          "unique_count": 8,
          "nan_count": 0,
          "min": "-3291633232933700.0",
          "max": "4157201606549030.0",
          "histogram": [
           {
            "bin_start": -3291633232933700,
            "bin_end": -2546749748985427,
            "count": 1
           },
           {
            "bin_start": -2546749748985427,
            "bin_end": -1801866265037154,
            "count": 0
           },
           {
            "bin_start": -1801866265037154,
            "bin_end": -1056982781088881,
            "count": 0
           },
           {
            "bin_start": -1056982781088881,
            "bin_end": -312099297140608,
            "count": 0
           },
           {
            "bin_start": -312099297140608,
            "bin_end": 432784186807665,
            "count": 6
           },
           {
            "bin_start": 432784186807665,
            "bin_end": 1177667670755938,
            "count": 0
           },
           {
            "bin_start": 1177667670755938,
            "bin_end": 1922551154704211,
            "count": 0
           },
           {
            "bin_start": 1922551154704211,
            "bin_end": 2667434638652484,
            "count": 0
           },
           {
            "bin_start": 2667434638652484,
            "bin_end": 3412318122600757,
            "count": 0
           },
           {
            "bin_start": 3412318122600757,
            "bin_end": 4157201606549030,
            "count": 1
           }
          ]
         }
        },
        {
         "name": "1999",
         "dtype": "float64",
         "stats": {
          "unique_count": 8,
          "nan_count": 0,
          "min": "-4958966655280600.0",
          "max": "4034521324483440.0",
          "histogram": [
           {
            "bin_start": -4958966655280600,
            "bin_end": -4059617857304196,
            "count": 1
           },
           {
            "bin_start": -4059617857304196,
            "bin_end": -3160269059327792,
            "count": 0
           },
           {
            "bin_start": -3160269059327792,
            "bin_end": -2260920261351388,
            "count": 0
           },
           {
            "bin_start": -2260920261351388,
            "bin_end": -1361571463374984,
            "count": 0
           },
           {
            "bin_start": -1361571463374984,
            "bin_end": -462222665398580,
            "count": 0
           },
           {
            "bin_start": -462222665398580,
            "bin_end": 437126132577824,
            "count": 6
           },
           {
            "bin_start": 437126132577824,
            "bin_end": 1336474930554228,
            "count": 0
           },
           {
            "bin_start": 1336474930554228,
            "bin_end": 2235823728530632,
            "count": 0
           },
           {
            "bin_start": 2235823728530632,
            "bin_end": 3135172526507036,
            "count": 0
           },
           {
            "bin_start": 3135172526507036,
            "bin_end": 4034521324483440,
            "count": 1
           }
          ]
         }
        },
        {
         "name": "2000",
         "dtype": "float64",
         "stats": {
          "unique_count": 8,
          "nan_count": 0,
          "min": "-7109152662752600.0",
          "max": "4291058356149570.0",
          "histogram": [
           {
            "bin_start": -7109152662752600,
            "bin_end": -5969131560862383,
            "count": 1
           },
           {
            "bin_start": -5969131560862383,
            "bin_end": -4829110458972166,
            "count": 0
           },
           {
            "bin_start": -4829110458972166,
            "bin_end": -3689089357081949,
            "count": 0
           },
           {
            "bin_start": -3689089357081949,
            "bin_end": -2549068255191732,
            "count": 0
           },
           {
            "bin_start": -2549068255191732,
            "bin_end": -1409047153301515,
            "count": 0
           },
           {
            "bin_start": -1409047153301515,
            "bin_end": -269026051411298,
            "count": 0
           },
           {
            "bin_start": -269026051411298,
            "bin_end": 870995050478919,
            "count": 6
           },
           {
            "bin_start": 870995050478919,
            "bin_end": 2011016152369136,
            "count": 0
           },
           {
            "bin_start": 2011016152369136,
            "bin_end": 3151037254259352,
            "count": 0
           },
           {
            "bin_start": 3151037254259352,
            "bin_end": 4291058356149570,
            "count": 1
           }
          ]
         }
        },
        {
         "name": "2001",
         "dtype": "float64",
         "stats": {
          "unique_count": 8,
          "nan_count": 0,
          "min": "-8938409317956300.0",
          "max": "4417223369851250.0",
          "histogram": [
           {
            "bin_start": -8938409317956300,
            "bin_end": -7602846049175545,
            "count": 1
           },
           {
            "bin_start": -7602846049175545,
            "bin_end": -6267282780394790,
            "count": 0
           },
           {
            "bin_start": -6267282780394790,
            "bin_end": -4931719511614035,
            "count": 0
           },
           {
            "bin_start": -4931719511614035,
            "bin_end": -3596156242833280,
            "count": 0
           },
           {
            "bin_start": -3596156242833280,
            "bin_end": -2260592974052525,
            "count": 0
           },
           {
            "bin_start": -2260592974052525,
            "bin_end": -925029705271770,
            "count": 0
           },
           {
            "bin_start": -925029705271770,
            "bin_end": 410533563508984,
            "count": 6
           },
           {
            "bin_start": 410533563508984,
            "bin_end": 1746096832289740,
            "count": 0
           },
           {
            "bin_start": 1746096832289740,
            "bin_end": 3081660101070496,
            "count": 0
           },
           {
            "bin_start": 3081660101070496,
            "bin_end": 4417223369851250,
            "count": 1
           }
          ]
         }
        },
        {
         "name": "2002",
         "dtype": "float64",
         "stats": {
          "unique_count": 8,
          "nan_count": 0,
          "min": "-2794934999222300.0",
          "max": "4552593856841030.0",
          "histogram": [
           {
            "bin_start": -2794934999222300,
            "bin_end": -2060182113615967,
            "count": 1
           },
           {
            "bin_start": -2060182113615967,
            "bin_end": -1325429228009634,
            "count": 0
           },
           {
            "bin_start": -1325429228009634,
            "bin_end": -590676342403301,
            "count": 0
           },
           {
            "bin_start": -590676342403301,
            "bin_end": 144076543203032,
            "count": 6
           },
           {
            "bin_start": 144076543203032,
            "bin_end": 878829428809365,
            "count": 0
           },
           {
            "bin_start": 878829428809365,
            "bin_end": 1613582314415698,
            "count": 0
           },
           {
            "bin_start": 1613582314415698,
            "bin_end": 2348335200022031,
            "count": 0
           },
           {
            "bin_start": 2348335200022031,
            "bin_end": 3083088085628364,
            "count": 0
           },
           {
            "bin_start": 3083088085628364,
            "bin_end": 3817840971234697,
            "count": 0
           },
           {
            "bin_start": 3817840971234697,
            "bin_end": 4552593856841030,
            "count": 1
           }
          ]
         }
        },
        {
         "name": "2003",
         "dtype": "float64",
         "stats": {
          "unique_count": 8,
          "nan_count": 0,
          "min": "-9824821297572100.0",
          "max": "4791747629413380.0",
          "histogram": [
           {
            "bin_start": -9824821297572100,
            "bin_end": -8363164404873552,
            "count": 1
           },
           {
            "bin_start": -8363164404873552,
            "bin_end": -6901507512175004,
            "count": 0
           },
           {
            "bin_start": -6901507512175004,
            "bin_end": -5439850619476456,
            "count": 0
           },
           {
            "bin_start": -5439850619476456,
            "bin_end": -3978193726777908,
            "count": 0
           },
           {
            "bin_start": -3978193726777908,
            "bin_end": -2516536834079360,
            "count": 0
           },
           {
            "bin_start": -2516536834079360,
            "bin_end": -1054879941380812,
            "count": 0
           },
           {
            "bin_start": -1054879941380812,
            "bin_end": 406776951317736,
            "count": 6
           },
           {
            "bin_start": 406776951317736,
            "bin_end": 1868433844016284,
            "count": 0
           },
           {
            "bin_start": 1868433844016284,
            "bin_end": 3330090736714832,
            "count": 0
           },
           {
            "bin_start": 3330090736714832,
            "bin_end": 4791747629413380,
            "count": 1
           }
          ]
         }
        },
        {
         "name": "2004",
         "dtype": "float64",
         "stats": {
          "unique_count": 8,
          "nan_count": 0,
          "min": "-5361125981997400.0",
          "max": "5031421629246310.0",
          "histogram": [
           {
            "bin_start": -5361125981997400,
            "bin_end": -4321871220873029,
            "count": 1
           },
           {
            "bin_start": -4321871220873029,
            "bin_end": -3282616459748658,
            "count": 0
           },
           {
            "bin_start": -3282616459748658,
            "bin_end": -2243361698624287,
            "count": 0
           },
           {
            "bin_start": -2243361698624287,
            "bin_end": -1204106937499916,
            "count": 0
           },
           {
            "bin_start": -1204106937499916,
            "bin_end": -164852176375545,
            "count": 0
           },
           {
            "bin_start": -164852176375545,
            "bin_end": 874402584748826,
            "count": 6
           },
           {
            "bin_start": 874402584748826,
            "bin_end": 1913657345873197,
            "count": 0
           },
           {
            "bin_start": 1913657345873197,
            "bin_end": 2952912106997568,
            "count": 0
           },
           {
            "bin_start": 2952912106997568,
            "bin_end": 3992166868121940,
            "count": 0
           },
           {
            "bin_start": 3992166868121940,
            "bin_end": 5031421629246310,
            "count": 1
           }
          ]
         }
        },
        {
         "name": "2005",
         "dtype": "float64",
         "stats": {
          "unique_count": 8,
          "nan_count": 0,
          "min": "-7157320942054400.0",
          "max": "5307779307251240.0",
          "histogram": [
           {
            "bin_start": -7157320942054400,
            "bin_end": -5910810917123836,
            "count": 1
           },
           {
            "bin_start": -5910810917123836,
            "bin_end": -4664300892193272,
            "count": 0
           },
           {
            "bin_start": -4664300892193272,
            "bin_end": -3417790867262708,
            "count": 0
           },
           {
            "bin_start": -3417790867262708,
            "bin_end": -2171280842332144,
            "count": 0
           },
           {
            "bin_start": -2171280842332144,
            "bin_end": -924770817401580,
            "count": 0
           },
           {
            "bin_start": -924770817401580,
            "bin_end": 321739207528984,
            "count": 6
           },
           {
            "bin_start": 321739207528984,
            "bin_end": 1568249232459548,
            "count": 0
           },
           {
            "bin_start": 1568249232459548,
            "bin_end": 2814759257390112,
            "count": 0
           },
           {
            "bin_start": 2814759257390112,
            "bin_end": 4061269282320676,
            "count": 0
           },
           {
            "bin_start": 4061269282320676,
            "bin_end": 5307779307251240,
            "count": 1
           }
          ]
         }
        },
        {
         "name": "2006",
         "dtype": "float64",
         "stats": {
          "unique_count": 8,
          "nan_count": 0,
          "min": "-6200056533582500.0",
          "max": "5686502162925060.0",
          "histogram": [
           {
            "bin_start": -6200056533582500,
            "bin_end": -5011400663931744,
            "count": 1
           },
           {
            "bin_start": -5011400663931744,
            "bin_end": -3822744794280988,
            "count": 0
           },
           {
            "bin_start": -3822744794280988,
            "bin_end": -2634088924630232,
            "count": 0
           },
           {
            "bin_start": -2634088924630232,
            "bin_end": -1445433054979476,
            "count": 0
           },
           {
            "bin_start": -1445433054979476,
            "bin_end": -256777185328720,
            "count": 0
           },
           {
            "bin_start": -256777185328720,
            "bin_end": 931878684322036,
            "count": 6
           },
           {
            "bin_start": 931878684322036,
            "bin_end": 2120534553972792,
            "count": 0
           },
           {
            "bin_start": 2120534553972792,
            "bin_end": 3309190423623548,
            "count": 0
           },
           {
            "bin_start": 3309190423623548,
            "bin_end": 4497846293274304,
            "count": 0
           },
           {
            "bin_start": 4497846293274304,
            "bin_end": 5686502162925060,
            "count": 1
           }
          ]
         }
        },
        {
         "name": "2007",
         "dtype": "float64",
         "stats": {
          "unique_count": 8,
          "nan_count": 0,
          "min": "-169182000000000.0",
          "max": "5987072203769420.0",
          "histogram": [
           {
            "bin_start": -169182000000000,
            "bin_end": 446443420376942,
            "count": 7
           },
           {
            "bin_start": 446443420376942,
            "bin_end": 1062068840753884,
            "count": 0
           },
           {
            "bin_start": 1062068840753884,
            "bin_end": 1677694261130826,
            "count": 0
           },
           {
            "bin_start": 1677694261130826,
            "bin_end": 2293319681507768,
            "count": 0
           },
           {
            "bin_start": 2293319681507768,
            "bin_end": 2908945101884710,
            "count": 0
           },
           {
            "bin_start": 2908945101884710,
            "bin_end": 3524570522261652,
            "count": 0
           },
           {
            "bin_start": 3524570522261652,
            "bin_end": 4140195942638594,
            "count": 0
           },
           {
            "bin_start": 4140195942638594,
            "bin_end": 4755821363015536,
            "count": 0
           },
           {
            "bin_start": 4755821363015536,
            "bin_end": 5371446783392478,
            "count": 0
           },
           {
            "bin_start": 5371446783392478,
            "bin_end": 5987072203769420,
            "count": 1
           }
          ]
         }
        },
        {
         "name": "2008",
         "dtype": "float64",
         "stats": {
          "unique_count": 8,
          "nan_count": 0,
          "min": "-463601503753700.0",
          "max": "6176068457506700.0",
          "histogram": [
           {
            "bin_start": -463601503753700,
            "bin_end": 200365492372340,
            "count": 7
           },
           {
            "bin_start": 200365492372340,
            "bin_end": 864332488498380,
            "count": 0
           },
           {
            "bin_start": 864332488498380,
            "bin_end": 1528299484624420,
            "count": 0
           },
           {
            "bin_start": 1528299484624420,
            "bin_end": 2192266480750460,
            "count": 0
           },
           {
            "bin_start": 2192266480750460,
            "bin_end": 2856233476876500,
            "count": 0
           },
           {
            "bin_start": 2856233476876500,
            "bin_end": 3520200473002540,
            "count": 0
           },
           {
            "bin_start": 3520200473002540,
            "bin_end": 4184167469128580,
            "count": 0
           },
           {
            "bin_start": 4184167469128580,
            "bin_end": 4848134465254620,
            "count": 0
           },
           {
            "bin_start": 4848134465254620,
            "bin_end": 5512101461380660,
            "count": 0
           },
           {
            "bin_start": 5512101461380660,
            "bin_end": 6176068457506700,
            "count": 1
           }
          ]
         }
        },
        {
         "name": "2009",
         "dtype": "float64",
         "stats": {
          "unique_count": 8,
          "nan_count": 0,
          "min": "-228688000000000.0",
          "max": "6702989607366800.0",
          "histogram": [
           {
            "bin_start": -228688000000000,
            "bin_end": 464479760736680,
            "count": 7
           },
           {
            "bin_start": 464479760736680,
            "bin_end": 1157647521473360,
            "count": 0
           },
           {
            "bin_start": 1157647521473360,
            "bin_end": 1850815282210040,
            "count": 0
           },
           {
            "bin_start": 1850815282210040,
            "bin_end": 2543983042946720,
            "count": 0
           },
           {
            "bin_start": 2543983042946720,
            "bin_end": 3237150803683400,
            "count": 0
           },
           {
            "bin_start": 3237150803683400,
            "bin_end": 3930318564420080,
            "count": 0
           },
           {
            "bin_start": 3930318564420080,
            "bin_end": 4623486325156760,
            "count": 0
           },
           {
            "bin_start": 4623486325156760,
            "bin_end": 5316654085893440,
            "count": 0
           },
           {
            "bin_start": 5316654085893440,
            "bin_end": 6009821846630120,
            "count": 0
           },
           {
            "bin_start": 6009821846630120,
            "bin_end": 6702989607366800,
            "count": 1
           }
          ]
         }
        },
        {
         "name": "2010",
         "dtype": "float64",
         "stats": {
          "unique_count": 8,
          "nan_count": 0,
          "min": "-182770855642300.0",
          "max": "6864133100000000.0",
          "histogram": [
           {
            "bin_start": -182770855642300,
            "bin_end": 521919539921930,
            "count": 7
           },
           {
            "bin_start": 521919539921930,
            "bin_end": 1226609935486160,
            "count": 0
           },
           {
            "bin_start": 1226609935486160,
            "bin_end": 1931300331050390,
            "count": 0
           },
           {
            "bin_start": 1931300331050390,
            "bin_end": 2635990726614620,
            "count": 0
           },
           {
            "bin_start": 2635990726614620,
            "bin_end": 3340681122178850,
            "count": 0
           },
           {
            "bin_start": 3340681122178850,
            "bin_end": 4045371517743080,
            "count": 0
           },
           {
            "bin_start": 4045371517743080,
            "bin_end": 4750061913307310,
            "count": 0
           },
           {
            "bin_start": 4750061913307310,
            "bin_end": 5454752308871540,
            "count": 0
           },
           {
            "bin_start": 5454752308871540,
            "bin_end": 6159442704435770,
            "count": 0
           },
           {
            "bin_start": 6159442704435770,
            "bin_end": 6864133100000000,
            "count": 1
           }
          ]
         }
        },
        {
         "name": "2011",
         "dtype": "float64",
         "stats": {
          "unique_count": 8,
          "nan_count": 0,
          "min": "-216892693032100.0",
          "max": "7831726000000000.0",
          "histogram": [
           {
            "bin_start": -216892693032100,
            "bin_end": 587969176271110,
            "count": 7
           },
           {
            "bin_start": 587969176271110,
            "bin_end": 1392831045574320,
            "count": 0
           },
           {
            "bin_start": 1392831045574320,
            "bin_end": 2197692914877530,
            "count": 0
           },
           {
            "bin_start": 2197692914877530,
            "bin_end": 3002554784180740,
            "count": 0
           },
           {
            "bin_start": 3002554784180740,
            "bin_end": 3807416653483950,
            "count": 0
           },
           {
            "bin_start": 3807416653483950,
            "bin_end": 4612278522787160,
            "count": 0
           },
           {
            "bin_start": 4612278522787160,
            "bin_end": 5417140392090370,
            "count": 0
           },
           {
            "bin_start": 5417140392090370,
            "bin_end": 6222002261393580,
            "count": 0
           },
           {
            "bin_start": 6222002261393580,
            "bin_end": 7026864130696790,
            "count": 0
           },
           {
            "bin_start": 7026864130696790,
            "bin_end": 7831726000000000,
            "count": 1
           }
          ]
         }
        },
        {
         "name": "2012",
         "dtype": "float64",
         "stats": {
          "unique_count": 8,
          "nan_count": 0,
          "min": "-301384534505043.0",
          "max": "8676843992189100.0",
          "histogram": [
           {
            "bin_start": -301384534505043,
            "bin_end": 596438318164371.2,
            "count": 7
           },
           {
            "bin_start": 596438318164371.2,
            "bin_end": 1494261170833785.5,
            "count": 0
           },
           {
            "bin_start": 1494261170833785.5,
            "bin_end": 2392084023503200,
            "count": 0
           },
           {
            "bin_start": 2392084023503200,
            "bin_end": 3289906876172614,
            "count": 0
           },
           {
            "bin_start": 3289906876172614,
            "bin_end": 4187729728842028,
            "count": 0
           },
           {
            "bin_start": 4187729728842028,
            "bin_end": 5085552581511443,
            "count": 0
           },
           {
            "bin_start": 5085552581511443,
            "bin_end": 5983375434180857,
            "count": 0
           },
           {
            "bin_start": 5983375434180857,
            "bin_end": 6881198286850271,
            "count": 0
           },
           {
            "bin_start": 6881198286850271,
            "bin_end": 7779021139519685,
            "count": 0
           },
           {
            "bin_start": 7779021139519685,
            "bin_end": 8676843992189100,
            "count": 1
           }
          ]
         }
        },
        {
         "name": "2013",
         "dtype": "float64",
         "stats": {
          "unique_count": 8,
          "nan_count": 0,
          "min": "-349561723115278.0",
          "max": "1.00018007095564e+16",
          "histogram": [
           {
            "bin_start": -349561723115278,
            "bin_end": 685574520151889.8,
            "count": 7
           },
           {
            "bin_start": 685574520151889.8,
            "bin_end": 1720710763419057.5,
            "count": 0
           },
           {
            "bin_start": 1720710763419057.5,
            "bin_end": 2755847006686225,
            "count": 0
           },
           {
            "bin_start": 2755847006686225,
            "bin_end": 3790983249953393,
            "count": 0
           },
           {
            "bin_start": 3790983249953393,
            "bin_end": 4826119493220561,
            "count": 0
           },
           {
            "bin_start": 4826119493220561,
            "bin_end": 5861255736487728,
            "count": 0
           },
           {
            "bin_start": 5861255736487728,
            "bin_end": 6896391979754896,
            "count": 0
           },
           {
            "bin_start": 6896391979754896,
            "bin_end": 7931528223022064,
            "count": 0
           },
           {
            "bin_start": 7931528223022064,
            "bin_end": 8966664466289232,
            "count": 0
           },
           {
            "bin_start": 8966664466289232,
            "bin_end": 10001800709556400,
            "count": 1
           }
          ]
         }
        },
        {
         "name": "2014",
         "dtype": "float64",
         "stats": {
          "unique_count": 8,
          "nan_count": 0,
          "min": "-518938482441260.0",
          "max": "1.15518525065e+16",
          "histogram": [
           {
            "bin_start": -518938482441260,
            "bin_end": 688140616452866,
            "count": 7
           },
           {
            "bin_start": 688140616452866,
            "bin_end": 1895219715346992,
            "count": 0
           },
           {
            "bin_start": 1895219715346992,
            "bin_end": 3102298814241118,
            "count": 0
           },
           {
            "bin_start": 3102298814241118,
            "bin_end": 4309377913135244,
            "count": 0
           },
           {
            "bin_start": 4309377913135244,
            "bin_end": 5516457012029370,
            "count": 0
           },
           {
            "bin_start": 5516457012029370,
            "bin_end": 6723536110923496,
            "count": 0
           },
           {
            "bin_start": 6723536110923496,
            "bin_end": 7930615209817622,
            "count": 0
           },
           {
            "bin_start": 7930615209817622,
            "bin_end": 9137694308711748,
            "count": 0
           },
           {
            "bin_start": 9137694308711748,
            "bin_end": 10344773407605874,
            "count": 0
           },
           {
            "bin_start": 10344773407605874,
            "bin_end": 11551852506500000,
            "count": 1
           }
          ]
         }
        },
        {
         "name": "2015",
         "dtype": "float64",
         "stats": {
          "unique_count": 8,
          "nan_count": 0,
          "min": "-853088249783155.0",
          "max": "1.16718209213634e+16",
          "histogram": [
           {
            "bin_start": -853088249783155,
            "bin_end": 399402667331500.5,
            "count": 7
           },
           {
            "bin_start": 399402667331500.5,
            "bin_end": 1651893584446156,
            "count": 0
           },
           {
            "bin_start": 1651893584446156,
            "bin_end": 2904384501560811.5,
            "count": 0
           },
           {
            "bin_start": 2904384501560811.5,
            "bin_end": 4156875418675467,
            "count": 0
           },
           {
            "bin_start": 4156875418675467,
            "bin_end": 5409366335790123,
            "count": 0
           },
           {
            "bin_start": 5409366335790123,
            "bin_end": 6661857252904778,
            "count": 0
           },
           {
            "bin_start": 6661857252904778,
            "bin_end": 7914348170019433,
            "count": 0
           },
           {
            "bin_start": 7914348170019433,
            "bin_end": 9166839087134088,
            "count": 0
           },
           {
            "bin_start": 9166839087134088,
            "bin_end": 10419330004248744,
            "count": 0
           },
           {
            "bin_start": 10419330004248744,
            "bin_end": 11671820921363400,
            "count": 1
           }
          ]
         }
        },
        {
         "name": "2016",
         "dtype": "float64",
         "stats": {
          "unique_count": 8,
          "nan_count": 0,
          "min": "-1374105538398260.0",
          "max": "1.31915618e+16",
          "histogram": [
           {
            "bin_start": -1374105538398260,
            "bin_end": 82461195441566,
            "count": 6
           },
           {
            "bin_start": 82461195441566,
            "bin_end": 1539027929281392,
            "count": 1
           },
           {
            "bin_start": 1539027929281392,
            "bin_end": 2995594663121218,
            "count": 0
           },
           {
            "bin_start": 2995594663121218,
            "bin_end": 4452161396961044,
            "count": 0
           },
           {
            "bin_start": 4452161396961044,
            "bin_end": 5908728130800870,
            "count": 0
           },
           {
            "bin_start": 5908728130800870,
            "bin_end": 7365294864640696,
            "count": 0
           },
           {
            "bin_start": 7365294864640696,
            "bin_end": 8821861598480522,
            "count": 0
           },
           {
            "bin_start": 8821861598480522,
            "bin_end": 10278428332320348,
            "count": 0
           },
           {
            "bin_start": 10278428332320348,
            "bin_end": 11734995066160174,
            "count": 0
           },
           {
            "bin_start": 11734995066160174,
            "bin_end": 13191561800000000,
            "count": 1
           }
          ]
         }
        },
        {
         "name": "2017",
         "dtype": "float64",
         "stats": {
          "unique_count": 8,
          "nan_count": 0,
          "min": "-1345845915588500.0",
          "max": "1.5345033e+16",
          "histogram": [
           {
            "bin_start": -1345845915588500,
            "bin_end": 323241975970350,
            "count": 7
           },
           {
            "bin_start": 323241975970350,
            "bin_end": 1992329867529200,
            "count": 0
           },
           {
            "bin_start": 1992329867529200,
            "bin_end": 3661417759088050,
            "count": 0
           },
           {
            "bin_start": 3661417759088050,
            "bin_end": 5330505650646900,
            "count": 0
           },
           {
            "bin_start": 5330505650646900,
            "bin_end": 6999593542205750,
            "count": 0
           },
           {
            "bin_start": 6999593542205750,
            "bin_end": 8668681433764600,
            "count": 0
           },
           {
            "bin_start": 8668681433764600,
            "bin_end": 10337769325323450,
            "count": 0
           },
           {
            "bin_start": 10337769325323450,
            "bin_end": 12006857216882300,
            "count": 0
           },
           {
            "bin_start": 12006857216882300,
            "bin_end": 13675945108441150,
            "count": 0
           },
           {
            "bin_start": 13675945108441150,
            "bin_end": 15345033000000000,
            "count": 1
           }
          ]
         }
        },
        {
         "name": "2018",
         "dtype": "float64",
         "stats": {
          "unique_count": 8,
          "nan_count": 0,
          "min": "-1297804382534160.0",
          "max": "1.92339711541458e+16",
          "histogram": [
           {
            "bin_start": -1297804382534160,
            "bin_end": 755373171133836,
            "count": 7
           },
           {
            "bin_start": 755373171133836,
            "bin_end": 2808550724801832,
            "count": 0
           },
           {
            "bin_start": 2808550724801832,
            "bin_end": 4861728278469828,
            "count": 0
           },
           {
            "bin_start": 4861728278469828,
            "bin_end": 6914905832137824,
            "count": 0
           },
           {
            "bin_start": 6914905832137824,
            "bin_end": 8968083385805820,
            "count": 0
           },
           {
            "bin_start": 8968083385805820,
            "bin_end": 11021260939473816,
            "count": 0
           },
           {
            "bin_start": 11021260939473816,
            "bin_end": 13074438493141812,
            "count": 0
           },
           {
            "bin_start": 13074438493141812,
            "bin_end": 15127616046809808,
            "count": 0
           },
           {
            "bin_start": 15127616046809808,
            "bin_end": 17180793600477804,
            "count": 0
           },
           {
            "bin_start": 17180793600477804,
            "bin_end": 19233971154145800,
            "count": 1
           }
          ]
         }
        },
        {
         "name": "2019",
         "dtype": "float64",
         "stats": {
          "unique_count": 8,
          "nan_count": 0,
          "min": "-1376876695537100.0",
          "max": "2.48790591945053e+16",
          "histogram": [
           {
            "bin_start": -1376876695537100,
            "bin_end": 1248716893467140,
            "count": 7
           },
           {
            "bin_start": 1248716893467140,
            "bin_end": 3874310482471380,
            "count": 0
           },
           {
            "bin_start": 3874310482471380,
            "bin_end": 6499904071475620,
            "count": 0
           },
           {
            "bin_start": 6499904071475620,
            "bin_end": 9125497660479860,
            "count": 0
           },
           {
            "bin_start": 9125497660479860,
            "bin_end": 11751091249484100,
            "count": 0
           },
           {
            "bin_start": 11751091249484100,
            "bin_end": 14376684838488340,
            "count": 0
           },
           {
            "bin_start": 14376684838488340,
            "bin_end": 17002278427492580,
            "count": 0
           },
           {
            "bin_start": 17002278427492580,
            "bin_end": 19627872016496820,
            "count": 0
           },
           {
            "bin_start": 19627872016496820,
            "bin_end": 22253465605501060,
            "count": 0
           },
           {
            "bin_start": 22253465605501060,
            "bin_end": 24879059194505300,
            "count": 1
           }
          ]
         }
        },
        {
         "name": "2020",
         "dtype": "float64",
         "stats": {
          "unique_count": 8,
          "nan_count": 0,
          "min": "-2013260994000000.0",
          "max": "3.3844217586e+16",
          "histogram": [
           {
            "bin_start": -2013260994000000,
            "bin_end": 1572486864000000,
            "count": 7
           },
           {
            "bin_start": 1572486864000000,
            "bin_end": 5158234722000000,
            "count": 0
           },
           {
            "bin_start": 5158234722000000,
            "bin_end": 8743982580000000,
            "count": 0
           },
           {
            "bin_start": 8743982580000000,
            "bin_end": 12329730438000000,
            "count": 0
           },
           {
            "bin_start": 12329730438000000,
            "bin_end": 15915478296000000,
            "count": 0
           },
           {
            "bin_start": 15915478296000000,
            "bin_end": 19501226154000000,
            "count": 0
           },
           {
            "bin_start": 19501226154000000,
            "bin_end": 23086974012000000,
            "count": 0
           },
           {
            "bin_start": 23086974012000000,
            "bin_end": 26672721870000000,
            "count": 0
           },
           {
            "bin_start": 26672721870000000,
            "bin_end": 30258469728000000,
            "count": 0
           },
           {
            "bin_start": 30258469728000000,
            "bin_end": 33844217586000000,
            "count": 1
           }
          ]
         }
        },
        {
         "name": "Unnamed: 65",
         "dtype": "float64",
         "stats": {
          "unique_count": 1,
          "nan_count": 7,
          "min": "0.0",
          "max": "0.0",
          "histogram": [
           {
            "bin_start": -0.5,
            "bin_end": -0.4,
            "count": 0
           },
           {
            "bin_start": -0.4,
            "bin_end": -0.3,
            "count": 0
           },
           {
            "bin_start": -0.3,
            "bin_end": -0.19999999999999996,
            "count": 0
           },
           {
            "bin_start": -0.19999999999999996,
            "bin_end": -0.09999999999999998,
            "count": 0
           },
           {
            "bin_start": -0.09999999999999998,
            "bin_end": 0,
            "count": 0
           },
           {
            "bin_start": 0,
            "bin_end": 0.10000000000000009,
            "count": 1
           },
           {
            "bin_start": 0.10000000000000009,
            "bin_end": 0.20000000000000007,
            "count": 0
           },
           {
            "bin_start": 0.20000000000000007,
            "bin_end": 0.30000000000000004,
            "count": 0
           },
           {
            "bin_start": 0.30000000000000004,
            "bin_end": 0.4,
            "count": 0
           },
           {
            "bin_start": 0.4,
            "bin_end": 0.5,
            "count": 0
           }
          ]
         }
        },
        {
         "name": "_deepnote_index_column",
         "dtype": "object"
        }
       ],
       "rows_top": [
        {
         "1960": 37536,
         "1961": 42463,
         "1962": 44707,
         "1963": 44547,
         "1964": 45099,
         "1965": 47298,
         "1966": 47382,
         "1967": 49106,
         "1968": 48667,
         "1969": 50503,
         "1970": 69181,
         "1971": 76156,
         "1972": 79269,
         "1973": 78763,
         "1974": 80278,
         "1975": 83975,
         "1976": 86304,
         "1977": 90290,
         "1978": 89876,
         "1979": 90731,
         "1980": 95678,
         "1981": 98050,
         "1982": 99781,
         "1983": 99286,
         "1984": 100043,
         "1985": 101417,
         "1986": 102263,
         "1987": 103903,
         "1988": 102368,
         "1989": 104238,
         "1990": 126918,
         "1991": 134287,
         "1992": 139382,
         "1993": 139959,
         "1994": 142253,
         "1995": 150011,
         "1996": 149842,
         "1997": 152161,
         "1998": 153326,
         "1999": 158907,
         "2000": 184318,
         "2001": 178666,
         "2002": 184113,
         "2003": 183816,
         "2004": 189339,
         "2005": 200165,
         "2006": 200862,
         "2007": 206106,
         "2008": 203842,
         "2009": 205015,
         "2010": 218835,
         "2011": 210993,
         "2012": 215533,
         "2013": 209665,
         "2014": 216942,
         "2015": 211443,
         "2016": 211302,
         "2017": 207552,
         "2018": 197315,
         "2019": 163536,
         "2020": 61930,
         "Unnamed: 65": 0,
         "_deepnote_index_column": "count"
        },
        {
         "1960": 259280675172.11856,
         "1961": 247786732203.98788,
         "1962": 250129941672.21933,
         "1963": 259026852968.67804,
         "1964": 276198633908.7656,
         "1965": 299063052371.6403,
         "1966": 321272304621.9137,
         "1967": 338470520274.3185,
         "1968": 390646191987.1439,
         "1969": 422609559798.263,
         "1970": 373335525066.40045,
         "1971": 380320257658.8666,
         "1972": 414761401250.141,
         "1973": 469150367154.05597,
         "1974": 564708821062.261,
         "1975": 572082269421.2384,
         "1976": 632231557471.2948,
         "1977": 612754502597.3701,
         "1978": 571094605090.5591,
         "1979": 554311497357.0477,
         "1980": 484926047327.6452,
         "1981": 482309322246.27966,
         "1982": 514437496860.58405,
         "1983": 691314148364.5452,
         "1984": 756523354919.4623,
         "1985": 866604882586.8159,
         "1986": 835198298375.0894,
         "1987": 795347206848.961,
         "1988": 618399705066.5643,
         "1989": 682393811224.8031,
         "1990": 730906040015.9156,
         "1991": 703115829499.002,
         "1992": 719267819169.6996,
         "1993": 794684808337.3975,
         "1994": 891908697457.207,
         "1995": 919441836644.2845,
         "1996": 887197613310.6724,
         "1997": 900231397220.9097,
         "1998": 815152290368.9353,
         "1999": 798187143204.7009,
         "2000": 726137239468.5674,
         "2001": 782302248940.868,
         "2002": 946470882175.1367,
         "2003": 916853039435.0795,
         "2004": 1055803494019.3628,
         "2005": 1079978169930.0256,
         "2006": 1217358739554.6106,
         "2007": 1450554406493.316,
         "2008": 1652574534908.5764,
         "2009": 1722092354652.3364,
         "2010": 1918261752885.9768,
         "2011": 2230344716237.178,
         "2012": 2362107196021.142,
         "2013": 2710231893100.079,
         "2014": 2862673353863.6006,
         "2015": 3059170771561.2485,
         "2016": 3324590464812.1353,
         "2017": 3543640300562.0166,
         "2018": 4144807515472.5957,
         "2019": 5510761338561.892,
         "2020": 14831083756891.553,
         "Unnamed: 65": "nan",
         "_deepnote_index_column": "mean"
        },
        {
         "1960": 10797589985886.143,
         "1961": 11147323477329.271,
         "1962": 11630129664034.117,
         "1963": 12239128690039.195,
         "1964": 13185826495573.834,
         "1965": 14755820414242.35,
         "1966": 16250982379761.547,
         "1967": 17743385830902.145,
         "1968": 20395591528957.8,
         "1969": 23087894271900.63,
         "1970": 21965271122147.44,
         "1971": 23866567640813.84,
         "1972": 26802771203224.406,
         "1973": 29520286937665.832,
         "1974": 33410787421274.406,
         "1975": 33340040381996.58,
         "1976": 38252840795881.336,
         "1977": 36528966567739.08,
         "1978": 31791545100213.8,
         "1979": 29212306576039.465,
         "1980": 23823515767672.83,
         "1981": 23177584324391.383,
         "1982": 25874449097881.69,
         "1983": 40114249761911.65,
         "1984": 50520028817191.61,
         "1985": 67473558657636.92,
         "1986": 64300212213407.78,
         "1987": 54235927885517.28,
         "1988": 28443117683263.117,
         "1989": 31258857012927.26,
         "1990": 40914018080603.77,
         "1991": 35246285350242.14,
         "1992": 36916759853989.445,
         "1993": 43304174787575.34,
         "1994": 51847969161691.39,
         "1995": 53999142479042.695,
         "1996": 40043068901869.19,
         "1997": 38309658293614,
         "1998": 34182051879656.793,
         "1999": 36602334704164.04,
         "2000": 39933434477203.92,
         "2001": 46235817824742.23,
         "2002": 38090148581805.51,
         "2003": 51954959206452.44,
         "2004": 45050554379647.39,
         "2005": 49341734404690.234,
         "2006": 51833290104572.93,
         "2007": 55897808368682.94,
         "2008": 61867054023385.81,
         "2009": 65739813997651.445,
         "2010": 76420980867547.12,
         "2011": 87420731915428.77,
         "2012": 93951298272917.56,
         "2013": 108724769390732.2,
         "2014": 118905288773943.33,
         "2015": 126159495870486.95,
         "2016": 139740942721990.48,
         "2017": 151347103747305.3,
         "2018": 178089623519048.03,
         "2019": 228451954668244.72,
         "2020": 443118925457495.75,
         "Unnamed: 65": "nan",
         "_deepnote_index_column": "std"
        },
        {
         "1960": -334419146855197,
         "1961": -382300035464537,
         "1962": -432795545844671,
         "1963": -476987450020058,
         "1964": -533935756743051,
         "1965": -626471634624933,
         "1966": -712002411698803,
         "1967": -824513405838290,
         "1968": -937946691026294,
         "1969": -1122498627501460,
         "1970": -1272390558143300,
         "1971": -1410485926457980,
         "1972": -1612599537418690,
         "1973": -1442428127238490,
         "1974": -399606976630100,
         "1975": -386070673835840,
         "1976": -410918451679164,
         "1977": -398945389846031,
         "1978": -343811552502675,
         "1979": -82602629960675.8,
         "1980": -7647995344414.67,
         "1981": -5730628083047.52,
         "1982": -104352234248704,
         "1983": -240721002730100,
         "1984": -199858285519679,
         "1985": -206712450225158,
         "1986": -304274699905746,
         "1987": -97801463650028.3,
         "1988": -571951079690213,
         "1989": -571832452218019,
         "1990": -638726266538466,
         "1991": -780636180666222,
         "1992": -817930856965182,
         "1993": -440975615792881,
         "1994": -420281757006107,
         "1995": -545786099427340,
         "1996": -567978398343340,
         "1997": -657131783055170,
         "1998": -3291633232933700,
         "1999": -4958966655280600,
         "2000": -7109152662752600,
         "2001": -8938409317956300,
         "2002": -2794934999222300,
         "2003": -9824821297572100,
         "2004": -5361125981997400,
         "2005": -7157320942054400,
         "2006": -6200056533582500,
         "2007": -169182000000000,
         "2008": -463601503753700,
         "2009": -228688000000000,
         "2010": -182770855642300,
         "2011": -216892693032100,
         "2012": -301384534505043,
         "2013": -349561723115278,
         "2014": -518938482441260,
         "2015": -853088249783155,
         "2016": -1374105538398260,
         "2017": -1345845915588500,
         "2018": -1297804382534160,
         "2019": -1376876695537100,
         "2020": -2013260994000000,
         "Unnamed: 65": "nan",
         "_deepnote_index_column": "min"
        },
        {
         "1960": 4.618765848818413,
         "1961": 4.53453959824483,
         "1962": 4.45908354540452,
         "1963": 4.69827642795219,
         "1964": 4.761894752985725,
         "1965": 4.5882652605546825,
         "1966": 4.817570184603718,
         "1967": 4.711084330427372,
         "1968": 4.9655252659043,
         "1969": 4.47290176322357,
         "1970": 4.8822071228577,
         "1971": 4.904100143372298,
         "1972": 4.97512437810945,
         "1973": 5.1319284822088,
         "1974": 5.17230213415767,
         "1975": 4.9648187373332355,
         "1976": 5.17101396404063,
         "1977": 5.0836868133143,
         "1978": 5.229948965387511,
         "1979": 5.3,
         "1980": 5.571090249119723,
         "1981": 5.320507018729592,
         "1982": 5.14632073932188,
         "1983": 5.384852828629155,
         "1984": 5.506871481374574,
         "1985": 5.46986519626206,
         "1986": 5.491947254176965,
         "1987": 5.39254115040902,
         "1988": 5.678093071246971,
         "1989": 5.759820981907508,
         "1990": 5.39548181693578,
         "1991": 5.702372484271795,
         "1992": 5.77197640359349,
         "1993": 5.945009675391835,
         "1994": 6,
         "1995": 6.293878179808679,
         "1996": 6.3,
         "1997": 6.15293727800965,
         "1998": 6.098286382615005,
         "1999": 6.3,
         "2000": 6,
         "2001": 6.285220479916985,
         "2002": 6.14002101460809,
         "2003": 6.44694690641607,
         "2004": 6.500628308646595,
         "2005": 6.13658656204022,
         "2006": 6.2701103824999995,
         "2007": 6.0081120776423225,
         "2008": 6.041333210162062,
         "2009": 6,
         "2010": 5.648001238072196,
         "2011": 6.288,
         "2012": 5.91176116019758,
         "2013": 6.02331508400588,
         "2014": 5.971511723746071,
         "2015": 6.04,
         "2016": 5.996461375254808,
         "2017": 6.14488757751235,
         "2018": 5.6,
         "2019": 6,
         "2020": 6.054921104786735,
         "Unnamed: 65": "nan",
         "_deepnote_index_column": "25%"
        },
        {
         "1960": 38.325846435230744,
         "1961": 36.1873095040177,
         "1962": 35.239,
         "1963": 34.6,
         "1964": 35.5508608110058,
         "1965": 37,
         "1966": 38.942156637988745,
         "1967": 39.893223164307855,
         "1968": 40.7662480937084,
         "1969": 37.4,
         "1970": 44.24577,
         "1971": 41.67996278603515,
         "1972": 41.8557586669922,
         "1973": 42.5452764213748,
         "1974": 43.656286964748745,
         "1975": 43.125,
         "1976": 43.7849636802916,
         "1977": 44.33014,
         "1978": 44.57659616659985,
         "1979": 44.9,
         "1980": 47.39639566452095,
         "1981": 46.12445547966905,
         "1982": 46.5726787183627,
         "1983": 46.9911689946213,
         "1984": 47.0774535371548,
         "1985": 47.6913493531393,
         "1986": 47.5216722780682,
         "1987": 47.4519365548354,
         "1988": 48.469134999999994,
         "1989": 49.27741212635675,
         "1990": 49.6324197265091,
         "1991": 46.98,
         "1992": 47.19897501,
         "1993": 48.07,
         "1994": 48.75,
         "1995": 49.88251,
         "1996": 49.63250906469725,
         "1997": 49.64,
         "1998": 49.09705010493755,
         "1999": 49.4159392038485,
         "2000": 44.918780412660155,
         "2001": 46.641186065,
         "2002": 45.54286,
         "2003": 46.1,
         "2004": 45.4173186585376,
         "2005": 42.3836325655315,
         "2006": 42.7126822487477,
         "2007": 42.1649875793219,
         "2008": 43.516824813232404,
         "2009": 43.1531275740269,
         "2010": 39.8785351944931,
         "2011": 43.81,
         "2012": 41.7,
         "2013": 43.46661,
         "2014": 42.5186671898883,
         "2015": 44.5222984171482,
         "2016": 43.99886981540255,
         "2017": 46.44,
         "2018": 41.7542447784003,
         "2019": 42.6,
         "2020": 51.2170826650344,
         "Unnamed: 65": "nan",
         "_deepnote_index_column": "50%"
        },
        {
         "1960": 125941.75,
         "1961": 96448.5,
         "1962": 67325,
         "1963": 85934.5,
         "1964": 96679,
         "1965": 154563,
         "1966": 195772.5,
         "1967": 179946.498379499,
         "1968": 292006.5,
         "1969": 239882.9007679385,
         "1970": 512822.12375,
         "1971": 200000.002980232,
         "1972": 214521,
         "1973": 305233,
         "1974": 377794.41846748773,
         "1975": 466815.0624659515,
         "1976": 589999.973773956,
         "1977": 680000.007152557,
         "1978": 919769.7661734867,
         "1979": 1000000,
         "1980": 1030000,
         "1981": 992146.7,
         "1982": 965681,
         "1983": 1179828.519804,
         "1984": 1200000.02384186,
         "1985": 1240800,
         "1986": 1273736.5,
         "1987": 1187164.5,
         "1988": 1660171.1331691751,
         "1989": 1827742.25,
         "1990": 766601.5,
         "1991": 301065.5,
         "1992": 252285,
         "1993": 430000.007152557,
         "1994": 529999.971389771,
         "1995": 819999.992847443,
         "1996": 905952.5,
         "1997": 815094,
         "1998": 759999.990463257,
         "1999": 439999.997615814,
         "2000": 36797.17357245852,
         "2001": 72439.25,
         "2002": 51364,
         "2003": 67919.275,
         "2004": 42765.222467879605,
         "2005": 19999.9995529652,
         "2006": 23601.2034818788,
         "2007": 19999.9995529652,
         "2008": 29118.276771593177,
         "2009": 26641.4378227915,
         "2010": 12726.03207239955,
         "2011": 20522,
         "2012": 15869.7722047845,
         "2013": 27343,
         "2014": 14102.4615,
         "2015": 23962.83566061085,
         "2016": 20608.547598320474,
         "2017": 26911,
         "2018": 46120.9513868981,
         "2019": 713021.8394465753,
         "2020": 982767139.098392,
         "Unnamed: 65": "nan",
         "_deepnote_index_column": "75%"
        },
        {
         "1960": 830508047988973,
         "1961": 925559773896111,
         "1962": 1005053416527250,
         "1963": 1078014111152460,
         "1964": 1177340119756310,
         "1965": 1380080705032150,
         "1966": 1535078469919920,
         "1967": 1713571405676020,
         "1968": 1967195410522210,
         "1969": 2287805162194300,
         "1970": 2542363932578990,
         "1971": 2908750946074410,
         "1972": 3328244287383490,
         "1973": 3612953076542120,
         "1974": 3849340565089070,
         "1975": 3760957231309050,
         "1976": 4408896472726110,
         "1977": 4231183133399440,
         "1978": 3640883847606170,
         "1979": 3464138607971240,
         "1980": 2828278393275370,
         "1981": 2654845185058550,
         "1982": 2860968340712030,
         "1983": 6310063834397450,
         "1984": 8979216065146540,
         "1985": 12537084153061300,
         "1986": 12124619705336300,
         "1987": 10146431251973000,
         "1988": 4007116018668990,
         "1989": 4650155435830820,
         "1990": 7915614329058270,
         "1991": 6004182941614100,
         "1992": 6630824410525700,
         "1993": 8523281141900400,
         "1994": 11020891715569800,
         "1995": 11952088160455300,
         "1996": 7218932936936400,
         "1997": 6229170955765400,
         "1998": 4157201606549030,
         "1999": 4034521324483440,
         "2000": 4291058356149570,
         "2001": 4417223369851250,
         "2002": 4552593856841030,
         "2003": 4791747629413380,
         "2004": 5031421629246310,
         "2005": 5307779307251240,
         "2006": 5686502162925060,
         "2007": 5987072203769420,
         "2008": 6176068457506700,
         "2009": 6702989607366800,
         "2010": 6864133100000000,
         "2011": 7831726000000000,
         "2012": 8676843992189100,
         "2013": 10001800709556400,
         "2014": 11551852506500000,
         "2015": 11671820921363400,
         "2016": 13191561800000000,
         "2017": 15345033000000000,
         "2018": 19233971154145800,
         "2019": 24879059194505300,
         "2020": 33844217586000000,
         "Unnamed: 65": "nan",
         "_deepnote_index_column": "max"
        }
       ],
       "rows_bottom": null
      },
      "text/plain": "               1960          1961          1962          1963          1964  \\\ncount  3.753600e+04  4.246300e+04  4.470700e+04  4.454700e+04  4.509900e+04   \nmean   2.592807e+11  2.477867e+11  2.501299e+11  2.590269e+11  2.761986e+11   \nstd    1.079759e+13  1.114732e+13  1.163013e+13  1.223913e+13  1.318583e+13   \nmin   -3.344191e+14 -3.823000e+14 -4.327955e+14 -4.769875e+14 -5.339358e+14   \n25%    4.618766e+00  4.534540e+00  4.459084e+00  4.698276e+00  4.761895e+00   \n50%    3.832585e+01  3.618731e+01  3.523900e+01  3.460000e+01  3.555086e+01   \n75%    1.259418e+05  9.644850e+04  6.732500e+04  8.593450e+04  9.667900e+04   \nmax    8.305080e+14  9.255598e+14  1.005053e+15  1.078014e+15  1.177340e+15   \n\n               1965          1966          1967          1968          1969  \\\ncount  4.729800e+04  4.738200e+04  4.910600e+04  4.866700e+04  5.050300e+04   \nmean   2.990631e+11  3.212723e+11  3.384705e+11  3.906462e+11  4.226096e+11   \nstd    1.475582e+13  1.625098e+13  1.774339e+13  2.039559e+13  2.308789e+13   \nmin   -6.264716e+14 -7.120024e+14 -8.245134e+14 -9.379467e+14 -1.122499e+15   \n25%    4.588265e+00  4.817570e+00  4.711084e+00  4.965525e+00  4.472902e+00   \n50%    3.700000e+01  3.894216e+01  3.989322e+01  4.076625e+01  3.740000e+01   \n75%    1.545630e+05  1.957725e+05  1.799465e+05  2.920065e+05  2.398829e+05   \nmax    1.380081e+15  1.535078e+15  1.713571e+15  1.967195e+15  2.287805e+15   \n\n       ...          2012          2013          2014          2015  \\\ncount  ...  2.155330e+05  2.096650e+05  2.169420e+05  2.114430e+05   \nmean   ...  2.362107e+12  2.710232e+12  2.862673e+12  3.059171e+12   \nstd    ...  9.395130e+13  1.087248e+14  1.189053e+14  1.261595e+14   \nmin    ... -3.013845e+14 -3.495617e+14 -5.189385e+14 -8.530882e+14   \n25%    ...  5.911761e+00  6.023315e+00  5.971512e+00  6.040000e+00   \n50%    ...  4.170000e+01  4.346661e+01  4.251867e+01  4.452230e+01   \n75%    ...  1.586977e+04  2.734300e+04  1.410246e+04  2.396284e+04   \nmax    ...  8.676844e+15  1.000180e+16  1.155185e+16  1.167182e+16   \n\n               2016          2017          2018          2019          2020  \\\ncount  2.113020e+05  2.075520e+05  1.973150e+05  1.635360e+05  6.193000e+04   \nmean   3.324590e+12  3.543640e+12  4.144808e+12  5.510761e+12  1.483108e+13   \nstd    1.397409e+14  1.513471e+14  1.780896e+14  2.284520e+14  4.431189e+14   \nmin   -1.374106e+15 -1.345846e+15 -1.297804e+15 -1.376877e+15 -2.013261e+15   \n25%    5.996461e+00  6.144888e+00  5.600000e+00  6.000000e+00  6.054921e+00   \n50%    4.399887e+01  4.644000e+01  4.175424e+01  4.260000e+01  5.121708e+01   \n75%    2.060855e+04  2.691100e+04  4.612095e+04  7.130218e+05  9.827671e+08   \nmax    1.319156e+16  1.534503e+16  1.923397e+16  2.487906e+16  3.384422e+16   \n\n       Unnamed: 65  \ncount          0.0  \nmean           NaN  \nstd            NaN  \nmin            NaN  \n25%            NaN  \n50%            NaN  \n75%            NaN  \nmax            NaN  \n\n[8 rows x 62 columns]",
      "text/html": "<div>\n<style scoped>\n    .dataframe tbody tr th:only-of-type {\n        vertical-align: middle;\n    }\n\n    .dataframe tbody tr th {\n        vertical-align: top;\n    }\n\n    .dataframe thead th {\n        text-align: right;\n    }\n</style>\n<table border=\"1\" class=\"dataframe\">\n  <thead>\n    <tr style=\"text-align: right;\">\n      <th></th>\n      <th>1960</th>\n      <th>1961</th>\n      <th>1962</th>\n      <th>1963</th>\n      <th>1964</th>\n      <th>1965</th>\n      <th>1966</th>\n      <th>1967</th>\n      <th>1968</th>\n      <th>1969</th>\n      <th>...</th>\n      <th>2012</th>\n      <th>2013</th>\n      <th>2014</th>\n      <th>2015</th>\n      <th>2016</th>\n      <th>2017</th>\n      <th>2018</th>\n      <th>2019</th>\n      <th>2020</th>\n      <th>Unnamed: 65</th>\n    </tr>\n  </thead>\n  <tbody>\n    <tr>\n      <th>count</th>\n      <td>3.753600e+04</td>\n      <td>4.246300e+04</td>\n      <td>4.470700e+04</td>\n      <td>4.454700e+04</td>\n      <td>4.509900e+04</td>\n      <td>4.729800e+04</td>\n      <td>4.738200e+04</td>\n      <td>4.910600e+04</td>\n      <td>4.866700e+04</td>\n      <td>5.050300e+04</td>\n      <td>...</td>\n      <td>2.155330e+05</td>\n      <td>2.096650e+05</td>\n      <td>2.169420e+05</td>\n      <td>2.114430e+05</td>\n      <td>2.113020e+05</td>\n      <td>2.075520e+05</td>\n      <td>1.973150e+05</td>\n      <td>1.635360e+05</td>\n      <td>6.193000e+04</td>\n      <td>0.0</td>\n    </tr>\n    <tr>\n      <th>mean</th>\n      <td>2.592807e+11</td>\n      <td>2.477867e+11</td>\n      <td>2.501299e+11</td>\n      <td>2.590269e+11</td>\n      <td>2.761986e+11</td>\n      <td>2.990631e+11</td>\n      <td>3.212723e+11</td>\n      <td>3.384705e+11</td>\n      <td>3.906462e+11</td>\n      <td>4.226096e+11</td>\n      <td>...</td>\n      <td>2.362107e+12</td>\n      <td>2.710232e+12</td>\n      <td>2.862673e+12</td>\n      <td>3.059171e+12</td>\n      <td>3.324590e+12</td>\n      <td>3.543640e+12</td>\n      <td>4.144808e+12</td>\n      <td>5.510761e+12</td>\n      <td>1.483108e+13</td>\n      <td>NaN</td>\n    </tr>\n    <tr>\n      <th>std</th>\n      <td>1.079759e+13</td>\n      <td>1.114732e+13</td>\n      <td>1.163013e+13</td>\n      <td>1.223913e+13</td>\n      <td>1.318583e+13</td>\n      <td>1.475582e+13</td>\n      <td>1.625098e+13</td>\n      <td>1.774339e+13</td>\n      <td>2.039559e+13</td>\n      <td>2.308789e+13</td>\n      <td>...</td>\n      <td>9.395130e+13</td>\n      <td>1.087248e+14</td>\n      <td>1.189053e+14</td>\n      <td>1.261595e+14</td>\n      <td>1.397409e+14</td>\n      <td>1.513471e+14</td>\n      <td>1.780896e+14</td>\n      <td>2.284520e+14</td>\n      <td>4.431189e+14</td>\n      <td>NaN</td>\n    </tr>\n    <tr>\n      <th>min</th>\n      <td>-3.344191e+14</td>\n      <td>-3.823000e+14</td>\n      <td>-4.327955e+14</td>\n      <td>-4.769875e+14</td>\n      <td>-5.339358e+14</td>\n      <td>-6.264716e+14</td>\n      <td>-7.120024e+14</td>\n      <td>-8.245134e+14</td>\n      <td>-9.379467e+14</td>\n      <td>-1.122499e+15</td>\n      <td>...</td>\n      <td>-3.013845e+14</td>\n      <td>-3.495617e+14</td>\n      <td>-5.189385e+14</td>\n      <td>-8.530882e+14</td>\n      <td>-1.374106e+15</td>\n      <td>-1.345846e+15</td>\n      <td>-1.297804e+15</td>\n      <td>-1.376877e+15</td>\n      <td>-2.013261e+15</td>\n      <td>NaN</td>\n    </tr>\n    <tr>\n      <th>25%</th>\n      <td>4.618766e+00</td>\n      <td>4.534540e+00</td>\n      <td>4.459084e+00</td>\n      <td>4.698276e+00</td>\n      <td>4.761895e+00</td>\n      <td>4.588265e+00</td>\n      <td>4.817570e+00</td>\n      <td>4.711084e+00</td>\n      <td>4.965525e+00</td>\n      <td>4.472902e+00</td>\n      <td>...</td>\n      <td>5.911761e+00</td>\n      <td>6.023315e+00</td>\n      <td>5.971512e+00</td>\n      <td>6.040000e+00</td>\n      <td>5.996461e+00</td>\n      <td>6.144888e+00</td>\n      <td>5.600000e+00</td>\n      <td>6.000000e+00</td>\n      <td>6.054921e+00</td>\n      <td>NaN</td>\n    </tr>\n    <tr>\n      <th>50%</th>\n      <td>3.832585e+01</td>\n      <td>3.618731e+01</td>\n      <td>3.523900e+01</td>\n      <td>3.460000e+01</td>\n      <td>3.555086e+01</td>\n      <td>3.700000e+01</td>\n      <td>3.894216e+01</td>\n      <td>3.989322e+01</td>\n      <td>4.076625e+01</td>\n      <td>3.740000e+01</td>\n      <td>...</td>\n      <td>4.170000e+01</td>\n      <td>4.346661e+01</td>\n      <td>4.251867e+01</td>\n      <td>4.452230e+01</td>\n      <td>4.399887e+01</td>\n      <td>4.644000e+01</td>\n      <td>4.175424e+01</td>\n      <td>4.260000e+01</td>\n      <td>5.121708e+01</td>\n      <td>NaN</td>\n    </tr>\n    <tr>\n      <th>75%</th>\n      <td>1.259418e+05</td>\n      <td>9.644850e+04</td>\n      <td>6.732500e+04</td>\n      <td>8.593450e+04</td>\n      <td>9.667900e+04</td>\n      <td>1.545630e+05</td>\n      <td>1.957725e+05</td>\n      <td>1.799465e+05</td>\n      <td>2.920065e+05</td>\n      <td>2.398829e+05</td>\n      <td>...</td>\n      <td>1.586977e+04</td>\n      <td>2.734300e+04</td>\n      <td>1.410246e+04</td>\n      <td>2.396284e+04</td>\n      <td>2.060855e+04</td>\n      <td>2.691100e+04</td>\n      <td>4.612095e+04</td>\n      <td>7.130218e+05</td>\n      <td>9.827671e+08</td>\n      <td>NaN</td>\n    </tr>\n    <tr>\n      <th>max</th>\n      <td>8.305080e+14</td>\n      <td>9.255598e+14</td>\n      <td>1.005053e+15</td>\n      <td>1.078014e+15</td>\n      <td>1.177340e+15</td>\n      <td>1.380081e+15</td>\n      <td>1.535078e+15</td>\n      <td>1.713571e+15</td>\n      <td>1.967195e+15</td>\n      <td>2.287805e+15</td>\n      <td>...</td>\n      <td>8.676844e+15</td>\n      <td>1.000180e+16</td>\n      <td>1.155185e+16</td>\n      <td>1.167182e+16</td>\n      <td>1.319156e+16</td>\n      <td>1.534503e+16</td>\n      <td>1.923397e+16</td>\n      <td>2.487906e+16</td>\n      <td>3.384422e+16</td>\n      <td>NaN</td>\n    </tr>\n  </tbody>\n</table>\n<p>8 rows × 62 columns</p>\n</div>"
     },
     "metadata": {}
    }
   ]
  },
  {
   "cell_type": "markdown",
   "source": "### 4.0 Extract Indicator names and codes and write to CSV\n\nProvides a \"lookup\" file for indicator names and associated codes.\n\nSee: [pandas.DataFrame.drop_duplicates](https://pandas.pydata.org/docs/reference/api/pandas.DataFrame.drop_duplicates.html)",
   "metadata": {
    "tags": [],
    "cell_id": "00013-368cac29-144a-40ab-b233-dbd21f6f9360",
    "deepnote_cell_type": "markdown"
   }
  },
  {
   "cell_type": "code",
   "source": "# axis=0 row; axis=1 column\nindicators = wdi_data[['Indicator Name', 'Indicator Code']].drop_duplicates()\nindicators.to_csv('./output/indicators.csv', index=False)",
   "metadata": {
    "tags": [],
    "cell_id": "00018-1deb1534-a856-4904-bc6a-00d238729197",
    "deepnote_to_be_reexecuted": false,
    "source_hash": "d9aa740d",
    "execution_start": 1629554292414,
    "execution_millis": 129,
    "allow_embed": "code_output",
    "deepnote_cell_type": "code"
   },
   "outputs": [],
   "execution_count": 7
  },
  {
   "cell_type": "markdown",
   "source": "### 4.1 Extract GDP indicators (startswith) and write to CSV\n\nProvides a \"lookup\" file for GDP-specific indicators.\n\nSee: [pandas.DataFrame.loc](https://pandas.pydata.org/docs/reference/api/pandas.DataFrame.loc.html), [pandas.Series.str.startswith](https://pandas.pydata.org/docs/reference/api/pandas.Series.str.startswith.html)",
   "metadata": {
    "tags": [],
    "cell_id": "00015-3e087b8a-4bb8-45f2-8810-60e05cfec3a5",
    "deepnote_cell_type": "markdown"
   }
  },
  {
   "cell_type": "code",
   "source": "indicators = pd.read_csv('./output/indicators.csv') # returns df\n\ngdp_indicators = indicators[indicators['Indicator Name'].str.startswith('GDP', na=False)]\n# gdp_indicators = indicators.loc[indicators['Indicator Name'].str.startswith('GDP', na=False)] # alternative\n\ngdp_indicators.to_csv('./output/gdp_indicators.csv', index=False)",
   "metadata": {
    "tags": [],
    "cell_id": "00016-3993f847-8dae-464d-ba42-189c919624a3",
    "deepnote_to_be_reexecuted": false,
    "source_hash": "55542353",
    "execution_start": 1629554292553,
    "execution_millis": 9,
    "deepnote_cell_type": "code"
   },
   "outputs": [],
   "execution_count": 8
  },
  {
   "cell_type": "markdown",
   "source": "### 4.2 Extract row data: GDP per capita (current US $)\n\nSee: [DataFrame subsets](https://pandas.pydata.org/pandas-docs/stable/getting_started/intro_tutorials/03_subset_data.html)",
   "metadata": {
    "tags": [],
    "cell_id": "00013-83f2b3ff-16b0-48a0-9745-8eb46e006868",
    "deepnote_cell_type": "markdown"
   }
  },
  {
   "cell_type": "code",
   "metadata": {
    "tags": [],
    "cell_id": "00009-a81b66af-fbef-4776-b426-64fd8ac8a3ea",
    "deepnote_to_be_reexecuted": false,
    "source_hash": "f497b160",
    "execution_start": 1629554292600,
    "execution_millis": 6,
    "deepnote_cell_type": "code"
   },
   "source": "# Filter rows on GDP per capita\ngdp_per_capita = wdi_data[wdi_data[\"Indicator Code\"] == 'NY.GDP.PCAP.CD']\ngdp_per_capita.shape",
   "execution_count": 9,
   "outputs": [
    {
     "output_type": "execute_result",
     "execution_count": 9,
     "data": {
      "text/plain": "(266, 66)"
     },
     "metadata": {}
    }
   ]
  },
  {
   "cell_type": "markdown",
   "source": "### 4.3 Review first five (5) rows",
   "metadata": {
    "tags": [],
    "cell_id": "00015-71debc8d-bcce-45d9-9bdf-d7d36d7f4ea0",
    "deepnote_cell_type": "markdown"
   }
  },
  {
   "cell_type": "code",
   "metadata": {
    "tags": [],
    "cell_id": "00010-b546e799-4f4d-4375-ae43-7003ee61e93a",
    "deepnote_to_be_reexecuted": false,
    "source_hash": "c26ce68",
    "execution_start": 1629554292646,
    "execution_millis": 229,
    "deepnote_cell_type": "code"
   },
   "source": "gdp_per_capita.head()",
   "execution_count": 10,
   "outputs": [
    {
     "output_type": "execute_result",
     "execution_count": 10,
     "data": {
      "application/vnd.deepnote.dataframe.v2+json": {
       "row_count": 5,
       "column_count": 66,
       "columns": [
        {
         "name": "Country Name",
         "dtype": "object",
         "stats": {
          "unique_count": 5,
          "nan_count": 0,
          "categories": [
           {
            "name": "Africa Eastern and Southern",
            "count": 1
           },
           {
            "name": "Africa Western and Central",
            "count": 1
           },
           {
            "name": "3 others",
            "count": 3
           }
          ]
         }
        },
        {
         "name": "Country Code",
         "dtype": "object",
         "stats": {
          "unique_count": 5,
          "nan_count": 0,
          "categories": [
           {
            "name": "AFE",
            "count": 1
           },
           {
            "name": "AFW",
            "count": 1
           },
           {
            "name": "3 others",
            "count": 3
           }
          ]
         }
        },
        {
         "name": "Indicator Name",
         "dtype": "object",
         "stats": {
          "unique_count": 1,
          "nan_count": 0,
          "categories": [
           {
            "name": "GDP per capita (current US$)",
            "count": 5
           }
          ]
         }
        },
        {
         "name": "Indicator Code",
         "dtype": "object",
         "stats": {
          "unique_count": 1,
          "nan_count": 0,
          "categories": [
           {
            "name": "NY.GDP.PCAP.CD",
            "count": 5
           }
          ]
         }
        },
        {
         "name": "1960",
         "dtype": "float64",
         "stats": {
          "unique_count": 3,
          "nan_count": 2,
          "min": "107.963778616651",
          "max": "448.256417447372",
          "histogram": [
           {
            "bin_start": 107.963778616651,
            "bin_end": 141.9930424997231,
            "count": 1
           },
           {
            "bin_start": 141.9930424997231,
            "bin_end": 176.0223063827952,
            "count": 1
           },
           {
            "bin_start": 176.0223063827952,
            "bin_end": 210.05157026586727,
            "count": 0
           },
           {
            "bin_start": 210.05157026586727,
            "bin_end": 244.0808341489394,
            "count": 0
           },
           {
            "bin_start": 244.0808341489394,
            "bin_end": 278.1100980320115,
            "count": 0
           },
           {
            "bin_start": 278.1100980320115,
            "bin_end": 312.13936191508355,
            "count": 0
           },
           {
            "bin_start": 312.13936191508355,
            "bin_end": 346.1686257981557,
            "count": 0
           },
           {
            "bin_start": 346.1686257981557,
            "bin_end": 380.19788968122776,
            "count": 0
           },
           {
            "bin_start": 380.19788968122776,
            "bin_end": 414.22715356429984,
            "count": 0
           },
           {
            "bin_start": 414.22715356429984,
            "bin_end": 448.256417447372,
            "count": 1
           }
          ]
         }
        },
        {
         "name": "1961",
         "dtype": "float64",
         "stats": {
          "unique_count": 3,
          "nan_count": 2,
          "min": "113.114696953784",
          "max": "476.901483888726",
          "histogram": [
           {
            "bin_start": 113.114696953784,
            "bin_end": 149.49337564727819,
            "count": 2
           },
           {
            "bin_start": 149.49337564727819,
            "bin_end": 185.8720543407724,
            "count": 0
           },
           {
            "bin_start": 185.8720543407724,
            "bin_end": 222.2507330342666,
            "count": 0
           },
           {
            "bin_start": 222.2507330342666,
            "bin_end": 258.6294117277608,
            "count": 0
           },
           {
            "bin_start": 258.6294117277608,
            "bin_end": 295.00809042125496,
            "count": 0
           },
           {
            "bin_start": 295.00809042125496,
            "bin_end": 331.3867691147492,
            "count": 0
           },
           {
            "bin_start": 331.3867691147492,
            "bin_end": 367.7654478082434,
            "count": 0
           },
           {
            "bin_start": 367.7654478082434,
            "bin_end": 404.14412650173756,
            "count": 0
           },
           {
            "bin_start": 404.14412650173756,
            "bin_end": 440.52280519523174,
            "count": 0
           },
           {
            "bin_start": 440.52280519523174,
            "bin_end": 476.901483888726,
            "count": 1
           }
          ]
         }
        },
        {
         "name": "1962",
         "dtype": "float64",
         "stats": {
          "unique_count": 3,
          "nan_count": 2,
          "min": "118.865837440142",
          "max": "494.736371870331",
          "histogram": [
           {
            "bin_start": 118.865837440142,
            "bin_end": 156.4528908831609,
            "count": 2
           },
           {
            "bin_start": 156.4528908831609,
            "bin_end": 194.0399443261798,
            "count": 0
           },
           {
            "bin_start": 194.0399443261798,
            "bin_end": 231.6269977691987,
            "count": 0
           },
           {
            "bin_start": 231.6269977691987,
            "bin_end": 269.2140512122176,
            "count": 0
           },
           {
            "bin_start": 269.2140512122176,
            "bin_end": 306.8011046552365,
            "count": 0
           },
           {
            "bin_start": 306.8011046552365,
            "bin_end": 344.3881580982554,
            "count": 0
           },
           {
            "bin_start": 344.3881580982554,
            "bin_end": 381.9752115412743,
            "count": 0
           },
           {
            "bin_start": 381.9752115412743,
            "bin_end": 419.5622649842932,
            "count": 0
           },
           {
            "bin_start": 419.5622649842932,
            "bin_end": 457.14931842731215,
            "count": 0
           },
           {
            "bin_start": 457.14931842731215,
            "bin_end": 494.736371870331,
            "count": 1
           }
          ]
         }
        },
        {
         "name": "1963",
         "dtype": "float64",
         "stats": {
          "unique_count": 3,
          "nan_count": 2,
          "min": "123.478966568545",
          "max": "516.739524018496",
          "histogram": [
           {
            "bin_start": 123.478966568545,
            "bin_end": 162.80502231354012,
            "count": 1
           },
           {
            "bin_start": 162.80502231354012,
            "bin_end": 202.1310780585352,
            "count": 1
           },
           {
            "bin_start": 202.1310780585352,
            "bin_end": 241.45713380353033,
            "count": 0
           },
           {
            "bin_start": 241.45713380353033,
            "bin_end": 280.7831895485254,
            "count": 0
           },
           {
            "bin_start": 280.7831895485254,
            "bin_end": 320.10924529352053,
            "count": 0
           },
           {
            "bin_start": 320.10924529352053,
            "bin_end": 359.4353010385156,
            "count": 0
           },
           {
            "bin_start": 359.4353010385156,
            "bin_end": 398.76135678351073,
            "count": 0
           },
           {
            "bin_start": 398.76135678351073,
            "bin_end": 438.0874125285058,
            "count": 0
           },
           {
            "bin_start": 438.0874125285058,
            "bin_end": 477.4134682735009,
            "count": 0
           },
           {
            "bin_start": 477.4134682735009,
            "bin_end": 516.739524018496,
            "count": 1
           }
          ]
         }
        },
        {
         "name": "1964",
         "dtype": "float64",
         "stats": {
          "unique_count": 3,
          "nan_count": 2,
          "min": "131.892938958314",
          "max": "547.950527291194",
          "histogram": [
           {
            "bin_start": 131.892938958314,
            "bin_end": 173.498697791602,
            "count": 2
           },
           {
            "bin_start": 173.498697791602,
            "bin_end": 215.10445662489002,
            "count": 0
           },
           {
            "bin_start": 215.10445662489002,
            "bin_end": 256.710215458178,
            "count": 0
           },
           {
            "bin_start": 256.710215458178,
            "bin_end": 298.315974291466,
            "count": 0
           },
           {
            "bin_start": 298.315974291466,
            "bin_end": 339.92173312475404,
            "count": 0
           },
           {
            "bin_start": 339.92173312475404,
            "bin_end": 381.527491958042,
            "count": 0
           },
           {
            "bin_start": 381.527491958042,
            "bin_end": 423.13325079133,
            "count": 0
           },
           {
            "bin_start": 423.13325079133,
            "bin_end": 464.739009624618,
            "count": 0
           },
           {
            "bin_start": 464.739009624618,
            "bin_end": 506.344768457906,
            "count": 0
           },
           {
            "bin_start": 506.344768457906,
            "bin_end": 547.950527291194,
            "count": 1
           }
          ]
         }
        },
        {
         "name": "1965",
         "dtype": "float64",
         "stats": {
          "unique_count": 3,
          "nan_count": 2,
          "min": "138.566819440514",
          "max": "580.944135963881",
          "histogram": [
           {
            "bin_start": 138.566819440514,
            "bin_end": 182.8045510928507,
            "count": 2
           },
           {
            "bin_start": 182.8045510928507,
            "bin_end": 227.04228274518738,
            "count": 0
           },
           {
            "bin_start": 227.04228274518738,
            "bin_end": 271.2800143975241,
            "count": 0
           },
           {
            "bin_start": 271.2800143975241,
            "bin_end": 315.51774604986076,
            "count": 0
           },
           {
            "bin_start": 315.51774604986076,
            "bin_end": 359.7554777021975,
            "count": 0
           },
           {
            "bin_start": 359.7554777021975,
            "bin_end": 403.9932093545342,
            "count": 0
           },
           {
            "bin_start": 403.9932093545342,
            "bin_end": 448.23094100687086,
            "count": 0
           },
           {
            "bin_start": 448.23094100687086,
            "bin_end": 492.4686726592076,
            "count": 0
           },
           {
            "bin_start": 492.4686726592076,
            "bin_end": 536.7064043115442,
            "count": 0
           },
           {
            "bin_start": 536.7064043115442,
            "bin_end": 580.944135963881,
            "count": 1
           }
          ]
         }
        },
        {
         "name": "1966",
         "dtype": "float64",
         "stats": {
          "unique_count": 3,
          "nan_count": 2,
          "min": "144.368394634907",
          "max": "621.434727092336",
          "histogram": [
           {
            "bin_start": 144.368394634907,
            "bin_end": 192.07502788064988,
            "count": 2
           },
           {
            "bin_start": 192.07502788064988,
            "bin_end": 239.7816611263928,
            "count": 0
           },
           {
            "bin_start": 239.7816611263928,
            "bin_end": 287.48829437213567,
            "count": 0
           },
           {
            "bin_start": 287.48829437213567,
            "bin_end": 335.1949276178786,
            "count": 0
           },
           {
            "bin_start": 335.1949276178786,
            "bin_end": 382.9015608636215,
            "count": 0
           },
           {
            "bin_start": 382.9015608636215,
            "bin_end": 430.6081941093644,
            "count": 0
           },
           {
            "bin_start": 430.6081941093644,
            "bin_end": 478.31482735510724,
            "count": 0
           },
           {
            "bin_start": 478.31482735510724,
            "bin_end": 526.0214606008502,
            "count": 0
           },
           {
            "bin_start": 526.0214606008502,
            "bin_end": 573.7280938465931,
            "count": 0
           },
           {
            "bin_start": 573.7280938465931,
            "bin_end": 621.434727092336,
            "count": 1
           }
          ]
         }
        },
        {
         "name": "1967",
         "dtype": "float64",
         "stats": {
          "unique_count": 3,
          "nan_count": 2,
          "min": "128.620050961971",
          "max": "658.350898363451",
          "histogram": [
           {
            "bin_start": 128.620050961971,
            "bin_end": 181.593135702119,
            "count": 1
           },
           {
            "bin_start": 181.593135702119,
            "bin_end": 234.56622044226702,
            "count": 1
           },
           {
            "bin_start": 234.56622044226702,
            "bin_end": 287.53930518241503,
            "count": 0
           },
           {
            "bin_start": 287.53930518241503,
            "bin_end": 340.51238992256305,
            "count": 0
           },
           {
            "bin_start": 340.51238992256305,
            "bin_end": 393.48547466271106,
            "count": 0
           },
           {
            "bin_start": 393.48547466271106,
            "bin_end": 446.45855940285907,
            "count": 0
           },
           {
            "bin_start": 446.45855940285907,
            "bin_end": 499.4316441430071,
            "count": 0
           },
           {
            "bin_start": 499.4316441430071,
            "bin_end": 552.404728883155,
            "count": 0
           },
           {
            "bin_start": 552.404728883155,
            "bin_end": 605.3778136233032,
            "count": 0
           },
           {
            "bin_start": 605.3778136233032,
            "bin_end": 658.350898363451,
            "count": 1
           }
          ]
         }
        },
        {
         "name": "1968",
         "dtype": "float64",
         "stats": {
          "unique_count": 4,
          "nan_count": 1,
          "min": "129.678996354687",
          "max": "645.928307266593",
          "histogram": [
           {
            "bin_start": 129.678996354687,
            "bin_end": 181.3039274458776,
            "count": 1
           },
           {
            "bin_start": 181.3039274458776,
            "bin_end": 232.9288585370682,
            "count": 1
           },
           {
            "bin_start": 232.9288585370682,
            "bin_end": 284.5537896282588,
            "count": 0
           },
           {
            "bin_start": 284.5537896282588,
            "bin_end": 336.1787207194494,
            "count": 1
           },
           {
            "bin_start": 336.1787207194494,
            "bin_end": 387.80365181064,
            "count": 0
           },
           {
            "bin_start": 387.80365181064,
            "bin_end": 439.4285829018306,
            "count": 0
           },
           {
            "bin_start": 439.4285829018306,
            "bin_end": 491.0535139930212,
            "count": 0
           },
           {
            "bin_start": 491.0535139930212,
            "bin_end": 542.6784450842118,
            "count": 0
           },
           {
            "bin_start": 542.6784450842118,
            "bin_end": 594.3033761754025,
            "count": 0
           },
           {
            "bin_start": 594.3033761754025,
            "bin_end": 645.928307266593,
            "count": 1
           }
          ]
         }
        },
        {
         "name": "1969",
         "dtype": "float64",
         "stats": {
          "unique_count": 4,
          "nan_count": 1,
          "min": "143.757635300556",
          "max": "695.03898174207",
          "histogram": [
           {
            "bin_start": 143.757635300556,
            "bin_end": 198.8857699447074,
            "count": 1
           },
           {
            "bin_start": 198.8857699447074,
            "bin_end": 254.0139045888588,
            "count": 1
           },
           {
            "bin_start": 254.0139045888588,
            "bin_end": 309.14203923301017,
            "count": 0
           },
           {
            "bin_start": 309.14203923301017,
            "bin_end": 364.2701738771616,
            "count": 1
           },
           {
            "bin_start": 364.2701738771616,
            "bin_end": 419.39830852131297,
            "count": 0
           },
           {
            "bin_start": 419.39830852131297,
            "bin_end": 474.52644316546434,
            "count": 0
           },
           {
            "bin_start": 474.52644316546434,
            "bin_end": 529.6545778096158,
            "count": 0
           },
           {
            "bin_start": 529.6545778096158,
            "bin_end": 584.7827124537671,
            "count": 0
           },
           {
            "bin_start": 584.7827124537671,
            "bin_end": 639.9108470979186,
            "count": 0
           },
           {
            "bin_start": 639.9108470979186,
            "bin_end": 695.03898174207,
            "count": 1
           }
          ]
         }
        },
        {
         "name": "1970",
         "dtype": "float64",
         "stats": {
          "unique_count": 4,
          "nan_count": 1,
          "min": "195.490684201364",
          "max": "755.144559357994",
          "histogram": [
           {
            "bin_start": 195.490684201364,
            "bin_end": 251.456071717027,
            "count": 2
           },
           {
            "bin_start": 251.456071717027,
            "bin_end": 307.42145923269,
            "count": 0
           },
           {
            "bin_start": 307.42145923269,
            "bin_end": 363.386846748353,
            "count": 1
           },
           {
            "bin_start": 363.386846748353,
            "bin_end": 419.352234264016,
            "count": 0
           },
           {
            "bin_start": 419.352234264016,
            "bin_end": 475.317621779679,
            "count": 0
           },
           {
            "bin_start": 475.317621779679,
            "bin_end": 531.283009295342,
            "count": 0
           },
           {
            "bin_start": 531.283009295342,
            "bin_end": 587.248396811005,
            "count": 0
           },
           {
            "bin_start": 587.248396811005,
            "bin_end": 643.213784326668,
            "count": 0
           },
           {
            "bin_start": 643.213784326668,
            "bin_end": 699.179171842331,
            "count": 0
           },
           {
            "bin_start": 699.179171842331,
            "bin_end": 755.144559357994,
            "count": 1
           }
          ]
         }
        },
        {
         "name": "1971",
         "dtype": "float64",
         "stats": {
          "unique_count": 4,
          "nan_count": 1,
          "min": "169.168528863905",
          "max": "811.131747023846",
          "histogram": [
           {
            "bin_start": 169.168528863905,
            "bin_end": 233.3648506798991,
            "count": 1
           },
           {
            "bin_start": 233.3648506798991,
            "bin_end": 297.5611724958932,
            "count": 1
           },
           {
            "bin_start": 297.5611724958932,
            "bin_end": 361.7574943118873,
            "count": 0
           },
           {
            "bin_start": 361.7574943118873,
            "bin_end": 425.95381612788134,
            "count": 1
           },
           {
            "bin_start": 425.95381612788134,
            "bin_end": 490.15013794387545,
            "count": 0
           },
           {
            "bin_start": 490.15013794387545,
            "bin_end": 554.3464597598695,
            "count": 0
           },
           {
            "bin_start": 554.3464597598695,
            "bin_end": 618.5427815758635,
            "count": 0
           },
           {
            "bin_start": 618.5427815758635,
            "bin_end": 682.7391033918577,
            "count": 0
           },
           {
            "bin_start": 682.7391033918577,
            "bin_end": 746.9354252078517,
            "count": 0
           },
           {
            "bin_start": 746.9354252078517,
            "bin_end": 811.131747023846,
            "count": 1
           }
          ]
         }
        },
        {
         "name": "1972",
         "dtype": "float64",
         "stats": {
          "unique_count": 4,
          "nan_count": 1,
          "min": "200.226910297762",
          "max": "925.527534480403",
          "histogram": [
           {
            "bin_start": 200.226910297762,
            "bin_end": 272.7569727160261,
            "count": 2
           },
           {
            "bin_start": 272.7569727160261,
            "bin_end": 345.28703513429025,
            "count": 0
           },
           {
            "bin_start": 345.28703513429025,
            "bin_end": 417.81709755255434,
            "count": 0
           },
           {
            "bin_start": 417.81709755255434,
            "bin_end": 490.34715997081844,
            "count": 1
           },
           {
            "bin_start": 490.34715997081844,
            "bin_end": 562.8772223890826,
            "count": 0
           },
           {
            "bin_start": 562.8772223890826,
            "bin_end": 635.4072848073467,
            "count": 0
           },
           {
            "bin_start": 635.4072848073467,
            "bin_end": 707.9373472256108,
            "count": 0
           },
           {
            "bin_start": 707.9373472256108,
            "bin_end": 780.4674096438748,
            "count": 0
           },
           {
            "bin_start": 780.4674096438748,
            "bin_end": 852.997472062139,
            "count": 0
           },
           {
            "bin_start": 852.997472062139,
            "bin_end": 925.527534480403,
            "count": 1
           }
          ]
         }
        },
        {
         "name": "1973",
         "dtype": "float64",
         "stats": {
          "unique_count": 4,
          "nan_count": 1,
          "min": "241.782075260994",
          "max": "1000.86236268925",
          "histogram": [
           {
            "bin_start": 241.782075260994,
            "bin_end": 317.69010400381956,
            "count": 1
           },
           {
            "bin_start": 317.69010400381956,
            "bin_end": 393.5981327466452,
            "count": 1
           },
           {
            "bin_start": 393.5981327466452,
            "bin_end": 469.50616148947074,
            "count": 0
           },
           {
            "bin_start": 469.50616148947074,
            "bin_end": 545.4141902322964,
            "count": 0
           },
           {
            "bin_start": 545.4141902322964,
            "bin_end": 621.3222189751219,
            "count": 1
           },
           {
            "bin_start": 621.3222189751219,
            "bin_end": 697.2302477179476,
            "count": 0
           },
           {
            "bin_start": 697.2302477179476,
            "bin_end": 773.1382764607732,
            "count": 0
           },
           {
            "bin_start": 773.1382764607732,
            "bin_end": 849.0463052035988,
            "count": 0
           },
           {
            "bin_start": 849.0463052035988,
            "bin_end": 924.9543339464243,
            "count": 0
           },
           {
            "bin_start": 924.9543339464243,
            "bin_end": 1000.86236268925,
            "count": 1
           }
          ]
         }
        },
        {
         "name": "1974",
         "dtype": "float64",
         "stats": {
          "unique_count": 4,
          "nan_count": 1,
          "min": "333.289875473385",
          "max": "1285.49330305829",
          "histogram": [
           {
            "bin_start": 333.289875473385,
            "bin_end": 428.51021823187546,
            "count": 2
           },
           {
            "bin_start": 428.51021823187546,
            "bin_end": 523.730560990366,
            "count": 0
           },
           {
            "bin_start": 523.730560990366,
            "bin_end": 618.9509037488565,
            "count": 0
           },
           {
            "bin_start": 618.9509037488565,
            "bin_end": 714.171246507347,
            "count": 0
           },
           {
            "bin_start": 714.171246507347,
            "bin_end": 809.3915892658374,
            "count": 0
           },
           {
            "bin_start": 809.3915892658374,
            "bin_end": 904.611932024328,
            "count": 0
           },
           {
            "bin_start": 904.611932024328,
            "bin_end": 999.8322747828184,
            "count": 0
           },
           {
            "bin_start": 999.8322747828184,
            "bin_end": 1095.0526175413088,
            "count": 1
           },
           {
            "bin_start": 1095.0526175413088,
            "bin_end": 1190.2729602997993,
            "count": 0
           },
           {
            "bin_start": 1190.2729602997993,
            "bin_end": 1285.49330305829,
            "count": 1
           }
          ]
         }
        },
        {
         "name": "1975",
         "dtype": "float64",
         "stats": {
          "unique_count": 4,
          "nan_count": 1,
          "min": "377.898462957787",
          "max": "1485.16132917954",
          "histogram": [
           {
            "bin_start": 377.898462957787,
            "bin_end": 488.6247495799623,
            "count": 2
           },
           {
            "bin_start": 488.6247495799623,
            "bin_end": 599.3510362021376,
            "count": 0
           },
           {
            "bin_start": 599.3510362021376,
            "bin_end": 710.0773228243129,
            "count": 0
           },
           {
            "bin_start": 710.0773228243129,
            "bin_end": 820.8036094464883,
            "count": 0
           },
           {
            "bin_start": 820.8036094464883,
            "bin_end": 931.5298960686634,
            "count": 0
           },
           {
            "bin_start": 931.5298960686634,
            "bin_end": 1042.2561826908388,
            "count": 0
           },
           {
            "bin_start": 1042.2561826908388,
            "bin_end": 1152.9824693130142,
            "count": 1
           },
           {
            "bin_start": 1152.9824693130142,
            "bin_end": 1263.7087559351894,
            "count": 0
           },
           {
            "bin_start": 1263.7087559351894,
            "bin_end": 1374.4350425573648,
            "count": 0
           },
           {
            "bin_start": 1374.4350425573648,
            "bin_end": 1485.16132917954,
            "count": 1
           }
          ]
         }
        },
        {
         "name": "1976",
         "dtype": "float64",
         "stats": {
          "unique_count": 4,
          "nan_count": 1,
          "min": "411.062391144669",
          "max": "1511.87493810205",
          "histogram": [
           {
            "bin_start": 411.062391144669,
            "bin_end": 521.1436458404071,
            "count": 2
           },
           {
            "bin_start": 521.1436458404071,
            "bin_end": 631.2249005361452,
            "count": 0
           },
           {
            "bin_start": 631.2249005361452,
            "bin_end": 741.3061552318834,
            "count": 0
           },
           {
            "bin_start": 741.3061552318834,
            "bin_end": 851.3874099276214,
            "count": 0
           },
           {
            "bin_start": 851.3874099276214,
            "bin_end": 961.4686646233595,
            "count": 0
           },
           {
            "bin_start": 961.4686646233595,
            "bin_end": 1071.5499193190976,
            "count": 0
           },
           {
            "bin_start": 1071.5499193190976,
            "bin_end": 1181.6311740148358,
            "count": 0
           },
           {
            "bin_start": 1181.6311740148358,
            "bin_end": 1291.712428710574,
            "count": 0
           },
           {
            "bin_start": 1291.712428710574,
            "bin_end": 1401.793683406312,
            "count": 1
           },
           {
            "bin_start": 1401.793683406312,
            "bin_end": 1511.87493810205,
            "count": 1
           }
          ]
         }
        },
        {
         "name": "1977",
         "dtype": "float64",
         "stats": {
          "unique_count": 4,
          "nan_count": 1,
          "min": "454.923087827076",
          "max": "1736.7491543316",
          "histogram": [
           {
            "bin_start": 454.923087827076,
            "bin_end": 583.1056944775285,
            "count": 2
           },
           {
            "bin_start": 583.1056944775285,
            "bin_end": 711.2883011279808,
            "count": 0
           },
           {
            "bin_start": 711.2883011279808,
            "bin_end": 839.4709077784332,
            "count": 0
           },
           {
            "bin_start": 839.4709077784332,
            "bin_end": 967.6535144288857,
            "count": 0
           },
           {
            "bin_start": 967.6535144288857,
            "bin_end": 1095.836121079338,
            "count": 0
           },
           {
            "bin_start": 1095.836121079338,
            "bin_end": 1224.0187277297905,
            "count": 0
           },
           {
            "bin_start": 1224.0187277297905,
            "bin_end": 1352.201334380243,
            "count": 0
           },
           {
            "bin_start": 1352.201334380243,
            "bin_end": 1480.3839410306953,
            "count": 0
           },
           {
            "bin_start": 1480.3839410306953,
            "bin_end": 1608.5665476811478,
            "count": 1
           },
           {
            "bin_start": 1608.5665476811478,
            "bin_end": 1736.7491543316,
            "count": 1
           }
          ]
         }
        },
        {
         "name": "1978",
         "dtype": "float64",
         "stats": {
          "unique_count": 4,
          "nan_count": 1,
          "min": "482.618499758549",
          "max": "1759.82502005686",
          "histogram": [
           {
            "bin_start": 482.618499758549,
            "bin_end": 610.33915178838,
            "count": 2
           },
           {
            "bin_start": 610.33915178838,
            "bin_end": 738.0598038182112,
            "count": 0
           },
           {
            "bin_start": 738.0598038182112,
            "bin_end": 865.7804558480423,
            "count": 0
           },
           {
            "bin_start": 865.7804558480423,
            "bin_end": 993.5011078778734,
            "count": 0
           },
           {
            "bin_start": 993.5011078778734,
            "bin_end": 1121.2217599077044,
            "count": 0
           },
           {
            "bin_start": 1121.2217599077044,
            "bin_end": 1248.9424119375356,
            "count": 0
           },
           {
            "bin_start": 1248.9424119375356,
            "bin_end": 1376.6630639673667,
            "count": 0
           },
           {
            "bin_start": 1376.6630639673667,
            "bin_end": 1504.3837159971977,
            "count": 0
           },
           {
            "bin_start": 1504.3837159971977,
            "bin_end": 1632.1043680270288,
            "count": 0
           },
           {
            "bin_start": 1632.1043680270288,
            "bin_end": 1759.82502005686,
            "count": 2
           }
          ]
         }
        },
        {
         "name": "1979",
         "dtype": "float64",
         "stats": {
          "unique_count": 4,
          "nan_count": 1,
          "min": "563.384517232312",
          "max": "2138.82449428602",
          "histogram": [
           {
            "bin_start": 563.384517232312,
            "bin_end": 720.9285149376828,
            "count": 2
           },
           {
            "bin_start": 720.9285149376828,
            "bin_end": 878.4725126430536,
            "count": 0
           },
           {
            "bin_start": 878.4725126430536,
            "bin_end": 1036.0165103484244,
            "count": 0
           },
           {
            "bin_start": 1036.0165103484244,
            "bin_end": 1193.5605080537953,
            "count": 0
           },
           {
            "bin_start": 1193.5605080537953,
            "bin_end": 1351.1045057591662,
            "count": 0
           },
           {
            "bin_start": 1351.1045057591662,
            "bin_end": 1508.648503464537,
            "count": 0
           },
           {
            "bin_start": 1508.648503464537,
            "bin_end": 1666.1925011699077,
            "count": 0
           },
           {
            "bin_start": 1666.1925011699077,
            "bin_end": 1823.7364988752786,
            "count": 0
           },
           {
            "bin_start": 1823.7364988752786,
            "bin_end": 1981.2804965806495,
            "count": 0
           },
           {
            "bin_start": 1981.2804965806495,
            "bin_end": 2138.82449428602,
            "count": 2
           }
          ]
         }
        },
        {
         "name": "1980",
         "dtype": "float64",
         "stats": {
          "unique_count": 4,
          "nan_count": 1,
          "min": "687.800392555771",
          "max": "2802.49449416841",
          "histogram": [
           {
            "bin_start": 687.800392555771,
            "bin_end": 899.269802717035,
            "count": 2
           },
           {
            "bin_start": 899.269802717035,
            "bin_end": 1110.7392128782988,
            "count": 0
           },
           {
            "bin_start": 1110.7392128782988,
            "bin_end": 1322.2086230395626,
            "count": 0
           },
           {
            "bin_start": 1322.2086230395626,
            "bin_end": 1533.6780332008266,
            "count": 0
           },
           {
            "bin_start": 1533.6780332008266,
            "bin_end": 1745.1474433620906,
            "count": 0
           },
           {
            "bin_start": 1745.1474433620906,
            "bin_end": 1956.6168535233542,
            "count": 0
           },
           {
            "bin_start": 1956.6168535233542,
            "bin_end": 2168.086263684618,
            "count": 0
           },
           {
            "bin_start": 2168.086263684618,
            "bin_end": 2379.555673845882,
            "count": 0
           },
           {
            "bin_start": 2379.555673845882,
            "bin_end": 2591.025084007146,
            "count": 1
           },
           {
            "bin_start": 2591.025084007146,
            "bin_end": 2802.49449416841,
            "count": 1
           }
          ]
         }
        },
        {
         "name": "1981",
         "dtype": "float64",
         "stats": {
          "unique_count": 4,
          "nan_count": 1,
          "min": "684.453944647069",
          "max": "2801.16054936606",
          "histogram": [
           {
            "bin_start": 684.453944647069,
            "bin_end": 896.124605118968,
            "count": 1
           },
           {
            "bin_start": 896.124605118968,
            "bin_end": 1107.795265590867,
            "count": 0
           },
           {
            "bin_start": 1107.795265590867,
            "bin_end": 1319.4659260627664,
            "count": 1
           },
           {
            "bin_start": 1319.4659260627664,
            "bin_end": 1531.1365865346654,
            "count": 0
           },
           {
            "bin_start": 1531.1365865346654,
            "bin_end": 1742.8072470065645,
            "count": 0
           },
           {
            "bin_start": 1742.8072470065645,
            "bin_end": 1954.4779074784637,
            "count": 0
           },
           {
            "bin_start": 1954.4779074784637,
            "bin_end": 2166.148567950363,
            "count": 0
           },
           {
            "bin_start": 2166.148567950363,
            "bin_end": 2377.819228422262,
            "count": 0
           },
           {
            "bin_start": 2377.819228422262,
            "bin_end": 2589.4898888941607,
            "count": 0
           },
           {
            "bin_start": 2589.4898888941607,
            "bin_end": 2801.16054936606,
            "count": 2
           }
          ]
         }
        },
        {
         "name": "1982",
         "dtype": "float64",
         "stats": {
          "unique_count": 4,
          "nan_count": 1,
          "min": "641.08014823215",
          "max": "2940.21279062542",
          "histogram": [
           {
            "bin_start": 641.08014823215,
            "bin_end": 870.9934124714771,
            "count": 1
           },
           {
            "bin_start": 870.9934124714771,
            "bin_end": 1100.906676710804,
            "count": 0
           },
           {
            "bin_start": 1100.906676710804,
            "bin_end": 1330.8199409501312,
            "count": 1
           },
           {
            "bin_start": 1330.8199409501312,
            "bin_end": 1560.7332051894582,
            "count": 0
           },
           {
            "bin_start": 1560.7332051894582,
            "bin_end": 1790.6464694287852,
            "count": 0
           },
           {
            "bin_start": 1790.6464694287852,
            "bin_end": 2020.5597336681121,
            "count": 0
           },
           {
            "bin_start": 2020.5597336681121,
            "bin_end": 2250.472997907439,
            "count": 0
           },
           {
            "bin_start": 2250.472997907439,
            "bin_end": 2480.386262146766,
            "count": 0
           },
           {
            "bin_start": 2480.386262146766,
            "bin_end": 2710.299526386093,
            "count": 1
           },
           {
            "bin_start": 2710.299526386093,
            "bin_end": 2940.21279062542,
            "count": 1
           }
          ]
         }
        },
        {
         "name": "1983",
         "dtype": "float64",
         "stats": {
          "unique_count": 4,
          "nan_count": 1,
          "min": "643.097823937926",
          "max": "2942.71916948449",
          "histogram": [
           {
            "bin_start": 643.097823937926,
            "bin_end": 873.0599584925824,
            "count": 2
           },
           {
            "bin_start": 873.0599584925824,
            "bin_end": 1103.0220930472387,
            "count": 0
           },
           {
            "bin_start": 1103.0220930472387,
            "bin_end": 1332.9842276018953,
            "count": 0
           },
           {
            "bin_start": 1332.9842276018953,
            "bin_end": 1562.9463621565517,
            "count": 0
           },
           {
            "bin_start": 1562.9463621565517,
            "bin_end": 1792.908496711208,
            "count": 0
           },
           {
            "bin_start": 1792.908496711208,
            "bin_end": 2022.8706312658646,
            "count": 0
           },
           {
            "bin_start": 2022.8706312658646,
            "bin_end": 2252.8327658205208,
            "count": 0
           },
           {
            "bin_start": 2252.8327658205208,
            "bin_end": 2482.7949003751773,
            "count": 1
           },
           {
            "bin_start": 2482.7949003751773,
            "bin_end": 2712.757034929834,
            "count": 0
           },
           {
            "bin_start": 2712.757034929834,
            "bin_end": 2942.71916948449,
            "count": 1
           }
          ]
         }
        },
        {
         "name": "1984",
         "dtype": "float64",
         "stats": {
          "unique_count": 4,
          "nan_count": 1,
          "min": "570.820524707177",
          "max": "2778.89334709211",
          "histogram": [
           {
            "bin_start": 570.820524707177,
            "bin_end": 791.6278069456703,
            "count": 2
           },
           {
            "bin_start": 791.6278069456703,
            "bin_end": 1012.4350891841636,
            "count": 0
           },
           {
            "bin_start": 1012.4350891841636,
            "bin_end": 1233.242371422657,
            "count": 0
           },
           {
            "bin_start": 1233.242371422657,
            "bin_end": 1454.0496536611504,
            "count": 0
           },
           {
            "bin_start": 1454.0496536611504,
            "bin_end": 1674.8569358996438,
            "count": 0
           },
           {
            "bin_start": 1674.8569358996438,
            "bin_end": 1895.6642181381367,
            "count": 0
           },
           {
            "bin_start": 1895.6642181381367,
            "bin_end": 2116.47150037663,
            "count": 0
           },
           {
            "bin_start": 2116.47150037663,
            "bin_end": 2337.2787826151234,
            "count": 1
           },
           {
            "bin_start": 2337.2787826151234,
            "bin_end": 2558.086064853617,
            "count": 0
           },
           {
            "bin_start": 2558.086064853617,
            "bin_end": 2778.89334709211,
            "count": 1
           }
          ]
         }
        },
        {
         "name": "1985",
         "dtype": "float64",
         "stats": {
          "unique_count": 4,
          "nan_count": 1,
          "min": "495.1211285723",
          "max": "2722.82827481247",
          "histogram": [
           {
            "bin_start": 495.1211285723,
            "bin_end": 717.891843196317,
            "count": 2
           },
           {
            "bin_start": 717.891843196317,
            "bin_end": 940.662557820334,
            "count": 0
           },
           {
            "bin_start": 940.662557820334,
            "bin_end": 1163.433272444351,
            "count": 0
           },
           {
            "bin_start": 1163.433272444351,
            "bin_end": 1386.203987068368,
            "count": 0
           },
           {
            "bin_start": 1386.203987068368,
            "bin_end": 1608.974701692385,
            "count": 0
           },
           {
            "bin_start": 1608.974701692385,
            "bin_end": 1831.7454163164018,
            "count": 0
           },
           {
            "bin_start": 1831.7454163164018,
            "bin_end": 2054.516130940419,
            "count": 0
           },
           {
            "bin_start": 2054.516130940419,
            "bin_end": 2277.2868455644357,
            "count": 1
           },
           {
            "bin_start": 2277.2868455644357,
            "bin_end": 2500.057560188453,
            "count": 0
           },
           {
            "bin_start": 2500.057560188453,
            "bin_end": 2722.82827481247,
            "count": 1
           }
          ]
         }
        },
        {
         "name": "1986",
         "dtype": "float64",
         "stats": {
          "unique_count": 4,
          "nan_count": 1,
          "min": "541.833346594177",
          "max": "2466.29909898147",
          "histogram": [
           {
            "bin_start": 541.833346594177,
            "bin_end": 734.2799218329062,
            "count": 2
           },
           {
            "bin_start": 734.2799218329062,
            "bin_end": 926.7264970716355,
            "count": 0
           },
           {
            "bin_start": 926.7264970716355,
            "bin_end": 1119.1730723103647,
            "count": 0
           },
           {
            "bin_start": 1119.1730723103647,
            "bin_end": 1311.6196475490942,
            "count": 0
           },
           {
            "bin_start": 1311.6196475490942,
            "bin_end": 1504.0662227878233,
            "count": 0
           },
           {
            "bin_start": 1504.0662227878233,
            "bin_end": 1696.5127980265524,
            "count": 0
           },
           {
            "bin_start": 1696.5127980265524,
            "bin_end": 1888.959373265282,
            "count": 0
           },
           {
            "bin_start": 1888.959373265282,
            "bin_end": 2081.405948504011,
            "count": 1
           },
           {
            "bin_start": 2081.405948504011,
            "bin_end": 2273.8525237427407,
            "count": 0
           },
           {
            "bin_start": 2273.8525237427407,
            "bin_end": 2466.29909898147,
            "count": 1
           }
          ]
         }
        },
        {
         "name": "1987",
         "dtype": "float64",
         "stats": {
          "unique_count": 4,
          "nan_count": 1,
          "min": "584.290054262687",
          "max": "2633.11644457619",
          "histogram": [
           {
            "bin_start": 584.290054262687,
            "bin_end": 789.1726932940373,
            "count": 2
           },
           {
            "bin_start": 789.1726932940373,
            "bin_end": 994.0553323253876,
            "count": 0
           },
           {
            "bin_start": 994.0553323253876,
            "bin_end": 1198.9379713567378,
            "count": 0
           },
           {
            "bin_start": 1198.9379713567378,
            "bin_end": 1403.8206103880882,
            "count": 0
           },
           {
            "bin_start": 1403.8206103880882,
            "bin_end": 1608.7032494194386,
            "count": 0
           },
           {
            "bin_start": 1608.7032494194386,
            "bin_end": 1813.5858884507888,
            "count": 0
           },
           {
            "bin_start": 1813.5858884507888,
            "bin_end": 2018.468527482139,
            "count": 0
           },
           {
            "bin_start": 2018.468527482139,
            "bin_end": 2223.3511665134893,
            "count": 1
           },
           {
            "bin_start": 2223.3511665134893,
            "bin_end": 2428.2338055448395,
            "count": 0
           },
           {
            "bin_start": 2428.2338055448395,
            "bin_end": 2633.11644457619,
            "count": 1
           }
          ]
         }
        },
        {
         "name": "1988",
         "dtype": "float64",
         "stats": {
          "unique_count": 4,
          "nan_count": 1,
          "min": "561.525597688105",
          "max": "2775.62222203278",
          "histogram": [
           {
            "bin_start": 561.525597688105,
            "bin_end": 782.9352601225726,
            "count": 2
           },
           {
            "bin_start": 782.9352601225726,
            "bin_end": 1004.34492255704,
            "count": 0
           },
           {
            "bin_start": 1004.34492255704,
            "bin_end": 1225.7545849915077,
            "count": 0
           },
           {
            "bin_start": 1225.7545849915077,
            "bin_end": 1447.1642474259752,
            "count": 0
           },
           {
            "bin_start": 1447.1642474259752,
            "bin_end": 1668.5739098604427,
            "count": 0
           },
           {
            "bin_start": 1668.5739098604427,
            "bin_end": 1889.9835722949101,
            "count": 0
           },
           {
            "bin_start": 1889.9835722949101,
            "bin_end": 2111.3932347293776,
            "count": 1
           },
           {
            "bin_start": 2111.3932347293776,
            "bin_end": 2332.802897163845,
            "count": 0
           },
           {
            "bin_start": 2332.802897163845,
            "bin_end": 2554.2125595983125,
            "count": 0
           },
           {
            "bin_start": 2554.2125595983125,
            "bin_end": 2775.62222203278,
            "count": 1
           }
          ]
         }
        },
        {
         "name": "1989",
         "dtype": "float64",
         "stats": {
          "unique_count": 4,
          "nan_count": 1,
          "min": "510.568346251939",
          "max": "2827.68862333084",
          "histogram": [
           {
            "bin_start": 510.568346251939,
            "bin_end": 742.280373959829,
            "count": 2
           },
           {
            "bin_start": 742.280373959829,
            "bin_end": 973.9924016677192,
            "count": 0
           },
           {
            "bin_start": 973.9924016677192,
            "bin_end": 1205.7044293756092,
            "count": 0
           },
           {
            "bin_start": 1205.7044293756092,
            "bin_end": 1437.4164570834994,
            "count": 0
           },
           {
            "bin_start": 1437.4164570834994,
            "bin_end": 1669.1284847913894,
            "count": 0
           },
           {
            "bin_start": 1669.1284847913894,
            "bin_end": 1900.8405124992794,
            "count": 0
           },
           {
            "bin_start": 1900.8405124992794,
            "bin_end": 2132.55254020717,
            "count": 1
           },
           {
            "bin_start": 2132.55254020717,
            "bin_end": 2364.2645679150596,
            "count": 0
           },
           {
            "bin_start": 2364.2645679150596,
            "bin_end": 2595.97659562295,
            "count": 0
           },
           {
            "bin_start": 2595.97659562295,
            "bin_end": 2827.68862333084,
            "count": 1
           }
          ]
         }
        },
        {
         "name": "1990",
         "dtype": "float64",
         "stats": {
          "unique_count": 5,
          "nan_count": 0,
          "min": "594.899599576292",
          "max": "2997.31956302458",
          "histogram": [
           {
            "bin_start": 594.899599576292,
            "bin_end": 835.1415959211208,
            "count": 2
           },
           {
            "bin_start": 835.1415959211208,
            "bin_end": 1075.3835922659496,
            "count": 0
           },
           {
            "bin_start": 1075.3835922659496,
            "bin_end": 1315.6255886107783,
            "count": 0
           },
           {
            "bin_start": 1315.6255886107783,
            "bin_end": 1555.867584955607,
            "count": 0
           },
           {
            "bin_start": 1555.867584955607,
            "bin_end": 1796.1095813004358,
            "count": 0
           },
           {
            "bin_start": 1796.1095813004358,
            "bin_end": 2036.351577645265,
            "count": 0
           },
           {
            "bin_start": 2036.351577645265,
            "bin_end": 2276.593573990094,
            "count": 0
           },
           {
            "bin_start": 2276.593573990094,
            "bin_end": 2516.8355703349225,
            "count": 1
           },
           {
            "bin_start": 2516.8355703349225,
            "bin_end": 2757.0775666797513,
            "count": 1
           },
           {
            "bin_start": 2757.0775666797513,
            "bin_end": 2997.31956302458,
            "count": 1
           }
          ]
         }
        },
        {
         "name": "1991",
         "dtype": "float64",
         "stats": {
          "unique_count": 5,
          "nan_count": 0,
          "min": "558.5990402193",
          "max": "2951.05963766122",
          "histogram": [
           {
            "bin_start": 558.5990402193,
            "bin_end": 797.845099963492,
            "count": 2
           },
           {
            "bin_start": 797.845099963492,
            "bin_end": 1037.091159707684,
            "count": 0
           },
           {
            "bin_start": 1037.091159707684,
            "bin_end": 1276.337219451876,
            "count": 0
           },
           {
            "bin_start": 1276.337219451876,
            "bin_end": 1515.583279196068,
            "count": 0
           },
           {
            "bin_start": 1515.583279196068,
            "bin_end": 1754.8293389402602,
            "count": 0
           },
           {
            "bin_start": 1754.8293389402602,
            "bin_end": 1994.075398684452,
            "count": 1
           },
           {
            "bin_start": 1994.075398684452,
            "bin_end": 2233.321458428644,
            "count": 1
           },
           {
            "bin_start": 2233.321458428644,
            "bin_end": 2472.567518172836,
            "count": 0
           },
           {
            "bin_start": 2472.567518172836,
            "bin_end": 2711.813577917028,
            "count": 0
           },
           {
            "bin_start": 2711.813577917028,
            "bin_end": 2951.05963766122,
            "count": 1
           }
          ]
         }
        },
        {
         "name": "1992",
         "dtype": "float64",
         "stats": {
          "unique_count": 5,
          "nan_count": 0,
          "min": "547.823070701764",
          "max": "2875.1897212525",
          "histogram": [
           {
            "bin_start": 547.823070701764,
            "bin_end": 780.5597357568377,
            "count": 2
           },
           {
            "bin_start": 780.5597357568377,
            "bin_end": 1013.2964008119112,
            "count": 0
           },
           {
            "bin_start": 1013.2964008119112,
            "bin_end": 1246.0330658669848,
            "count": 0
           },
           {
            "bin_start": 1246.0330658669848,
            "bin_end": 1478.7697309220584,
            "count": 0
           },
           {
            "bin_start": 1478.7697309220584,
            "bin_end": 1711.5063959771321,
            "count": 0
           },
           {
            "bin_start": 1711.5063959771321,
            "bin_end": 1944.2430610322056,
            "count": 0
           },
           {
            "bin_start": 1944.2430610322056,
            "bin_end": 2176.9797260872792,
            "count": 1
           },
           {
            "bin_start": 2176.9797260872792,
            "bin_end": 2409.716391142353,
            "count": 1
           },
           {
            "bin_start": 2409.716391142353,
            "bin_end": 2642.453056197426,
            "count": 0
           },
           {
            "bin_start": 2642.453056197426,
            "bin_end": 2875.1897212525,
            "count": 1
           }
          ]
         }
        },
        {
         "name": "1993",
         "dtype": "float64",
         "stats": {
          "unique_count": 5,
          "nan_count": 0,
          "min": "438.26231068767",
          "max": "3084.66082821993",
          "histogram": [
           {
            "bin_start": 438.26231068767,
            "bin_end": 702.9021624408961,
            "count": 2
           },
           {
            "bin_start": 702.9021624408961,
            "bin_end": 967.542014194122,
            "count": 0
           },
           {
            "bin_start": 967.542014194122,
            "bin_end": 1232.1818659473481,
            "count": 0
           },
           {
            "bin_start": 1232.1818659473481,
            "bin_end": 1496.821717700574,
            "count": 0
           },
           {
            "bin_start": 1496.821717700574,
            "bin_end": 1761.4615694538002,
            "count": 0
           },
           {
            "bin_start": 1761.4615694538002,
            "bin_end": 2026.101421207026,
            "count": 1
           },
           {
            "bin_start": 2026.101421207026,
            "bin_end": 2290.741272960252,
            "count": 0
           },
           {
            "bin_start": 2290.741272960252,
            "bin_end": 2555.381124713478,
            "count": 1
           },
           {
            "bin_start": 2555.381124713478,
            "bin_end": 2820.0209764667043,
            "count": 0
           },
           {
            "bin_start": 2820.0209764667043,
            "bin_end": 3084.66082821993,
            "count": 1
           }
          ]
         }
        },
        {
         "name": "1994",
         "dtype": "float64",
         "stats": {
          "unique_count": 5,
          "nan_count": 0,
          "min": "376.354920811847",
          "max": "3214.05180792654",
          "histogram": [
           {
            "bin_start": 376.354920811847,
            "bin_end": 660.1246095233163,
            "count": 2
           },
           {
            "bin_start": 660.1246095233163,
            "bin_end": 943.8942982347855,
            "count": 0
           },
           {
            "bin_start": 943.8942982347855,
            "bin_end": 1227.6639869462547,
            "count": 0
           },
           {
            "bin_start": 1227.6639869462547,
            "bin_end": 1511.433675657724,
            "count": 0
           },
           {
            "bin_start": 1511.433675657724,
            "bin_end": 1795.2033643691934,
            "count": 0
           },
           {
            "bin_start": 1795.2033643691934,
            "bin_end": 2078.973053080663,
            "count": 1
           },
           {
            "bin_start": 2078.973053080663,
            "bin_end": 2362.7427417921317,
            "count": 0
           },
           {
            "bin_start": 2362.7427417921317,
            "bin_end": 2646.512430503601,
            "count": 0
           },
           {
            "bin_start": 2646.512430503601,
            "bin_end": 2930.2821192150705,
            "count": 1
           },
           {
            "bin_start": 2930.2821192150705,
            "bin_end": 3214.05180792654,
            "count": 1
           }
          ]
         }
        },
        {
         "name": "1995",
         "dtype": "float64",
         "stats": {
          "unique_count": 5,
          "nan_count": 0,
          "min": "459.364903240959",
          "max": "3578.6153664721",
          "histogram": [
           {
            "bin_start": 459.364903240959,
            "bin_end": 771.2899495640731,
            "count": 2
           },
           {
            "bin_start": 771.2899495640731,
            "bin_end": 1083.2149958871871,
            "count": 0
           },
           {
            "bin_start": 1083.2149958871871,
            "bin_end": 1395.1400422103013,
            "count": 0
           },
           {
            "bin_start": 1395.1400422103013,
            "bin_end": 1707.0650885334153,
            "count": 0
           },
           {
            "bin_start": 1707.0650885334153,
            "bin_end": 2018.9901348565295,
            "count": 0
           },
           {
            "bin_start": 2018.9901348565295,
            "bin_end": 2330.9151811796437,
            "count": 1
           },
           {
            "bin_start": 2330.9151811796437,
            "bin_end": 2642.8402275027574,
            "count": 0
           },
           {
            "bin_start": 2642.8402275027574,
            "bin_end": 2954.7652738258716,
            "count": 0
           },
           {
            "bin_start": 2954.7652738258716,
            "bin_end": 3266.690320148986,
            "count": 0
           },
           {
            "bin_start": 3266.690320148986,
            "bin_end": 3578.6153664721,
            "count": 2
           }
          ]
         }
        },
        {
         "name": "1996",
         "dtype": "float64",
         "stats": {
          "unique_count": 5,
          "nan_count": 0,
          "min": "495.779036379884",
          "max": "3803.62328864531",
          "histogram": [
           {
            "bin_start": 495.779036379884,
            "bin_end": 826.5634616064266,
            "count": 2
           },
           {
            "bin_start": 826.5634616064266,
            "bin_end": 1157.3478868329692,
            "count": 0
           },
           {
            "bin_start": 1157.3478868329692,
            "bin_end": 1488.1323120595116,
            "count": 0
           },
           {
            "bin_start": 1488.1323120595116,
            "bin_end": 1818.9167372860543,
            "count": 0
           },
           {
            "bin_start": 1818.9167372860543,
            "bin_end": 2149.701162512597,
            "count": 0
           },
           {
            "bin_start": 2149.701162512597,
            "bin_end": 2480.485587739139,
            "count": 1
           },
           {
            "bin_start": 2480.485587739139,
            "bin_end": 2811.270012965682,
            "count": 0
           },
           {
            "bin_start": 2811.270012965682,
            "bin_end": 3142.0544381922246,
            "count": 0
           },
           {
            "bin_start": 3142.0544381922246,
            "bin_end": 3472.8388634187672,
            "count": 0
           },
           {
            "bin_start": 3472.8388634187672,
            "bin_end": 3803.62328864531,
            "count": 2
           }
          ]
         }
        },
        {
         "name": "1997",
         "dtype": "float64",
         "stats": {
          "unique_count": 5,
          "nan_count": 0,
          "min": "486.52301634998",
          "max": "4421.50707411154",
          "histogram": [
           {
            "bin_start": 486.52301634998,
            "bin_end": 880.021422126136,
            "count": 2
           },
           {
            "bin_start": 880.021422126136,
            "bin_end": 1273.519827902292,
            "count": 0
           },
           {
            "bin_start": 1273.519827902292,
            "bin_end": 1667.0182336784478,
            "count": 0
           },
           {
            "bin_start": 1667.0182336784478,
            "bin_end": 2060.516639454604,
            "count": 0
           },
           {
            "bin_start": 2060.516639454604,
            "bin_end": 2454.01504523076,
            "count": 1
           },
           {
            "bin_start": 2454.01504523076,
            "bin_end": 2847.5134510069156,
            "count": 0
           },
           {
            "bin_start": 2847.5134510069156,
            "bin_end": 3241.011856783072,
            "count": 0
           },
           {
            "bin_start": 3241.011856783072,
            "bin_end": 3634.5102625592276,
            "count": 0
           },
           {
            "bin_start": 3634.5102625592276,
            "bin_end": 4028.0086683353834,
            "count": 1
           },
           {
            "bin_start": 4028.0086683353834,
            "bin_end": 4421.50707411154,
            "count": 1
           }
          ]
         }
        },
        {
         "name": "1998",
         "dtype": "float64",
         "stats": {
          "unique_count": 5,
          "nan_count": 0,
          "min": "484.090741631737",
          "max": "4690.20395190482",
          "histogram": [
           {
            "bin_start": 484.090741631737,
            "bin_end": 904.7020626590454,
            "count": 2
           },
           {
            "bin_start": 904.7020626590454,
            "bin_end": 1325.3133836863537,
            "count": 0
           },
           {
            "bin_start": 1325.3133836863537,
            "bin_end": 1745.924704713662,
            "count": 0
           },
           {
            "bin_start": 1745.924704713662,
            "bin_end": 2166.53602574097,
            "count": 0
           },
           {
            "bin_start": 2166.53602574097,
            "bin_end": 2587.1473467682786,
            "count": 1
           },
           {
            "bin_start": 2587.1473467682786,
            "bin_end": 3007.758667795587,
            "count": 0
           },
           {
            "bin_start": 3007.758667795587,
            "bin_end": 3428.3699888228953,
            "count": 0
           },
           {
            "bin_start": 3428.3699888228953,
            "bin_end": 3848.9813098502036,
            "count": 0
           },
           {
            "bin_start": 3848.9813098502036,
            "bin_end": 4269.592630877512,
            "count": 1
           },
           {
            "bin_start": 4269.592630877512,
            "bin_end": 4690.20395190482,
            "count": 1
           }
          ]
         }
        },
        {
         "name": "1999",
         "dtype": "float64",
         "stats": {
          "unique_count": 5,
          "nan_count": 0,
          "min": "500.436179658533",
          "max": "4938.52388005065",
          "histogram": [
           {
            "bin_start": 500.436179658533,
            "bin_end": 944.2449496977447,
            "count": 2
           },
           {
            "bin_start": 944.2449496977447,
            "bin_end": 1388.0537197369565,
            "count": 0
           },
           {
            "bin_start": 1388.0537197369565,
            "bin_end": 1831.8624897761683,
            "count": 0
           },
           {
            "bin_start": 1831.8624897761683,
            "bin_end": 2275.67125981538,
            "count": 0
           },
           {
            "bin_start": 2275.67125981538,
            "bin_end": 2719.480029854592,
            "count": 1
           },
           {
            "bin_start": 2719.480029854592,
            "bin_end": 3163.2887998938036,
            "count": 0
           },
           {
            "bin_start": 3163.2887998938036,
            "bin_end": 3607.0975699330156,
            "count": 0
           },
           {
            "bin_start": 3607.0975699330156,
            "bin_end": 4050.906339972227,
            "count": 1
           },
           {
            "bin_start": 4050.906339972227,
            "bin_end": 4494.715110011439,
            "count": 0
           },
           {
            "bin_start": 4494.715110011439,
            "bin_end": 4938.52388005065,
            "count": 1
           }
          ]
         }
        },
        {
         "name": "2000",
         "dtype": "float64",
         "stats": {
          "unique_count": 5,
          "nan_count": 0,
          "min": "502.031661993901",
          "max": "5253.44208546355",
          "histogram": [
           {
            "bin_start": 502.031661993901,
            "bin_end": 977.172704340866,
            "count": 2
           },
           {
            "bin_start": 977.172704340866,
            "bin_end": 1452.3137466878306,
            "count": 0
           },
           {
            "bin_start": 1452.3137466878306,
            "bin_end": 1927.4547890347956,
            "count": 0
           },
           {
            "bin_start": 1927.4547890347956,
            "bin_end": 2402.5958313817605,
            "count": 0
           },
           {
            "bin_start": 2402.5958313817605,
            "bin_end": 2877.736873728725,
            "count": 1
           },
           {
            "bin_start": 2877.736873728725,
            "bin_end": 3352.8779160756903,
            "count": 0
           },
           {
            "bin_start": 3352.8779160756903,
            "bin_end": 3828.0189584226555,
            "count": 0
           },
           {
            "bin_start": 3828.0189584226555,
            "bin_end": 4303.16000076962,
            "count": 1
           },
           {
            "bin_start": 4303.16000076962,
            "bin_end": 4778.301043116585,
            "count": 0
           },
           {
            "bin_start": 4778.301043116585,
            "bin_end": 5253.44208546355,
            "count": 1
           }
          ]
         }
        },
        {
         "name": "2001",
         "dtype": "float64",
         "stats": {
          "unique_count": 5,
          "nan_count": 0,
          "min": "516.927933754647",
          "max": "5374.08324483209",
          "histogram": [
           {
            "bin_start": 516.927933754647,
            "bin_end": 1002.6434648623913,
            "count": 2
           },
           {
            "bin_start": 1002.6434648623913,
            "bin_end": 1488.3589959701358,
            "count": 0
           },
           {
            "bin_start": 1488.3589959701358,
            "bin_end": 1974.07452707788,
            "count": 0
           },
           {
            "bin_start": 1974.07452707788,
            "bin_end": 2459.7900581856243,
            "count": 0
           },
           {
            "bin_start": 2459.7900581856243,
            "bin_end": 2945.5055892933688,
            "count": 1
           },
           {
            "bin_start": 2945.5055892933688,
            "bin_end": 3431.221120401113,
            "count": 0
           },
           {
            "bin_start": 3431.221120401113,
            "bin_end": 3916.936651508857,
            "count": 0
           },
           {
            "bin_start": 3916.936651508857,
            "bin_end": 4402.652182616602,
            "count": 1
           },
           {
            "bin_start": 4402.652182616602,
            "bin_end": 4888.367713724346,
            "count": 0
           },
           {
            "bin_start": 4888.367713724346,
            "bin_end": 5374.08324483209,
            "count": 1
           }
          ]
         }
        },
        {
         "name": "2002",
         "dtype": "float64",
         "stats": {
          "unique_count": 5,
          "nan_count": 0,
          "min": "589.206823548332",
          "max": "5600.44257362276",
          "histogram": [
           {
            "bin_start": 589.206823548332,
            "bin_end": 1090.3303985557748,
            "count": 2
           },
           {
            "bin_start": 1090.3303985557748,
            "bin_end": 1591.4539735632175,
            "count": 0
           },
           {
            "bin_start": 1591.4539735632175,
            "bin_end": 2092.5775485706604,
            "count": 0
           },
           {
            "bin_start": 2092.5775485706604,
            "bin_end": 2593.7011235781033,
            "count": 1
           },
           {
            "bin_start": 2593.7011235781033,
            "bin_end": 3094.8246985855462,
            "count": 0
           },
           {
            "bin_start": 3094.8246985855462,
            "bin_end": 3595.9482735929887,
            "count": 0
           },
           {
            "bin_start": 3595.9482735929887,
            "bin_end": 4097.071848600432,
            "count": 0
           },
           {
            "bin_start": 4097.071848600432,
            "bin_end": 4598.195423607875,
            "count": 0
           },
           {
            "bin_start": 4598.195423607875,
            "bin_end": 5099.3189986153175,
            "count": 1
           },
           {
            "bin_start": 5099.3189986153175,
            "bin_end": 5600.44257362276,
            "count": 1
           }
          ]
         }
        },
        {
         "name": "2003",
         "dtype": "float64",
         "stats": {
          "unique_count": 5,
          "nan_count": 0,
          "min": "681.882359233506",
          "max": "5945.87788921608",
          "histogram": [
           {
            "bin_start": 681.882359233506,
            "bin_end": 1208.2819122317633,
            "count": 2
           },
           {
            "bin_start": 1208.2819122317633,
            "bin_end": 1734.6814652300209,
            "count": 0
           },
           {
            "bin_start": 1734.6814652300209,
            "bin_end": 2261.081018228278,
            "count": 0
           },
           {
            "bin_start": 2261.081018228278,
            "bin_end": 2787.4805712265356,
            "count": 1
           },
           {
            "bin_start": 2787.4805712265356,
            "bin_end": 3313.8801242247932,
            "count": 0
           },
           {
            "bin_start": 3313.8801242247932,
            "bin_end": 3840.2796772230504,
            "count": 0
           },
           {
            "bin_start": 3840.2796772230504,
            "bin_end": 4366.679230221307,
            "count": 0
           },
           {
            "bin_start": 4366.679230221307,
            "bin_end": 4893.078783219565,
            "count": 0
           },
           {
            "bin_start": 4893.078783219565,
            "bin_end": 5419.478336217822,
            "count": 0
           },
           {
            "bin_start": 5419.478336217822,
            "bin_end": 5945.87788921608,
            "count": 2
           }
          ]
         }
        },
        {
         "name": "2004",
         "dtype": "float64",
         "stats": {
          "unique_count": 5,
          "nan_count": 0,
          "min": "826.816538201166",
          "max": "7171.17416938522",
          "histogram": [
           {
            "bin_start": 826.816538201166,
            "bin_end": 1461.2523013195714,
            "count": 2
           },
           {
            "bin_start": 1461.2523013195714,
            "bin_end": 2095.688064437977,
            "count": 0
           },
           {
            "bin_start": 2095.688064437977,
            "bin_end": 2730.1238275563824,
            "count": 0
           },
           {
            "bin_start": 2730.1238275563824,
            "bin_end": 3364.559590674788,
            "count": 1
           },
           {
            "bin_start": 3364.559590674788,
            "bin_end": 3998.9953537931938,
            "count": 0
           },
           {
            "bin_start": 3998.9953537931938,
            "bin_end": 4633.431116911599,
            "count": 0
           },
           {
            "bin_start": 4633.431116911599,
            "bin_end": 5267.866880030004,
            "count": 0
           },
           {
            "bin_start": 5267.866880030004,
            "bin_end": 5902.3026431484095,
            "count": 0
           },
           {
            "bin_start": 5902.3026431484095,
            "bin_end": 6536.738406266815,
            "count": 1
           },
           {
            "bin_start": 6536.738406266815,
            "bin_end": 7171.17416938522,
            "count": 1
           }
          ]
         }
        },
        {
         "name": "2005",
         "dtype": "float64",
         "stats": {
          "unique_count": 5,
          "nan_count": 0,
          "min": "988.839393612544",
          "max": "8356.2676708828",
          "histogram": [
           {
            "bin_start": 988.839393612544,
            "bin_end": 1725.5822213395695,
            "count": 2
           },
           {
            "bin_start": 1725.5822213395695,
            "bin_end": 2462.325049066595,
            "count": 0
           },
           {
            "bin_start": 2462.325049066595,
            "bin_end": 3199.067876793621,
            "count": 0
           },
           {
            "bin_start": 3199.067876793621,
            "bin_end": 3935.8107045206466,
            "count": 1
           },
           {
            "bin_start": 3935.8107045206466,
            "bin_end": 4672.553532247672,
            "count": 0
           },
           {
            "bin_start": 4672.553532247672,
            "bin_end": 5409.296359974698,
            "count": 0
           },
           {
            "bin_start": 5409.296359974698,
            "bin_end": 6146.039187701724,
            "count": 0
           },
           {
            "bin_start": 6146.039187701724,
            "bin_end": 6882.782015428749,
            "count": 0
           },
           {
            "bin_start": 6882.782015428749,
            "bin_end": 7619.524843155775,
            "count": 1
           },
           {
            "bin_start": 7619.524843155775,
            "bin_end": 8356.2676708828,
            "count": 1
           }
          ]
         }
        },
        {
         "name": "2006",
         "dtype": "float64",
         "stats": {
          "unique_count": 5,
          "nan_count": 0,
          "min": "1142.95590243025",
          "max": "9474.9760539653",
          "histogram": [
           {
            "bin_start": 1142.95590243025,
            "bin_end": 1976.157917583755,
            "count": 2
           },
           {
            "bin_start": 1976.157917583755,
            "bin_end": 2809.35993273726,
            "count": 0
           },
           {
            "bin_start": 2809.35993273726,
            "bin_end": 3642.5619478907647,
            "count": 0
           },
           {
            "bin_start": 3642.5619478907647,
            "bin_end": 4475.76396304427,
            "count": 1
           },
           {
            "bin_start": 4475.76396304427,
            "bin_end": 5308.965978197774,
            "count": 0
           },
           {
            "bin_start": 5308.965978197774,
            "bin_end": 6142.16799335128,
            "count": 0
           },
           {
            "bin_start": 6142.16799335128,
            "bin_end": 6975.370008504784,
            "count": 0
           },
           {
            "bin_start": 6975.370008504784,
            "bin_end": 7808.572023658289,
            "count": 0
           },
           {
            "bin_start": 7808.572023658289,
            "bin_end": 8641.774038811795,
            "count": 1
           },
           {
            "bin_start": 8641.774038811795,
            "bin_end": 9474.9760539653,
            "count": 1
           }
          ]
         }
        },
        {
         "name": "2007",
         "dtype": "float64",
         "stats": {
          "unique_count": 5,
          "nan_count": 0,
          "min": "1278.97134075227",
          "max": "12012.3922167503",
          "histogram": [
           {
            "bin_start": 1278.97134075227,
            "bin_end": 2352.313428352073,
            "count": 2
           },
           {
            "bin_start": 2352.313428352073,
            "bin_end": 3425.655515951876,
            "count": 0
           },
           {
            "bin_start": 3425.655515951876,
            "bin_end": 4498.997603551679,
            "count": 0
           },
           {
            "bin_start": 4498.997603551679,
            "bin_end": 5572.339691151483,
            "count": 1
           },
           {
            "bin_start": 5572.339691151483,
            "bin_end": 6645.681778751286,
            "count": 0
           },
           {
            "bin_start": 6645.681778751286,
            "bin_end": 7719.023866351088,
            "count": 0
           },
           {
            "bin_start": 7719.023866351088,
            "bin_end": 8792.365953950892,
            "count": 0
           },
           {
            "bin_start": 8792.365953950892,
            "bin_end": 9865.708041550695,
            "count": 1
           },
           {
            "bin_start": 9865.708041550695,
            "bin_end": 10939.050129150499,
            "count": 0
           },
           {
            "bin_start": 10939.050129150499,
            "bin_end": 12012.3922167503,
            "count": 1
           }
          ]
         }
        },
        {
         "name": "2008",
         "dtype": "float64",
         "stats": {
          "unique_count": 5,
          "nan_count": 0,
          "min": "1356.52994809552",
          "max": "14585.4147248746",
          "histogram": [
           {
            "bin_start": 1356.52994809552,
            "bin_end": 2679.4184257734278,
            "count": 2
           },
           {
            "bin_start": 2679.4184257734278,
            "bin_end": 4002.306903451336,
            "count": 0
           },
           {
            "bin_start": 4002.306903451336,
            "bin_end": 5325.195381129244,
            "count": 0
           },
           {
            "bin_start": 5325.195381129244,
            "bin_end": 6648.083858807152,
            "count": 1
           },
           {
            "bin_start": 6648.083858807152,
            "bin_end": 7970.97233648506,
            "count": 0
           },
           {
            "bin_start": 7970.97233648506,
            "bin_end": 9293.860814162968,
            "count": 0
           },
           {
            "bin_start": 9293.860814162968,
            "bin_end": 10616.749291840875,
            "count": 1
           },
           {
            "bin_start": 10616.749291840875,
            "bin_end": 11939.637769518784,
            "count": 0
           },
           {
            "bin_start": 11939.637769518784,
            "bin_end": 13262.526247196693,
            "count": 0
           },
           {
            "bin_start": 13262.526247196693,
            "bin_end": 14585.4147248746,
            "count": 1
           }
          ]
         }
        },
        {
         "name": "2009",
         "dtype": "float64",
         "stats": {
          "unique_count": 5,
          "nan_count": 0,
          "min": "1326.25154902931",
          "max": "12304.5556599839",
          "histogram": [
           {
            "bin_start": 1326.25154902931,
            "bin_end": 2424.081960124769,
            "count": 2
           },
           {
            "bin_start": 2424.081960124769,
            "bin_end": 3521.912371220228,
            "count": 0
           },
           {
            "bin_start": 3521.912371220228,
            "bin_end": 4619.742782315687,
            "count": 0
           },
           {
            "bin_start": 4619.742782315687,
            "bin_end": 5717.573193411146,
            "count": 1
           },
           {
            "bin_start": 5717.573193411146,
            "bin_end": 6815.403604506606,
            "count": 0
           },
           {
            "bin_start": 6815.403604506606,
            "bin_end": 7913.234015602065,
            "count": 0
           },
           {
            "bin_start": 7913.234015602065,
            "bin_end": 9011.064426697523,
            "count": 1
           },
           {
            "bin_start": 9011.064426697523,
            "bin_end": 10108.894837792983,
            "count": 0
           },
           {
            "bin_start": 10108.894837792983,
            "bin_end": 11206.725248888442,
            "count": 0
           },
           {
            "bin_start": 11206.725248888442,
            "bin_end": 12304.5556599839,
            "count": 1
           }
          ]
         }
        },
        {
         "name": "2010",
         "dtype": "float64",
         "stats": {
          "unique_count": 5,
          "nan_count": 0,
          "min": "1550.12122522488",
          "max": "12608.3828748389",
          "histogram": [
           {
            "bin_start": 1550.12122522488,
            "bin_end": 2655.947390186282,
            "count": 2
           },
           {
            "bin_start": 2655.947390186282,
            "bin_end": 3761.7735551476835,
            "count": 0
           },
           {
            "bin_start": 3761.7735551476835,
            "bin_end": 4867.599720109086,
            "count": 0
           },
           {
            "bin_start": 4867.599720109086,
            "bin_end": 5973.425885070487,
            "count": 1
           },
           {
            "bin_start": 5973.425885070487,
            "bin_end": 7079.252050031889,
            "count": 0
           },
           {
            "bin_start": 7079.252050031889,
            "bin_end": 8185.078214993291,
            "count": 0
           },
           {
            "bin_start": 8185.078214993291,
            "bin_end": 9290.904379954694,
            "count": 1
           },
           {
            "bin_start": 9290.904379954694,
            "bin_end": 10396.730544916096,
            "count": 0
           },
           {
            "bin_start": 10396.730544916096,
            "bin_end": 11502.556709877497,
            "count": 0
           },
           {
            "bin_start": 11502.556709877497,
            "bin_end": 12608.3828748389,
            "count": 1
           }
          ]
         }
        },
        {
         "name": "2011",
         "dtype": "float64",
         "stats": {
          "unique_count": 5,
          "nan_count": 0,
          "min": "1682.28726291271",
          "max": "13907.6718175511",
          "histogram": [
           {
            "bin_start": 1682.28726291271,
            "bin_end": 2904.825718376549,
            "count": 2
           },
           {
            "bin_start": 2904.825718376549,
            "bin_end": 4127.364173840388,
            "count": 0
           },
           {
            "bin_start": 4127.364173840388,
            "bin_end": 5349.902629304227,
            "count": 0
           },
           {
            "bin_start": 5349.902629304227,
            "bin_end": 6572.4410847680665,
            "count": 0
           },
           {
            "bin_start": 6572.4410847680665,
            "bin_end": 7794.979540231905,
            "count": 1
           },
           {
            "bin_start": 7794.979540231905,
            "bin_end": 9017.517995695744,
            "count": 0
           },
           {
            "bin_start": 9017.517995695744,
            "bin_end": 10240.056451159584,
            "count": 1
           },
           {
            "bin_start": 10240.056451159584,
            "bin_end": 11462.594906623423,
            "count": 0
           },
           {
            "bin_start": 11462.594906623423,
            "bin_end": 12685.133362087261,
            "count": 0
           },
           {
            "bin_start": 12685.133362087261,
            "bin_end": 13907.6718175511,
            "count": 1
           }
          ]
         }
        },
        {
         "name": "2012",
         "dtype": "float64",
         "stats": {
          "unique_count": 5,
          "nan_count": 0,
          "min": "1667.99261832877",
          "max": "13014.5058131852",
          "histogram": [
           {
            "bin_start": 1667.99261832877,
            "bin_end": 2802.643937814413,
            "count": 2
           },
           {
            "bin_start": 2802.643937814413,
            "bin_end": 3937.2952573000557,
            "count": 0
           },
           {
            "bin_start": 3937.2952573000557,
            "bin_end": 5071.946576785699,
            "count": 0
           },
           {
            "bin_start": 5071.946576785699,
            "bin_end": 6206.597896271342,
            "count": 0
           },
           {
            "bin_start": 6206.597896271342,
            "bin_end": 7341.249215756985,
            "count": 0
           },
           {
            "bin_start": 7341.249215756985,
            "bin_end": 8475.900535242628,
            "count": 1
           },
           {
            "bin_start": 8475.900535242628,
            "bin_end": 9610.55185472827,
            "count": 0
           },
           {
            "bin_start": 9610.55185472827,
            "bin_end": 10745.203174213913,
            "count": 1
           },
           {
            "bin_start": 10745.203174213913,
            "bin_end": 11879.854493699557,
            "count": 0
           },
           {
            "bin_start": 11879.854493699557,
            "bin_end": 13014.5058131852,
            "count": 1
           }
          ]
         }
        },
        {
         "name": "2013",
         "dtype": "float64",
         "stats": {
          "unique_count": 5,
          "nan_count": 0,
          "min": "1648.86751404089",
          "max": "13712.8087030772",
          "histogram": [
           {
            "bin_start": 1648.86751404089,
            "bin_end": 2855.261632944521,
            "count": 2
           },
           {
            "bin_start": 2855.261632944521,
            "bin_end": 4061.655751848152,
            "count": 0
           },
           {
            "bin_start": 4061.655751848152,
            "bin_end": 5268.049870751783,
            "count": 0
           },
           {
            "bin_start": 5268.049870751783,
            "bin_end": 6474.443989655414,
            "count": 0
           },
           {
            "bin_start": 6474.443989655414,
            "bin_end": 7680.8381085590445,
            "count": 1
           },
           {
            "bin_start": 7680.8381085590445,
            "bin_end": 8887.232227462675,
            "count": 0
           },
           {
            "bin_start": 8887.232227462675,
            "bin_end": 10093.626346366307,
            "count": 0
           },
           {
            "bin_start": 10093.626346366307,
            "bin_end": 11300.020465269938,
            "count": 1
           },
           {
            "bin_start": 11300.020465269938,
            "bin_end": 12506.414584173568,
            "count": 0
           },
           {
            "bin_start": 12506.414584173568,
            "bin_end": 13712.8087030772,
            "count": 1
           }
          ]
         }
        },
        {
         "name": "2014",
         "dtype": "float64",
         "stats": {
          "unique_count": 5,
          "nan_count": 0,
          "min": "1654.31486493049",
          "max": "14153.7476240321",
          "histogram": [
           {
            "bin_start": 1654.31486493049,
            "bin_end": 2904.2581408406513,
            "count": 2
           },
           {
            "bin_start": 2904.2581408406513,
            "bin_end": 4154.201416750812,
            "count": 0
           },
           {
            "bin_start": 4154.201416750812,
            "bin_end": 5404.144692660973,
            "count": 0
           },
           {
            "bin_start": 5404.144692660973,
            "bin_end": 6654.087968571134,
            "count": 0
           },
           {
            "bin_start": 6654.087968571134,
            "bin_end": 7904.031244481295,
            "count": 1
           },
           {
            "bin_start": 7904.031244481295,
            "bin_end": 9153.974520391455,
            "count": 0
           },
           {
            "bin_start": 9153.974520391455,
            "bin_end": 10403.917796301615,
            "count": 1
           },
           {
            "bin_start": 10403.917796301615,
            "bin_end": 11653.861072211777,
            "count": 0
           },
           {
            "bin_start": 11653.861072211777,
            "bin_end": 12903.80434812194,
            "count": 0
           },
           {
            "bin_start": 12903.80434812194,
            "bin_end": 14153.7476240321,
            "count": 1
           }
          ]
         }
        },
        {
         "name": "2015",
         "dtype": "float64",
         "stats": {
          "unique_count": 5,
          "nan_count": 0,
          "min": "1503.85933402398",
          "max": "12513.2018363306",
          "histogram": [
           {
            "bin_start": 1503.85933402398,
            "bin_end": 2604.793584254642,
            "count": 2
           },
           {
            "bin_start": 2604.793584254642,
            "bin_end": 3705.727834485304,
            "count": 0
           },
           {
            "bin_start": 3705.727834485304,
            "bin_end": 4806.662084715967,
            "count": 0
           },
           {
            "bin_start": 4806.662084715967,
            "bin_end": 5907.596334946627,
            "count": 0
           },
           {
            "bin_start": 5907.596334946627,
            "bin_end": 7008.53058517729,
            "count": 1
           },
           {
            "bin_start": 7008.53058517729,
            "bin_end": 8109.464835407953,
            "count": 0
           },
           {
            "bin_start": 8109.464835407953,
            "bin_end": 9210.399085638614,
            "count": 0
           },
           {
            "bin_start": 9210.399085638614,
            "bin_end": 10311.333335869276,
            "count": 1
           },
           {
            "bin_start": 10311.333335869276,
            "bin_end": 11412.267586099939,
            "count": 0
           },
           {
            "bin_start": 11412.267586099939,
            "bin_end": 12513.2018363306,
            "count": 1
           }
          ]
         }
        },
        {
         "name": "2016",
         "dtype": "float64",
         "stats": {
          "unique_count": 5,
          "nan_count": 0,
          "min": "1401.28105252106",
          "max": "12822.3762230609",
          "histogram": [
           {
            "bin_start": 1401.28105252106,
            "bin_end": 2543.390569575044,
            "count": 2
           },
           {
            "bin_start": 2543.390569575044,
            "bin_end": 3685.5000866290284,
            "count": 0
           },
           {
            "bin_start": 3685.5000866290284,
            "bin_end": 4827.609603683012,
            "count": 0
           },
           {
            "bin_start": 4827.609603683012,
            "bin_end": 5969.719120736996,
            "count": 0
           },
           {
            "bin_start": 5969.719120736996,
            "bin_end": 7111.82863779098,
            "count": 1
           },
           {
            "bin_start": 7111.82863779098,
            "bin_end": 8253.938154844966,
            "count": 0
           },
           {
            "bin_start": 8253.938154844966,
            "bin_end": 9396.047671898948,
            "count": 0
           },
           {
            "bin_start": 9396.047671898948,
            "bin_end": 10538.157188952933,
            "count": 1
           },
           {
            "bin_start": 10538.157188952933,
            "bin_end": 11680.266706006918,
            "count": 0
           },
           {
            "bin_start": 11680.266706006918,
            "bin_end": 12822.3762230609,
            "count": 1
           }
          ]
         }
        },
        {
         "name": "2017",
         "dtype": "float64",
         "stats": {
          "unique_count": 5,
          "nan_count": 0,
          "min": "1536.20678264071",
          "max": "14238.1967661396",
          "histogram": [
           {
            "bin_start": 1536.20678264071,
            "bin_end": 2806.405780990599,
            "count": 2
           },
           {
            "bin_start": 2806.405780990599,
            "bin_end": 4076.6047793404878,
            "count": 0
           },
           {
            "bin_start": 4076.6047793404878,
            "bin_end": 5346.8037776903775,
            "count": 0
           },
           {
            "bin_start": 5346.8037776903775,
            "bin_end": 6617.002776040266,
            "count": 1
           },
           {
            "bin_start": 6617.002776040266,
            "bin_end": 7887.201774390155,
            "count": 0
           },
           {
            "bin_start": 7887.201774390155,
            "bin_end": 9157.400772740044,
            "count": 0
           },
           {
            "bin_start": 9157.400772740044,
            "bin_end": 10427.599771089932,
            "count": 1
           },
           {
            "bin_start": 10427.599771089932,
            "bin_end": 11697.798769439822,
            "count": 0
           },
           {
            "bin_start": 11697.798769439822,
            "bin_end": 12967.997767789711,
            "count": 0
           },
           {
            "bin_start": 12967.997767789711,
            "bin_end": 14238.1967661396,
            "count": 1
           }
          ]
         }
        },
        {
         "name": "2018",
         "dtype": "float64",
         "stats": {
          "unique_count": 5,
          "nan_count": 0,
          "min": "1530.16191737441",
          "max": "16034.7149702111",
          "histogram": [
           {
            "bin_start": 1530.16191737441,
            "bin_end": 2980.6172226580793,
            "count": 2
           },
           {
            "bin_start": 2980.6172226580793,
            "bin_end": 4431.072527941748,
            "count": 0
           },
           {
            "bin_start": 4431.072527941748,
            "bin_end": 5881.527833225417,
            "count": 0
           },
           {
            "bin_start": 5881.527833225417,
            "bin_end": 7331.9831385090865,
            "count": 1
           },
           {
            "bin_start": 7331.9831385090865,
            "bin_end": 8782.438443792755,
            "count": 0
           },
           {
            "bin_start": 8782.438443792755,
            "bin_end": 10232.893749076424,
            "count": 0
           },
           {
            "bin_start": 10232.893749076424,
            "bin_end": 11683.349054360093,
            "count": 1
           },
           {
            "bin_start": 11683.349054360093,
            "bin_end": 13133.804359643762,
            "count": 0
           },
           {
            "bin_start": 13133.804359643762,
            "bin_end": 14584.259664927431,
            "count": 0
           },
           {
            "bin_start": 14584.259664927431,
            "bin_end": 16034.7149702111,
            "count": 1
           }
          ]
         }
        },
        {
         "name": "2019",
         "dtype": "float64",
         "stats": {
          "unique_count": 5,
          "nan_count": 0,
          "min": "1481.42529193585",
          "max": "16294.3770005943",
          "histogram": [
           {
            "bin_start": 1481.42529193585,
            "bin_end": 2962.7204628016952,
            "count": 2
           },
           {
            "bin_start": 2962.7204628016952,
            "bin_end": 4444.015633667541,
            "count": 0
           },
           {
            "bin_start": 4444.015633667541,
            "bin_end": 5925.310804533385,
            "count": 0
           },
           {
            "bin_start": 5925.310804533385,
            "bin_end": 7406.60597539923,
            "count": 1
           },
           {
            "bin_start": 7406.60597539923,
            "bin_end": 8887.901146265076,
            "count": 0
           },
           {
            "bin_start": 8887.901146265076,
            "bin_end": 10369.19631713092,
            "count": 1
           },
           {
            "bin_start": 10369.19631713092,
            "bin_end": 11850.491487996765,
            "count": 0
           },
           {
            "bin_start": 11850.491487996765,
            "bin_end": 13331.786658862611,
            "count": 0
           },
           {
            "bin_start": 13331.786658862611,
            "bin_end": 14813.081829728457,
            "count": 0
           },
           {
            "bin_start": 14813.081829728457,
            "bin_end": 16294.3770005943,
            "count": 1
           }
          ]
         }
        },
        {
         "name": "2020",
         "dtype": "float64",
         "stats": {
          "unique_count": 5,
          "nan_count": 0,
          "min": "1326.66365762056",
          "max": "16082.4577103005",
          "histogram": [
           {
            "bin_start": 1326.66365762056,
            "bin_end": 2802.243062888554,
            "count": 2
           },
           {
            "bin_start": 2802.243062888554,
            "bin_end": 4277.822468156548,
            "count": 0
           },
           {
            "bin_start": 4277.822468156548,
            "bin_end": 5753.401873424542,
            "count": 0
           },
           {
            "bin_start": 5753.401873424542,
            "bin_end": 7228.981278692536,
            "count": 1
           },
           {
            "bin_start": 7228.981278692536,
            "bin_end": 8704.56068396053,
            "count": 0
           },
           {
            "bin_start": 8704.56068396053,
            "bin_end": 10180.140089228524,
            "count": 1
           },
           {
            "bin_start": 10180.140089228524,
            "bin_end": 11655.719494496518,
            "count": 0
           },
           {
            "bin_start": 11655.719494496518,
            "bin_end": 13131.298899764512,
            "count": 0
           },
           {
            "bin_start": 13131.298899764512,
            "bin_end": 14606.878305032506,
            "count": 0
           },
           {
            "bin_start": 14606.878305032506,
            "bin_end": 16082.4577103005,
            "count": 1
           }
          ]
         }
        },
        {
         "name": "Unnamed: 65",
         "dtype": "float64",
         "stats": {
          "unique_count": 0,
          "nan_count": 5,
          "min": null,
          "max": null,
          "histogram": [
           {
            "bin_start": 0,
            "bin_end": 0.1,
            "count": 0
           },
           {
            "bin_start": 0.1,
            "bin_end": 0.2,
            "count": 0
           },
           {
            "bin_start": 0.2,
            "bin_end": 0.30000000000000004,
            "count": 0
           },
           {
            "bin_start": 0.30000000000000004,
            "bin_end": 0.4,
            "count": 0
           },
           {
            "bin_start": 0.4,
            "bin_end": 0.5,
            "count": 0
           },
           {
            "bin_start": 0.5,
            "bin_end": 0.6000000000000001,
            "count": 0
           },
           {
            "bin_start": 0.6000000000000001,
            "bin_end": 0.7000000000000001,
            "count": 0
           },
           {
            "bin_start": 0.7000000000000001,
            "bin_end": 0.8,
            "count": 0
           },
           {
            "bin_start": 0.8,
            "bin_end": 0.9,
            "count": 0
           },
           {
            "bin_start": 0.9,
            "bin_end": 1,
            "count": 0
           }
          ]
         }
        },
        {
         "name": "_deepnote_index_column",
         "dtype": "int64"
        }
       ],
       "rows_top": [
        {
         "1960": 147.450369318891,
         "1961": 146.853700912865,
         "1962": 156.017928968003,
         "1963": 182.04408505959,
         "1964": 162.169576659527,
         "1965": 180.017300692806,
         "1966": 190.636219898554,
         "1967": 192.126267255731,
         "1968": 203.783403883256,
         "1969": 227.65871142288,
         "1970": 236.533778684278,
         "1971": 253.728448308523,
         "1972": 267.837318504381,
         "1973": 339.387246515973,
         "1974": 409.668541748099,
         "1975": 424.337380289061,
         "1976": 411.062391144669,
         "1977": 455.75389865726,
         "1978": 495.546623351715,
         "1979": 563.384517232312,
         "1980": 687.800392555771,
         "1981": 684.453944647069,
         "1982": 641.08014823215,
         "1983": 643.097823937926,
         "1984": 570.820524707177,
         "1985": 495.1211285723,
         "1986": 541.833346594177,
         "1987": 643.095686408259,
         "1988": 656.626462381489,
         "1989": 656.46574609777,
         "1990": 696.223892084849,
         "1991": 703.654678328743,
         "1992": 682.586850647686,
         "1993": 665.242926103381,
         "1994": 659.58990235977,
         "1995": 722.169715944714,
         "1996": 701.734197365789,
         "1997": 718.854277635003,
         "1998": 660.471966435214,
         "1999": 635.14336774755,
         "2000": 672.205473631029,
         "2001": 591.088444237775,
         "2002": 589.206823548332,
         "2003": 757.449758687107,
         "2004": 916.603366664942,
         "2005": 1037.72705705399,
         "2006": 1142.95590243025,
         "2007": 1278.97134075227,
         "2008": 1356.52994809552,
         "2009": 1326.25154902931,
         "2010": 1550.12122522488,
         "2011": 1682.28726291271,
         "2012": 1667.99261832877,
         "2013": 1648.86751404089,
         "2014": 1654.31486493049,
         "2015": 1503.85933402398,
         "2016": 1401.28105252106,
         "2017": 1536.20678264071,
         "2018": 1530.16191737441,
         "2019": 1481.42529193585,
         "2020": 1326.66365762056,
         "Country Name": "Africa Eastern and Southern",
         "Country Code": "AFE",
         "Indicator Name": "GDP per capita (current US$)",
         "Indicator Code": "NY.GDP.PCAP.CD",
         "Unnamed: 65": "nan",
         "_deepnote_index_column": 473
        },
        {
         "1960": 107.963778616651,
         "1961": 113.114696953784,
         "1962": 118.865837440142,
         "1963": 123.478966568545,
         "1964": 131.892938958314,
         "1965": 138.566819440514,
         "1966": 144.368394634907,
         "1967": 128.620050961971,
         "1968": 129.678996354687,
         "1969": 143.757635300556,
         "1970": 195.490684201364,
         "1971": 169.168528863905,
         "1972": 200.226910297762,
         "1973": 241.782075260994,
         "1974": 333.289875473385,
         "1975": 377.898462957787,
         "1976": 444.504298338287,
         "1977": 454.923087827076,
         "1978": 482.618499758549,
         "1979": 584.544785353761,
         "1980": 718.901921950146,
         "1981": 1317.31654898202,
         "1982": 1136.79468344735,
         "1983": 816.139285944852,
         "1984": 656.904775547102,
         "1985": 651.700457485045,
         "1986": 585.07829234262,
         "1987": 584.290054262687,
         "1988": 561.525597688105,
         "1989": 510.568346251939,
         "1990": 594.899599576292,
         "1991": 558.5990402193,
         "1992": 547.823070701764,
         "1993": 438.26231068767,
         "1994": 376.354920811847,
         "1995": 459.364903240959,
         "1996": 495.779036379884,
         "1997": 486.52301634998,
         "1998": 484.090741631737,
         "1999": 500.436179658533,
         "2000": 502.031661993901,
         "2001": 516.927933754647,
         "2002": 605.061007142956,
         "2003": 681.882359233506,
         "2004": 826.816538201166,
         "2005": 988.839393612544,
         "2006": 1224.05761209197,
         "2007": 1400.08600739197,
         "2008": 1666.89984716336,
         "2009": 1444.20189894288,
         "2010": 1655.13013813728,
         "2011": 1827.51834682635,
         "2012": 1936.39096169927,
         "2013": 2123.39243327941,
         "2014": 2166.74330941761,
         "2015": 1886.24815793403,
         "2016": 1666.42240647892,
         "2017": 1606.97833161683,
         "2018": 1695.95921508335,
         "2019": 1772.33915484035,
         "2020": 1714.42679990415,
         "Country Name": "Africa Western and Central",
         "Country Code": "AFW",
         "Indicator Name": "GDP per capita (current US$)",
         "Indicator Code": "NY.GDP.PCAP.CD",
         "Unnamed: 65": "nan",
         "_deepnote_index_column": 1916
        },
        {
         "1960": "nan",
         "1961": "nan",
         "1962": "nan",
         "1963": "nan",
         "1964": "nan",
         "1965": "nan",
         "1966": "nan",
         "1967": "nan",
         "1968": 307.586978427858,
         "1969": 328.319306388199,
         "1970": 359.546985206109,
         "1971": 404.827504441947,
         "1972": 469.974023430096,
         "1973": 578.695263800674,
         "1974": 1063.54550935109,
         "1975": 1143.76123485064,
         "1976": 1377.56066831339,
         "1977": 1536.22921195257,
         "1978": 1632.79826877345,
         "1979": 2138.82449428602,
         "1980": 2802.49449416841,
         "1981": 2801.16054936606,
         "1982": 2549.40759687205,
         "1983": 2324.84607893337,
         "1984": 2288.08680748475,
         "1985": 2198.46705991609,
         "1986": 2038.48967883617,
         "1987": 2112.07153960577,
         "1988": 2019.82719930477,
         "1989": 2060.16151383428,
         "1990": 2750.96030380503,
         "1991": 1857.8212473075,
         "1992": 1952.88824680536,
         "1993": 1925.11321459242,
         "1994": 1930.00253503908,
         "1995": 2044.92596612766,
         "1996": 2191.20168192865,
         "1997": 2309.37053326063,
         "1998": 2182.00789574685,
         "1999": 2377.02301789138,
         "2000": 2678.31451435377,
         "2001": 2536.78625625637,
         "2002": 2484.84518532932,
         "2003": 2696.04692255445,
         "2004": 3134.87247923642,
         "2005": 3765.92729440976,
         "2006": 4360.06424987312,
         "2007": 4963.69998277986,
         "2008": 6149.711791448,
         "2009": 5180.55546994238,
         "2010": 5948.6743487116,
         "2011": 6870.09861649395,
         "2012": 7455.04188103252,
         "2013": 7505.17419152737,
         "2014": 7436.58007789529,
         "2015": 6346.03234681792,
         "2016": 6093.33100860206,
         "2017": 6095.66342966197,
         "2018": 6568.98405167902,
         "2019": 6570.174197334,
         "2020": 5802.10412863519,
         "Country Name": "Arab World",
         "Country Code": "ARB",
         "Indicator Name": "GDP per capita (current US$)",
         "Indicator Code": "NY.GDP.PCAP.CD",
         "Unnamed: 65": "nan",
         "_deepnote_index_column": 3359
        },
        {
         "1960": 448.256417447372,
         "1961": 476.901483888726,
         "1962": 494.736371870331,
         "1963": 516.739524018496,
         "1964": 547.950527291194,
         "1965": 580.944135963881,
         "1966": 621.434727092336,
         "1967": 658.350898363451,
         "1968": 645.928307266593,
         "1969": 695.03898174207,
         "1970": 755.144559357994,
         "1971": 811.131747023846,
         "1972": 925.527534480403,
         "1973": 1000.86236268925,
         "1974": 1285.49330305829,
         "1975": 1485.16132917954,
         "1976": 1511.87493810205,
         "1977": 1736.7491543316,
         "1978": 1759.82502005686,
         "1979": 1999.18848673151,
         "1980": 2461.65588353741,
         "1981": 2683.65522411158,
         "1982": 2940.21279062542,
         "1983": 2942.71916948449,
         "1984": 2778.89334709211,
         "1985": 2722.82827481247,
         "1986": 2466.29909898147,
         "1987": 2633.11644457619,
         "1988": 2775.62222203278,
         "1989": 2827.68862333084,
         "1990": 2997.31956302458,
         "1991": 2951.05963766122,
         "1992": 2875.1897212525,
         "1993": 3084.66082821993,
         "1994": 3214.05180792654,
         "1995": 3514.10074340163,
         "1996": 3803.62328864531,
         "1997": 4421.50707411154,
         "1998": 4690.20395190482,
         "1999": 4938.52388005065,
         "2000": 5253.44208546355,
         "2001": 5374.08324483209,
         "2002": 5600.44257362276,
         "2003": 5945.87788921608,
         "2004": 6459.56537666113,
         "2005": 7255.1440884144,
         "2006": 8201.29050639659,
         "2007": 9054.85142793131,
         "2008": 10225.3804292715,
         "2009": 8578.71674660641,
         "2010": 9253.21402705864,
         "2011": 9920.91016586116,
         "2012": 10187.3015094906,
         "2013": 10306.8881563558,
         "2014": 10377.1128904417,
         "2015": 10116.5199455208,
         "2016": 9560.1946792766,
         "2017": 9810.47006759449,
         "2018": 10250.434070083,
         "2019": 10355.4076837653,
         "2020": 9192.76780070435,
         "Country Name": "Caribbean small states",
         "Country Code": "CSS",
         "Indicator Name": "GDP per capita (current US$)",
         "Indicator Code": "NY.GDP.PCAP.CD",
         "Unnamed: 65": "nan",
         "_deepnote_index_column": 4802
        },
        {
         "1960": "nan",
         "1961": "nan",
         "1962": "nan",
         "1963": "nan",
         "1964": "nan",
         "1965": "nan",
         "1966": "nan",
         "1967": "nan",
         "1968": "nan",
         "1969": "nan",
         "1970": "nan",
         "1971": "nan",
         "1972": "nan",
         "1973": "nan",
         "1974": "nan",
         "1975": "nan",
         "1976": "nan",
         "1977": "nan",
         "1978": "nan",
         "1979": "nan",
         "1980": "nan",
         "1981": "nan",
         "1982": "nan",
         "1983": "nan",
         "1984": "nan",
         "1985": "nan",
         "1986": "nan",
         "1987": "nan",
         "1988": "nan",
         "1989": "nan",
         "1990": 2313.56443133046,
         "1991": 2196.17867404012,
         "1992": 2359.79952876444,
         "1993": 2489.80230130814,
         "1994": 2824.86293514625,
         "1995": 3578.6153664721,
         "1996": 3793.6350179595,
         "1997": 3745.61009951245,
         "1998": 4106.19954694038,
         "1999": 3986.19600963513,
         "2000": 3946.84329443366,
         "2001": 4352.34033814784,
         "2002": 4936.0393380702,
         "2003": 5943.43906853347,
         "2004": 7171.17416938522,
         "2005": 8356.2676708828,
         "2006": 9474.9760539653,
         "2007": 12012.3922167503,
         "2008": 14585.4147248746,
         "2009": 12304.5556599839,
         "2010": 12608.3828748389,
         "2011": 13907.6718175511,
         "2012": 13014.5058131852,
         "2013": 13712.8087030772,
         "2014": 14153.7476240321,
         "2015": 12513.2018363306,
         "2016": 12822.3762230609,
         "2017": 14238.1967661396,
         "2018": 16034.7149702111,
         "2019": 16294.3770005943,
         "2020": 16082.4577103005,
         "Country Name": "Central Europe and the Baltics",
         "Country Code": "CEB",
         "Indicator Name": "GDP per capita (current US$)",
         "Indicator Code": "NY.GDP.PCAP.CD",
         "Unnamed: 65": "nan",
         "_deepnote_index_column": 6245
        }
       ],
       "rows_bottom": null
      },
      "text/plain": "                        Country Name Country Code  \\\n473      Africa Eastern and Southern          AFE   \n1916      Africa Western and Central          AFW   \n3359                      Arab World          ARB   \n4802          Caribbean small states          CSS   \n6245  Central Europe and the Baltics          CEB   \n\n                    Indicator Name  Indicator Code        1960        1961  \\\n473   GDP per capita (current US$)  NY.GDP.PCAP.CD  147.450369  146.853701   \n1916  GDP per capita (current US$)  NY.GDP.PCAP.CD  107.963779  113.114697   \n3359  GDP per capita (current US$)  NY.GDP.PCAP.CD         NaN         NaN   \n4802  GDP per capita (current US$)  NY.GDP.PCAP.CD  448.256417  476.901484   \n6245  GDP per capita (current US$)  NY.GDP.PCAP.CD         NaN         NaN   \n\n            1962        1963        1964        1965  ...          2012  \\\n473   156.017929  182.044085  162.169577  180.017301  ...   1667.992618   \n1916  118.865837  123.478967  131.892939  138.566819  ...   1936.390962   \n3359         NaN         NaN         NaN         NaN  ...   7455.041881   \n4802  494.736372  516.739524  547.950527  580.944136  ...  10187.301509   \n6245         NaN         NaN         NaN         NaN  ...  13014.505813   \n\n              2013          2014          2015          2016          2017  \\\n473    1648.867514   1654.314865   1503.859334   1401.281053   1536.206783   \n1916   2123.392433   2166.743309   1886.248158   1666.422406   1606.978332   \n3359   7505.174192   7436.580078   6346.032347   6093.331009   6095.663430   \n4802  10306.888156  10377.112890  10116.519946   9560.194679   9810.470068   \n6245  13712.808703  14153.747624  12513.201836  12822.376223  14238.196766   \n\n              2018          2019          2020  Unnamed: 65  \n473    1530.161917   1481.425292   1326.663658          NaN  \n1916   1695.959215   1772.339155   1714.426800          NaN  \n3359   6568.984052   6570.174197   5802.104129          NaN  \n4802  10250.434070  10355.407684   9192.767801          NaN  \n6245  16034.714970  16294.377001  16082.457710          NaN  \n\n[5 rows x 66 columns]",
      "text/html": "<div>\n<style scoped>\n    .dataframe tbody tr th:only-of-type {\n        vertical-align: middle;\n    }\n\n    .dataframe tbody tr th {\n        vertical-align: top;\n    }\n\n    .dataframe thead th {\n        text-align: right;\n    }\n</style>\n<table border=\"1\" class=\"dataframe\">\n  <thead>\n    <tr style=\"text-align: right;\">\n      <th></th>\n      <th>Country Name</th>\n      <th>Country Code</th>\n      <th>Indicator Name</th>\n      <th>Indicator Code</th>\n      <th>1960</th>\n      <th>1961</th>\n      <th>1962</th>\n      <th>1963</th>\n      <th>1964</th>\n      <th>1965</th>\n      <th>...</th>\n      <th>2012</th>\n      <th>2013</th>\n      <th>2014</th>\n      <th>2015</th>\n      <th>2016</th>\n      <th>2017</th>\n      <th>2018</th>\n      <th>2019</th>\n      <th>2020</th>\n      <th>Unnamed: 65</th>\n    </tr>\n  </thead>\n  <tbody>\n    <tr>\n      <th>473</th>\n      <td>Africa Eastern and Southern</td>\n      <td>AFE</td>\n      <td>GDP per capita (current US$)</td>\n      <td>NY.GDP.PCAP.CD</td>\n      <td>147.450369</td>\n      <td>146.853701</td>\n      <td>156.017929</td>\n      <td>182.044085</td>\n      <td>162.169577</td>\n      <td>180.017301</td>\n      <td>...</td>\n      <td>1667.992618</td>\n      <td>1648.867514</td>\n      <td>1654.314865</td>\n      <td>1503.859334</td>\n      <td>1401.281053</td>\n      <td>1536.206783</td>\n      <td>1530.161917</td>\n      <td>1481.425292</td>\n      <td>1326.663658</td>\n      <td>NaN</td>\n    </tr>\n    <tr>\n      <th>1916</th>\n      <td>Africa Western and Central</td>\n      <td>AFW</td>\n      <td>GDP per capita (current US$)</td>\n      <td>NY.GDP.PCAP.CD</td>\n      <td>107.963779</td>\n      <td>113.114697</td>\n      <td>118.865837</td>\n      <td>123.478967</td>\n      <td>131.892939</td>\n      <td>138.566819</td>\n      <td>...</td>\n      <td>1936.390962</td>\n      <td>2123.392433</td>\n      <td>2166.743309</td>\n      <td>1886.248158</td>\n      <td>1666.422406</td>\n      <td>1606.978332</td>\n      <td>1695.959215</td>\n      <td>1772.339155</td>\n      <td>1714.426800</td>\n      <td>NaN</td>\n    </tr>\n    <tr>\n      <th>3359</th>\n      <td>Arab World</td>\n      <td>ARB</td>\n      <td>GDP per capita (current US$)</td>\n      <td>NY.GDP.PCAP.CD</td>\n      <td>NaN</td>\n      <td>NaN</td>\n      <td>NaN</td>\n      <td>NaN</td>\n      <td>NaN</td>\n      <td>NaN</td>\n      <td>...</td>\n      <td>7455.041881</td>\n      <td>7505.174192</td>\n      <td>7436.580078</td>\n      <td>6346.032347</td>\n      <td>6093.331009</td>\n      <td>6095.663430</td>\n      <td>6568.984052</td>\n      <td>6570.174197</td>\n      <td>5802.104129</td>\n      <td>NaN</td>\n    </tr>\n    <tr>\n      <th>4802</th>\n      <td>Caribbean small states</td>\n      <td>CSS</td>\n      <td>GDP per capita (current US$)</td>\n      <td>NY.GDP.PCAP.CD</td>\n      <td>448.256417</td>\n      <td>476.901484</td>\n      <td>494.736372</td>\n      <td>516.739524</td>\n      <td>547.950527</td>\n      <td>580.944136</td>\n      <td>...</td>\n      <td>10187.301509</td>\n      <td>10306.888156</td>\n      <td>10377.112890</td>\n      <td>10116.519946</td>\n      <td>9560.194679</td>\n      <td>9810.470068</td>\n      <td>10250.434070</td>\n      <td>10355.407684</td>\n      <td>9192.767801</td>\n      <td>NaN</td>\n    </tr>\n    <tr>\n      <th>6245</th>\n      <td>Central Europe and the Baltics</td>\n      <td>CEB</td>\n      <td>GDP per capita (current US$)</td>\n      <td>NY.GDP.PCAP.CD</td>\n      <td>NaN</td>\n      <td>NaN</td>\n      <td>NaN</td>\n      <td>NaN</td>\n      <td>NaN</td>\n      <td>NaN</td>\n      <td>...</td>\n      <td>13014.505813</td>\n      <td>13712.808703</td>\n      <td>14153.747624</td>\n      <td>12513.201836</td>\n      <td>12822.376223</td>\n      <td>14238.196766</td>\n      <td>16034.714970</td>\n      <td>16294.377001</td>\n      <td>16082.457710</td>\n      <td>NaN</td>\n    </tr>\n  </tbody>\n</table>\n<p>5 rows × 66 columns</p>\n</div>"
     },
     "metadata": {}
    }
   ]
  },
  {
   "cell_type": "markdown",
   "source": "### 5.0 Extract countries and country groups and write to CSV\n\nProvides a \"lookup\" file of countries, country groups and associated three letter codes.\n<br />\nSee: [pandas.DataFrame.drop](https://pandas.pydata.org/docs/reference/api/pandas.DataFrame.drop.html), [pandas.DataFrame.reset_index](https://pandas.pydata.org/docs/reference/api/pandas.DataFrame.reset_index.html), [pandas.DataFrame.to_csv](https://pandas.pydata.org/docs/reference/api/pandas.DataFrame.to_csv.html)",
   "metadata": {
    "tags": [],
    "cell_id": "00017-927062d3-c7b4-4935-8c1a-d64339934d99",
    "deepnote_cell_type": "markdown"
   }
  },
  {
   "cell_type": "code",
   "metadata": {
    "tags": [],
    "cell_id": "00018-9dbaf749-fa87-4016-b1c2-78d73a8d30d0",
    "deepnote_to_be_reexecuted": false,
    "source_hash": "fc209e2c",
    "execution_start": 1629554292854,
    "execution_millis": 2,
    "deepnote_cell_type": "code"
   },
   "source": "countries = gdp_per_capita.drop(gdp_per_capita.columns[2:], axis=1, inplace=False).reset_index(drop=True, inplace=False)\ncountries.to_csv('./output/countries.csv', index=False)",
   "execution_count": 11,
   "outputs": []
  },
  {
   "cell_type": "markdown",
   "source": "### 6.0 Visualize South Africa GDP per capita, 1960-2020",
   "metadata": {
    "tags": [],
    "cell_id": "00019-f9c29d0f-8037-467f-b2e6-b8e8c58bb118",
    "deepnote_cell_type": "markdown"
   }
  },
  {
   "cell_type": "code",
   "metadata": {
    "tags": [],
    "cell_id": "00011-e3bdcc4c-f586-43a7-b260-40bef14f55eb",
    "deepnote_to_be_reexecuted": false,
    "source_hash": "9c95eb75",
    "execution_start": 1629554292905,
    "execution_millis": 11,
    "deepnote_cell_type": "code"
   },
   "source": "# South Africa (ZAF)\nzaf = gdp_per_capita[gdp_per_capita['Country Code'] == 'ZAF'] # row filter\nzaf.shape",
   "execution_count": 12,
   "outputs": [
    {
     "output_type": "execute_result",
     "execution_count": 12,
     "data": {
      "text/plain": "(1, 66)"
     },
     "metadata": {}
    }
   ]
  },
  {
   "cell_type": "markdown",
   "source": "### 6.1 Prep: drop columns",
   "metadata": {
    "tags": [],
    "cell_id": "00022-1cdcd1b9-5879-4282-96e6-52efdc5cc3db",
    "deepnote_cell_type": "markdown"
   }
  },
  {
   "cell_type": "code",
   "metadata": {
    "tags": [],
    "cell_id": "00012-ac275e1e-6705-4f68-832c-83b4e0879d80",
    "deepnote_to_be_reexecuted": false,
    "source_hash": "60c4aa3d",
    "execution_start": 1629554292906,
    "execution_millis": 0,
    "deepnote_cell_type": "code"
   },
   "source": "cols = ['Country Name', 'Indicator Name', 'Indicator Code']\nzaf_years = zaf.drop(columns=cols)",
   "execution_count": 13,
   "outputs": []
  },
  {
   "cell_type": "markdown",
   "source": "### 6.2 Prep: convert \"year\" column names to row values (pivot)\n\nSee: [pandas.melt](https://pandas.pydata.org/docs/reference/api/pandas.melt.html)",
   "metadata": {
    "tags": [],
    "cell_id": "00023-bfbeeee4-677c-42ee-8349-2c4ecdf20af0",
    "deepnote_cell_type": "markdown"
   }
  },
  {
   "cell_type": "code",
   "metadata": {
    "tags": [],
    "cell_id": "00013-50c083fd-6551-449a-96b9-4b3eca824089",
    "deepnote_to_be_reexecuted": false,
    "source_hash": "cf4ecf59",
    "execution_start": 1629554292906,
    "execution_millis": 12,
    "deepnote_cell_type": "code"
   },
   "source": "# Convert column names to row values\nzaf_gdp_year = pd.melt(zaf_years, id_vars=['Country Code'], var_name='Year', value_name='GDP Per Capita')\nzaf_gdp_year.tail()",
   "execution_count": 14,
   "outputs": [
    {
     "output_type": "execute_result",
     "execution_count": 14,
     "data": {
      "application/vnd.deepnote.dataframe.v2+json": {
       "row_count": 5,
       "column_count": 3,
       "columns": [
        {
         "name": "Country Code",
         "dtype": "object",
         "stats": {
          "unique_count": 1,
          "nan_count": 0,
          "categories": [
           {
            "name": "ZAF",
            "count": 5
           }
          ]
         }
        },
        {
         "name": "Year",
         "dtype": "object",
         "stats": {
          "unique_count": 5,
          "nan_count": 0,
          "categories": [
           {
            "name": "2017",
            "count": 1
           },
           {
            "name": "2018",
            "count": 1
           },
           {
            "name": "3 others",
            "count": 3
           }
          ]
         }
        },
        {
         "name": "GDP Per Capita",
         "dtype": "float64",
         "stats": {
          "unique_count": 4,
          "nan_count": 1,
          "min": "5090.71502455292",
          "max": "6372.60565499345",
          "histogram": [
           {
            "bin_start": 5090.71502455292,
            "bin_end": 5218.904087596973,
            "count": 1
           },
           {
            "bin_start": 5218.904087596973,
            "bin_end": 5347.093150641026,
            "count": 0
           },
           {
            "bin_start": 5347.093150641026,
            "bin_end": 5475.282213685079,
            "count": 0
           },
           {
            "bin_start": 5475.282213685079,
            "bin_end": 5603.471276729132,
            "count": 0
           },
           {
            "bin_start": 5603.471276729132,
            "bin_end": 5731.660339773185,
            "count": 0
           },
           {
            "bin_start": 5731.660339773185,
            "bin_end": 5859.849402817238,
            "count": 0
           },
           {
            "bin_start": 5859.849402817238,
            "bin_end": 5988.038465861291,
            "count": 0
           },
           {
            "bin_start": 5988.038465861291,
            "bin_end": 6116.227528905344,
            "count": 1
           },
           {
            "bin_start": 6116.227528905344,
            "bin_end": 6244.416591949397,
            "count": 1
           },
           {
            "bin_start": 6244.416591949397,
            "bin_end": 6372.60565499345,
            "count": 1
           }
          ]
         }
        },
        {
         "name": "_deepnote_index_column",
         "dtype": "int64"
        }
       ],
       "rows_top": [
        {
         "Country Code": "ZAF",
         "Year": "2017",
         "GDP Per Capita": 6131.47944960886,
         "_deepnote_index_column": 57
        },
        {
         "Country Code": "ZAF",
         "Year": "2018",
         "GDP Per Capita": 6372.60565499345,
         "_deepnote_index_column": 58
        },
        {
         "Country Code": "ZAF",
         "Year": "2019",
         "GDP Per Capita": 6001.4011214068,
         "_deepnote_index_column": 59
        },
        {
         "Country Code": "ZAF",
         "Year": "2020",
         "GDP Per Capita": 5090.71502455292,
         "_deepnote_index_column": 60
        },
        {
         "Country Code": "ZAF",
         "Year": "Unnamed: 65",
         "GDP Per Capita": "nan",
         "_deepnote_index_column": 61
        }
       ],
       "rows_bottom": null
      },
      "text/plain": "   Country Code         Year  GDP Per Capita\n57          ZAF         2017     6131.479450\n58          ZAF         2018     6372.605655\n59          ZAF         2019     6001.401121\n60          ZAF         2020     5090.715025\n61          ZAF  Unnamed: 65             NaN",
      "text/html": "<div>\n<style scoped>\n    .dataframe tbody tr th:only-of-type {\n        vertical-align: middle;\n    }\n\n    .dataframe tbody tr th {\n        vertical-align: top;\n    }\n\n    .dataframe thead th {\n        text-align: right;\n    }\n</style>\n<table border=\"1\" class=\"dataframe\">\n  <thead>\n    <tr style=\"text-align: right;\">\n      <th></th>\n      <th>Country Code</th>\n      <th>Year</th>\n      <th>GDP Per Capita</th>\n    </tr>\n  </thead>\n  <tbody>\n    <tr>\n      <th>57</th>\n      <td>ZAF</td>\n      <td>2017</td>\n      <td>6131.479450</td>\n    </tr>\n    <tr>\n      <th>58</th>\n      <td>ZAF</td>\n      <td>2018</td>\n      <td>6372.605655</td>\n    </tr>\n    <tr>\n      <th>59</th>\n      <td>ZAF</td>\n      <td>2019</td>\n      <td>6001.401121</td>\n    </tr>\n    <tr>\n      <th>60</th>\n      <td>ZAF</td>\n      <td>2020</td>\n      <td>5090.715025</td>\n    </tr>\n    <tr>\n      <th>61</th>\n      <td>ZAF</td>\n      <td>Unnamed: 65</td>\n      <td>NaN</td>\n    </tr>\n  </tbody>\n</table>\n</div>"
     },
     "metadata": {}
    }
   ]
  },
  {
   "cell_type": "markdown",
   "source": "### 6.3 Generate line chart",
   "metadata": {
    "tags": [],
    "cell_id": "00025-4b4a0296-18e2-4dcf-9325-ec7c0779e509",
    "deepnote_cell_type": "markdown"
   }
  },
  {
   "cell_type": "code",
   "metadata": {
    "tags": [],
    "cell_id": "00014-d1352617-e32a-4b88-beea-6e3c72ad1ac6",
    "deepnote_to_be_reexecuted": false,
    "source_hash": "9be0864e",
    "execution_start": 1629554292911,
    "execution_millis": 42,
    "deepnote_cell_type": "code"
   },
   "source": "alt.Chart(zaf_gdp_year).mark_line().encode(\n    x='Year:Q',\n    y='GDP Per Capita:Q'\n)",
   "execution_count": 15,
   "outputs": [
    {
     "output_type": "execute_result",
     "execution_count": 15,
     "data": {
      "text/html": "\n<div id=\"altair-viz-9b5dd7eb124a45f3a7ec973a79349fed\"></div>\n<script type=\"text/javascript\">\n  (function(spec, embedOpt){\n    let outputDiv = document.currentScript.previousElementSibling;\n    if (outputDiv.id !== \"altair-viz-9b5dd7eb124a45f3a7ec973a79349fed\") {\n      outputDiv = document.getElementById(\"altair-viz-9b5dd7eb124a45f3a7ec973a79349fed\");\n    }\n    const paths = {\n      \"vega\": \"https://cdn.jsdelivr.net/npm//vega@5?noext\",\n      \"vega-lib\": \"https://cdn.jsdelivr.net/npm//vega-lib?noext\",\n      \"vega-lite\": \"https://cdn.jsdelivr.net/npm//vega-lite@4.8.1?noext\",\n      \"vega-embed\": \"https://cdn.jsdelivr.net/npm//vega-embed@6?noext\",\n    };\n\n    function loadScript(lib) {\n      return new Promise(function(resolve, reject) {\n        var s = document.createElement('script');\n        s.src = paths[lib];\n        s.async = true;\n        s.onload = () => resolve(paths[lib]);\n        s.onerror = () => reject(`Error loading script: ${paths[lib]}`);\n        document.getElementsByTagName(\"head\")[0].appendChild(s);\n      });\n    }\n\n    function showError(err) {\n      outputDiv.innerHTML = `<div class=\"error\" style=\"color:red;\">${err}</div>`;\n      throw err;\n    }\n\n    function displayChart(vegaEmbed) {\n      vegaEmbed(outputDiv, spec, embedOpt)\n        .catch(err => showError(`Javascript Error: ${err.message}<br>This usually means there's a typo in your chart specification. See the javascript console for the full traceback.`));\n    }\n\n    if(typeof define === \"function\" && define.amd) {\n      requirejs.config({paths});\n      require([\"vega-embed\"], displayChart, err => showError(`Error loading script: ${err.message}`));\n    } else if (typeof vegaEmbed === \"function\") {\n      displayChart(vegaEmbed);\n    } else {\n      loadScript(\"vega\")\n        .then(() => loadScript(\"vega-lite\"))\n        .then(() => loadScript(\"vega-embed\"))\n        .catch(showError)\n        .then(() => displayChart(vegaEmbed));\n    }\n  })({\"config\": {\"view\": {\"continuousWidth\": 400, \"continuousHeight\": 300}}, \"data\": {\"name\": \"data-449f3237b91daba23dc849f820b9f1cc\"}, \"mark\": \"line\", \"encoding\": {\"x\": {\"type\": \"quantitative\", \"field\": \"Year\"}, \"y\": {\"type\": \"quantitative\", \"field\": \"GDP Per Capita\"}}, \"$schema\": \"https://vega.github.io/schema/vega-lite/v4.8.1.json\", \"datasets\": {\"data-449f3237b91daba23dc849f820b9f1cc\": [{\"Country Code\": \"ZAF\", \"Year\": \"1960\", \"GDP Per Capita\": 443.009919687117}, {\"Country Code\": \"ZAF\", \"Year\": \"1961\", \"GDP Per Capita\": 454.962013204571}, {\"Country Code\": \"ZAF\", \"Year\": \"1962\", \"GDP Per Capita\": 473.011404787688}, {\"Country Code\": \"ZAF\", \"Year\": \"1963\", \"GDP Per Capita\": 511.497363595139}, {\"Country Code\": \"ZAF\", \"Year\": \"1964\", \"GDP Per Capita\": 548.996057840454}, {\"Country Code\": \"ZAF\", \"Year\": \"1965\", \"GDP Per Capita\": 584.704162655487}, {\"Country Code\": \"ZAF\", \"Year\": \"1966\", \"GDP Per Capita\": 621.220543396537}, {\"Country Code\": \"ZAF\", \"Year\": \"1967\", \"GDP Per Capita\": 675.135345144852}, {\"Country Code\": \"ZAF\", \"Year\": \"1968\", \"GDP Per Capita\": 711.22574244265}, {\"Country Code\": \"ZAF\", \"Year\": \"1969\", \"GDP Per Capita\": 780.625918680059}, {\"Country Code\": \"ZAF\", \"Year\": \"1970\", \"GDP Per Capita\": 834.552502866869}, {\"Country Code\": \"ZAF\", \"Year\": \"1971\", \"GDP Per Capita\": 897.130093822605}, {\"Country Code\": \"ZAF\", \"Year\": \"1972\", \"GDP Per Capita\": 917.355854790044}, {\"Country Code\": \"ZAF\", \"Year\": \"1973\", \"GDP Per Capita\": 1225.0894683308}, {\"Country Code\": \"ZAF\", \"Year\": \"1974\", \"GDP Per Capita\": 1499.14106799702}, {\"Country Code\": \"ZAF\", \"Year\": \"1975\", \"GDP Per Capita\": 1512.77096500261}, {\"Country Code\": \"ZAF\", \"Year\": \"1976\", \"GDP Per Capita\": 1416.70882099851}, {\"Country Code\": \"ZAF\", \"Year\": \"1977\", \"GDP Per Capita\": 1535.11878146466}, {\"Country Code\": \"ZAF\", \"Year\": \"1978\", \"GDP Per Capita\": 1722.22663022266}, {\"Country Code\": \"ZAF\", \"Year\": \"1979\", \"GDP Per Capita\": 2071.55093125287}, {\"Country Code\": \"ZAF\", \"Year\": \"1980\", \"GDP Per Capita\": 2905.80764148555}, {\"Country Code\": \"ZAF\", \"Year\": \"1981\", \"GDP Per Capita\": 2913.24255077845}, {\"Country Code\": \"ZAF\", \"Year\": \"1982\", \"GDP Per Capita\": 2601.05786122582}, {\"Country Code\": \"ZAF\", \"Year\": \"1983\", \"GDP Per Capita\": 2820.43371745368}, {\"Country Code\": \"ZAF\", \"Year\": \"1984\", \"GDP Per Capita\": 2429.02750034724}, {\"Country Code\": \"ZAF\", \"Year\": \"1985\", \"GDP Per Capita\": 1807.976467842}, {\"Country Code\": \"ZAF\", \"Year\": \"1986\", \"GDP Per Capita\": 2015.81356725988}, {\"Country Code\": \"ZAF\", \"Year\": \"1987\", \"GDP Per Capita\": 2582.49467153238}, {\"Country Code\": \"ZAF\", \"Year\": \"1988\", \"GDP Per Capita\": 2711.51530047549}, {\"Country Code\": \"ZAF\", \"Year\": \"1989\", \"GDP Per Capita\": 2756.21214797863}, {\"Country Code\": \"ZAF\", \"Year\": \"1990\", \"GDP Per Capita\": 3139.9662248384}, {\"Country Code\": \"ZAF\", \"Year\": \"1991\", \"GDP Per Capita\": 3285.9723260933}, {\"Country Code\": \"ZAF\", \"Year\": \"1992\", \"GDP Per Capita\": 3479.08320481774}, {\"Country Code\": \"ZAF\", \"Year\": \"1993\", \"GDP Per Capita\": 3388.77208446662}, {\"Country Code\": \"ZAF\", \"Year\": \"1994\", \"GDP Per Capita\": 3445.2282810658}, {\"Country Code\": \"ZAF\", \"Year\": \"1995\", \"GDP Per Capita\": 3751.83854053584}, {\"Country Code\": \"ZAF\", \"Year\": \"1996\", \"GDP Per Capita\": 3494.42385913899}, {\"Country Code\": \"ZAF\", \"Year\": \"1997\", \"GDP Per Capita\": 3549.55069948519}, {\"Country Code\": \"ZAF\", \"Year\": \"1998\", \"GDP Per Capita\": 3154.01181553226}, {\"Country Code\": \"ZAF\", \"Year\": \"1999\", \"GDP Per Capita\": 3081.5613845698}, {\"Country Code\": \"ZAF\", \"Year\": \"2000\", \"GDP Per Capita\": 3032.43918160783}, {\"Country Code\": \"ZAF\", \"Year\": \"2001\", \"GDP Per Capita\": 2666.47502701186}, {\"Country Code\": \"ZAF\", \"Year\": \"2002\", \"GDP Per Capita\": 2502.27700465337}, {\"Country Code\": \"ZAF\", \"Year\": \"2003\", \"GDP Per Capita\": 3751.28225102743}, {\"Country Code\": \"ZAF\", \"Year\": \"2004\", \"GDP Per Capita\": 4833.62751660714}, {\"Country Code\": \"ZAF\", \"Year\": \"2005\", \"GDP Per Capita\": 5383.65721714514}, {\"Country Code\": \"ZAF\", \"Year\": \"2006\", \"GDP Per Capita\": 5602.01046615218}, {\"Country Code\": \"ZAF\", \"Year\": \"2007\", \"GDP Per Capita\": 6095.62157019026}, {\"Country Code\": \"ZAF\", \"Year\": \"2008\", \"GDP Per Capita\": 5760.80517151179}, {\"Country Code\": \"ZAF\", \"Year\": \"2009\", \"GDP Per Capita\": 5862.79710791594}, {\"Country Code\": \"ZAF\", \"Year\": \"2010\", \"GDP Per Capita\": 7328.61519967084}, {\"Country Code\": \"ZAF\", \"Year\": \"2011\", \"GDP Per Capita\": 8007.47643908404}, {\"Country Code\": \"ZAF\", \"Year\": \"2012\", \"GDP Per Capita\": 7501.66109639676}, {\"Country Code\": \"ZAF\", \"Year\": \"2013\", \"GDP Per Capita\": 6832.72554600295}, {\"Country Code\": \"ZAF\", \"Year\": \"2014\", \"GDP Per Capita\": 6433.40040236585}, {\"Country Code\": \"ZAF\", \"Year\": \"2015\", \"GDP Per Capita\": 5734.63342207587}, {\"Country Code\": \"ZAF\", \"Year\": \"2016\", \"GDP Per Capita\": 5272.5436481983}, {\"Country Code\": \"ZAF\", \"Year\": \"2017\", \"GDP Per Capita\": 6131.47944960886}, {\"Country Code\": \"ZAF\", \"Year\": \"2018\", \"GDP Per Capita\": 6372.60565499345}, {\"Country Code\": \"ZAF\", \"Year\": \"2019\", \"GDP Per Capita\": 6001.4011214068}, {\"Country Code\": \"ZAF\", \"Year\": \"2020\", \"GDP Per Capita\": 5090.71502455292}, {\"Country Code\": \"ZAF\", \"Year\": \"Unnamed: 65\", \"GDP Per Capita\": null}]}}, {\"mode\": \"vega-lite\"});\n</script>",
      "text/plain": "alt.Chart(...)"
     },
     "metadata": {}
    }
   ]
  },
  {
   "cell_type": "markdown",
   "source": "### 6.4 Add title, format axis labels, change line color, change height and width\n\nSee [altair.Chart](https://altair-viz.github.io/user_guide/generated/toplevel/altair.Chart.html), [marks](https://altair-viz.github.io/user_guide/marks.html), [altair.chart.encode](https://altair-viz.github.io/user_guide/generated/toplevel/altair.Chart.html?highlight=encode#altair.Chart.encode), [altair.chart.properties](https://altair-viz.github.io/user_guide/generated/toplevel/altair.Chart.html?highlight=properties#altair.Chart.properties)",
   "metadata": {
    "tags": [],
    "cell_id": "00027-26749ce3-36cb-44fa-8f98-61bcef43d2b3",
    "deepnote_cell_type": "markdown"
   }
  },
  {
   "cell_type": "code",
   "metadata": {
    "tags": [],
    "cell_id": "00015-1bd4fa81-6a28-4a1a-86c9-3feb159d4600",
    "deepnote_to_be_reexecuted": false,
    "source_hash": "1f97db17",
    "execution_start": 1629554292965,
    "execution_millis": 23,
    "deepnote_cell_type": "code"
   },
   "source": "# Type 'T' = temporal\n# Title -> alt.Chart(< data >, title='A title') or alternative approach below.\n# Change line color -> .mark_line(color='#FFAA00') or alternative approach below.\n\nalt.Chart(zaf_gdp_year).mark_line().encode(\n    x=alt.X('Year:T', axis=alt.Axis(format='%Y')),\n    y=alt.Y('GDP Per Capita:Q', axis=alt.Axis(format='$,r')),\n    color=alt.value('#FFAA00')\n).properties(\n    height=300,\n    width=500,\n    title=\"South Africa GDP per capita, 1960-2020\"\n).configure_axis(\n    labelFontSize=12,\n    titleFontSize=14\n).configure_title(\n    fontSize=24\n)",
   "execution_count": 16,
   "outputs": [
    {
     "output_type": "execute_result",
     "execution_count": 16,
     "data": {
      "text/html": "\n<div id=\"altair-viz-fd3fa74cdf954ab0836f0f02b6992181\"></div>\n<script type=\"text/javascript\">\n  (function(spec, embedOpt){\n    let outputDiv = document.currentScript.previousElementSibling;\n    if (outputDiv.id !== \"altair-viz-fd3fa74cdf954ab0836f0f02b6992181\") {\n      outputDiv = document.getElementById(\"altair-viz-fd3fa74cdf954ab0836f0f02b6992181\");\n    }\n    const paths = {\n      \"vega\": \"https://cdn.jsdelivr.net/npm//vega@5?noext\",\n      \"vega-lib\": \"https://cdn.jsdelivr.net/npm//vega-lib?noext\",\n      \"vega-lite\": \"https://cdn.jsdelivr.net/npm//vega-lite@4.8.1?noext\",\n      \"vega-embed\": \"https://cdn.jsdelivr.net/npm//vega-embed@6?noext\",\n    };\n\n    function loadScript(lib) {\n      return new Promise(function(resolve, reject) {\n        var s = document.createElement('script');\n        s.src = paths[lib];\n        s.async = true;\n        s.onload = () => resolve(paths[lib]);\n        s.onerror = () => reject(`Error loading script: ${paths[lib]}`);\n        document.getElementsByTagName(\"head\")[0].appendChild(s);\n      });\n    }\n\n    function showError(err) {\n      outputDiv.innerHTML = `<div class=\"error\" style=\"color:red;\">${err}</div>`;\n      throw err;\n    }\n\n    function displayChart(vegaEmbed) {\n      vegaEmbed(outputDiv, spec, embedOpt)\n        .catch(err => showError(`Javascript Error: ${err.message}<br>This usually means there's a typo in your chart specification. See the javascript console for the full traceback.`));\n    }\n\n    if(typeof define === \"function\" && define.amd) {\n      requirejs.config({paths});\n      require([\"vega-embed\"], displayChart, err => showError(`Error loading script: ${err.message}`));\n    } else if (typeof vegaEmbed === \"function\") {\n      displayChart(vegaEmbed);\n    } else {\n      loadScript(\"vega\")\n        .then(() => loadScript(\"vega-lite\"))\n        .then(() => loadScript(\"vega-embed\"))\n        .catch(showError)\n        .then(() => displayChart(vegaEmbed));\n    }\n  })({\"config\": {\"view\": {\"continuousWidth\": 400, \"continuousHeight\": 300}, \"axis\": {\"labelFontSize\": 12, \"titleFontSize\": 14}, \"title\": {\"fontSize\": 24}}, \"data\": {\"name\": \"data-449f3237b91daba23dc849f820b9f1cc\"}, \"mark\": \"line\", \"encoding\": {\"color\": {\"value\": \"#FFAA00\"}, \"x\": {\"type\": \"temporal\", \"axis\": {\"format\": \"%Y\"}, \"field\": \"Year\"}, \"y\": {\"type\": \"quantitative\", \"axis\": {\"format\": \"$,r\"}, \"field\": \"GDP Per Capita\"}}, \"height\": 300, \"title\": \"South Africa GDP per capita, 1960-2020\", \"width\": 500, \"$schema\": \"https://vega.github.io/schema/vega-lite/v4.8.1.json\", \"datasets\": {\"data-449f3237b91daba23dc849f820b9f1cc\": [{\"Country Code\": \"ZAF\", \"Year\": \"1960\", \"GDP Per Capita\": 443.009919687117}, {\"Country Code\": \"ZAF\", \"Year\": \"1961\", \"GDP Per Capita\": 454.962013204571}, {\"Country Code\": \"ZAF\", \"Year\": \"1962\", \"GDP Per Capita\": 473.011404787688}, {\"Country Code\": \"ZAF\", \"Year\": \"1963\", \"GDP Per Capita\": 511.497363595139}, {\"Country Code\": \"ZAF\", \"Year\": \"1964\", \"GDP Per Capita\": 548.996057840454}, {\"Country Code\": \"ZAF\", \"Year\": \"1965\", \"GDP Per Capita\": 584.704162655487}, {\"Country Code\": \"ZAF\", \"Year\": \"1966\", \"GDP Per Capita\": 621.220543396537}, {\"Country Code\": \"ZAF\", \"Year\": \"1967\", \"GDP Per Capita\": 675.135345144852}, {\"Country Code\": \"ZAF\", \"Year\": \"1968\", \"GDP Per Capita\": 711.22574244265}, {\"Country Code\": \"ZAF\", \"Year\": \"1969\", \"GDP Per Capita\": 780.625918680059}, {\"Country Code\": \"ZAF\", \"Year\": \"1970\", \"GDP Per Capita\": 834.552502866869}, {\"Country Code\": \"ZAF\", \"Year\": \"1971\", \"GDP Per Capita\": 897.130093822605}, {\"Country Code\": \"ZAF\", \"Year\": \"1972\", \"GDP Per Capita\": 917.355854790044}, {\"Country Code\": \"ZAF\", \"Year\": \"1973\", \"GDP Per Capita\": 1225.0894683308}, {\"Country Code\": \"ZAF\", \"Year\": \"1974\", \"GDP Per Capita\": 1499.14106799702}, {\"Country Code\": \"ZAF\", \"Year\": \"1975\", \"GDP Per Capita\": 1512.77096500261}, {\"Country Code\": \"ZAF\", \"Year\": \"1976\", \"GDP Per Capita\": 1416.70882099851}, {\"Country Code\": \"ZAF\", \"Year\": \"1977\", \"GDP Per Capita\": 1535.11878146466}, {\"Country Code\": \"ZAF\", \"Year\": \"1978\", \"GDP Per Capita\": 1722.22663022266}, {\"Country Code\": \"ZAF\", \"Year\": \"1979\", \"GDP Per Capita\": 2071.55093125287}, {\"Country Code\": \"ZAF\", \"Year\": \"1980\", \"GDP Per Capita\": 2905.80764148555}, {\"Country Code\": \"ZAF\", \"Year\": \"1981\", \"GDP Per Capita\": 2913.24255077845}, {\"Country Code\": \"ZAF\", \"Year\": \"1982\", \"GDP Per Capita\": 2601.05786122582}, {\"Country Code\": \"ZAF\", \"Year\": \"1983\", \"GDP Per Capita\": 2820.43371745368}, {\"Country Code\": \"ZAF\", \"Year\": \"1984\", \"GDP Per Capita\": 2429.02750034724}, {\"Country Code\": \"ZAF\", \"Year\": \"1985\", \"GDP Per Capita\": 1807.976467842}, {\"Country Code\": \"ZAF\", \"Year\": \"1986\", \"GDP Per Capita\": 2015.81356725988}, {\"Country Code\": \"ZAF\", \"Year\": \"1987\", \"GDP Per Capita\": 2582.49467153238}, {\"Country Code\": \"ZAF\", \"Year\": \"1988\", \"GDP Per Capita\": 2711.51530047549}, {\"Country Code\": \"ZAF\", \"Year\": \"1989\", \"GDP Per Capita\": 2756.21214797863}, {\"Country Code\": \"ZAF\", \"Year\": \"1990\", \"GDP Per Capita\": 3139.9662248384}, {\"Country Code\": \"ZAF\", \"Year\": \"1991\", \"GDP Per Capita\": 3285.9723260933}, {\"Country Code\": \"ZAF\", \"Year\": \"1992\", \"GDP Per Capita\": 3479.08320481774}, {\"Country Code\": \"ZAF\", \"Year\": \"1993\", \"GDP Per Capita\": 3388.77208446662}, {\"Country Code\": \"ZAF\", \"Year\": \"1994\", \"GDP Per Capita\": 3445.2282810658}, {\"Country Code\": \"ZAF\", \"Year\": \"1995\", \"GDP Per Capita\": 3751.83854053584}, {\"Country Code\": \"ZAF\", \"Year\": \"1996\", \"GDP Per Capita\": 3494.42385913899}, {\"Country Code\": \"ZAF\", \"Year\": \"1997\", \"GDP Per Capita\": 3549.55069948519}, {\"Country Code\": \"ZAF\", \"Year\": \"1998\", \"GDP Per Capita\": 3154.01181553226}, {\"Country Code\": \"ZAF\", \"Year\": \"1999\", \"GDP Per Capita\": 3081.5613845698}, {\"Country Code\": \"ZAF\", \"Year\": \"2000\", \"GDP Per Capita\": 3032.43918160783}, {\"Country Code\": \"ZAF\", \"Year\": \"2001\", \"GDP Per Capita\": 2666.47502701186}, {\"Country Code\": \"ZAF\", \"Year\": \"2002\", \"GDP Per Capita\": 2502.27700465337}, {\"Country Code\": \"ZAF\", \"Year\": \"2003\", \"GDP Per Capita\": 3751.28225102743}, {\"Country Code\": \"ZAF\", \"Year\": \"2004\", \"GDP Per Capita\": 4833.62751660714}, {\"Country Code\": \"ZAF\", \"Year\": \"2005\", \"GDP Per Capita\": 5383.65721714514}, {\"Country Code\": \"ZAF\", \"Year\": \"2006\", \"GDP Per Capita\": 5602.01046615218}, {\"Country Code\": \"ZAF\", \"Year\": \"2007\", \"GDP Per Capita\": 6095.62157019026}, {\"Country Code\": \"ZAF\", \"Year\": \"2008\", \"GDP Per Capita\": 5760.80517151179}, {\"Country Code\": \"ZAF\", \"Year\": \"2009\", \"GDP Per Capita\": 5862.79710791594}, {\"Country Code\": \"ZAF\", \"Year\": \"2010\", \"GDP Per Capita\": 7328.61519967084}, {\"Country Code\": \"ZAF\", \"Year\": \"2011\", \"GDP Per Capita\": 8007.47643908404}, {\"Country Code\": \"ZAF\", \"Year\": \"2012\", \"GDP Per Capita\": 7501.66109639676}, {\"Country Code\": \"ZAF\", \"Year\": \"2013\", \"GDP Per Capita\": 6832.72554600295}, {\"Country Code\": \"ZAF\", \"Year\": \"2014\", \"GDP Per Capita\": 6433.40040236585}, {\"Country Code\": \"ZAF\", \"Year\": \"2015\", \"GDP Per Capita\": 5734.63342207587}, {\"Country Code\": \"ZAF\", \"Year\": \"2016\", \"GDP Per Capita\": 5272.5436481983}, {\"Country Code\": \"ZAF\", \"Year\": \"2017\", \"GDP Per Capita\": 6131.47944960886}, {\"Country Code\": \"ZAF\", \"Year\": \"2018\", \"GDP Per Capita\": 6372.60565499345}, {\"Country Code\": \"ZAF\", \"Year\": \"2019\", \"GDP Per Capita\": 6001.4011214068}, {\"Country Code\": \"ZAF\", \"Year\": \"2020\", \"GDP Per Capita\": 5090.71502455292}, {\"Country Code\": \"ZAF\", \"Year\": \"Unnamed: 65\", \"GDP Per Capita\": null}]}}, {\"mode\": \"vega-lite\"});\n</script>",
      "text/plain": "alt.Chart(...)"
     },
     "metadata": {}
    }
   ]
  },
  {
   "cell_type": "markdown",
   "source": "### 7.0 Visualize low income regions GDP per capita, 1960-2020\n\n#### Regions\n* EAP = East Asia & Pacific (excluding high income)\n* ECA = Europe & Central Asia (excluding high income)\n* LAC = Latin America & Carribbean (excluding high income)\n* MNA = Middle East & North Africa (excluding high income)\n* SSA = Sub-Saharan Africa (excluding high income)",
   "metadata": {
    "tags": [],
    "cell_id": "00013-271985a5-e28a-4546-8cd4-2ab8c1ac28a9",
    "deepnote_cell_type": "markdown"
   }
  },
  {
   "cell_type": "markdown",
   "source": "### 7.1 Prep: filter on selected regional groupings\n\nSee [pandas.DataFrame.isin](https://pandas.pydata.org/pandas-docs/stable/reference/api/pandas.DataFrame.isin.html)",
   "metadata": {
    "tags": [],
    "cell_id": "00030-f224b5df-a8e3-4973-8cd2-de020a4ea7f5",
    "deepnote_cell_type": "markdown"
   }
  },
  {
   "cell_type": "code",
   "metadata": {
    "tags": [],
    "cell_id": "00012-7a356a76-75f6-4574-8b44-ad4ad808143d",
    "deepnote_to_be_reexecuted": false,
    "source_hash": "55becb67",
    "execution_start": 1629554293038,
    "execution_millis": 17,
    "deepnote_cell_type": "code"
   },
   "source": "# Filter on selected regions\nis_member = ('EAP', 'ECA', 'LAC', 'MNA', 'SSA')\ndev_groups = gdp_per_capita[gdp_per_capita['Country Code'].isin(is_member)]\ndev_groups.shape",
   "execution_count": 17,
   "outputs": [
    {
     "output_type": "execute_result",
     "execution_count": 17,
     "data": {
      "text/plain": "(5, 66)"
     },
     "metadata": {}
    }
   ]
  },
  {
   "cell_type": "markdown",
   "source": "### 7.2 Prep: convert \"year\" column names to row values (pivot)\n\nSee [pandas.melt](https://pandas.pydata.org/docs/reference/api/pandas.melt.html), [pandas.DataFrame.tail](https://pandas.pydata.org/pandas-docs/stable/reference/api/pandas.DataFrame.tail.html)",
   "metadata": {
    "tags": [],
    "cell_id": "00032-1f05f189-97d0-46e4-9b25-e7e12a9345d7",
    "deepnote_cell_type": "markdown"
   }
  },
  {
   "cell_type": "code",
   "metadata": {
    "tags": [],
    "cell_id": "00014-a8f80f78-72c3-41e1-8a0a-01025034f915",
    "deepnote_to_be_reexecuted": false,
    "source_hash": "c8e0d3f2",
    "execution_start": 1629554293039,
    "execution_millis": 17,
    "deepnote_cell_type": "code"
   },
   "source": "# Convert column names to row values\ndev_groups_gdp_year = pd.melt(dev_groups, id_vars=['Country Code'], var_name='Year', value_name='GDP Per Capita')\ndev_groups_gdp_year.tail()",
   "execution_count": 18,
   "outputs": [
    {
     "output_type": "execute_result",
     "execution_count": 18,
     "data": {
      "application/vnd.deepnote.dataframe.v2+json": {
       "row_count": 5,
       "column_count": 3,
       "columns": [
        {
         "name": "Country Code",
         "dtype": "object",
         "stats": {
          "unique_count": 5,
          "nan_count": 0,
          "categories": [
           {
            "name": "EAP",
            "count": 1
           },
           {
            "name": "ECA",
            "count": 1
           },
           {
            "name": "3 others",
            "count": 3
           }
          ]
         }
        },
        {
         "name": "Year",
         "dtype": "object",
         "stats": {
          "unique_count": 1,
          "nan_count": 0,
          "categories": [
           {
            "name": "Unnamed: 65",
            "count": 5
           }
          ]
         }
        },
        {
         "name": "GDP Per Capita",
         "dtype": "object",
         "stats": {
          "unique_count": 0,
          "nan_count": 5,
          "categories": [
           {
            "name": "Missing",
            "count": 5
           }
          ]
         }
        },
        {
         "name": "_deepnote_index_column",
         "dtype": "int64"
        }
       ],
       "rows_top": [
        {
         "Country Code": "EAP",
         "Year": "Unnamed: 65",
         "GDP Per Capita": "nan",
         "_deepnote_index_column": 320
        },
        {
         "Country Code": "ECA",
         "Year": "Unnamed: 65",
         "GDP Per Capita": "nan",
         "_deepnote_index_column": 321
        },
        {
         "Country Code": "LAC",
         "Year": "Unnamed: 65",
         "GDP Per Capita": "nan",
         "_deepnote_index_column": 322
        },
        {
         "Country Code": "MNA",
         "Year": "Unnamed: 65",
         "GDP Per Capita": "nan",
         "_deepnote_index_column": 323
        },
        {
         "Country Code": "SSA",
         "Year": "Unnamed: 65",
         "GDP Per Capita": "nan",
         "_deepnote_index_column": 324
        }
       ],
       "rows_bottom": null
      },
      "text/plain": "    Country Code         Year GDP Per Capita\n320          EAP  Unnamed: 65            NaN\n321          ECA  Unnamed: 65            NaN\n322          LAC  Unnamed: 65            NaN\n323          MNA  Unnamed: 65            NaN\n324          SSA  Unnamed: 65            NaN",
      "text/html": "<div>\n<style scoped>\n    .dataframe tbody tr th:only-of-type {\n        vertical-align: middle;\n    }\n\n    .dataframe tbody tr th {\n        vertical-align: top;\n    }\n\n    .dataframe thead th {\n        text-align: right;\n    }\n</style>\n<table border=\"1\" class=\"dataframe\">\n  <thead>\n    <tr style=\"text-align: right;\">\n      <th></th>\n      <th>Country Code</th>\n      <th>Year</th>\n      <th>GDP Per Capita</th>\n    </tr>\n  </thead>\n  <tbody>\n    <tr>\n      <th>320</th>\n      <td>EAP</td>\n      <td>Unnamed: 65</td>\n      <td>NaN</td>\n    </tr>\n    <tr>\n      <th>321</th>\n      <td>ECA</td>\n      <td>Unnamed: 65</td>\n      <td>NaN</td>\n    </tr>\n    <tr>\n      <th>322</th>\n      <td>LAC</td>\n      <td>Unnamed: 65</td>\n      <td>NaN</td>\n    </tr>\n    <tr>\n      <th>323</th>\n      <td>MNA</td>\n      <td>Unnamed: 65</td>\n      <td>NaN</td>\n    </tr>\n    <tr>\n      <th>324</th>\n      <td>SSA</td>\n      <td>Unnamed: 65</td>\n      <td>NaN</td>\n    </tr>\n  </tbody>\n</table>\n</div>"
     },
     "metadata": {}
    }
   ]
  },
  {
   "cell_type": "markdown",
   "source": "### 7.3 Generate multi-series line chart",
   "metadata": {
    "tags": [],
    "cell_id": "00034-1acbbd24-640a-4f4f-8b4e-0917b613a201",
    "deepnote_cell_type": "markdown"
   }
  },
  {
   "cell_type": "code",
   "metadata": {
    "tags": [],
    "cell_id": "00015-aa8576dd-a1cf-4c0b-b9db-daf1f1f4e1c2",
    "deepnote_to_be_reexecuted": false,
    "source_hash": "aa312a90",
    "execution_start": 1629554293082,
    "execution_millis": 8,
    "deepnote_cell_type": "code"
   },
   "source": "alt.Chart(dev_groups_gdp_year).mark_line().encode(\n    x='Year:Q',\n    y='GDP Per Capita:Q',\n    color='Country Code',\n    strokeDash='Country Code'\n)",
   "execution_count": 19,
   "outputs": [
    {
     "output_type": "execute_result",
     "execution_count": 19,
     "data": {
      "text/html": "\n<div id=\"altair-viz-a74d30b4d9934101bc7902d55c11aaca\"></div>\n<script type=\"text/javascript\">\n  (function(spec, embedOpt){\n    let outputDiv = document.currentScript.previousElementSibling;\n    if (outputDiv.id !== \"altair-viz-a74d30b4d9934101bc7902d55c11aaca\") {\n      outputDiv = document.getElementById(\"altair-viz-a74d30b4d9934101bc7902d55c11aaca\");\n    }\n    const paths = {\n      \"vega\": \"https://cdn.jsdelivr.net/npm//vega@5?noext\",\n      \"vega-lib\": \"https://cdn.jsdelivr.net/npm//vega-lib?noext\",\n      \"vega-lite\": \"https://cdn.jsdelivr.net/npm//vega-lite@4.8.1?noext\",\n      \"vega-embed\": \"https://cdn.jsdelivr.net/npm//vega-embed@6?noext\",\n    };\n\n    function loadScript(lib) {\n      return new Promise(function(resolve, reject) {\n        var s = document.createElement('script');\n        s.src = paths[lib];\n        s.async = true;\n        s.onload = () => resolve(paths[lib]);\n        s.onerror = () => reject(`Error loading script: ${paths[lib]}`);\n        document.getElementsByTagName(\"head\")[0].appendChild(s);\n      });\n    }\n\n    function showError(err) {\n      outputDiv.innerHTML = `<div class=\"error\" style=\"color:red;\">${err}</div>`;\n      throw err;\n    }\n\n    function displayChart(vegaEmbed) {\n      vegaEmbed(outputDiv, spec, embedOpt)\n        .catch(err => showError(`Javascript Error: ${err.message}<br>This usually means there's a typo in your chart specification. See the javascript console for the full traceback.`));\n    }\n\n    if(typeof define === \"function\" && define.amd) {\n      requirejs.config({paths});\n      require([\"vega-embed\"], displayChart, err => showError(`Error loading script: ${err.message}`));\n    } else if (typeof vegaEmbed === \"function\") {\n      displayChart(vegaEmbed);\n    } else {\n      loadScript(\"vega\")\n        .then(() => loadScript(\"vega-lite\"))\n        .then(() => loadScript(\"vega-embed\"))\n        .catch(showError)\n        .then(() => displayChart(vegaEmbed));\n    }\n  })({\"config\": {\"view\": {\"continuousWidth\": 400, \"continuousHeight\": 300}}, \"data\": {\"name\": \"data-2410a8342a1dbe2e2dbb378b7d683af4\"}, \"mark\": \"line\", \"encoding\": {\"color\": {\"type\": \"nominal\", \"field\": \"Country Code\"}, \"strokeDash\": {\"type\": \"nominal\", \"field\": \"Country Code\"}, \"x\": {\"type\": \"quantitative\", \"field\": \"Year\"}, \"y\": {\"type\": \"quantitative\", \"field\": \"GDP Per Capita\"}}, \"$schema\": \"https://vega.github.io/schema/vega-lite/v4.8.1.json\", \"datasets\": {\"data-2410a8342a1dbe2e2dbb378b7d683af4\": [{\"Country Code\": \"EAP\", \"Year\": \"Country Name\", \"GDP Per Capita\": \"East Asia & Pacific (excluding high income)\"}, {\"Country Code\": \"ECA\", \"Year\": \"Country Name\", \"GDP Per Capita\": \"Europe & Central Asia (excluding high income)\"}, {\"Country Code\": \"LAC\", \"Year\": \"Country Name\", \"GDP Per Capita\": \"Latin America & Caribbean (excluding high income)\"}, {\"Country Code\": \"MNA\", \"Year\": \"Country Name\", \"GDP Per Capita\": \"Middle East & North Africa (excluding high income)\"}, {\"Country Code\": \"SSA\", \"Year\": \"Country Name\", \"GDP Per Capita\": \"Sub-Saharan Africa (excluding high income)\"}, {\"Country Code\": \"EAP\", \"Year\": \"Indicator Name\", \"GDP Per Capita\": \"GDP per capita (current US$)\"}, {\"Country Code\": \"ECA\", \"Year\": \"Indicator Name\", \"GDP Per Capita\": \"GDP per capita (current US$)\"}, {\"Country Code\": \"LAC\", \"Year\": \"Indicator Name\", \"GDP Per Capita\": \"GDP per capita (current US$)\"}, {\"Country Code\": \"MNA\", \"Year\": \"Indicator Name\", \"GDP Per Capita\": \"GDP per capita (current US$)\"}, {\"Country Code\": \"SSA\", \"Year\": \"Indicator Name\", \"GDP Per Capita\": \"GDP per capita (current US$)\"}, {\"Country Code\": \"EAP\", \"Year\": \"Indicator Code\", \"GDP Per Capita\": \"NY.GDP.PCAP.CD\"}, {\"Country Code\": \"ECA\", \"Year\": \"Indicator Code\", \"GDP Per Capita\": \"NY.GDP.PCAP.CD\"}, {\"Country Code\": \"LAC\", \"Year\": \"Indicator Code\", \"GDP Per Capita\": \"NY.GDP.PCAP.CD\"}, {\"Country Code\": \"MNA\", \"Year\": \"Indicator Code\", \"GDP Per Capita\": \"NY.GDP.PCAP.CD\"}, {\"Country Code\": \"SSA\", \"Year\": \"Indicator Code\", \"GDP Per Capita\": \"NY.GDP.PCAP.CD\"}, {\"Country Code\": \"EAP\", \"Year\": \"1960\", \"GDP Per Capita\": 89.6527796822837}, {\"Country Code\": \"ECA\", \"Year\": \"1960\", \"GDP Per Capita\": null}, {\"Country Code\": \"LAC\", \"Year\": \"1960\", \"GDP Per Capita\": 332.891883307801}, {\"Country Code\": \"MNA\", \"Year\": \"1960\", \"GDP Per Capita\": null}, {\"Country Code\": \"SSA\", \"Year\": \"1960\", \"GDP Per Capita\": 128.707557580504}, {\"Country Code\": \"EAP\", \"Year\": \"1961\", \"GDP Per Capita\": 78.7344609050717}, {\"Country Code\": \"ECA\", \"Year\": \"1961\", \"GDP Per Capita\": null}, {\"Country Code\": \"LAC\", \"Year\": \"1961\", \"GDP Per Capita\": 338.6578544345}, {\"Country Code\": \"MNA\", \"Year\": \"1961\", \"GDP Per Capita\": null}, {\"Country Code\": \"SSA\", \"Year\": \"1961\", \"GDP Per Capita\": 130.671307952798}, {\"Country Code\": \"EAP\", \"Year\": \"1962\", \"GDP Per Capita\": 71.1989889221213}, {\"Country Code\": \"ECA\", \"Year\": \"1962\", \"GDP Per Capita\": null}, {\"Country Code\": \"LAC\", \"Year\": \"1962\", \"GDP Per Capita\": 380.063375065943}, {\"Country Code\": \"MNA\", \"Year\": \"1962\", \"GDP Per Capita\": null}, {\"Country Code\": \"SSA\", \"Year\": \"1962\", \"GDP Per Capita\": 138.272460064887}, {\"Country Code\": \"EAP\", \"Year\": \"1963\", \"GDP Per Capita\": 75.1728203892176}, {\"Country Code\": \"ECA\", \"Year\": \"1963\", \"GDP Per Capita\": null}, {\"Country Code\": \"LAC\", \"Year\": \"1963\", \"GDP Per Capita\": 368.010185251088}, {\"Country Code\": \"MNA\", \"Year\": \"1963\", \"GDP Per Capita\": null}, {\"Country Code\": \"SSA\", \"Year\": \"1963\", \"GDP Per Capita\": 154.669311081194}, {\"Country Code\": \"EAP\", \"Year\": \"1964\", \"GDP Per Capita\": 85.0635380013149}, {\"Country Code\": \"ECA\", \"Year\": \"1964\", \"GDP Per Capita\": null}, {\"Country Code\": \"LAC\", \"Year\": \"1964\", \"GDP Per Capita\": 413.028342651694}, {\"Country Code\": \"MNA\", \"Year\": \"1964\", \"GDP Per Capita\": null}, {\"Country Code\": \"SSA\", \"Year\": \"1964\", \"GDP Per Capita\": 147.434620387441}, {\"Country Code\": \"EAP\", \"Year\": \"1965\", \"GDP Per Capita\": 96.8442037311951}, {\"Country Code\": \"ECA\", \"Year\": \"1965\", \"GDP Per Capita\": null}, {\"Country Code\": \"LAC\", \"Year\": \"1965\", \"GDP Per Capita\": 431.561601915989}, {\"Country Code\": \"MNA\", \"Year\": \"1965\", \"GDP Per Capita\": null}, {\"Country Code\": \"SSA\", \"Year\": \"1965\", \"GDP Per Capita\": 160.249416559973}, {\"Country Code\": \"EAP\", \"Year\": \"1966\", \"GDP Per Capita\": 103.119771351614}, {\"Country Code\": \"ECA\", \"Year\": \"1966\", \"GDP Per Capita\": null}, {\"Country Code\": \"LAC\", \"Year\": \"1966\", \"GDP Per Capita\": 462.36120942483}, {\"Country Code\": \"MNA\", \"Year\": \"1966\", \"GDP Per Capita\": null}, {\"Country Code\": \"SSA\", \"Year\": \"1966\", \"GDP Per Capita\": 168.695256098963}, {\"Country Code\": \"EAP\", \"Year\": \"1967\", \"GDP Per Capita\": 97.3458798529539}, {\"Country Code\": \"ECA\", \"Year\": \"1967\", \"GDP Per Capita\": null}, {\"Country Code\": \"LAC\", \"Year\": \"1967\", \"GDP Per Capita\": 461.913558721761}, {\"Country Code\": \"MNA\", \"Year\": \"1967\", \"GDP Per Capita\": null}, {\"Country Code\": \"SSA\", \"Year\": \"1967\", \"GDP Per Capita\": 162.668746658987}, {\"Country Code\": \"EAP\", \"Year\": \"1968\", \"GDP Per Capita\": 95.6991465920924}, {\"Country Code\": \"ECA\", \"Year\": \"1968\", \"GDP Per Capita\": null}, {\"Country Code\": \"LAC\", \"Year\": \"1968\", \"GDP Per Capita\": 486.257069325269}, {\"Country Code\": \"MNA\", \"Year\": \"1968\", \"GDP Per Capita\": null}, {\"Country Code\": \"SSA\", \"Year\": \"1968\", \"GDP Per Capita\": 169.614832389784}, {\"Country Code\": \"EAP\", \"Year\": \"1969\", \"GDP Per Capita\": 104.572933001481}, {\"Country Code\": \"ECA\", \"Year\": \"1969\", \"GDP Per Capita\": null}, {\"Country Code\": \"LAC\", \"Year\": \"1969\", \"GDP Per Capita\": 532.373987323748}, {\"Country Code\": \"MNA\", \"Year\": \"1969\", \"GDP Per Capita\": null}, {\"Country Code\": \"SSA\", \"Year\": \"1969\", \"GDP Per Capita\": 189.064582363466}, {\"Country Code\": \"EAP\", \"Year\": \"1970\", \"GDP Per Capita\": 113.429579242545}, {\"Country Code\": \"ECA\", \"Year\": \"1970\", \"GDP Per Capita\": null}, {\"Country Code\": \"LAC\", \"Year\": \"1970\", \"GDP Per Capita\": 563.408082538127}, {\"Country Code\": \"MNA\", \"Year\": \"1970\", \"GDP Per Capita\": null}, {\"Country Code\": \"SSA\", \"Year\": \"1970\", \"GDP Per Capita\": 216.775103099976}, {\"Country Code\": \"EAP\", \"Year\": \"1971\", \"GDP Per Capita\": 118.715562466497}, {\"Country Code\": \"ECA\", \"Year\": \"1971\", \"GDP Per Capita\": null}, {\"Country Code\": \"LAC\", \"Year\": \"1971\", \"GDP Per Capita\": 609.763768682512}, {\"Country Code\": \"MNA\", \"Year\": \"1971\", \"GDP Per Capita\": null}, {\"Country Code\": \"SSA\", \"Year\": \"1971\", \"GDP Per Capita\": 214.729916031448}, {\"Country Code\": \"EAP\", \"Year\": \"1972\", \"GDP Per Capita\": 131.359062049343}, {\"Country Code\": \"ECA\", \"Year\": \"1972\", \"GDP Per Capita\": null}, {\"Country Code\": \"LAC\", \"Year\": \"1972\", \"GDP Per Capita\": 675.621021377475}, {\"Country Code\": \"MNA\", \"Year\": \"1972\", \"GDP Per Capita\": null}, {\"Country Code\": \"SSA\", \"Year\": \"1972\", \"GDP Per Capita\": 236.199795119012}, {\"Country Code\": \"EAP\", \"Year\": \"1973\", \"GDP Per Capita\": 161.538178577695}, {\"Country Code\": \"ECA\", \"Year\": \"1973\", \"GDP Per Capita\": null}, {\"Country Code\": \"LAC\", \"Year\": \"1973\", \"GDP Per Capita\": 865.173742568166}, {\"Country Code\": \"MNA\", \"Year\": \"1973\", \"GDP Per Capita\": null}, {\"Country Code\": \"SSA\", \"Year\": \"1973\", \"GDP Per Capita\": 294.134813600995}, {\"Country Code\": \"EAP\", \"Year\": \"1974\", \"GDP Per Capita\": 178.320034651103}, {\"Country Code\": \"ECA\", \"Year\": \"1974\", \"GDP Per Capita\": null}, {\"Country Code\": \"LAC\", \"Year\": \"1974\", \"GDP Per Capita\": 1112.38227054535}, {\"Country Code\": \"MNA\", \"Year\": \"1974\", \"GDP Per Capita\": null}, {\"Country Code\": \"SSA\", \"Year\": \"1974\", \"GDP Per Capita\": 373.207091652227}, {\"Country Code\": \"EAP\", \"Year\": \"1975\", \"GDP Per Capita\": 196.623965239371}, {\"Country Code\": \"ECA\", \"Year\": \"1975\", \"GDP Per Capita\": null}, {\"Country Code\": \"LAC\", \"Year\": \"1975\", \"GDP Per Capita\": 1170.48375134496}, {\"Country Code\": \"MNA\", \"Year\": \"1975\", \"GDP Per Capita\": null}, {\"Country Code\": \"SSA\", \"Year\": \"1975\", \"GDP Per Capita\": 400.825350784581}, {\"Country Code\": \"EAP\", \"Year\": \"1976\", \"GDP Per Capita\": 196.104369280144}, {\"Country Code\": \"ECA\", \"Year\": \"1976\", \"GDP Per Capita\": null}, {\"Country Code\": \"LAC\", \"Year\": \"1976\", \"GDP Per Capita\": 1263.28304601025}, {\"Country Code\": \"MNA\", \"Year\": \"1976\", \"GDP Per Capita\": null}, {\"Country Code\": \"SSA\", \"Year\": \"1976\", \"GDP Per Capita\": 422.395937217618}, {\"Country Code\": \"EAP\", \"Year\": \"1977\", \"GDP Per Capita\": 223.015670985669}, {\"Country Code\": \"ECA\", \"Year\": \"1977\", \"GDP Per Capita\": null}, {\"Country Code\": \"LAC\", \"Year\": \"1977\", \"GDP Per Capita\": 1340.97480457801}, {\"Country Code\": \"MNA\", \"Year\": \"1977\", \"GDP Per Capita\": null}, {\"Country Code\": \"SSA\", \"Year\": \"1977\", \"GDP Per Capita\": 451.861729229044}, {\"Country Code\": \"EAP\", \"Year\": \"1978\", \"GDP Per Capita\": 212.533785297527}, {\"Country Code\": \"ECA\", \"Year\": \"1978\", \"GDP Per Capita\": null}, {\"Country Code\": \"LAC\", \"Year\": \"1978\", \"GDP Per Capita\": 1492.94209608953}, {\"Country Code\": \"MNA\", \"Year\": \"1978\", \"GDP Per Capita\": null}, {\"Country Code\": \"SSA\", \"Year\": \"1978\", \"GDP Per Capita\": 486.061125598044}, {\"Country Code\": \"EAP\", \"Year\": \"1979\", \"GDP Per Capita\": 242.343612609447}, {\"Country Code\": \"ECA\", \"Year\": \"1979\", \"GDP Per Capita\": null}, {\"Country Code\": \"LAC\", \"Year\": \"1979\", \"GDP Per Capita\": 1722.91928662163}, {\"Country Code\": \"MNA\", \"Year\": \"1979\", \"GDP Per Capita\": null}, {\"Country Code\": \"SSA\", \"Year\": \"1979\", \"GDP Per Capita\": 567.941360585457}, {\"Country Code\": \"EAP\", \"Year\": \"1980\", \"GDP Per Capita\": 275.418504704817}, {\"Country Code\": \"ECA\", \"Year\": \"1980\", \"GDP Per Capita\": null}, {\"Country Code\": \"LAC\", \"Year\": \"1980\", \"GDP Per Capita\": 2013.52379924577}, {\"Country Code\": \"MNA\", \"Year\": \"1980\", \"GDP Per Capita\": null}, {\"Country Code\": \"SSA\", \"Year\": \"1980\", \"GDP Per Capita\": 695.616753351213}, {\"Country Code\": \"EAP\", \"Year\": \"1981\", \"GDP Per Capita\": 289.368997921737}, {\"Country Code\": \"ECA\", \"Year\": \"1981\", \"GDP Per Capita\": null}, {\"Country Code\": \"LAC\", \"Year\": \"1981\", \"GDP Per Capita\": 2278.24807595669}, {\"Country Code\": \"MNA\", \"Year\": \"1981\", \"GDP Per Capita\": null}, {\"Country Code\": \"SSA\", \"Year\": \"1981\", \"GDP Per Capita\": 942.38122394269}, {\"Country Code\": \"EAP\", \"Year\": \"1982\", \"GDP Per Capita\": 298.578833945108}, {\"Country Code\": \"ECA\", \"Year\": \"1982\", \"GDP Per Capita\": null}, {\"Country Code\": \"LAC\", \"Year\": \"1982\", \"GDP Per Capita\": 2073.63640295948}, {\"Country Code\": \"MNA\", \"Year\": \"1982\", \"GDP Per Capita\": null}, {\"Country Code\": \"SSA\", \"Year\": \"1982\", \"GDP Per Capita\": 842.935570685897}, {\"Country Code\": \"EAP\", \"Year\": \"1983\", \"GDP Per Capita\": 308.082087417901}, {\"Country Code\": \"ECA\", \"Year\": \"1983\", \"GDP Per Capita\": null}, {\"Country Code\": \"LAC\", \"Year\": \"1983\", \"GDP Per Capita\": 1769.43728578804}, {\"Country Code\": \"MNA\", \"Year\": \"1983\", \"GDP Per Capita\": null}, {\"Country Code\": \"SSA\", \"Year\": \"1983\", \"GDP Per Capita\": 713.623233063532}, {\"Country Code\": \"EAP\", \"Year\": \"1984\", \"GDP Per Capita\": 329.15694149934}, {\"Country Code\": \"ECA\", \"Year\": \"1984\", \"GDP Per Capita\": null}, {\"Country Code\": \"LAC\", \"Year\": \"1984\", \"GDP Per Capita\": 1769.59061819441}, {\"Country Code\": \"MNA\", \"Year\": \"1984\", \"GDP Per Capita\": null}, {\"Country Code\": \"SSA\", \"Year\": \"1984\", \"GDP Per Capita\": 605.90142451879}, {\"Country Code\": \"EAP\", \"Year\": \"1985\", \"GDP Per Capita\": 355.000652328618}, {\"Country Code\": \"ECA\", \"Year\": \"1985\", \"GDP Per Capita\": null}, {\"Country Code\": \"LAC\", \"Year\": \"1985\", \"GDP Per Capita\": 1791.64551773662}, {\"Country Code\": \"MNA\", \"Year\": \"1985\", \"GDP Per Capita\": null}, {\"Country Code\": \"SSA\", \"Year\": \"1985\", \"GDP Per Capita\": 558.64378010616}, {\"Country Code\": \"EAP\", \"Year\": \"1986\", \"GDP Per Capita\": 348.10691673475}, {\"Country Code\": \"ECA\", \"Year\": \"1986\", \"GDP Per Capita\": null}, {\"Country Code\": \"LAC\", \"Year\": \"1986\", \"GDP Per Capita\": 1769.86147927115}, {\"Country Code\": \"MNA\", \"Year\": \"1986\", \"GDP Per Capita\": null}, {\"Country Code\": \"SSA\", \"Year\": \"1986\", \"GDP Per Capita\": 559.342472640108}, {\"Country Code\": \"EAP\", \"Year\": \"1987\", \"GDP Per Capita\": 337.839606102379}, {\"Country Code\": \"ECA\", \"Year\": \"1987\", \"GDP Per Capita\": null}, {\"Country Code\": \"LAC\", \"Year\": \"1987\", \"GDP Per Capita\": 1861.8016844465}, {\"Country Code\": \"MNA\", \"Year\": \"1987\", \"GDP Per Capita\": null}, {\"Country Code\": \"SSA\", \"Year\": \"1987\", \"GDP Per Capita\": 618.832805088563}, {\"Country Code\": \"EAP\", \"Year\": \"1988\", \"GDP Per Capita\": 368.222710500728}, {\"Country Code\": \"ECA\", \"Year\": \"1988\", \"GDP Per Capita\": 2348.70235555523}, {\"Country Code\": \"LAC\", \"Year\": \"1988\", \"GDP Per Capita\": 2045.66072265308}, {\"Country Code\": \"MNA\", \"Year\": \"1988\", \"GDP Per Capita\": null}, {\"Country Code\": \"SSA\", \"Year\": \"1988\", \"GDP Per Capita\": 617.518563962097}, {\"Country Code\": \"EAP\", \"Year\": \"1989\", \"GDP Per Capita\": 391.377259090258}, {\"Country Code\": \"ECA\", \"Year\": \"1989\", \"GDP Per Capita\": 2260.90460737249}, {\"Country Code\": \"LAC\", \"Year\": \"1989\", \"GDP Per Capita\": 2248.16825461288}, {\"Country Code\": \"MNA\", \"Year\": \"1989\", \"GDP Per Capita\": null}, {\"Country Code\": \"SSA\", \"Year\": \"1989\", \"GDP Per Capita\": 597.026693996054}, {\"Country Code\": \"EAP\", \"Year\": \"1990\", \"GDP Per Capita\": 412.850017508043}, {\"Country Code\": \"ECA\", \"Year\": \"1990\", \"GDP Per Capita\": 2388.506691741}, {\"Country Code\": \"LAC\", \"Year\": \"1990\", \"GDP Per Capita\": 2602.73122270825}, {\"Country Code\": \"MNA\", \"Year\": \"1990\", \"GDP Per Capita\": null}, {\"Country Code\": \"SSA\", \"Year\": \"1990\", \"GDP Per Capita\": 654.560462119822}, {\"Country Code\": \"EAP\", \"Year\": \"1991\", \"GDP Per Capita\": 441.336539056127}, {\"Country Code\": \"ECA\", \"Year\": \"1991\", \"GDP Per Capita\": 2305.45200759027}, {\"Country Code\": \"LAC\", \"Year\": \"1991\", \"GDP Per Capita\": 3186.04025642897}, {\"Country Code\": \"MNA\", \"Year\": \"1991\", \"GDP Per Capita\": null}, {\"Country Code\": \"SSA\", \"Year\": \"1991\", \"GDP Per Capita\": 643.890273810906}, {\"Country Code\": \"EAP\", \"Year\": \"1992\", \"GDP Per Capita\": 487.707781119342}, {\"Country Code\": \"ECA\", \"Year\": \"1992\", \"GDP Per Capita\": 2120.98343318633}, {\"Country Code\": \"LAC\", \"Year\": \"1992\", \"GDP Per Capita\": 2892.84042964436}, {\"Country Code\": \"MNA\", \"Year\": \"1992\", \"GDP Per Capita\": null}, {\"Country Code\": \"SSA\", \"Year\": \"1992\", \"GDP Per Capita\": 626.975251806284}, {\"Country Code\": \"EAP\", \"Year\": \"1993\", \"GDP Per Capita\": 528.379441660585}, {\"Country Code\": \"ECA\", \"Year\": \"1993\", \"GDP Per Capita\": 2095.2839222894}, {\"Country Code\": \"LAC\", \"Year\": \"1993\", \"GDP Per Capita\": 3311.27821933065}, {\"Country Code\": \"MNA\", \"Year\": \"1993\", \"GDP Per Capita\": 1129.2754161623}, {\"Country Code\": \"SSA\", \"Year\": \"1993\", \"GDP Per Capita\": 571.8670265345}, {\"Country Code\": \"EAP\", \"Year\": \"1994\", \"GDP Per Capita\": 627.444901527105}, {\"Country Code\": \"ECA\", \"Year\": \"1994\", \"GDP Per Capita\": 1813.30868987513}, {\"Country Code\": \"LAC\", \"Year\": \"1994\", \"GDP Per Capita\": 3749.74900892436}, {\"Country Code\": \"MNA\", \"Year\": \"1994\", \"GDP Per Capita\": 1142.88621548538}, {\"Country Code\": \"SSA\", \"Year\": \"1994\", \"GDP Per Capita\": 543.240008437177}, {\"Country Code\": \"EAP\", \"Year\": \"1995\", \"GDP Per Capita\": 764.776416666831}, {\"Country Code\": \"ECA\", \"Year\": \"1995\", \"GDP Per Capita\": 1944.39376014087}, {\"Country Code\": \"LAC\", \"Year\": \"1995\", \"GDP Per Capita\": 3866.8075677085}, {\"Country Code\": \"MNA\", \"Year\": \"1995\", \"GDP Per Capita\": 1308.85891175965}, {\"Country Code\": \"SSA\", \"Year\": \"1995\", \"GDP Per Capita\": 613.992556835201}, {\"Country Code\": \"EAP\", \"Year\": \"1996\", \"GDP Per Capita\": 867.792116040631}, {\"Country Code\": \"ECA\", \"Year\": \"1996\", \"GDP Per Capita\": 1962.24737436828}, {\"Country Code\": \"LAC\", \"Year\": \"1996\", \"GDP Per Capita\": 4152.31849754948}, {\"Country Code\": \"MNA\", \"Year\": \"1996\", \"GDP Per Capita\": 1469.83428860223}, {\"Country Code\": \"SSA\", \"Year\": \"1996\", \"GDP Per Capita\": 616.594516347977}, {\"Country Code\": \"EAP\", \"Year\": \"1997\", \"GDP Per Capita\": 888.241640934943}, {\"Country Code\": \"ECA\", \"Year\": \"1997\", \"GDP Per Capita\": 2038.82954098279}, {\"Country Code\": \"LAC\", \"Year\": \"1997\", \"GDP Per Capita\": 4458.55012111234}, {\"Country Code\": \"MNA\", \"Year\": \"1997\", \"GDP Per Capita\": 1518.84326762419}, {\"Country Code\": \"SSA\", \"Year\": \"1997\", \"GDP Per Capita\": 622.912122372781}, {\"Country Code\": \"EAP\", \"Year\": \"1998\", \"GDP Per Capita\": 804.942679636555}, {\"Country Code\": \"ECA\", \"Year\": \"1998\", \"GDP Per Capita\": 1910.59812015964}, {\"Country Code\": \"LAC\", \"Year\": \"1998\", \"GDP Per Capita\": 4410.9050011362}, {\"Country Code\": \"MNA\", \"Year\": \"1998\", \"GDP Per Capita\": 1511.65013265866}, {\"Country Code\": \"SSA\", \"Year\": \"1998\", \"GDP Per Capita\": 587.163586727321}, {\"Country Code\": \"EAP\", \"Year\": \"1999\", \"GDP Per Capita\": 876.174821538643}, {\"Country Code\": \"ECA\", \"Year\": \"1999\", \"GDP Per Capita\": 1605.21666500686}, {\"Country Code\": \"LAC\", \"Year\": \"1999\", \"GDP Per Capita\": 3853.29428244067}, {\"Country Code\": \"MNA\", \"Year\": \"1999\", \"GDP Per Capita\": 1625.21598558802}, {\"Country Code\": \"SSA\", \"Year\": \"1999\", \"GDP Per Capita\": 578.713154753203}, {\"Country Code\": \"EAP\", \"Year\": \"2000\", \"GDP Per Capita\": 954.305663661861}, {\"Country Code\": \"ECA\", \"Year\": \"2000\", \"GDP Per Capita\": 1786.83263846672}, {\"Country Code\": \"LAC\", \"Year\": \"2000\", \"GDP Per Capita\": 4198.44023677522}, {\"Country Code\": \"MNA\", \"Year\": \"2000\", \"GDP Per Capita\": 1690.82493418578}, {\"Country Code\": \"SSA\", \"Year\": \"2000\", \"GDP Per Capita\": 601.358898076515}, {\"Country Code\": \"EAP\", \"Year\": \"2001\", \"GDP Per Capita\": 1007.16403088725}, {\"Country Code\": \"ECA\", \"Year\": \"2001\", \"GDP Per Capita\": 1777.3804333615}, {\"Country Code\": \"LAC\", \"Year\": \"2001\", \"GDP Per Capita\": 4024.20434428975}, {\"Country Code\": \"MNA\", \"Year\": \"2001\", \"GDP Per Capita\": 1666.67714855476}, {\"Country Code\": \"SSA\", \"Year\": \"2001\", \"GDP Per Capita\": 559.396831937782}, {\"Country Code\": \"EAP\", \"Year\": \"2002\", \"GDP Per Capita\": 1106.73807018197}, {\"Country Code\": \"ECA\", \"Year\": \"2002\", \"GDP Per Capita\": 2036.34057650272}, {\"Country Code\": \"LAC\", \"Year\": \"2002\", \"GDP Per Capita\": 3569.26472951502}, {\"Country Code\": \"MNA\", \"Year\": \"2002\", \"GDP Per Capita\": 1576.04605113384}, {\"Country Code\": \"SSA\", \"Year\": \"2002\", \"GDP Per Capita\": 594.085288108974}, {\"Country Code\": \"EAP\", \"Year\": \"2003\", \"GDP Per Capita\": 1240.83513131559}, {\"Country Code\": \"ECA\", \"Year\": \"2003\", \"GDP Per Capita\": 2567.12958240801}, {\"Country Code\": \"LAC\", \"Year\": \"2003\", \"GDP Per Capita\": 3607.50845790191}, {\"Country Code\": \"MNA\", \"Year\": \"2003\", \"GDP Per Capita\": 1696.73693549125}, {\"Country Code\": \"SSA\", \"Year\": \"2003\", \"GDP Per Capita\": 724.928623720708}, {\"Country Code\": \"EAP\", \"Year\": \"2004\", \"GDP Per Capita\": 1427.14658356726}, {\"Country Code\": \"ECA\", \"Year\": \"2004\", \"GDP Per Capita\": 3398.18856191293}, {\"Country Code\": \"LAC\", \"Year\": \"2004\", \"GDP Per Capita\": 4063.39733651666}, {\"Country Code\": \"MNA\", \"Year\": \"2004\", \"GDP Per Capita\": 1981.13939326468}, {\"Country Code\": \"SSA\", \"Year\": \"2004\", \"GDP Per Capita\": 877.960701182274}, {\"Country Code\": \"EAP\", \"Year\": \"2005\", \"GDP Per Capita\": 1640.22754673083}, {\"Country Code\": \"ECA\", \"Year\": \"2005\", \"GDP Per Capita\": 4301.29554052163}, {\"Country Code\": \"LAC\", \"Year\": \"2005\", \"GDP Per Capita\": 4856.09893718579}, {\"Country Code\": \"MNA\", \"Year\": \"2005\", \"GDP Per Capita\": 2293.14140694024}, {\"Country Code\": \"SSA\", \"Year\": \"2005\", \"GDP Per Capita\": 1015.55730273664}, {\"Country Code\": \"EAP\", \"Year\": \"2006\", \"GDP Per Capita\": 1961.19554988996}, {\"Country Code\": \"ECA\", \"Year\": \"2006\", \"GDP Per Capita\": 5269.81379332128}, {\"Country Code\": \"LAC\", \"Year\": \"2006\", \"GDP Per Capita\": 5604.9096937319}, {\"Country Code\": \"MNA\", \"Year\": \"2006\", \"GDP Per Capita\": 2618.367619193}, {\"Country Code\": \"SSA\", \"Year\": \"2006\", \"GDP Per Capita\": 1173.62997252607}, {\"Country Code\": \"EAP\", \"Year\": \"2007\", \"GDP Per Capita\": 2463.85986755301}, {\"Country Code\": \"ECA\", \"Year\": \"2007\", \"GDP Per Capita\": 6811.45616581317}, {\"Country Code\": \"LAC\", \"Year\": \"2007\", \"GDP Per Capita\": 6544.60652896521}, {\"Country Code\": \"MNA\", \"Year\": \"2007\", \"GDP Per Capita\": 3179.51979875568}, {\"Country Code\": \"SSA\", \"Year\": \"2007\", \"GDP Per Capita\": 1325.88359873382}, {\"Country Code\": \"EAP\", \"Year\": \"2008\", \"GDP Per Capita\": 3091.09038845467}, {\"Country Code\": \"ECA\", \"Year\": \"2008\", \"GDP Per Capita\": 8410.15400066175}, {\"Country Code\": \"LAC\", \"Year\": \"2008\", \"GDP Per Capita\": 7484.44990641484}, {\"Country Code\": \"MNA\", \"Year\": \"2008\", \"GDP Per Capita\": 3870.83099479435}, {\"Country Code\": \"SSA\", \"Year\": \"2008\", \"GDP Per Capita\": 1480.81461147548}, {\"Country Code\": \"EAP\", \"Year\": \"2009\", \"GDP Per Capita\": 3330.63270390782}, {\"Country Code\": \"ECA\", \"Year\": \"2009\", \"GDP Per Capita\": 6585.40776882484}, {\"Country Code\": \"LAC\", \"Year\": \"2009\", \"GDP Per Capita\": 6876.75343763036}, {\"Country Code\": \"MNA\", \"Year\": \"2009\", \"GDP Per Capita\": 3670.95686988791}, {\"Country Code\": \"SSA\", \"Year\": \"2009\", \"GDP Per Capita\": 1373.06570045307}, {\"Country Code\": \"EAP\", \"Year\": \"2010\", \"GDP Per Capita\": 4006.5615906113}, {\"Country Code\": \"ECA\", \"Year\": \"2010\", \"GDP Per Capita\": 7815.67928188957}, {\"Country Code\": \"LAC\", \"Year\": \"2010\", \"GDP Per Capita\": 8504.47384856706}, {\"Country Code\": \"MNA\", \"Year\": \"2010\", \"GDP Per Capita\": 4161.67184592424}, {\"Country Code\": \"SSA\", \"Year\": \"2010\", \"GDP Per Capita\": 1591.64054163333}, {\"Country Code\": \"EAP\", \"Year\": \"2011\", \"GDP Per Capita\": 4855.67402321131}, {\"Country Code\": \"ECA\", \"Year\": \"2011\", \"GDP Per Capita\": 9601.42530905035}, {\"Country Code\": \"LAC\", \"Year\": \"2011\", \"GDP Per Capita\": 9821.02930786385}, {\"Country Code\": \"MNA\", \"Year\": \"2011\", \"GDP Per Capita\": 4624.84188738842}, {\"Country Code\": \"SSA\", \"Year\": \"2011\", \"GDP Per Capita\": 1739.98788125153}, {\"Country Code\": \"EAP\", \"Year\": \"2012\", \"GDP Per Capita\": 5375.53059395669}, {\"Country Code\": \"ECA\", \"Year\": \"2012\", \"GDP Per Capita\": 10121.8349692874}, {\"Country Code\": \"LAC\", \"Year\": \"2012\", \"GDP Per Capita\": 9674.39297961517}, {\"Country Code\": \"MNA\", \"Year\": \"2012\", \"GDP Per Capita\": 5014.18729914909}, {\"Country Code\": \"SSA\", \"Year\": \"2012\", \"GDP Per Capita\": 1775.53370550961}, {\"Country Code\": \"EAP\", \"Year\": \"2013\", \"GDP Per Capita\": 5890.47160390924}, {\"Country Code\": \"ECA\", \"Year\": \"2013\", \"GDP Per Capita\": 10689.0391947118}, {\"Country Code\": \"LAC\", \"Year\": \"2013\", \"GDP Per Capita\": 9829.36976951415}, {\"Country Code\": \"MNA\", \"Year\": \"2013\", \"GDP Per Capita\": 4609.4664358826}, {\"Country Code\": \"SSA\", \"Year\": \"2013\", \"GDP Per Capita\": 1839.49603727626}, {\"Country Code\": \"EAP\", \"Year\": \"2014\", \"GDP Per Capita\": 6303.51556139287}, {\"Country Code\": \"ECA\", \"Year\": \"2014\", \"GDP Per Capita\": 9916.75670443681}, {\"Country Code\": \"LAC\", \"Year\": \"2014\", \"GDP Per Capita\": 9775.87963840275}, {\"Country Code\": \"MNA\", \"Year\": \"2014\", \"GDP Per Capita\": 4453.93215797249}, {\"Country Code\": \"SSA\", \"Year\": \"2014\", \"GDP Per Capita\": 1860.25214056967}, {\"Country Code\": \"EAP\", \"Year\": \"2015\", \"GDP Per Capita\": 6519.03890113458}, {\"Country Code\": \"ECA\", \"Year\": \"2015\", \"GDP Per Capita\": 7546.23299642731}, {\"Country Code\": \"LAC\", \"Year\": \"2015\", \"GDP Per Capita\": 8241.12003717272}, {\"Country Code\": \"MNA\", \"Year\": \"2015\", \"GDP Per Capita\": 3924.97973644787}, {\"Country Code\": \"SSA\", \"Year\": \"2015\", \"GDP Per Capita\": 1657.28631212539}, {\"Country Code\": \"EAP\", \"Year\": \"2016\", \"GDP Per Capita\": 6609.48436617558}, {\"Country Code\": \"ECA\", \"Year\": \"2016\", \"GDP Per Capita\": 7177.77223732626}, {\"Country Code\": \"LAC\", \"Year\": \"2016\", \"GDP Per Capita\": 7930.7150554872}, {\"Country Code\": \"MNA\", \"Year\": \"2016\", \"GDP Per Capita\": 3919.46696282692}, {\"Country Code\": \"SSA\", \"Year\": \"2016\", \"GDP Per Capita\": 1507.09602828557}, {\"Country Code\": \"EAP\", \"Year\": \"2017\", \"GDP Per Capita\": 7172.70194415996}, {\"Country Code\": \"ECA\", \"Year\": \"2017\", \"GDP Per Capita\": 8018.71413783077}, {\"Country Code\": \"LAC\", \"Year\": \"2017\", \"GDP Per Capita\": 8743.84224027993}, {\"Country Code\": \"MNA\", \"Year\": \"2017\", \"GDP Per Capita\": 3801.05244953155}, {\"Country Code\": \"SSA\", \"Year\": \"2017\", \"GDP Per Capita\": 1562.91396409004}, {\"Country Code\": \"EAP\", \"Year\": \"2018\", \"GDP Per Capita\": 7968.08997474566}, {\"Country Code\": \"ECA\", \"Year\": \"2018\", \"GDP Per Capita\": 8206.59666055713}, {\"Country Code\": \"LAC\", \"Year\": \"2018\", \"GDP Per Capita\": 8395.07435773172}, {\"Country Code\": \"MNA\", \"Year\": \"2018\", \"GDP Per Capita\": 3501.87076686937}, {\"Country Code\": \"SSA\", \"Year\": \"2018\", \"GDP Per Capita\": 1595.4964951506}, {\"Country Code\": \"EAP\", \"Year\": \"2019\", \"GDP Per Capita\": 8194.265111576}, {\"Country Code\": \"ECA\", \"Year\": \"2019\", \"GDP Per Capita\": 8337.8574220048}, {\"Country Code\": \"LAC\", \"Year\": \"2019\", \"GDP Per Capita\": 8213.07806273801}, {\"Country Code\": \"MNA\", \"Year\": \"2019\", \"GDP Per Capita\": 3507.50757458945}, {\"Country Code\": \"SSA\", \"Year\": \"2019\", \"GDP Per Capita\": 1597.72750280511}, {\"Country Code\": \"EAP\", \"Year\": \"2020\", \"GDP Per Capita\": 8291.74597603781}, {\"Country Code\": \"ECA\", \"Year\": \"2020\", \"GDP Per Capita\": 7656.59391905151}, {\"Country Code\": \"LAC\", \"Year\": \"2020\", \"GDP Per Capita\": 6733.11238457868}, {\"Country Code\": \"MNA\", \"Year\": \"2020\", \"GDP Per Capita\": 3066.22535513271}, {\"Country Code\": \"SSA\", \"Year\": \"2020\", \"GDP Per Capita\": 1482.9095943257}, {\"Country Code\": \"EAP\", \"Year\": \"Unnamed: 65\", \"GDP Per Capita\": null}, {\"Country Code\": \"ECA\", \"Year\": \"Unnamed: 65\", \"GDP Per Capita\": null}, {\"Country Code\": \"LAC\", \"Year\": \"Unnamed: 65\", \"GDP Per Capita\": null}, {\"Country Code\": \"MNA\", \"Year\": \"Unnamed: 65\", \"GDP Per Capita\": null}, {\"Country Code\": \"SSA\", \"Year\": \"Unnamed: 65\", \"GDP Per Capita\": null}]}}, {\"mode\": \"vega-lite\"});\n</script>",
      "text/plain": "alt.Chart(...)"
     },
     "metadata": {}
    }
   ]
  },
  {
   "cell_type": "markdown",
   "source": "### 7.4 Add title, subtitle, format axis labels, change height and width, format legend\n\nSee [altair.Chart](https://altair-viz.github.io/user_guide/generated/toplevel/altair.Chart.html), [marks](https://altair-viz.github.io/user_guide/marks.html), [altair.chart.encode](https://altair-viz.github.io/user_guide/generated/toplevel/altair.Chart.html?highlight=encode#altair.Chart.encode), [altair.chart.properties](https://altair-viz.github.io/user_guide/generated/toplevel/altair.Chart.html?highlight=properties#altair.Chart.properties)",
   "metadata": {
    "tags": [],
    "cell_id": "00036-93cef53d-46a3-4849-9c7c-dcde58d40604",
    "deepnote_cell_type": "markdown"
   }
  },
  {
   "cell_type": "code",
   "metadata": {
    "tags": [],
    "cell_id": "00016-79f546ac-8cda-42ac-a9d2-d209abab775d",
    "deepnote_to_be_reexecuted": false,
    "source_hash": "c5952e00",
    "execution_start": 1629554293137,
    "execution_millis": 16,
    "deepnote_cell_type": "code"
   },
   "source": "# See https://altair-viz.github.io/user_guide/configuration.html#config-title\n#     https://altair-viz.github.io/user_guide/configuration.html#legend-configuration\n#     https://altair-viz.github.io/user_guide/configuration.html#axis-configuration\n\nalt.Chart(dev_groups_gdp_year).mark_line().encode(\n    x=alt.X('Year:T', axis=alt.Axis(format='%Y')),\n    y=alt.Y('GDP Per Capita:Q', axis=alt.Axis(format='$,r')),\n    color='Country Code',\n    strokeDash='Country Code'\n).properties(\n    height=300,\n    width=600,\n    title={\n      'text': 'Regional GDP per capita, 1960-2020',\n      # 'color': 'black',\n      # 'fontSize': 24,\n      'subtitle': '(excluding high income countries)',\n      # 'subtitleColor': 'grey',\n      # 'subtitleFontSize': 20\n    }\n).configure_axis(\n    labelFontSize=12,\n    titleFontSize=14\n).configure_legend(\n    fillColor='#EEEEEE',\n    strokeColor='#CCCCCC',\n    padding=10,\n    cornerRadius=10,\n    # orient='top-right'\n).configure_title(\n    color='black',\n    fontSize=40,\n    subtitleColor='grey',\n    subtitleFontSize=20\n)",
   "execution_count": 20,
   "outputs": [
    {
     "output_type": "execute_result",
     "execution_count": 20,
     "data": {
      "text/html": "\n<div id=\"altair-viz-89f6173a50c44e1eb221eeeeed249103\"></div>\n<script type=\"text/javascript\">\n  (function(spec, embedOpt){\n    let outputDiv = document.currentScript.previousElementSibling;\n    if (outputDiv.id !== \"altair-viz-89f6173a50c44e1eb221eeeeed249103\") {\n      outputDiv = document.getElementById(\"altair-viz-89f6173a50c44e1eb221eeeeed249103\");\n    }\n    const paths = {\n      \"vega\": \"https://cdn.jsdelivr.net/npm//vega@5?noext\",\n      \"vega-lib\": \"https://cdn.jsdelivr.net/npm//vega-lib?noext\",\n      \"vega-lite\": \"https://cdn.jsdelivr.net/npm//vega-lite@4.8.1?noext\",\n      \"vega-embed\": \"https://cdn.jsdelivr.net/npm//vega-embed@6?noext\",\n    };\n\n    function loadScript(lib) {\n      return new Promise(function(resolve, reject) {\n        var s = document.createElement('script');\n        s.src = paths[lib];\n        s.async = true;\n        s.onload = () => resolve(paths[lib]);\n        s.onerror = () => reject(`Error loading script: ${paths[lib]}`);\n        document.getElementsByTagName(\"head\")[0].appendChild(s);\n      });\n    }\n\n    function showError(err) {\n      outputDiv.innerHTML = `<div class=\"error\" style=\"color:red;\">${err}</div>`;\n      throw err;\n    }\n\n    function displayChart(vegaEmbed) {\n      vegaEmbed(outputDiv, spec, embedOpt)\n        .catch(err => showError(`Javascript Error: ${err.message}<br>This usually means there's a typo in your chart specification. See the javascript console for the full traceback.`));\n    }\n\n    if(typeof define === \"function\" && define.amd) {\n      requirejs.config({paths});\n      require([\"vega-embed\"], displayChart, err => showError(`Error loading script: ${err.message}`));\n    } else if (typeof vegaEmbed === \"function\") {\n      displayChart(vegaEmbed);\n    } else {\n      loadScript(\"vega\")\n        .then(() => loadScript(\"vega-lite\"))\n        .then(() => loadScript(\"vega-embed\"))\n        .catch(showError)\n        .then(() => displayChart(vegaEmbed));\n    }\n  })({\"config\": {\"view\": {\"continuousWidth\": 400, \"continuousHeight\": 300}, \"axis\": {\"labelFontSize\": 12, \"titleFontSize\": 14}, \"legend\": {\"cornerRadius\": 10, \"fillColor\": \"#EEEEEE\", \"padding\": 10, \"strokeColor\": \"#CCCCCC\"}, \"title\": {\"color\": \"black\", \"fontSize\": 40, \"subtitleColor\": \"grey\", \"subtitleFontSize\": 20}}, \"data\": {\"name\": \"data-2410a8342a1dbe2e2dbb378b7d683af4\"}, \"mark\": \"line\", \"encoding\": {\"color\": {\"type\": \"nominal\", \"field\": \"Country Code\"}, \"strokeDash\": {\"type\": \"nominal\", \"field\": \"Country Code\"}, \"x\": {\"type\": \"temporal\", \"axis\": {\"format\": \"%Y\"}, \"field\": \"Year\"}, \"y\": {\"type\": \"quantitative\", \"axis\": {\"format\": \"$,r\"}, \"field\": \"GDP Per Capita\"}}, \"height\": 300, \"title\": {\"text\": \"Regional GDP per capita, 1960-2020\", \"subtitle\": \"(excluding high income countries)\"}, \"width\": 600, \"$schema\": \"https://vega.github.io/schema/vega-lite/v4.8.1.json\", \"datasets\": {\"data-2410a8342a1dbe2e2dbb378b7d683af4\": [{\"Country Code\": \"EAP\", \"Year\": \"Country Name\", \"GDP Per Capita\": \"East Asia & Pacific (excluding high income)\"}, {\"Country Code\": \"ECA\", \"Year\": \"Country Name\", \"GDP Per Capita\": \"Europe & Central Asia (excluding high income)\"}, {\"Country Code\": \"LAC\", \"Year\": \"Country Name\", \"GDP Per Capita\": \"Latin America & Caribbean (excluding high income)\"}, {\"Country Code\": \"MNA\", \"Year\": \"Country Name\", \"GDP Per Capita\": \"Middle East & North Africa (excluding high income)\"}, {\"Country Code\": \"SSA\", \"Year\": \"Country Name\", \"GDP Per Capita\": \"Sub-Saharan Africa (excluding high income)\"}, {\"Country Code\": \"EAP\", \"Year\": \"Indicator Name\", \"GDP Per Capita\": \"GDP per capita (current US$)\"}, {\"Country Code\": \"ECA\", \"Year\": \"Indicator Name\", \"GDP Per Capita\": \"GDP per capita (current US$)\"}, {\"Country Code\": \"LAC\", \"Year\": \"Indicator Name\", \"GDP Per Capita\": \"GDP per capita (current US$)\"}, {\"Country Code\": \"MNA\", \"Year\": \"Indicator Name\", \"GDP Per Capita\": \"GDP per capita (current US$)\"}, {\"Country Code\": \"SSA\", \"Year\": \"Indicator Name\", \"GDP Per Capita\": \"GDP per capita (current US$)\"}, {\"Country Code\": \"EAP\", \"Year\": \"Indicator Code\", \"GDP Per Capita\": \"NY.GDP.PCAP.CD\"}, {\"Country Code\": \"ECA\", \"Year\": \"Indicator Code\", \"GDP Per Capita\": \"NY.GDP.PCAP.CD\"}, {\"Country Code\": \"LAC\", \"Year\": \"Indicator Code\", \"GDP Per Capita\": \"NY.GDP.PCAP.CD\"}, {\"Country Code\": \"MNA\", \"Year\": \"Indicator Code\", \"GDP Per Capita\": \"NY.GDP.PCAP.CD\"}, {\"Country Code\": \"SSA\", \"Year\": \"Indicator Code\", \"GDP Per Capita\": \"NY.GDP.PCAP.CD\"}, {\"Country Code\": \"EAP\", \"Year\": \"1960\", \"GDP Per Capita\": 89.6527796822837}, {\"Country Code\": \"ECA\", \"Year\": \"1960\", \"GDP Per Capita\": null}, {\"Country Code\": \"LAC\", \"Year\": \"1960\", \"GDP Per Capita\": 332.891883307801}, {\"Country Code\": \"MNA\", \"Year\": \"1960\", \"GDP Per Capita\": null}, {\"Country Code\": \"SSA\", \"Year\": \"1960\", \"GDP Per Capita\": 128.707557580504}, {\"Country Code\": \"EAP\", \"Year\": \"1961\", \"GDP Per Capita\": 78.7344609050717}, {\"Country Code\": \"ECA\", \"Year\": \"1961\", \"GDP Per Capita\": null}, {\"Country Code\": \"LAC\", \"Year\": \"1961\", \"GDP Per Capita\": 338.6578544345}, {\"Country Code\": \"MNA\", \"Year\": \"1961\", \"GDP Per Capita\": null}, {\"Country Code\": \"SSA\", \"Year\": \"1961\", \"GDP Per Capita\": 130.671307952798}, {\"Country Code\": \"EAP\", \"Year\": \"1962\", \"GDP Per Capita\": 71.1989889221213}, {\"Country Code\": \"ECA\", \"Year\": \"1962\", \"GDP Per Capita\": null}, {\"Country Code\": \"LAC\", \"Year\": \"1962\", \"GDP Per Capita\": 380.063375065943}, {\"Country Code\": \"MNA\", \"Year\": \"1962\", \"GDP Per Capita\": null}, {\"Country Code\": \"SSA\", \"Year\": \"1962\", \"GDP Per Capita\": 138.272460064887}, {\"Country Code\": \"EAP\", \"Year\": \"1963\", \"GDP Per Capita\": 75.1728203892176}, {\"Country Code\": \"ECA\", \"Year\": \"1963\", \"GDP Per Capita\": null}, {\"Country Code\": \"LAC\", \"Year\": \"1963\", \"GDP Per Capita\": 368.010185251088}, {\"Country Code\": \"MNA\", \"Year\": \"1963\", \"GDP Per Capita\": null}, {\"Country Code\": \"SSA\", \"Year\": \"1963\", \"GDP Per Capita\": 154.669311081194}, {\"Country Code\": \"EAP\", \"Year\": \"1964\", \"GDP Per Capita\": 85.0635380013149}, {\"Country Code\": \"ECA\", \"Year\": \"1964\", \"GDP Per Capita\": null}, {\"Country Code\": \"LAC\", \"Year\": \"1964\", \"GDP Per Capita\": 413.028342651694}, {\"Country Code\": \"MNA\", \"Year\": \"1964\", \"GDP Per Capita\": null}, {\"Country Code\": \"SSA\", \"Year\": \"1964\", \"GDP Per Capita\": 147.434620387441}, {\"Country Code\": \"EAP\", \"Year\": \"1965\", \"GDP Per Capita\": 96.8442037311951}, {\"Country Code\": \"ECA\", \"Year\": \"1965\", \"GDP Per Capita\": null}, {\"Country Code\": \"LAC\", \"Year\": \"1965\", \"GDP Per Capita\": 431.561601915989}, {\"Country Code\": \"MNA\", \"Year\": \"1965\", \"GDP Per Capita\": null}, {\"Country Code\": \"SSA\", \"Year\": \"1965\", \"GDP Per Capita\": 160.249416559973}, {\"Country Code\": \"EAP\", \"Year\": \"1966\", \"GDP Per Capita\": 103.119771351614}, {\"Country Code\": \"ECA\", \"Year\": \"1966\", \"GDP Per Capita\": null}, {\"Country Code\": \"LAC\", \"Year\": \"1966\", \"GDP Per Capita\": 462.36120942483}, {\"Country Code\": \"MNA\", \"Year\": \"1966\", \"GDP Per Capita\": null}, {\"Country Code\": \"SSA\", \"Year\": \"1966\", \"GDP Per Capita\": 168.695256098963}, {\"Country Code\": \"EAP\", \"Year\": \"1967\", \"GDP Per Capita\": 97.3458798529539}, {\"Country Code\": \"ECA\", \"Year\": \"1967\", \"GDP Per Capita\": null}, {\"Country Code\": \"LAC\", \"Year\": \"1967\", \"GDP Per Capita\": 461.913558721761}, {\"Country Code\": \"MNA\", \"Year\": \"1967\", \"GDP Per Capita\": null}, {\"Country Code\": \"SSA\", \"Year\": \"1967\", \"GDP Per Capita\": 162.668746658987}, {\"Country Code\": \"EAP\", \"Year\": \"1968\", \"GDP Per Capita\": 95.6991465920924}, {\"Country Code\": \"ECA\", \"Year\": \"1968\", \"GDP Per Capita\": null}, {\"Country Code\": \"LAC\", \"Year\": \"1968\", \"GDP Per Capita\": 486.257069325269}, {\"Country Code\": \"MNA\", \"Year\": \"1968\", \"GDP Per Capita\": null}, {\"Country Code\": \"SSA\", \"Year\": \"1968\", \"GDP Per Capita\": 169.614832389784}, {\"Country Code\": \"EAP\", \"Year\": \"1969\", \"GDP Per Capita\": 104.572933001481}, {\"Country Code\": \"ECA\", \"Year\": \"1969\", \"GDP Per Capita\": null}, {\"Country Code\": \"LAC\", \"Year\": \"1969\", \"GDP Per Capita\": 532.373987323748}, {\"Country Code\": \"MNA\", \"Year\": \"1969\", \"GDP Per Capita\": null}, {\"Country Code\": \"SSA\", \"Year\": \"1969\", \"GDP Per Capita\": 189.064582363466}, {\"Country Code\": \"EAP\", \"Year\": \"1970\", \"GDP Per Capita\": 113.429579242545}, {\"Country Code\": \"ECA\", \"Year\": \"1970\", \"GDP Per Capita\": null}, {\"Country Code\": \"LAC\", \"Year\": \"1970\", \"GDP Per Capita\": 563.408082538127}, {\"Country Code\": \"MNA\", \"Year\": \"1970\", \"GDP Per Capita\": null}, {\"Country Code\": \"SSA\", \"Year\": \"1970\", \"GDP Per Capita\": 216.775103099976}, {\"Country Code\": \"EAP\", \"Year\": \"1971\", \"GDP Per Capita\": 118.715562466497}, {\"Country Code\": \"ECA\", \"Year\": \"1971\", \"GDP Per Capita\": null}, {\"Country Code\": \"LAC\", \"Year\": \"1971\", \"GDP Per Capita\": 609.763768682512}, {\"Country Code\": \"MNA\", \"Year\": \"1971\", \"GDP Per Capita\": null}, {\"Country Code\": \"SSA\", \"Year\": \"1971\", \"GDP Per Capita\": 214.729916031448}, {\"Country Code\": \"EAP\", \"Year\": \"1972\", \"GDP Per Capita\": 131.359062049343}, {\"Country Code\": \"ECA\", \"Year\": \"1972\", \"GDP Per Capita\": null}, {\"Country Code\": \"LAC\", \"Year\": \"1972\", \"GDP Per Capita\": 675.621021377475}, {\"Country Code\": \"MNA\", \"Year\": \"1972\", \"GDP Per Capita\": null}, {\"Country Code\": \"SSA\", \"Year\": \"1972\", \"GDP Per Capita\": 236.199795119012}, {\"Country Code\": \"EAP\", \"Year\": \"1973\", \"GDP Per Capita\": 161.538178577695}, {\"Country Code\": \"ECA\", \"Year\": \"1973\", \"GDP Per Capita\": null}, {\"Country Code\": \"LAC\", \"Year\": \"1973\", \"GDP Per Capita\": 865.173742568166}, {\"Country Code\": \"MNA\", \"Year\": \"1973\", \"GDP Per Capita\": null}, {\"Country Code\": \"SSA\", \"Year\": \"1973\", \"GDP Per Capita\": 294.134813600995}, {\"Country Code\": \"EAP\", \"Year\": \"1974\", \"GDP Per Capita\": 178.320034651103}, {\"Country Code\": \"ECA\", \"Year\": \"1974\", \"GDP Per Capita\": null}, {\"Country Code\": \"LAC\", \"Year\": \"1974\", \"GDP Per Capita\": 1112.38227054535}, {\"Country Code\": \"MNA\", \"Year\": \"1974\", \"GDP Per Capita\": null}, {\"Country Code\": \"SSA\", \"Year\": \"1974\", \"GDP Per Capita\": 373.207091652227}, {\"Country Code\": \"EAP\", \"Year\": \"1975\", \"GDP Per Capita\": 196.623965239371}, {\"Country Code\": \"ECA\", \"Year\": \"1975\", \"GDP Per Capita\": null}, {\"Country Code\": \"LAC\", \"Year\": \"1975\", \"GDP Per Capita\": 1170.48375134496}, {\"Country Code\": \"MNA\", \"Year\": \"1975\", \"GDP Per Capita\": null}, {\"Country Code\": \"SSA\", \"Year\": \"1975\", \"GDP Per Capita\": 400.825350784581}, {\"Country Code\": \"EAP\", \"Year\": \"1976\", \"GDP Per Capita\": 196.104369280144}, {\"Country Code\": \"ECA\", \"Year\": \"1976\", \"GDP Per Capita\": null}, {\"Country Code\": \"LAC\", \"Year\": \"1976\", \"GDP Per Capita\": 1263.28304601025}, {\"Country Code\": \"MNA\", \"Year\": \"1976\", \"GDP Per Capita\": null}, {\"Country Code\": \"SSA\", \"Year\": \"1976\", \"GDP Per Capita\": 422.395937217618}, {\"Country Code\": \"EAP\", \"Year\": \"1977\", \"GDP Per Capita\": 223.015670985669}, {\"Country Code\": \"ECA\", \"Year\": \"1977\", \"GDP Per Capita\": null}, {\"Country Code\": \"LAC\", \"Year\": \"1977\", \"GDP Per Capita\": 1340.97480457801}, {\"Country Code\": \"MNA\", \"Year\": \"1977\", \"GDP Per Capita\": null}, {\"Country Code\": \"SSA\", \"Year\": \"1977\", \"GDP Per Capita\": 451.861729229044}, {\"Country Code\": \"EAP\", \"Year\": \"1978\", \"GDP Per Capita\": 212.533785297527}, {\"Country Code\": \"ECA\", \"Year\": \"1978\", \"GDP Per Capita\": null}, {\"Country Code\": \"LAC\", \"Year\": \"1978\", \"GDP Per Capita\": 1492.94209608953}, {\"Country Code\": \"MNA\", \"Year\": \"1978\", \"GDP Per Capita\": null}, {\"Country Code\": \"SSA\", \"Year\": \"1978\", \"GDP Per Capita\": 486.061125598044}, {\"Country Code\": \"EAP\", \"Year\": \"1979\", \"GDP Per Capita\": 242.343612609447}, {\"Country Code\": \"ECA\", \"Year\": \"1979\", \"GDP Per Capita\": null}, {\"Country Code\": \"LAC\", \"Year\": \"1979\", \"GDP Per Capita\": 1722.91928662163}, {\"Country Code\": \"MNA\", \"Year\": \"1979\", \"GDP Per Capita\": null}, {\"Country Code\": \"SSA\", \"Year\": \"1979\", \"GDP Per Capita\": 567.941360585457}, {\"Country Code\": \"EAP\", \"Year\": \"1980\", \"GDP Per Capita\": 275.418504704817}, {\"Country Code\": \"ECA\", \"Year\": \"1980\", \"GDP Per Capita\": null}, {\"Country Code\": \"LAC\", \"Year\": \"1980\", \"GDP Per Capita\": 2013.52379924577}, {\"Country Code\": \"MNA\", \"Year\": \"1980\", \"GDP Per Capita\": null}, {\"Country Code\": \"SSA\", \"Year\": \"1980\", \"GDP Per Capita\": 695.616753351213}, {\"Country Code\": \"EAP\", \"Year\": \"1981\", \"GDP Per Capita\": 289.368997921737}, {\"Country Code\": \"ECA\", \"Year\": \"1981\", \"GDP Per Capita\": null}, {\"Country Code\": \"LAC\", \"Year\": \"1981\", \"GDP Per Capita\": 2278.24807595669}, {\"Country Code\": \"MNA\", \"Year\": \"1981\", \"GDP Per Capita\": null}, {\"Country Code\": \"SSA\", \"Year\": \"1981\", \"GDP Per Capita\": 942.38122394269}, {\"Country Code\": \"EAP\", \"Year\": \"1982\", \"GDP Per Capita\": 298.578833945108}, {\"Country Code\": \"ECA\", \"Year\": \"1982\", \"GDP Per Capita\": null}, {\"Country Code\": \"LAC\", \"Year\": \"1982\", \"GDP Per Capita\": 2073.63640295948}, {\"Country Code\": \"MNA\", \"Year\": \"1982\", \"GDP Per Capita\": null}, {\"Country Code\": \"SSA\", \"Year\": \"1982\", \"GDP Per Capita\": 842.935570685897}, {\"Country Code\": \"EAP\", \"Year\": \"1983\", \"GDP Per Capita\": 308.082087417901}, {\"Country Code\": \"ECA\", \"Year\": \"1983\", \"GDP Per Capita\": null}, {\"Country Code\": \"LAC\", \"Year\": \"1983\", \"GDP Per Capita\": 1769.43728578804}, {\"Country Code\": \"MNA\", \"Year\": \"1983\", \"GDP Per Capita\": null}, {\"Country Code\": \"SSA\", \"Year\": \"1983\", \"GDP Per Capita\": 713.623233063532}, {\"Country Code\": \"EAP\", \"Year\": \"1984\", \"GDP Per Capita\": 329.15694149934}, {\"Country Code\": \"ECA\", \"Year\": \"1984\", \"GDP Per Capita\": null}, {\"Country Code\": \"LAC\", \"Year\": \"1984\", \"GDP Per Capita\": 1769.59061819441}, {\"Country Code\": \"MNA\", \"Year\": \"1984\", \"GDP Per Capita\": null}, {\"Country Code\": \"SSA\", \"Year\": \"1984\", \"GDP Per Capita\": 605.90142451879}, {\"Country Code\": \"EAP\", \"Year\": \"1985\", \"GDP Per Capita\": 355.000652328618}, {\"Country Code\": \"ECA\", \"Year\": \"1985\", \"GDP Per Capita\": null}, {\"Country Code\": \"LAC\", \"Year\": \"1985\", \"GDP Per Capita\": 1791.64551773662}, {\"Country Code\": \"MNA\", \"Year\": \"1985\", \"GDP Per Capita\": null}, {\"Country Code\": \"SSA\", \"Year\": \"1985\", \"GDP Per Capita\": 558.64378010616}, {\"Country Code\": \"EAP\", \"Year\": \"1986\", \"GDP Per Capita\": 348.10691673475}, {\"Country Code\": \"ECA\", \"Year\": \"1986\", \"GDP Per Capita\": null}, {\"Country Code\": \"LAC\", \"Year\": \"1986\", \"GDP Per Capita\": 1769.86147927115}, {\"Country Code\": \"MNA\", \"Year\": \"1986\", \"GDP Per Capita\": null}, {\"Country Code\": \"SSA\", \"Year\": \"1986\", \"GDP Per Capita\": 559.342472640108}, {\"Country Code\": \"EAP\", \"Year\": \"1987\", \"GDP Per Capita\": 337.839606102379}, {\"Country Code\": \"ECA\", \"Year\": \"1987\", \"GDP Per Capita\": null}, {\"Country Code\": \"LAC\", \"Year\": \"1987\", \"GDP Per Capita\": 1861.8016844465}, {\"Country Code\": \"MNA\", \"Year\": \"1987\", \"GDP Per Capita\": null}, {\"Country Code\": \"SSA\", \"Year\": \"1987\", \"GDP Per Capita\": 618.832805088563}, {\"Country Code\": \"EAP\", \"Year\": \"1988\", \"GDP Per Capita\": 368.222710500728}, {\"Country Code\": \"ECA\", \"Year\": \"1988\", \"GDP Per Capita\": 2348.70235555523}, {\"Country Code\": \"LAC\", \"Year\": \"1988\", \"GDP Per Capita\": 2045.66072265308}, {\"Country Code\": \"MNA\", \"Year\": \"1988\", \"GDP Per Capita\": null}, {\"Country Code\": \"SSA\", \"Year\": \"1988\", \"GDP Per Capita\": 617.518563962097}, {\"Country Code\": \"EAP\", \"Year\": \"1989\", \"GDP Per Capita\": 391.377259090258}, {\"Country Code\": \"ECA\", \"Year\": \"1989\", \"GDP Per Capita\": 2260.90460737249}, {\"Country Code\": \"LAC\", \"Year\": \"1989\", \"GDP Per Capita\": 2248.16825461288}, {\"Country Code\": \"MNA\", \"Year\": \"1989\", \"GDP Per Capita\": null}, {\"Country Code\": \"SSA\", \"Year\": \"1989\", \"GDP Per Capita\": 597.026693996054}, {\"Country Code\": \"EAP\", \"Year\": \"1990\", \"GDP Per Capita\": 412.850017508043}, {\"Country Code\": \"ECA\", \"Year\": \"1990\", \"GDP Per Capita\": 2388.506691741}, {\"Country Code\": \"LAC\", \"Year\": \"1990\", \"GDP Per Capita\": 2602.73122270825}, {\"Country Code\": \"MNA\", \"Year\": \"1990\", \"GDP Per Capita\": null}, {\"Country Code\": \"SSA\", \"Year\": \"1990\", \"GDP Per Capita\": 654.560462119822}, {\"Country Code\": \"EAP\", \"Year\": \"1991\", \"GDP Per Capita\": 441.336539056127}, {\"Country Code\": \"ECA\", \"Year\": \"1991\", \"GDP Per Capita\": 2305.45200759027}, {\"Country Code\": \"LAC\", \"Year\": \"1991\", \"GDP Per Capita\": 3186.04025642897}, {\"Country Code\": \"MNA\", \"Year\": \"1991\", \"GDP Per Capita\": null}, {\"Country Code\": \"SSA\", \"Year\": \"1991\", \"GDP Per Capita\": 643.890273810906}, {\"Country Code\": \"EAP\", \"Year\": \"1992\", \"GDP Per Capita\": 487.707781119342}, {\"Country Code\": \"ECA\", \"Year\": \"1992\", \"GDP Per Capita\": 2120.98343318633}, {\"Country Code\": \"LAC\", \"Year\": \"1992\", \"GDP Per Capita\": 2892.84042964436}, {\"Country Code\": \"MNA\", \"Year\": \"1992\", \"GDP Per Capita\": null}, {\"Country Code\": \"SSA\", \"Year\": \"1992\", \"GDP Per Capita\": 626.975251806284}, {\"Country Code\": \"EAP\", \"Year\": \"1993\", \"GDP Per Capita\": 528.379441660585}, {\"Country Code\": \"ECA\", \"Year\": \"1993\", \"GDP Per Capita\": 2095.2839222894}, {\"Country Code\": \"LAC\", \"Year\": \"1993\", \"GDP Per Capita\": 3311.27821933065}, {\"Country Code\": \"MNA\", \"Year\": \"1993\", \"GDP Per Capita\": 1129.2754161623}, {\"Country Code\": \"SSA\", \"Year\": \"1993\", \"GDP Per Capita\": 571.8670265345}, {\"Country Code\": \"EAP\", \"Year\": \"1994\", \"GDP Per Capita\": 627.444901527105}, {\"Country Code\": \"ECA\", \"Year\": \"1994\", \"GDP Per Capita\": 1813.30868987513}, {\"Country Code\": \"LAC\", \"Year\": \"1994\", \"GDP Per Capita\": 3749.74900892436}, {\"Country Code\": \"MNA\", \"Year\": \"1994\", \"GDP Per Capita\": 1142.88621548538}, {\"Country Code\": \"SSA\", \"Year\": \"1994\", \"GDP Per Capita\": 543.240008437177}, {\"Country Code\": \"EAP\", \"Year\": \"1995\", \"GDP Per Capita\": 764.776416666831}, {\"Country Code\": \"ECA\", \"Year\": \"1995\", \"GDP Per Capita\": 1944.39376014087}, {\"Country Code\": \"LAC\", \"Year\": \"1995\", \"GDP Per Capita\": 3866.8075677085}, {\"Country Code\": \"MNA\", \"Year\": \"1995\", \"GDP Per Capita\": 1308.85891175965}, {\"Country Code\": \"SSA\", \"Year\": \"1995\", \"GDP Per Capita\": 613.992556835201}, {\"Country Code\": \"EAP\", \"Year\": \"1996\", \"GDP Per Capita\": 867.792116040631}, {\"Country Code\": \"ECA\", \"Year\": \"1996\", \"GDP Per Capita\": 1962.24737436828}, {\"Country Code\": \"LAC\", \"Year\": \"1996\", \"GDP Per Capita\": 4152.31849754948}, {\"Country Code\": \"MNA\", \"Year\": \"1996\", \"GDP Per Capita\": 1469.83428860223}, {\"Country Code\": \"SSA\", \"Year\": \"1996\", \"GDP Per Capita\": 616.594516347977}, {\"Country Code\": \"EAP\", \"Year\": \"1997\", \"GDP Per Capita\": 888.241640934943}, {\"Country Code\": \"ECA\", \"Year\": \"1997\", \"GDP Per Capita\": 2038.82954098279}, {\"Country Code\": \"LAC\", \"Year\": \"1997\", \"GDP Per Capita\": 4458.55012111234}, {\"Country Code\": \"MNA\", \"Year\": \"1997\", \"GDP Per Capita\": 1518.84326762419}, {\"Country Code\": \"SSA\", \"Year\": \"1997\", \"GDP Per Capita\": 622.912122372781}, {\"Country Code\": \"EAP\", \"Year\": \"1998\", \"GDP Per Capita\": 804.942679636555}, {\"Country Code\": \"ECA\", \"Year\": \"1998\", \"GDP Per Capita\": 1910.59812015964}, {\"Country Code\": \"LAC\", \"Year\": \"1998\", \"GDP Per Capita\": 4410.9050011362}, {\"Country Code\": \"MNA\", \"Year\": \"1998\", \"GDP Per Capita\": 1511.65013265866}, {\"Country Code\": \"SSA\", \"Year\": \"1998\", \"GDP Per Capita\": 587.163586727321}, {\"Country Code\": \"EAP\", \"Year\": \"1999\", \"GDP Per Capita\": 876.174821538643}, {\"Country Code\": \"ECA\", \"Year\": \"1999\", \"GDP Per Capita\": 1605.21666500686}, {\"Country Code\": \"LAC\", \"Year\": \"1999\", \"GDP Per Capita\": 3853.29428244067}, {\"Country Code\": \"MNA\", \"Year\": \"1999\", \"GDP Per Capita\": 1625.21598558802}, {\"Country Code\": \"SSA\", \"Year\": \"1999\", \"GDP Per Capita\": 578.713154753203}, {\"Country Code\": \"EAP\", \"Year\": \"2000\", \"GDP Per Capita\": 954.305663661861}, {\"Country Code\": \"ECA\", \"Year\": \"2000\", \"GDP Per Capita\": 1786.83263846672}, {\"Country Code\": \"LAC\", \"Year\": \"2000\", \"GDP Per Capita\": 4198.44023677522}, {\"Country Code\": \"MNA\", \"Year\": \"2000\", \"GDP Per Capita\": 1690.82493418578}, {\"Country Code\": \"SSA\", \"Year\": \"2000\", \"GDP Per Capita\": 601.358898076515}, {\"Country Code\": \"EAP\", \"Year\": \"2001\", \"GDP Per Capita\": 1007.16403088725}, {\"Country Code\": \"ECA\", \"Year\": \"2001\", \"GDP Per Capita\": 1777.3804333615}, {\"Country Code\": \"LAC\", \"Year\": \"2001\", \"GDP Per Capita\": 4024.20434428975}, {\"Country Code\": \"MNA\", \"Year\": \"2001\", \"GDP Per Capita\": 1666.67714855476}, {\"Country Code\": \"SSA\", \"Year\": \"2001\", \"GDP Per Capita\": 559.396831937782}, {\"Country Code\": \"EAP\", \"Year\": \"2002\", \"GDP Per Capita\": 1106.73807018197}, {\"Country Code\": \"ECA\", \"Year\": \"2002\", \"GDP Per Capita\": 2036.34057650272}, {\"Country Code\": \"LAC\", \"Year\": \"2002\", \"GDP Per Capita\": 3569.26472951502}, {\"Country Code\": \"MNA\", \"Year\": \"2002\", \"GDP Per Capita\": 1576.04605113384}, {\"Country Code\": \"SSA\", \"Year\": \"2002\", \"GDP Per Capita\": 594.085288108974}, {\"Country Code\": \"EAP\", \"Year\": \"2003\", \"GDP Per Capita\": 1240.83513131559}, {\"Country Code\": \"ECA\", \"Year\": \"2003\", \"GDP Per Capita\": 2567.12958240801}, {\"Country Code\": \"LAC\", \"Year\": \"2003\", \"GDP Per Capita\": 3607.50845790191}, {\"Country Code\": \"MNA\", \"Year\": \"2003\", \"GDP Per Capita\": 1696.73693549125}, {\"Country Code\": \"SSA\", \"Year\": \"2003\", \"GDP Per Capita\": 724.928623720708}, {\"Country Code\": \"EAP\", \"Year\": \"2004\", \"GDP Per Capita\": 1427.14658356726}, {\"Country Code\": \"ECA\", \"Year\": \"2004\", \"GDP Per Capita\": 3398.18856191293}, {\"Country Code\": \"LAC\", \"Year\": \"2004\", \"GDP Per Capita\": 4063.39733651666}, {\"Country Code\": \"MNA\", \"Year\": \"2004\", \"GDP Per Capita\": 1981.13939326468}, {\"Country Code\": \"SSA\", \"Year\": \"2004\", \"GDP Per Capita\": 877.960701182274}, {\"Country Code\": \"EAP\", \"Year\": \"2005\", \"GDP Per Capita\": 1640.22754673083}, {\"Country Code\": \"ECA\", \"Year\": \"2005\", \"GDP Per Capita\": 4301.29554052163}, {\"Country Code\": \"LAC\", \"Year\": \"2005\", \"GDP Per Capita\": 4856.09893718579}, {\"Country Code\": \"MNA\", \"Year\": \"2005\", \"GDP Per Capita\": 2293.14140694024}, {\"Country Code\": \"SSA\", \"Year\": \"2005\", \"GDP Per Capita\": 1015.55730273664}, {\"Country Code\": \"EAP\", \"Year\": \"2006\", \"GDP Per Capita\": 1961.19554988996}, {\"Country Code\": \"ECA\", \"Year\": \"2006\", \"GDP Per Capita\": 5269.81379332128}, {\"Country Code\": \"LAC\", \"Year\": \"2006\", \"GDP Per Capita\": 5604.9096937319}, {\"Country Code\": \"MNA\", \"Year\": \"2006\", \"GDP Per Capita\": 2618.367619193}, {\"Country Code\": \"SSA\", \"Year\": \"2006\", \"GDP Per Capita\": 1173.62997252607}, {\"Country Code\": \"EAP\", \"Year\": \"2007\", \"GDP Per Capita\": 2463.85986755301}, {\"Country Code\": \"ECA\", \"Year\": \"2007\", \"GDP Per Capita\": 6811.45616581317}, {\"Country Code\": \"LAC\", \"Year\": \"2007\", \"GDP Per Capita\": 6544.60652896521}, {\"Country Code\": \"MNA\", \"Year\": \"2007\", \"GDP Per Capita\": 3179.51979875568}, {\"Country Code\": \"SSA\", \"Year\": \"2007\", \"GDP Per Capita\": 1325.88359873382}, {\"Country Code\": \"EAP\", \"Year\": \"2008\", \"GDP Per Capita\": 3091.09038845467}, {\"Country Code\": \"ECA\", \"Year\": \"2008\", \"GDP Per Capita\": 8410.15400066175}, {\"Country Code\": \"LAC\", \"Year\": \"2008\", \"GDP Per Capita\": 7484.44990641484}, {\"Country Code\": \"MNA\", \"Year\": \"2008\", \"GDP Per Capita\": 3870.83099479435}, {\"Country Code\": \"SSA\", \"Year\": \"2008\", \"GDP Per Capita\": 1480.81461147548}, {\"Country Code\": \"EAP\", \"Year\": \"2009\", \"GDP Per Capita\": 3330.63270390782}, {\"Country Code\": \"ECA\", \"Year\": \"2009\", \"GDP Per Capita\": 6585.40776882484}, {\"Country Code\": \"LAC\", \"Year\": \"2009\", \"GDP Per Capita\": 6876.75343763036}, {\"Country Code\": \"MNA\", \"Year\": \"2009\", \"GDP Per Capita\": 3670.95686988791}, {\"Country Code\": \"SSA\", \"Year\": \"2009\", \"GDP Per Capita\": 1373.06570045307}, {\"Country Code\": \"EAP\", \"Year\": \"2010\", \"GDP Per Capita\": 4006.5615906113}, {\"Country Code\": \"ECA\", \"Year\": \"2010\", \"GDP Per Capita\": 7815.67928188957}, {\"Country Code\": \"LAC\", \"Year\": \"2010\", \"GDP Per Capita\": 8504.47384856706}, {\"Country Code\": \"MNA\", \"Year\": \"2010\", \"GDP Per Capita\": 4161.67184592424}, {\"Country Code\": \"SSA\", \"Year\": \"2010\", \"GDP Per Capita\": 1591.64054163333}, {\"Country Code\": \"EAP\", \"Year\": \"2011\", \"GDP Per Capita\": 4855.67402321131}, {\"Country Code\": \"ECA\", \"Year\": \"2011\", \"GDP Per Capita\": 9601.42530905035}, {\"Country Code\": \"LAC\", \"Year\": \"2011\", \"GDP Per Capita\": 9821.02930786385}, {\"Country Code\": \"MNA\", \"Year\": \"2011\", \"GDP Per Capita\": 4624.84188738842}, {\"Country Code\": \"SSA\", \"Year\": \"2011\", \"GDP Per Capita\": 1739.98788125153}, {\"Country Code\": \"EAP\", \"Year\": \"2012\", \"GDP Per Capita\": 5375.53059395669}, {\"Country Code\": \"ECA\", \"Year\": \"2012\", \"GDP Per Capita\": 10121.8349692874}, {\"Country Code\": \"LAC\", \"Year\": \"2012\", \"GDP Per Capita\": 9674.39297961517}, {\"Country Code\": \"MNA\", \"Year\": \"2012\", \"GDP Per Capita\": 5014.18729914909}, {\"Country Code\": \"SSA\", \"Year\": \"2012\", \"GDP Per Capita\": 1775.53370550961}, {\"Country Code\": \"EAP\", \"Year\": \"2013\", \"GDP Per Capita\": 5890.47160390924}, {\"Country Code\": \"ECA\", \"Year\": \"2013\", \"GDP Per Capita\": 10689.0391947118}, {\"Country Code\": \"LAC\", \"Year\": \"2013\", \"GDP Per Capita\": 9829.36976951415}, {\"Country Code\": \"MNA\", \"Year\": \"2013\", \"GDP Per Capita\": 4609.4664358826}, {\"Country Code\": \"SSA\", \"Year\": \"2013\", \"GDP Per Capita\": 1839.49603727626}, {\"Country Code\": \"EAP\", \"Year\": \"2014\", \"GDP Per Capita\": 6303.51556139287}, {\"Country Code\": \"ECA\", \"Year\": \"2014\", \"GDP Per Capita\": 9916.75670443681}, {\"Country Code\": \"LAC\", \"Year\": \"2014\", \"GDP Per Capita\": 9775.87963840275}, {\"Country Code\": \"MNA\", \"Year\": \"2014\", \"GDP Per Capita\": 4453.93215797249}, {\"Country Code\": \"SSA\", \"Year\": \"2014\", \"GDP Per Capita\": 1860.25214056967}, {\"Country Code\": \"EAP\", \"Year\": \"2015\", \"GDP Per Capita\": 6519.03890113458}, {\"Country Code\": \"ECA\", \"Year\": \"2015\", \"GDP Per Capita\": 7546.23299642731}, {\"Country Code\": \"LAC\", \"Year\": \"2015\", \"GDP Per Capita\": 8241.12003717272}, {\"Country Code\": \"MNA\", \"Year\": \"2015\", \"GDP Per Capita\": 3924.97973644787}, {\"Country Code\": \"SSA\", \"Year\": \"2015\", \"GDP Per Capita\": 1657.28631212539}, {\"Country Code\": \"EAP\", \"Year\": \"2016\", \"GDP Per Capita\": 6609.48436617558}, {\"Country Code\": \"ECA\", \"Year\": \"2016\", \"GDP Per Capita\": 7177.77223732626}, {\"Country Code\": \"LAC\", \"Year\": \"2016\", \"GDP Per Capita\": 7930.7150554872}, {\"Country Code\": \"MNA\", \"Year\": \"2016\", \"GDP Per Capita\": 3919.46696282692}, {\"Country Code\": \"SSA\", \"Year\": \"2016\", \"GDP Per Capita\": 1507.09602828557}, {\"Country Code\": \"EAP\", \"Year\": \"2017\", \"GDP Per Capita\": 7172.70194415996}, {\"Country Code\": \"ECA\", \"Year\": \"2017\", \"GDP Per Capita\": 8018.71413783077}, {\"Country Code\": \"LAC\", \"Year\": \"2017\", \"GDP Per Capita\": 8743.84224027993}, {\"Country Code\": \"MNA\", \"Year\": \"2017\", \"GDP Per Capita\": 3801.05244953155}, {\"Country Code\": \"SSA\", \"Year\": \"2017\", \"GDP Per Capita\": 1562.91396409004}, {\"Country Code\": \"EAP\", \"Year\": \"2018\", \"GDP Per Capita\": 7968.08997474566}, {\"Country Code\": \"ECA\", \"Year\": \"2018\", \"GDP Per Capita\": 8206.59666055713}, {\"Country Code\": \"LAC\", \"Year\": \"2018\", \"GDP Per Capita\": 8395.07435773172}, {\"Country Code\": \"MNA\", \"Year\": \"2018\", \"GDP Per Capita\": 3501.87076686937}, {\"Country Code\": \"SSA\", \"Year\": \"2018\", \"GDP Per Capita\": 1595.4964951506}, {\"Country Code\": \"EAP\", \"Year\": \"2019\", \"GDP Per Capita\": 8194.265111576}, {\"Country Code\": \"ECA\", \"Year\": \"2019\", \"GDP Per Capita\": 8337.8574220048}, {\"Country Code\": \"LAC\", \"Year\": \"2019\", \"GDP Per Capita\": 8213.07806273801}, {\"Country Code\": \"MNA\", \"Year\": \"2019\", \"GDP Per Capita\": 3507.50757458945}, {\"Country Code\": \"SSA\", \"Year\": \"2019\", \"GDP Per Capita\": 1597.72750280511}, {\"Country Code\": \"EAP\", \"Year\": \"2020\", \"GDP Per Capita\": 8291.74597603781}, {\"Country Code\": \"ECA\", \"Year\": \"2020\", \"GDP Per Capita\": 7656.59391905151}, {\"Country Code\": \"LAC\", \"Year\": \"2020\", \"GDP Per Capita\": 6733.11238457868}, {\"Country Code\": \"MNA\", \"Year\": \"2020\", \"GDP Per Capita\": 3066.22535513271}, {\"Country Code\": \"SSA\", \"Year\": \"2020\", \"GDP Per Capita\": 1482.9095943257}, {\"Country Code\": \"EAP\", \"Year\": \"Unnamed: 65\", \"GDP Per Capita\": null}, {\"Country Code\": \"ECA\", \"Year\": \"Unnamed: 65\", \"GDP Per Capita\": null}, {\"Country Code\": \"LAC\", \"Year\": \"Unnamed: 65\", \"GDP Per Capita\": null}, {\"Country Code\": \"MNA\", \"Year\": \"Unnamed: 65\", \"GDP Per Capita\": null}, {\"Country Code\": \"SSA\", \"Year\": \"Unnamed: 65\", \"GDP Per Capita\": null}]}}, {\"mode\": \"vega-lite\"});\n</script>",
      "text/plain": "alt.Chart(...)"
     },
     "metadata": {}
    }
   ]
  },
  {
   "cell_type": "markdown",
   "source": "### 7.5 Change legend labels\n\nSee: [pandas.DataFrame.mask](https://pandas.pydata.org/pandas-docs/stable/reference/api/pandas.DataFrame.mask.html)",
   "metadata": {
    "tags": [],
    "cell_id": "00038-9b35471b-27b5-49e4-904d-5b2a274ce5e8",
    "deepnote_cell_type": "markdown"
   }
  },
  {
   "cell_type": "code",
   "metadata": {
    "tags": [],
    "cell_id": "00017-3f45731e-2981-41c8-8b8c-2fcf53598705",
    "deepnote_to_be_reexecuted": false,
    "source_hash": "85968c3e",
    "execution_start": 1629554293210,
    "execution_millis": 0,
    "deepnote_cell_type": "code"
   },
   "source": "# See https://pandas.pydata.org/docs/reference/api/pandas.DataFrame.mask.html\n\ngroups = {\n    'EAP': 'East Asia & Pacific (excluding high income)',\n    'ECA': 'Europe & Central Asia (excluding high income)',\n    'LAC': 'Latin America & Carribbean (excluding high income)',\n    'MNA': 'Middle East & North Africa (excluding high income)',\n    'SSA': 'Sub-Saharan Africa (excluding high income)'\n}\n\n# Make a copy\ndev_groups_gdp_year_title = dev_groups_gdp_year.copy(deep=True)\n\n# Change Code to title\nfor code, title in groups.items():\n    dev_groups_gdp_year_title['Country Code'].mask(\n        dev_groups_gdp_year_title['Country Code'] == code,\n        title.replace('(excluding high income)', '').rstrip(),\n        inplace=True\n    )",
   "execution_count": 21,
   "outputs": []
  },
  {
   "cell_type": "markdown",
   "source": "### 7.6 Regenerate chart ",
   "metadata": {
    "tags": [],
    "cell_id": "00040-5d3d1590-6f47-47cf-bb84-0aac523b62bc",
    "deepnote_cell_type": "markdown"
   }
  },
  {
   "cell_type": "code",
   "metadata": {
    "tags": [],
    "cell_id": "00018-2b30547d-325f-4941-af96-2f58b70efed6",
    "deepnote_to_be_reexecuted": false,
    "source_hash": "65159906",
    "execution_start": 1629554293211,
    "execution_millis": 9,
    "deepnote_cell_type": "code"
   },
   "source": "alt.Chart(dev_groups_gdp_year_title).mark_line().encode(\n    x=alt.X('Year:T', axis=alt.Axis(format='%Y')),\n    y=alt.Y('GDP Per Capita:Q', axis=alt.Axis(format='$,r')),\n    color='Country Code',\n    strokeDash='Country Code'\n).properties(\n    height=300,\n    width=600,\n    title={\n      'text': 'Regional GDP per capita, 1960-2020',\n      # 'color': 'black',\n      # 'fontSize': 24,\n      'subtitle': '(excluding high income countries)',\n      # 'subtitleColor': 'grey',\n      # 'subtitleFontSize': 20\n    }\n).configure_axis(\n    labelFontSize=12,\n    titleFontSize=14\n).configure_legend(\n    fillColor='#EEEEEE',\n    strokeColor='#CCCCCC',\n    padding=10,\n    cornerRadius=10,\n    # orient='top-right'\n).configure_title(\n    color='black',\n    fontSize=40,\n    subtitleColor='grey',\n    subtitleFontSize=20\n)",
   "execution_count": 22,
   "outputs": [
    {
     "output_type": "execute_result",
     "execution_count": 22,
     "data": {
      "text/html": "\n<div id=\"altair-viz-3b8b5cfc5291416eb4a4de49ae623e73\"></div>\n<script type=\"text/javascript\">\n  (function(spec, embedOpt){\n    let outputDiv = document.currentScript.previousElementSibling;\n    if (outputDiv.id !== \"altair-viz-3b8b5cfc5291416eb4a4de49ae623e73\") {\n      outputDiv = document.getElementById(\"altair-viz-3b8b5cfc5291416eb4a4de49ae623e73\");\n    }\n    const paths = {\n      \"vega\": \"https://cdn.jsdelivr.net/npm//vega@5?noext\",\n      \"vega-lib\": \"https://cdn.jsdelivr.net/npm//vega-lib?noext\",\n      \"vega-lite\": \"https://cdn.jsdelivr.net/npm//vega-lite@4.8.1?noext\",\n      \"vega-embed\": \"https://cdn.jsdelivr.net/npm//vega-embed@6?noext\",\n    };\n\n    function loadScript(lib) {\n      return new Promise(function(resolve, reject) {\n        var s = document.createElement('script');\n        s.src = paths[lib];\n        s.async = true;\n        s.onload = () => resolve(paths[lib]);\n        s.onerror = () => reject(`Error loading script: ${paths[lib]}`);\n        document.getElementsByTagName(\"head\")[0].appendChild(s);\n      });\n    }\n\n    function showError(err) {\n      outputDiv.innerHTML = `<div class=\"error\" style=\"color:red;\">${err}</div>`;\n      throw err;\n    }\n\n    function displayChart(vegaEmbed) {\n      vegaEmbed(outputDiv, spec, embedOpt)\n        .catch(err => showError(`Javascript Error: ${err.message}<br>This usually means there's a typo in your chart specification. See the javascript console for the full traceback.`));\n    }\n\n    if(typeof define === \"function\" && define.amd) {\n      requirejs.config({paths});\n      require([\"vega-embed\"], displayChart, err => showError(`Error loading script: ${err.message}`));\n    } else if (typeof vegaEmbed === \"function\") {\n      displayChart(vegaEmbed);\n    } else {\n      loadScript(\"vega\")\n        .then(() => loadScript(\"vega-lite\"))\n        .then(() => loadScript(\"vega-embed\"))\n        .catch(showError)\n        .then(() => displayChart(vegaEmbed));\n    }\n  })({\"config\": {\"view\": {\"continuousWidth\": 400, \"continuousHeight\": 300}, \"axis\": {\"labelFontSize\": 12, \"titleFontSize\": 14}, \"legend\": {\"cornerRadius\": 10, \"fillColor\": \"#EEEEEE\", \"padding\": 10, \"strokeColor\": \"#CCCCCC\"}, \"title\": {\"color\": \"black\", \"fontSize\": 40, \"subtitleColor\": \"grey\", \"subtitleFontSize\": 20}}, \"data\": {\"name\": \"data-2322af2f436772879791cbc52e297c1d\"}, \"mark\": \"line\", \"encoding\": {\"color\": {\"type\": \"nominal\", \"field\": \"Country Code\"}, \"strokeDash\": {\"type\": \"nominal\", \"field\": \"Country Code\"}, \"x\": {\"type\": \"temporal\", \"axis\": {\"format\": \"%Y\"}, \"field\": \"Year\"}, \"y\": {\"type\": \"quantitative\", \"axis\": {\"format\": \"$,r\"}, \"field\": \"GDP Per Capita\"}}, \"height\": 300, \"title\": {\"text\": \"Regional GDP per capita, 1960-2020\", \"subtitle\": \"(excluding high income countries)\"}, \"width\": 600, \"$schema\": \"https://vega.github.io/schema/vega-lite/v4.8.1.json\", \"datasets\": {\"data-2322af2f436772879791cbc52e297c1d\": [{\"Country Code\": \"East Asia & Pacific\", \"Year\": \"Country Name\", \"GDP Per Capita\": \"East Asia & Pacific (excluding high income)\"}, {\"Country Code\": \"Europe & Central Asia\", \"Year\": \"Country Name\", \"GDP Per Capita\": \"Europe & Central Asia (excluding high income)\"}, {\"Country Code\": \"Latin America & Carribbean\", \"Year\": \"Country Name\", \"GDP Per Capita\": \"Latin America & Caribbean (excluding high income)\"}, {\"Country Code\": \"Middle East & North Africa\", \"Year\": \"Country Name\", \"GDP Per Capita\": \"Middle East & North Africa (excluding high income)\"}, {\"Country Code\": \"Sub-Saharan Africa\", \"Year\": \"Country Name\", \"GDP Per Capita\": \"Sub-Saharan Africa (excluding high income)\"}, {\"Country Code\": \"East Asia & Pacific\", \"Year\": \"Indicator Name\", \"GDP Per Capita\": \"GDP per capita (current US$)\"}, {\"Country Code\": \"Europe & Central Asia\", \"Year\": \"Indicator Name\", \"GDP Per Capita\": \"GDP per capita (current US$)\"}, {\"Country Code\": \"Latin America & Carribbean\", \"Year\": \"Indicator Name\", \"GDP Per Capita\": \"GDP per capita (current US$)\"}, {\"Country Code\": \"Middle East & North Africa\", \"Year\": \"Indicator Name\", \"GDP Per Capita\": \"GDP per capita (current US$)\"}, {\"Country Code\": \"Sub-Saharan Africa\", \"Year\": \"Indicator Name\", \"GDP Per Capita\": \"GDP per capita (current US$)\"}, {\"Country Code\": \"East Asia & Pacific\", \"Year\": \"Indicator Code\", \"GDP Per Capita\": \"NY.GDP.PCAP.CD\"}, {\"Country Code\": \"Europe & Central Asia\", \"Year\": \"Indicator Code\", \"GDP Per Capita\": \"NY.GDP.PCAP.CD\"}, {\"Country Code\": \"Latin America & Carribbean\", \"Year\": \"Indicator Code\", \"GDP Per Capita\": \"NY.GDP.PCAP.CD\"}, {\"Country Code\": \"Middle East & North Africa\", \"Year\": \"Indicator Code\", \"GDP Per Capita\": \"NY.GDP.PCAP.CD\"}, {\"Country Code\": \"Sub-Saharan Africa\", \"Year\": \"Indicator Code\", \"GDP Per Capita\": \"NY.GDP.PCAP.CD\"}, {\"Country Code\": \"East Asia & Pacific\", \"Year\": \"1960\", \"GDP Per Capita\": 89.6527796822837}, {\"Country Code\": \"Europe & Central Asia\", \"Year\": \"1960\", \"GDP Per Capita\": null}, {\"Country Code\": \"Latin America & Carribbean\", \"Year\": \"1960\", \"GDP Per Capita\": 332.891883307801}, {\"Country Code\": \"Middle East & North Africa\", \"Year\": \"1960\", \"GDP Per Capita\": null}, {\"Country Code\": \"Sub-Saharan Africa\", \"Year\": \"1960\", \"GDP Per Capita\": 128.707557580504}, {\"Country Code\": \"East Asia & Pacific\", \"Year\": \"1961\", \"GDP Per Capita\": 78.7344609050717}, {\"Country Code\": \"Europe & Central Asia\", \"Year\": \"1961\", \"GDP Per Capita\": null}, {\"Country Code\": \"Latin America & Carribbean\", \"Year\": \"1961\", \"GDP Per Capita\": 338.6578544345}, {\"Country Code\": \"Middle East & North Africa\", \"Year\": \"1961\", \"GDP Per Capita\": null}, {\"Country Code\": \"Sub-Saharan Africa\", \"Year\": \"1961\", \"GDP Per Capita\": 130.671307952798}, {\"Country Code\": \"East Asia & Pacific\", \"Year\": \"1962\", \"GDP Per Capita\": 71.1989889221213}, {\"Country Code\": \"Europe & Central Asia\", \"Year\": \"1962\", \"GDP Per Capita\": null}, {\"Country Code\": \"Latin America & Carribbean\", \"Year\": \"1962\", \"GDP Per Capita\": 380.063375065943}, {\"Country Code\": \"Middle East & North Africa\", \"Year\": \"1962\", \"GDP Per Capita\": null}, {\"Country Code\": \"Sub-Saharan Africa\", \"Year\": \"1962\", \"GDP Per Capita\": 138.272460064887}, {\"Country Code\": \"East Asia & Pacific\", \"Year\": \"1963\", \"GDP Per Capita\": 75.1728203892176}, {\"Country Code\": \"Europe & Central Asia\", \"Year\": \"1963\", \"GDP Per Capita\": null}, {\"Country Code\": \"Latin America & Carribbean\", \"Year\": \"1963\", \"GDP Per Capita\": 368.010185251088}, {\"Country Code\": \"Middle East & North Africa\", \"Year\": \"1963\", \"GDP Per Capita\": null}, {\"Country Code\": \"Sub-Saharan Africa\", \"Year\": \"1963\", \"GDP Per Capita\": 154.669311081194}, {\"Country Code\": \"East Asia & Pacific\", \"Year\": \"1964\", \"GDP Per Capita\": 85.0635380013149}, {\"Country Code\": \"Europe & Central Asia\", \"Year\": \"1964\", \"GDP Per Capita\": null}, {\"Country Code\": \"Latin America & Carribbean\", \"Year\": \"1964\", \"GDP Per Capita\": 413.028342651694}, {\"Country Code\": \"Middle East & North Africa\", \"Year\": \"1964\", \"GDP Per Capita\": null}, {\"Country Code\": \"Sub-Saharan Africa\", \"Year\": \"1964\", \"GDP Per Capita\": 147.434620387441}, {\"Country Code\": \"East Asia & Pacific\", \"Year\": \"1965\", \"GDP Per Capita\": 96.8442037311951}, {\"Country Code\": \"Europe & Central Asia\", \"Year\": \"1965\", \"GDP Per Capita\": null}, {\"Country Code\": \"Latin America & Carribbean\", \"Year\": \"1965\", \"GDP Per Capita\": 431.561601915989}, {\"Country Code\": \"Middle East & North Africa\", \"Year\": \"1965\", \"GDP Per Capita\": null}, {\"Country Code\": \"Sub-Saharan Africa\", \"Year\": \"1965\", \"GDP Per Capita\": 160.249416559973}, {\"Country Code\": \"East Asia & Pacific\", \"Year\": \"1966\", \"GDP Per Capita\": 103.119771351614}, {\"Country Code\": \"Europe & Central Asia\", \"Year\": \"1966\", \"GDP Per Capita\": null}, {\"Country Code\": \"Latin America & Carribbean\", \"Year\": \"1966\", \"GDP Per Capita\": 462.36120942483}, {\"Country Code\": \"Middle East & North Africa\", \"Year\": \"1966\", \"GDP Per Capita\": null}, {\"Country Code\": \"Sub-Saharan Africa\", \"Year\": \"1966\", \"GDP Per Capita\": 168.695256098963}, {\"Country Code\": \"East Asia & Pacific\", \"Year\": \"1967\", \"GDP Per Capita\": 97.3458798529539}, {\"Country Code\": \"Europe & Central Asia\", \"Year\": \"1967\", \"GDP Per Capita\": null}, {\"Country Code\": \"Latin America & Carribbean\", \"Year\": \"1967\", \"GDP Per Capita\": 461.913558721761}, {\"Country Code\": \"Middle East & North Africa\", \"Year\": \"1967\", \"GDP Per Capita\": null}, {\"Country Code\": \"Sub-Saharan Africa\", \"Year\": \"1967\", \"GDP Per Capita\": 162.668746658987}, {\"Country Code\": \"East Asia & Pacific\", \"Year\": \"1968\", \"GDP Per Capita\": 95.6991465920924}, {\"Country Code\": \"Europe & Central Asia\", \"Year\": \"1968\", \"GDP Per Capita\": null}, {\"Country Code\": \"Latin America & Carribbean\", \"Year\": \"1968\", \"GDP Per Capita\": 486.257069325269}, {\"Country Code\": \"Middle East & North Africa\", \"Year\": \"1968\", \"GDP Per Capita\": null}, {\"Country Code\": \"Sub-Saharan Africa\", \"Year\": \"1968\", \"GDP Per Capita\": 169.614832389784}, {\"Country Code\": \"East Asia & Pacific\", \"Year\": \"1969\", \"GDP Per Capita\": 104.572933001481}, {\"Country Code\": \"Europe & Central Asia\", \"Year\": \"1969\", \"GDP Per Capita\": null}, {\"Country Code\": \"Latin America & Carribbean\", \"Year\": \"1969\", \"GDP Per Capita\": 532.373987323748}, {\"Country Code\": \"Middle East & North Africa\", \"Year\": \"1969\", \"GDP Per Capita\": null}, {\"Country Code\": \"Sub-Saharan Africa\", \"Year\": \"1969\", \"GDP Per Capita\": 189.064582363466}, {\"Country Code\": \"East Asia & Pacific\", \"Year\": \"1970\", \"GDP Per Capita\": 113.429579242545}, {\"Country Code\": \"Europe & Central Asia\", \"Year\": \"1970\", \"GDP Per Capita\": null}, {\"Country Code\": \"Latin America & Carribbean\", \"Year\": \"1970\", \"GDP Per Capita\": 563.408082538127}, {\"Country Code\": \"Middle East & North Africa\", \"Year\": \"1970\", \"GDP Per Capita\": null}, {\"Country Code\": \"Sub-Saharan Africa\", \"Year\": \"1970\", \"GDP Per Capita\": 216.775103099976}, {\"Country Code\": \"East Asia & Pacific\", \"Year\": \"1971\", \"GDP Per Capita\": 118.715562466497}, {\"Country Code\": \"Europe & Central Asia\", \"Year\": \"1971\", \"GDP Per Capita\": null}, {\"Country Code\": \"Latin America & Carribbean\", \"Year\": \"1971\", \"GDP Per Capita\": 609.763768682512}, {\"Country Code\": \"Middle East & North Africa\", \"Year\": \"1971\", \"GDP Per Capita\": null}, {\"Country Code\": \"Sub-Saharan Africa\", \"Year\": \"1971\", \"GDP Per Capita\": 214.729916031448}, {\"Country Code\": \"East Asia & Pacific\", \"Year\": \"1972\", \"GDP Per Capita\": 131.359062049343}, {\"Country Code\": \"Europe & Central Asia\", \"Year\": \"1972\", \"GDP Per Capita\": null}, {\"Country Code\": \"Latin America & Carribbean\", \"Year\": \"1972\", \"GDP Per Capita\": 675.621021377475}, {\"Country Code\": \"Middle East & North Africa\", \"Year\": \"1972\", \"GDP Per Capita\": null}, {\"Country Code\": \"Sub-Saharan Africa\", \"Year\": \"1972\", \"GDP Per Capita\": 236.199795119012}, {\"Country Code\": \"East Asia & Pacific\", \"Year\": \"1973\", \"GDP Per Capita\": 161.538178577695}, {\"Country Code\": \"Europe & Central Asia\", \"Year\": \"1973\", \"GDP Per Capita\": null}, {\"Country Code\": \"Latin America & Carribbean\", \"Year\": \"1973\", \"GDP Per Capita\": 865.173742568166}, {\"Country Code\": \"Middle East & North Africa\", \"Year\": \"1973\", \"GDP Per Capita\": null}, {\"Country Code\": \"Sub-Saharan Africa\", \"Year\": \"1973\", \"GDP Per Capita\": 294.134813600995}, {\"Country Code\": \"East Asia & Pacific\", \"Year\": \"1974\", \"GDP Per Capita\": 178.320034651103}, {\"Country Code\": \"Europe & Central Asia\", \"Year\": \"1974\", \"GDP Per Capita\": null}, {\"Country Code\": \"Latin America & Carribbean\", \"Year\": \"1974\", \"GDP Per Capita\": 1112.38227054535}, {\"Country Code\": \"Middle East & North Africa\", \"Year\": \"1974\", \"GDP Per Capita\": null}, {\"Country Code\": \"Sub-Saharan Africa\", \"Year\": \"1974\", \"GDP Per Capita\": 373.207091652227}, {\"Country Code\": \"East Asia & Pacific\", \"Year\": \"1975\", \"GDP Per Capita\": 196.623965239371}, {\"Country Code\": \"Europe & Central Asia\", \"Year\": \"1975\", \"GDP Per Capita\": null}, {\"Country Code\": \"Latin America & Carribbean\", \"Year\": \"1975\", \"GDP Per Capita\": 1170.48375134496}, {\"Country Code\": \"Middle East & North Africa\", \"Year\": \"1975\", \"GDP Per Capita\": null}, {\"Country Code\": \"Sub-Saharan Africa\", \"Year\": \"1975\", \"GDP Per Capita\": 400.825350784581}, {\"Country Code\": \"East Asia & Pacific\", \"Year\": \"1976\", \"GDP Per Capita\": 196.104369280144}, {\"Country Code\": \"Europe & Central Asia\", \"Year\": \"1976\", \"GDP Per Capita\": null}, {\"Country Code\": \"Latin America & Carribbean\", \"Year\": \"1976\", \"GDP Per Capita\": 1263.28304601025}, {\"Country Code\": \"Middle East & North Africa\", \"Year\": \"1976\", \"GDP Per Capita\": null}, {\"Country Code\": \"Sub-Saharan Africa\", \"Year\": \"1976\", \"GDP Per Capita\": 422.395937217618}, {\"Country Code\": \"East Asia & Pacific\", \"Year\": \"1977\", \"GDP Per Capita\": 223.015670985669}, {\"Country Code\": \"Europe & Central Asia\", \"Year\": \"1977\", \"GDP Per Capita\": null}, {\"Country Code\": \"Latin America & Carribbean\", \"Year\": \"1977\", \"GDP Per Capita\": 1340.97480457801}, {\"Country Code\": \"Middle East & North Africa\", \"Year\": \"1977\", \"GDP Per Capita\": null}, {\"Country Code\": \"Sub-Saharan Africa\", \"Year\": \"1977\", \"GDP Per Capita\": 451.861729229044}, {\"Country Code\": \"East Asia & Pacific\", \"Year\": \"1978\", \"GDP Per Capita\": 212.533785297527}, {\"Country Code\": \"Europe & Central Asia\", \"Year\": \"1978\", \"GDP Per Capita\": null}, {\"Country Code\": \"Latin America & Carribbean\", \"Year\": \"1978\", \"GDP Per Capita\": 1492.94209608953}, {\"Country Code\": \"Middle East & North Africa\", \"Year\": \"1978\", \"GDP Per Capita\": null}, {\"Country Code\": \"Sub-Saharan Africa\", \"Year\": \"1978\", \"GDP Per Capita\": 486.061125598044}, {\"Country Code\": \"East Asia & Pacific\", \"Year\": \"1979\", \"GDP Per Capita\": 242.343612609447}, {\"Country Code\": \"Europe & Central Asia\", \"Year\": \"1979\", \"GDP Per Capita\": null}, {\"Country Code\": \"Latin America & Carribbean\", \"Year\": \"1979\", \"GDP Per Capita\": 1722.91928662163}, {\"Country Code\": \"Middle East & North Africa\", \"Year\": \"1979\", \"GDP Per Capita\": null}, {\"Country Code\": \"Sub-Saharan Africa\", \"Year\": \"1979\", \"GDP Per Capita\": 567.941360585457}, {\"Country Code\": \"East Asia & Pacific\", \"Year\": \"1980\", \"GDP Per Capita\": 275.418504704817}, {\"Country Code\": \"Europe & Central Asia\", \"Year\": \"1980\", \"GDP Per Capita\": null}, {\"Country Code\": \"Latin America & Carribbean\", \"Year\": \"1980\", \"GDP Per Capita\": 2013.52379924577}, {\"Country Code\": \"Middle East & North Africa\", \"Year\": \"1980\", \"GDP Per Capita\": null}, {\"Country Code\": \"Sub-Saharan Africa\", \"Year\": \"1980\", \"GDP Per Capita\": 695.616753351213}, {\"Country Code\": \"East Asia & Pacific\", \"Year\": \"1981\", \"GDP Per Capita\": 289.368997921737}, {\"Country Code\": \"Europe & Central Asia\", \"Year\": \"1981\", \"GDP Per Capita\": null}, {\"Country Code\": \"Latin America & Carribbean\", \"Year\": \"1981\", \"GDP Per Capita\": 2278.24807595669}, {\"Country Code\": \"Middle East & North Africa\", \"Year\": \"1981\", \"GDP Per Capita\": null}, {\"Country Code\": \"Sub-Saharan Africa\", \"Year\": \"1981\", \"GDP Per Capita\": 942.38122394269}, {\"Country Code\": \"East Asia & Pacific\", \"Year\": \"1982\", \"GDP Per Capita\": 298.578833945108}, {\"Country Code\": \"Europe & Central Asia\", \"Year\": \"1982\", \"GDP Per Capita\": null}, {\"Country Code\": \"Latin America & Carribbean\", \"Year\": \"1982\", \"GDP Per Capita\": 2073.63640295948}, {\"Country Code\": \"Middle East & North Africa\", \"Year\": \"1982\", \"GDP Per Capita\": null}, {\"Country Code\": \"Sub-Saharan Africa\", \"Year\": \"1982\", \"GDP Per Capita\": 842.935570685897}, {\"Country Code\": \"East Asia & Pacific\", \"Year\": \"1983\", \"GDP Per Capita\": 308.082087417901}, {\"Country Code\": \"Europe & Central Asia\", \"Year\": \"1983\", \"GDP Per Capita\": null}, {\"Country Code\": \"Latin America & Carribbean\", \"Year\": \"1983\", \"GDP Per Capita\": 1769.43728578804}, {\"Country Code\": \"Middle East & North Africa\", \"Year\": \"1983\", \"GDP Per Capita\": null}, {\"Country Code\": \"Sub-Saharan Africa\", \"Year\": \"1983\", \"GDP Per Capita\": 713.623233063532}, {\"Country Code\": \"East Asia & Pacific\", \"Year\": \"1984\", \"GDP Per Capita\": 329.15694149934}, {\"Country Code\": \"Europe & Central Asia\", \"Year\": \"1984\", \"GDP Per Capita\": null}, {\"Country Code\": \"Latin America & Carribbean\", \"Year\": \"1984\", \"GDP Per Capita\": 1769.59061819441}, {\"Country Code\": \"Middle East & North Africa\", \"Year\": \"1984\", \"GDP Per Capita\": null}, {\"Country Code\": \"Sub-Saharan Africa\", \"Year\": \"1984\", \"GDP Per Capita\": 605.90142451879}, {\"Country Code\": \"East Asia & Pacific\", \"Year\": \"1985\", \"GDP Per Capita\": 355.000652328618}, {\"Country Code\": \"Europe & Central Asia\", \"Year\": \"1985\", \"GDP Per Capita\": null}, {\"Country Code\": \"Latin America & Carribbean\", \"Year\": \"1985\", \"GDP Per Capita\": 1791.64551773662}, {\"Country Code\": \"Middle East & North Africa\", \"Year\": \"1985\", \"GDP Per Capita\": null}, {\"Country Code\": \"Sub-Saharan Africa\", \"Year\": \"1985\", \"GDP Per Capita\": 558.64378010616}, {\"Country Code\": \"East Asia & Pacific\", \"Year\": \"1986\", \"GDP Per Capita\": 348.10691673475}, {\"Country Code\": \"Europe & Central Asia\", \"Year\": \"1986\", \"GDP Per Capita\": null}, {\"Country Code\": \"Latin America & Carribbean\", \"Year\": \"1986\", \"GDP Per Capita\": 1769.86147927115}, {\"Country Code\": \"Middle East & North Africa\", \"Year\": \"1986\", \"GDP Per Capita\": null}, {\"Country Code\": \"Sub-Saharan Africa\", \"Year\": \"1986\", \"GDP Per Capita\": 559.342472640108}, {\"Country Code\": \"East Asia & Pacific\", \"Year\": \"1987\", \"GDP Per Capita\": 337.839606102379}, {\"Country Code\": \"Europe & Central Asia\", \"Year\": \"1987\", \"GDP Per Capita\": null}, {\"Country Code\": \"Latin America & Carribbean\", \"Year\": \"1987\", \"GDP Per Capita\": 1861.8016844465}, {\"Country Code\": \"Middle East & North Africa\", \"Year\": \"1987\", \"GDP Per Capita\": null}, {\"Country Code\": \"Sub-Saharan Africa\", \"Year\": \"1987\", \"GDP Per Capita\": 618.832805088563}, {\"Country Code\": \"East Asia & Pacific\", \"Year\": \"1988\", \"GDP Per Capita\": 368.222710500728}, {\"Country Code\": \"Europe & Central Asia\", \"Year\": \"1988\", \"GDP Per Capita\": 2348.70235555523}, {\"Country Code\": \"Latin America & Carribbean\", \"Year\": \"1988\", \"GDP Per Capita\": 2045.66072265308}, {\"Country Code\": \"Middle East & North Africa\", \"Year\": \"1988\", \"GDP Per Capita\": null}, {\"Country Code\": \"Sub-Saharan Africa\", \"Year\": \"1988\", \"GDP Per Capita\": 617.518563962097}, {\"Country Code\": \"East Asia & Pacific\", \"Year\": \"1989\", \"GDP Per Capita\": 391.377259090258}, {\"Country Code\": \"Europe & Central Asia\", \"Year\": \"1989\", \"GDP Per Capita\": 2260.90460737249}, {\"Country Code\": \"Latin America & Carribbean\", \"Year\": \"1989\", \"GDP Per Capita\": 2248.16825461288}, {\"Country Code\": \"Middle East & North Africa\", \"Year\": \"1989\", \"GDP Per Capita\": null}, {\"Country Code\": \"Sub-Saharan Africa\", \"Year\": \"1989\", \"GDP Per Capita\": 597.026693996054}, {\"Country Code\": \"East Asia & Pacific\", \"Year\": \"1990\", \"GDP Per Capita\": 412.850017508043}, {\"Country Code\": \"Europe & Central Asia\", \"Year\": \"1990\", \"GDP Per Capita\": 2388.506691741}, {\"Country Code\": \"Latin America & Carribbean\", \"Year\": \"1990\", \"GDP Per Capita\": 2602.73122270825}, {\"Country Code\": \"Middle East & North Africa\", \"Year\": \"1990\", \"GDP Per Capita\": null}, {\"Country Code\": \"Sub-Saharan Africa\", \"Year\": \"1990\", \"GDP Per Capita\": 654.560462119822}, {\"Country Code\": \"East Asia & Pacific\", \"Year\": \"1991\", \"GDP Per Capita\": 441.336539056127}, {\"Country Code\": \"Europe & Central Asia\", \"Year\": \"1991\", \"GDP Per Capita\": 2305.45200759027}, {\"Country Code\": \"Latin America & Carribbean\", \"Year\": \"1991\", \"GDP Per Capita\": 3186.04025642897}, {\"Country Code\": \"Middle East & North Africa\", \"Year\": \"1991\", \"GDP Per Capita\": null}, {\"Country Code\": \"Sub-Saharan Africa\", \"Year\": \"1991\", \"GDP Per Capita\": 643.890273810906}, {\"Country Code\": \"East Asia & Pacific\", \"Year\": \"1992\", \"GDP Per Capita\": 487.707781119342}, {\"Country Code\": \"Europe & Central Asia\", \"Year\": \"1992\", \"GDP Per Capita\": 2120.98343318633}, {\"Country Code\": \"Latin America & Carribbean\", \"Year\": \"1992\", \"GDP Per Capita\": 2892.84042964436}, {\"Country Code\": \"Middle East & North Africa\", \"Year\": \"1992\", \"GDP Per Capita\": null}, {\"Country Code\": \"Sub-Saharan Africa\", \"Year\": \"1992\", \"GDP Per Capita\": 626.975251806284}, {\"Country Code\": \"East Asia & Pacific\", \"Year\": \"1993\", \"GDP Per Capita\": 528.379441660585}, {\"Country Code\": \"Europe & Central Asia\", \"Year\": \"1993\", \"GDP Per Capita\": 2095.2839222894}, {\"Country Code\": \"Latin America & Carribbean\", \"Year\": \"1993\", \"GDP Per Capita\": 3311.27821933065}, {\"Country Code\": \"Middle East & North Africa\", \"Year\": \"1993\", \"GDP Per Capita\": 1129.2754161623}, {\"Country Code\": \"Sub-Saharan Africa\", \"Year\": \"1993\", \"GDP Per Capita\": 571.8670265345}, {\"Country Code\": \"East Asia & Pacific\", \"Year\": \"1994\", \"GDP Per Capita\": 627.444901527105}, {\"Country Code\": \"Europe & Central Asia\", \"Year\": \"1994\", \"GDP Per Capita\": 1813.30868987513}, {\"Country Code\": \"Latin America & Carribbean\", \"Year\": \"1994\", \"GDP Per Capita\": 3749.74900892436}, {\"Country Code\": \"Middle East & North Africa\", \"Year\": \"1994\", \"GDP Per Capita\": 1142.88621548538}, {\"Country Code\": \"Sub-Saharan Africa\", \"Year\": \"1994\", \"GDP Per Capita\": 543.240008437177}, {\"Country Code\": \"East Asia & Pacific\", \"Year\": \"1995\", \"GDP Per Capita\": 764.776416666831}, {\"Country Code\": \"Europe & Central Asia\", \"Year\": \"1995\", \"GDP Per Capita\": 1944.39376014087}, {\"Country Code\": \"Latin America & Carribbean\", \"Year\": \"1995\", \"GDP Per Capita\": 3866.8075677085}, {\"Country Code\": \"Middle East & North Africa\", \"Year\": \"1995\", \"GDP Per Capita\": 1308.85891175965}, {\"Country Code\": \"Sub-Saharan Africa\", \"Year\": \"1995\", \"GDP Per Capita\": 613.992556835201}, {\"Country Code\": \"East Asia & Pacific\", \"Year\": \"1996\", \"GDP Per Capita\": 867.792116040631}, {\"Country Code\": \"Europe & Central Asia\", \"Year\": \"1996\", \"GDP Per Capita\": 1962.24737436828}, {\"Country Code\": \"Latin America & Carribbean\", \"Year\": \"1996\", \"GDP Per Capita\": 4152.31849754948}, {\"Country Code\": \"Middle East & North Africa\", \"Year\": \"1996\", \"GDP Per Capita\": 1469.83428860223}, {\"Country Code\": \"Sub-Saharan Africa\", \"Year\": \"1996\", \"GDP Per Capita\": 616.594516347977}, {\"Country Code\": \"East Asia & Pacific\", \"Year\": \"1997\", \"GDP Per Capita\": 888.241640934943}, {\"Country Code\": \"Europe & Central Asia\", \"Year\": \"1997\", \"GDP Per Capita\": 2038.82954098279}, {\"Country Code\": \"Latin America & Carribbean\", \"Year\": \"1997\", \"GDP Per Capita\": 4458.55012111234}, {\"Country Code\": \"Middle East & North Africa\", \"Year\": \"1997\", \"GDP Per Capita\": 1518.84326762419}, {\"Country Code\": \"Sub-Saharan Africa\", \"Year\": \"1997\", \"GDP Per Capita\": 622.912122372781}, {\"Country Code\": \"East Asia & Pacific\", \"Year\": \"1998\", \"GDP Per Capita\": 804.942679636555}, {\"Country Code\": \"Europe & Central Asia\", \"Year\": \"1998\", \"GDP Per Capita\": 1910.59812015964}, {\"Country Code\": \"Latin America & Carribbean\", \"Year\": \"1998\", \"GDP Per Capita\": 4410.9050011362}, {\"Country Code\": \"Middle East & North Africa\", \"Year\": \"1998\", \"GDP Per Capita\": 1511.65013265866}, {\"Country Code\": \"Sub-Saharan Africa\", \"Year\": \"1998\", \"GDP Per Capita\": 587.163586727321}, {\"Country Code\": \"East Asia & Pacific\", \"Year\": \"1999\", \"GDP Per Capita\": 876.174821538643}, {\"Country Code\": \"Europe & Central Asia\", \"Year\": \"1999\", \"GDP Per Capita\": 1605.21666500686}, {\"Country Code\": \"Latin America & Carribbean\", \"Year\": \"1999\", \"GDP Per Capita\": 3853.29428244067}, {\"Country Code\": \"Middle East & North Africa\", \"Year\": \"1999\", \"GDP Per Capita\": 1625.21598558802}, {\"Country Code\": \"Sub-Saharan Africa\", \"Year\": \"1999\", \"GDP Per Capita\": 578.713154753203}, {\"Country Code\": \"East Asia & Pacific\", \"Year\": \"2000\", \"GDP Per Capita\": 954.305663661861}, {\"Country Code\": \"Europe & Central Asia\", \"Year\": \"2000\", \"GDP Per Capita\": 1786.83263846672}, {\"Country Code\": \"Latin America & Carribbean\", \"Year\": \"2000\", \"GDP Per Capita\": 4198.44023677522}, {\"Country Code\": \"Middle East & North Africa\", \"Year\": \"2000\", \"GDP Per Capita\": 1690.82493418578}, {\"Country Code\": \"Sub-Saharan Africa\", \"Year\": \"2000\", \"GDP Per Capita\": 601.358898076515}, {\"Country Code\": \"East Asia & Pacific\", \"Year\": \"2001\", \"GDP Per Capita\": 1007.16403088725}, {\"Country Code\": \"Europe & Central Asia\", \"Year\": \"2001\", \"GDP Per Capita\": 1777.3804333615}, {\"Country Code\": \"Latin America & Carribbean\", \"Year\": \"2001\", \"GDP Per Capita\": 4024.20434428975}, {\"Country Code\": \"Middle East & North Africa\", \"Year\": \"2001\", \"GDP Per Capita\": 1666.67714855476}, {\"Country Code\": \"Sub-Saharan Africa\", \"Year\": \"2001\", \"GDP Per Capita\": 559.396831937782}, {\"Country Code\": \"East Asia & Pacific\", \"Year\": \"2002\", \"GDP Per Capita\": 1106.73807018197}, {\"Country Code\": \"Europe & Central Asia\", \"Year\": \"2002\", \"GDP Per Capita\": 2036.34057650272}, {\"Country Code\": \"Latin America & Carribbean\", \"Year\": \"2002\", \"GDP Per Capita\": 3569.26472951502}, {\"Country Code\": \"Middle East & North Africa\", \"Year\": \"2002\", \"GDP Per Capita\": 1576.04605113384}, {\"Country Code\": \"Sub-Saharan Africa\", \"Year\": \"2002\", \"GDP Per Capita\": 594.085288108974}, {\"Country Code\": \"East Asia & Pacific\", \"Year\": \"2003\", \"GDP Per Capita\": 1240.83513131559}, {\"Country Code\": \"Europe & Central Asia\", \"Year\": \"2003\", \"GDP Per Capita\": 2567.12958240801}, {\"Country Code\": \"Latin America & Carribbean\", \"Year\": \"2003\", \"GDP Per Capita\": 3607.50845790191}, {\"Country Code\": \"Middle East & North Africa\", \"Year\": \"2003\", \"GDP Per Capita\": 1696.73693549125}, {\"Country Code\": \"Sub-Saharan Africa\", \"Year\": \"2003\", \"GDP Per Capita\": 724.928623720708}, {\"Country Code\": \"East Asia & Pacific\", \"Year\": \"2004\", \"GDP Per Capita\": 1427.14658356726}, {\"Country Code\": \"Europe & Central Asia\", \"Year\": \"2004\", \"GDP Per Capita\": 3398.18856191293}, {\"Country Code\": \"Latin America & Carribbean\", \"Year\": \"2004\", \"GDP Per Capita\": 4063.39733651666}, {\"Country Code\": \"Middle East & North Africa\", \"Year\": \"2004\", \"GDP Per Capita\": 1981.13939326468}, {\"Country Code\": \"Sub-Saharan Africa\", \"Year\": \"2004\", \"GDP Per Capita\": 877.960701182274}, {\"Country Code\": \"East Asia & Pacific\", \"Year\": \"2005\", \"GDP Per Capita\": 1640.22754673083}, {\"Country Code\": \"Europe & Central Asia\", \"Year\": \"2005\", \"GDP Per Capita\": 4301.29554052163}, {\"Country Code\": \"Latin America & Carribbean\", \"Year\": \"2005\", \"GDP Per Capita\": 4856.09893718579}, {\"Country Code\": \"Middle East & North Africa\", \"Year\": \"2005\", \"GDP Per Capita\": 2293.14140694024}, {\"Country Code\": \"Sub-Saharan Africa\", \"Year\": \"2005\", \"GDP Per Capita\": 1015.55730273664}, {\"Country Code\": \"East Asia & Pacific\", \"Year\": \"2006\", \"GDP Per Capita\": 1961.19554988996}, {\"Country Code\": \"Europe & Central Asia\", \"Year\": \"2006\", \"GDP Per Capita\": 5269.81379332128}, {\"Country Code\": \"Latin America & Carribbean\", \"Year\": \"2006\", \"GDP Per Capita\": 5604.9096937319}, {\"Country Code\": \"Middle East & North Africa\", \"Year\": \"2006\", \"GDP Per Capita\": 2618.367619193}, {\"Country Code\": \"Sub-Saharan Africa\", \"Year\": \"2006\", \"GDP Per Capita\": 1173.62997252607}, {\"Country Code\": \"East Asia & Pacific\", \"Year\": \"2007\", \"GDP Per Capita\": 2463.85986755301}, {\"Country Code\": \"Europe & Central Asia\", \"Year\": \"2007\", \"GDP Per Capita\": 6811.45616581317}, {\"Country Code\": \"Latin America & Carribbean\", \"Year\": \"2007\", \"GDP Per Capita\": 6544.60652896521}, {\"Country Code\": \"Middle East & North Africa\", \"Year\": \"2007\", \"GDP Per Capita\": 3179.51979875568}, {\"Country Code\": \"Sub-Saharan Africa\", \"Year\": \"2007\", \"GDP Per Capita\": 1325.88359873382}, {\"Country Code\": \"East Asia & Pacific\", \"Year\": \"2008\", \"GDP Per Capita\": 3091.09038845467}, {\"Country Code\": \"Europe & Central Asia\", \"Year\": \"2008\", \"GDP Per Capita\": 8410.15400066175}, {\"Country Code\": \"Latin America & Carribbean\", \"Year\": \"2008\", \"GDP Per Capita\": 7484.44990641484}, {\"Country Code\": \"Middle East & North Africa\", \"Year\": \"2008\", \"GDP Per Capita\": 3870.83099479435}, {\"Country Code\": \"Sub-Saharan Africa\", \"Year\": \"2008\", \"GDP Per Capita\": 1480.81461147548}, {\"Country Code\": \"East Asia & Pacific\", \"Year\": \"2009\", \"GDP Per Capita\": 3330.63270390782}, {\"Country Code\": \"Europe & Central Asia\", \"Year\": \"2009\", \"GDP Per Capita\": 6585.40776882484}, {\"Country Code\": \"Latin America & Carribbean\", \"Year\": \"2009\", \"GDP Per Capita\": 6876.75343763036}, {\"Country Code\": \"Middle East & North Africa\", \"Year\": \"2009\", \"GDP Per Capita\": 3670.95686988791}, {\"Country Code\": \"Sub-Saharan Africa\", \"Year\": \"2009\", \"GDP Per Capita\": 1373.06570045307}, {\"Country Code\": \"East Asia & Pacific\", \"Year\": \"2010\", \"GDP Per Capita\": 4006.5615906113}, {\"Country Code\": \"Europe & Central Asia\", \"Year\": \"2010\", \"GDP Per Capita\": 7815.67928188957}, {\"Country Code\": \"Latin America & Carribbean\", \"Year\": \"2010\", \"GDP Per Capita\": 8504.47384856706}, {\"Country Code\": \"Middle East & North Africa\", \"Year\": \"2010\", \"GDP Per Capita\": 4161.67184592424}, {\"Country Code\": \"Sub-Saharan Africa\", \"Year\": \"2010\", \"GDP Per Capita\": 1591.64054163333}, {\"Country Code\": \"East Asia & Pacific\", \"Year\": \"2011\", \"GDP Per Capita\": 4855.67402321131}, {\"Country Code\": \"Europe & Central Asia\", \"Year\": \"2011\", \"GDP Per Capita\": 9601.42530905035}, {\"Country Code\": \"Latin America & Carribbean\", \"Year\": \"2011\", \"GDP Per Capita\": 9821.02930786385}, {\"Country Code\": \"Middle East & North Africa\", \"Year\": \"2011\", \"GDP Per Capita\": 4624.84188738842}, {\"Country Code\": \"Sub-Saharan Africa\", \"Year\": \"2011\", \"GDP Per Capita\": 1739.98788125153}, {\"Country Code\": \"East Asia & Pacific\", \"Year\": \"2012\", \"GDP Per Capita\": 5375.53059395669}, {\"Country Code\": \"Europe & Central Asia\", \"Year\": \"2012\", \"GDP Per Capita\": 10121.8349692874}, {\"Country Code\": \"Latin America & Carribbean\", \"Year\": \"2012\", \"GDP Per Capita\": 9674.39297961517}, {\"Country Code\": \"Middle East & North Africa\", \"Year\": \"2012\", \"GDP Per Capita\": 5014.18729914909}, {\"Country Code\": \"Sub-Saharan Africa\", \"Year\": \"2012\", \"GDP Per Capita\": 1775.53370550961}, {\"Country Code\": \"East Asia & Pacific\", \"Year\": \"2013\", \"GDP Per Capita\": 5890.47160390924}, {\"Country Code\": \"Europe & Central Asia\", \"Year\": \"2013\", \"GDP Per Capita\": 10689.0391947118}, {\"Country Code\": \"Latin America & Carribbean\", \"Year\": \"2013\", \"GDP Per Capita\": 9829.36976951415}, {\"Country Code\": \"Middle East & North Africa\", \"Year\": \"2013\", \"GDP Per Capita\": 4609.4664358826}, {\"Country Code\": \"Sub-Saharan Africa\", \"Year\": \"2013\", \"GDP Per Capita\": 1839.49603727626}, {\"Country Code\": \"East Asia & Pacific\", \"Year\": \"2014\", \"GDP Per Capita\": 6303.51556139287}, {\"Country Code\": \"Europe & Central Asia\", \"Year\": \"2014\", \"GDP Per Capita\": 9916.75670443681}, {\"Country Code\": \"Latin America & Carribbean\", \"Year\": \"2014\", \"GDP Per Capita\": 9775.87963840275}, {\"Country Code\": \"Middle East & North Africa\", \"Year\": \"2014\", \"GDP Per Capita\": 4453.93215797249}, {\"Country Code\": \"Sub-Saharan Africa\", \"Year\": \"2014\", \"GDP Per Capita\": 1860.25214056967}, {\"Country Code\": \"East Asia & Pacific\", \"Year\": \"2015\", \"GDP Per Capita\": 6519.03890113458}, {\"Country Code\": \"Europe & Central Asia\", \"Year\": \"2015\", \"GDP Per Capita\": 7546.23299642731}, {\"Country Code\": \"Latin America & Carribbean\", \"Year\": \"2015\", \"GDP Per Capita\": 8241.12003717272}, {\"Country Code\": \"Middle East & North Africa\", \"Year\": \"2015\", \"GDP Per Capita\": 3924.97973644787}, {\"Country Code\": \"Sub-Saharan Africa\", \"Year\": \"2015\", \"GDP Per Capita\": 1657.28631212539}, {\"Country Code\": \"East Asia & Pacific\", \"Year\": \"2016\", \"GDP Per Capita\": 6609.48436617558}, {\"Country Code\": \"Europe & Central Asia\", \"Year\": \"2016\", \"GDP Per Capita\": 7177.77223732626}, {\"Country Code\": \"Latin America & Carribbean\", \"Year\": \"2016\", \"GDP Per Capita\": 7930.7150554872}, {\"Country Code\": \"Middle East & North Africa\", \"Year\": \"2016\", \"GDP Per Capita\": 3919.46696282692}, {\"Country Code\": \"Sub-Saharan Africa\", \"Year\": \"2016\", \"GDP Per Capita\": 1507.09602828557}, {\"Country Code\": \"East Asia & Pacific\", \"Year\": \"2017\", \"GDP Per Capita\": 7172.70194415996}, {\"Country Code\": \"Europe & Central Asia\", \"Year\": \"2017\", \"GDP Per Capita\": 8018.71413783077}, {\"Country Code\": \"Latin America & Carribbean\", \"Year\": \"2017\", \"GDP Per Capita\": 8743.84224027993}, {\"Country Code\": \"Middle East & North Africa\", \"Year\": \"2017\", \"GDP Per Capita\": 3801.05244953155}, {\"Country Code\": \"Sub-Saharan Africa\", \"Year\": \"2017\", \"GDP Per Capita\": 1562.91396409004}, {\"Country Code\": \"East Asia & Pacific\", \"Year\": \"2018\", \"GDP Per Capita\": 7968.08997474566}, {\"Country Code\": \"Europe & Central Asia\", \"Year\": \"2018\", \"GDP Per Capita\": 8206.59666055713}, {\"Country Code\": \"Latin America & Carribbean\", \"Year\": \"2018\", \"GDP Per Capita\": 8395.07435773172}, {\"Country Code\": \"Middle East & North Africa\", \"Year\": \"2018\", \"GDP Per Capita\": 3501.87076686937}, {\"Country Code\": \"Sub-Saharan Africa\", \"Year\": \"2018\", \"GDP Per Capita\": 1595.4964951506}, {\"Country Code\": \"East Asia & Pacific\", \"Year\": \"2019\", \"GDP Per Capita\": 8194.265111576}, {\"Country Code\": \"Europe & Central Asia\", \"Year\": \"2019\", \"GDP Per Capita\": 8337.8574220048}, {\"Country Code\": \"Latin America & Carribbean\", \"Year\": \"2019\", \"GDP Per Capita\": 8213.07806273801}, {\"Country Code\": \"Middle East & North Africa\", \"Year\": \"2019\", \"GDP Per Capita\": 3507.50757458945}, {\"Country Code\": \"Sub-Saharan Africa\", \"Year\": \"2019\", \"GDP Per Capita\": 1597.72750280511}, {\"Country Code\": \"East Asia & Pacific\", \"Year\": \"2020\", \"GDP Per Capita\": 8291.74597603781}, {\"Country Code\": \"Europe & Central Asia\", \"Year\": \"2020\", \"GDP Per Capita\": 7656.59391905151}, {\"Country Code\": \"Latin America & Carribbean\", \"Year\": \"2020\", \"GDP Per Capita\": 6733.11238457868}, {\"Country Code\": \"Middle East & North Africa\", \"Year\": \"2020\", \"GDP Per Capita\": 3066.22535513271}, {\"Country Code\": \"Sub-Saharan Africa\", \"Year\": \"2020\", \"GDP Per Capita\": 1482.9095943257}, {\"Country Code\": \"East Asia & Pacific\", \"Year\": \"Unnamed: 65\", \"GDP Per Capita\": null}, {\"Country Code\": \"Europe & Central Asia\", \"Year\": \"Unnamed: 65\", \"GDP Per Capita\": null}, {\"Country Code\": \"Latin America & Carribbean\", \"Year\": \"Unnamed: 65\", \"GDP Per Capita\": null}, {\"Country Code\": \"Middle East & North Africa\", \"Year\": \"Unnamed: 65\", \"GDP Per Capita\": null}, {\"Country Code\": \"Sub-Saharan Africa\", \"Year\": \"Unnamed: 65\", \"GDP Per Capita\": null}]}}, {\"mode\": \"vega-lite\"});\n</script>",
      "text/plain": "alt.Chart(...)"
     },
     "metadata": {}
    }
   ]
  },
  {
   "cell_type": "markdown",
   "source": "<a style='text-decoration:none;line-height:16px;display:flex;color:#5B5B62;padding:10px;justify-content:end;' href='https://deepnote.com?utm_source=created-in-deepnote-cell&projectId=32158e1f-bf61-4597-809b-808a828334d3' target=\"_blank\">\n<img alt='Created in deepnote.com' style='display:inline;max-height:16px;margin:0px;margin-right:7.5px;' src='data:image/svg+xml;base64,PD94bWwgdmVyc2lvbj0iMS4wIiBlbmNvZGluZz0iVVRGLTgiPz4KPHN2ZyB3aWR0aD0iODBweCIgaGVpZ2h0PSI4MHB4IiB2aWV3Qm94PSIwIDAgODAgODAiIHZlcnNpb249IjEuMSIgeG1sbnM9Imh0dHA6Ly93d3cudzMub3JnLzIwMDAvc3ZnIiB4bWxuczp4bGluaz0iaHR0cDovL3d3dy53My5vcmcvMTk5OS94bGluayI+CiAgICA8IS0tIEdlbmVyYXRvcjogU2tldGNoIDU0LjEgKDc2NDkwKSAtIGh0dHBzOi8vc2tldGNoYXBwLmNvbSAtLT4KICAgIDx0aXRsZT5Hcm91cCAzPC90aXRsZT4KICAgIDxkZXNjPkNyZWF0ZWQgd2l0aCBTa2V0Y2guPC9kZXNjPgogICAgPGcgaWQ9IkxhbmRpbmciIHN0cm9rZT0ibm9uZSIgc3Ryb2tlLXdpZHRoPSIxIiBmaWxsPSJub25lIiBmaWxsLXJ1bGU9ImV2ZW5vZGQiPgogICAgICAgIDxnIGlkPSJBcnRib2FyZCIgdHJhbnNmb3JtPSJ0cmFuc2xhdGUoLTEyMzUuMDAwMDAwLCAtNzkuMDAwMDAwKSI+CiAgICAgICAgICAgIDxnIGlkPSJHcm91cC0zIiB0cmFuc2Zvcm09InRyYW5zbGF0ZSgxMjM1LjAwMDAwMCwgNzkuMDAwMDAwKSI+CiAgICAgICAgICAgICAgICA8cG9seWdvbiBpZD0iUGF0aC0yMCIgZmlsbD0iIzAyNjVCNCIgcG9pbnRzPSIyLjM3NjIzNzYyIDgwIDM4LjA0NzY2NjcgODAgNTcuODIxNzgyMiA3My44MDU3NTkyIDU3LjgyMTc4MjIgMzIuNzU5MjczOSAzOS4xNDAyMjc4IDMxLjY4MzE2ODMiPjwvcG9seWdvbj4KICAgICAgICAgICAgICAgIDxwYXRoIGQ9Ik0zNS4wMDc3MTgsODAgQzQyLjkwNjIwMDcsNzYuNDU0OTM1OCA0Ny41NjQ5MTY3LDcxLjU0MjI2NzEgNDguOTgzODY2LDY1LjI2MTk5MzkgQzUxLjExMjI4OTksNTUuODQxNTg0MiA0MS42NzcxNzk1LDQ5LjIxMjIyODQgMjUuNjIzOTg0Niw0OS4yMTIyMjg0IEMyNS40ODQ5Mjg5LDQ5LjEyNjg0NDggMjkuODI2MTI5Niw0My4yODM4MjQ4IDM4LjY0NzU4NjksMzEuNjgzMTY4MyBMNzIuODcxMjg3MSwzMi41NTQ0MjUgTDY1LjI4MDk3Myw2Ny42NzYzNDIxIEw1MS4xMTIyODk5LDc3LjM3NjE0NCBMMzUuMDA3NzE4LDgwIFoiIGlkPSJQYXRoLTIyIiBmaWxsPSIjMDAyODY4Ij48L3BhdGg+CiAgICAgICAgICAgICAgICA8cGF0aCBkPSJNMCwzNy43MzA0NDA1IEwyNy4xMTQ1MzcsMC4yNTcxMTE0MzYgQzYyLjM3MTUxMjMsLTEuOTkwNzE3MDEgODAsMTAuNTAwMzkyNyA4MCwzNy43MzA0NDA1IEM4MCw2NC45NjA0ODgyIDY0Ljc3NjUwMzgsNzkuMDUwMzQxNCAzNC4zMjk1MTEzLDgwIEM0Ny4wNTUzNDg5LDc3LjU2NzA4MDggNTMuNDE4MjY3Nyw3MC4zMTM2MTAzIDUzLjQxODI2NzcsNTguMjM5NTg4NSBDNTMuNDE4MjY3Nyw0MC4xMjg1NTU3IDM2LjMwMzk1NDQsMzcuNzMwNDQwNSAyNS4yMjc0MTcsMzcuNzMwNDQwNSBDMTcuODQzMDU4NiwzNy43MzA0NDA1IDkuNDMzOTE5NjYsMzcuNzMwNDQwNSAwLDM3LjczMDQ0MDUgWiIgaWQ9IlBhdGgtMTkiIGZpbGw9IiMzNzkzRUYiPjwvcGF0aD4KICAgICAgICAgICAgPC9nPgogICAgICAgIDwvZz4KICAgIDwvZz4KPC9zdmc+' > </img>\nCreated in <span style='font-weight:600;margin-left:4px;'>Deepnote</span></a>",
   "metadata": {
    "tags": [],
    "created_in_deepnote_cell": true,
    "deepnote_cell_type": "markdown"
   }
  }
 ],
 "nbformat": 4,
 "nbformat_minor": 2,
 "metadata": {
  "orig_nbformat": 2,
  "deepnote": {
   "is_reactive": false
  },
  "deepnote_notebook_id": "1226fa96-e91d-4826-8dc4-d46bfaeb91e4",
  "deepnote_execution_queue": []
 }
}